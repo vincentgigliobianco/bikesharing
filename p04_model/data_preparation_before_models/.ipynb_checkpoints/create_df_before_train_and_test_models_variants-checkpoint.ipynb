{
 "cells": [
  {
   "cell_type": "markdown",
   "metadata": {},
   "source": [
    "#### L'objet du Notebook est d'utiliser en entrée les données provenant de RStudio\n",
    "\n",
    "En vue de faire de la cross validation et modéliser, création de 3 dataframes<br>\n",
    "    - un contenant les variables \"Origin\" et \"New\" <br>\n",
    "    - un contenant les variables \"Origin\" et \"New\" avec transformation en numérique des variables catégorielles <br>\n",
    "    - un autre contenant les variables \"Origin\" et \"New\" <br>\n",
    "    + interactions d'ordre 2 pour les variables catégorielles + dummy variables <br>\n",
    "    \n",
    "\n",
    "Les .csv qu'on utilise, ont été créés grâce au programme \"maestro.R\" dans \"/proj/bikesharing/p02_features\""
   ]
  },
  {
   "cell_type": "code",
   "execution_count": 275,
   "metadata": {},
   "outputs": [
    {
     "name": "stderr",
     "output_type": "stream",
     "text": [
      "/home/osboxes/anaconda3/envs/data/lib/python3.6/site-packages/ipykernel_launcher.py:29: FutureWarning: Sorting because non-concatenation axis is not aligned. A future version\n",
      "of pandas will change to not sort by default.\n",
      "\n",
      "To accept the future behavior, pass 'sort=False'.\n",
      "\n",
      "To retain the current behavior and silence the warning, pass 'sort=True'.\n",
      "\n"
     ]
    }
   ],
   "source": [
    "import pandas as pd\n",
    "import numpy as np\n",
    "from itertools import chain\n",
    "\n",
    "from sklearn.model_selection import train_test_split\n",
    "# from sklearn.preprocessing import PolynomialFeatures\n",
    "from itertools import combinations\n",
    "\n",
    "from sklearn.preprocessing import LabelEncoder, OrdinalEncoder\n",
    "\n",
    "# On charge les .csv générés grâce à \"maestro.R\"  dans RStudio \n",
    "# df_train_kaggle_read = pd.read_csv(\"../data/train.csv\")\n",
    "df_train_kaggle = pd.read_csv(\"../data/train.csv\")\n",
    "# Le dataset \"test\" ne contient pas \"count\"\n",
    "df_test_kaggle = pd.read_csv(\"../data/test.csv\")\n",
    "\n",
    "# Le dataset de \"test\" de Kaggle ne contient pas la variable \"count\"\n",
    "# On supprime donc la colonne \"count\" pour le dataset \"train\"\n",
    "# df_train_kaggle = df_train_kaggle_read.drop(\"count\", axis = 1)\n",
    "# df_train_kaggle_count = df_train_kaggle_read[[\"count\"]]\n",
    "\n",
    "\n",
    "# Création de la colonne \"count\" avec la valeur 0 dans \"df_test_kaggle\"\n",
    "# NB) Cette colonne sera alimentée avec une prédiction\n",
    "# au moment de la soumission\n",
    "df_test_kaggle[\"count\"] = 0\n",
    "\n",
    "# Et on concatène les données \n",
    "df_all = pd.concat([df_train_kaggle,df_test_kaggle])"
   ]
  },
  {
   "cell_type": "markdown",
   "metadata": {},
   "source": [
    "### On regarde quelles sont les variables catégorielles"
   ]
  },
  {
   "cell_type": "code",
   "execution_count": 276,
   "metadata": {},
   "outputs": [],
   "source": [
    "all_categorical_o = [name_var for name_var in list(df_all) if name_var[0:2] == 'CO'] "
   ]
  },
  {
   "cell_type": "markdown",
   "metadata": {},
   "source": [
    "ATTENTION: les variables \"CO_hour\" et \"CO_year\" sont apparemment<br>\n",
    "considérées comme numérique, cf le \".describe()\" ci-dessous<br>\n",
    "On va donc les transformer grâce à str() pour qu'elles soient de type caractères"
   ]
  },
  {
   "cell_type": "code",
   "execution_count": 277,
   "metadata": {},
   "outputs": [
    {
     "data": {
      "text/html": [
       "<div>\n",
       "<style scoped>\n",
       "    .dataframe tbody tr th:only-of-type {\n",
       "        vertical-align: middle;\n",
       "    }\n",
       "\n",
       "    .dataframe tbody tr th {\n",
       "        vertical-align: top;\n",
       "    }\n",
       "\n",
       "    .dataframe thead th {\n",
       "        text-align: right;\n",
       "    }\n",
       "</style>\n",
       "<table border=\"1\" class=\"dataframe\">\n",
       "  <thead>\n",
       "    <tr style=\"text-align: right;\">\n",
       "      <th></th>\n",
       "      <th>CO_holiday</th>\n",
       "      <th>CO_hour</th>\n",
       "      <th>CO_workingday</th>\n",
       "      <th>CO_year</th>\n",
       "    </tr>\n",
       "  </thead>\n",
       "  <tbody>\n",
       "    <tr>\n",
       "      <th>count</th>\n",
       "      <td>17379.000000</td>\n",
       "      <td>17379.000000</td>\n",
       "      <td>17379.000000</td>\n",
       "      <td>17379.000000</td>\n",
       "    </tr>\n",
       "    <tr>\n",
       "      <th>mean</th>\n",
       "      <td>0.031475</td>\n",
       "      <td>11.546752</td>\n",
       "      <td>0.682721</td>\n",
       "      <td>2011.502561</td>\n",
       "    </tr>\n",
       "    <tr>\n",
       "      <th>std</th>\n",
       "      <td>0.174602</td>\n",
       "      <td>6.914405</td>\n",
       "      <td>0.465431</td>\n",
       "      <td>0.500008</td>\n",
       "    </tr>\n",
       "    <tr>\n",
       "      <th>min</th>\n",
       "      <td>0.000000</td>\n",
       "      <td>0.000000</td>\n",
       "      <td>0.000000</td>\n",
       "      <td>2011.000000</td>\n",
       "    </tr>\n",
       "    <tr>\n",
       "      <th>25%</th>\n",
       "      <td>0.000000</td>\n",
       "      <td>6.000000</td>\n",
       "      <td>0.000000</td>\n",
       "      <td>2011.000000</td>\n",
       "    </tr>\n",
       "    <tr>\n",
       "      <th>50%</th>\n",
       "      <td>0.000000</td>\n",
       "      <td>12.000000</td>\n",
       "      <td>1.000000</td>\n",
       "      <td>2012.000000</td>\n",
       "    </tr>\n",
       "    <tr>\n",
       "      <th>75%</th>\n",
       "      <td>0.000000</td>\n",
       "      <td>18.000000</td>\n",
       "      <td>1.000000</td>\n",
       "      <td>2012.000000</td>\n",
       "    </tr>\n",
       "    <tr>\n",
       "      <th>max</th>\n",
       "      <td>1.000000</td>\n",
       "      <td>23.000000</td>\n",
       "      <td>1.000000</td>\n",
       "      <td>2012.000000</td>\n",
       "    </tr>\n",
       "  </tbody>\n",
       "</table>\n",
       "</div>"
      ],
      "text/plain": [
       "         CO_holiday       CO_hour  CO_workingday       CO_year\n",
       "count  17379.000000  17379.000000   17379.000000  17379.000000\n",
       "mean       0.031475     11.546752       0.682721   2011.502561\n",
       "std        0.174602      6.914405       0.465431      0.500008\n",
       "min        0.000000      0.000000       0.000000   2011.000000\n",
       "25%        0.000000      6.000000       0.000000   2011.000000\n",
       "50%        0.000000     12.000000       1.000000   2012.000000\n",
       "75%        0.000000     18.000000       1.000000   2012.000000\n",
       "max        1.000000     23.000000       1.000000   2012.000000"
      ]
     },
     "execution_count": 277,
     "metadata": {},
     "output_type": "execute_result"
    }
   ],
   "source": [
    "df_all[all_categorical_o].describe()"
   ]
  },
  {
   "cell_type": "code",
   "execution_count": 278,
   "metadata": {},
   "outputs": [
    {
     "data": {
      "text/plain": [
       "['CN_school',\n",
       " 'CN_soleilQ',\n",
       " 'CN_tendance_1Q',\n",
       " 'CN_tendance_2Q',\n",
       " 'CO_atempQ',\n",
       " 'CO_day',\n",
       " 'CO_holiday',\n",
       " 'CO_hour',\n",
       " 'CO_humidityQ',\n",
       " 'CO_month',\n",
       " 'CO_season',\n",
       " 'CO_tempQ',\n",
       " 'CO_weather',\n",
       " 'CO_windspeedQ',\n",
       " 'CO_workingday',\n",
       " 'CO_year',\n",
       " 'NN_soleil',\n",
       " 'NN_tendance_1',\n",
       " 'NN_tendance_2',\n",
       " 'NO_atemp',\n",
       " 'NO_humidity',\n",
       " 'NO_temp',\n",
       " 'NO_windspeed',\n",
       " 'S_casual',\n",
       " 'S_casualQ',\n",
       " 'S_rateregis',\n",
       " 'S_rateregisQ',\n",
       " 'S_registered',\n",
       " 'S_registeredQ',\n",
       " 'count',\n",
       " 'datetime']"
      ]
     },
     "execution_count": 278,
     "metadata": {},
     "output_type": "execute_result"
    }
   ],
   "source": [
    "list(df_all)"
   ]
  },
  {
   "cell_type": "code",
   "execution_count": 279,
   "metadata": {},
   "outputs": [],
   "source": [
    "df_all['CO_hour_new'] = df_all['CO_hour'].map(lambda x: str(x))\n",
    "df_all = df_all.drop('CO_hour', axis=1)\n",
    "df_all = df_all.rename(columns={'CO_hour_new': 'CO_hour'})\n",
    "\n",
    "df_all['CO_year_new'] = df_all['CO_year'].map(lambda x: str(x))\n",
    "df_all = df_all.drop('CO_year', axis=1)\n",
    "df_all = df_all.rename(columns={'CO_year_new': 'CO_year'})"
   ]
  },
  {
   "cell_type": "code",
   "execution_count": 280,
   "metadata": {},
   "outputs": [
    {
     "data": {
      "text/html": [
       "<div>\n",
       "<style scoped>\n",
       "    .dataframe tbody tr th:only-of-type {\n",
       "        vertical-align: middle;\n",
       "    }\n",
       "\n",
       "    .dataframe tbody tr th {\n",
       "        vertical-align: top;\n",
       "    }\n",
       "\n",
       "    .dataframe thead th {\n",
       "        text-align: right;\n",
       "    }\n",
       "</style>\n",
       "<table border=\"1\" class=\"dataframe\">\n",
       "  <thead>\n",
       "    <tr style=\"text-align: right;\">\n",
       "      <th></th>\n",
       "      <th>CO_holiday</th>\n",
       "      <th>CO_workingday</th>\n",
       "    </tr>\n",
       "  </thead>\n",
       "  <tbody>\n",
       "    <tr>\n",
       "      <th>count</th>\n",
       "      <td>17379.000000</td>\n",
       "      <td>17379.000000</td>\n",
       "    </tr>\n",
       "    <tr>\n",
       "      <th>mean</th>\n",
       "      <td>0.031475</td>\n",
       "      <td>0.682721</td>\n",
       "    </tr>\n",
       "    <tr>\n",
       "      <th>std</th>\n",
       "      <td>0.174602</td>\n",
       "      <td>0.465431</td>\n",
       "    </tr>\n",
       "    <tr>\n",
       "      <th>min</th>\n",
       "      <td>0.000000</td>\n",
       "      <td>0.000000</td>\n",
       "    </tr>\n",
       "    <tr>\n",
       "      <th>25%</th>\n",
       "      <td>0.000000</td>\n",
       "      <td>0.000000</td>\n",
       "    </tr>\n",
       "    <tr>\n",
       "      <th>50%</th>\n",
       "      <td>0.000000</td>\n",
       "      <td>1.000000</td>\n",
       "    </tr>\n",
       "    <tr>\n",
       "      <th>75%</th>\n",
       "      <td>0.000000</td>\n",
       "      <td>1.000000</td>\n",
       "    </tr>\n",
       "    <tr>\n",
       "      <th>max</th>\n",
       "      <td>1.000000</td>\n",
       "      <td>1.000000</td>\n",
       "    </tr>\n",
       "  </tbody>\n",
       "</table>\n",
       "</div>"
      ],
      "text/plain": [
       "         CO_holiday  CO_workingday\n",
       "count  17379.000000   17379.000000\n",
       "mean       0.031475       0.682721\n",
       "std        0.174602       0.465431\n",
       "min        0.000000       0.000000\n",
       "25%        0.000000       0.000000\n",
       "50%        0.000000       1.000000\n",
       "75%        0.000000       1.000000\n",
       "max        1.000000       1.000000"
      ]
     },
     "execution_count": 280,
     "metadata": {},
     "output_type": "execute_result"
    }
   ],
   "source": [
    "df_all[all_categorical_o].describe()"
   ]
  },
  {
   "cell_type": "code",
   "execution_count": 281,
   "metadata": {},
   "outputs": [
    {
     "data": {
      "text/plain": [
       "(17379, 31)"
      ]
     },
     "execution_count": 281,
     "metadata": {},
     "output_type": "execute_result"
    }
   ],
   "source": [
    "df_all.shape"
   ]
  },
  {
   "cell_type": "code",
   "execution_count": 282,
   "metadata": {},
   "outputs": [],
   "source": [
    "# On n'a pas besoin de la variable \"day\"\n",
    "# df_train_for_cv_o_n = df_train_for_cv_o_n.drop(\"day\", axis = 1)\n",
    "# df_test_kaggle_cv_o_n = df_test_kaggle_cv_o_n.drop(\"day\", axis = 1)\n",
    "\n",
    "# On a besoin de la target pour créer les modèles !\n",
    "# df_train_for_cv_o_n = pd.concat([df_train_for_cv_o_n, df_train_kaggle_count], axis = 1)"
   ]
  },
  {
   "cell_type": "code",
   "execution_count": 283,
   "metadata": {},
   "outputs": [
    {
     "data": {
      "text/plain": [
       "['CN_school',\n",
       " 'CN_soleilQ',\n",
       " 'CN_tendance_1Q',\n",
       " 'CN_tendance_2Q',\n",
       " 'CO_atempQ',\n",
       " 'CO_day',\n",
       " 'CO_holiday',\n",
       " 'CO_humidityQ',\n",
       " 'CO_month',\n",
       " 'CO_season',\n",
       " 'CO_tempQ',\n",
       " 'CO_weather',\n",
       " 'CO_windspeedQ',\n",
       " 'CO_workingday',\n",
       " 'NN_soleil',\n",
       " 'NN_tendance_1',\n",
       " 'NN_tendance_2',\n",
       " 'NO_atemp',\n",
       " 'NO_humidity',\n",
       " 'NO_temp',\n",
       " 'NO_windspeed',\n",
       " 'S_casual',\n",
       " 'S_casualQ',\n",
       " 'S_rateregis',\n",
       " 'S_rateregisQ',\n",
       " 'S_registered',\n",
       " 'S_registeredQ',\n",
       " 'count',\n",
       " 'datetime',\n",
       " 'CO_hour',\n",
       " 'CO_year']"
      ]
     },
     "execution_count": 283,
     "metadata": {},
     "output_type": "execute_result"
    }
   ],
   "source": [
    "list(df_all)"
   ]
  },
  {
   "cell_type": "markdown",
   "metadata": {},
   "source": [
    "### II On ajoute toutes les nouvelles features à \"df_all\" "
   ]
  },
  {
   "cell_type": "markdown",
   "metadata": {},
   "source": [
    "#### Les variables à transformer sont celles en type \"object\" ie les variables catégorielles"
   ]
  },
  {
   "cell_type": "code",
   "execution_count": 284,
   "metadata": {},
   "outputs": [
    {
     "data": {
      "text/plain": [
       "(17379, 31)"
      ]
     },
     "execution_count": 284,
     "metadata": {},
     "output_type": "execute_result"
    }
   ],
   "source": [
    "df_all.shape"
   ]
  },
  {
   "cell_type": "code",
   "execution_count": 285,
   "metadata": {},
   "outputs": [],
   "source": [
    "# df_all['CO_day'].unique()\n",
    "# df_all['CO_month'].unique()"
   ]
  },
  {
   "cell_type": "markdown",
   "metadata": {},
   "source": [
    "Rappels des variables présentes:\n",
    "- 'CN_soleilQ'\n",
    "- 'CN_tendance_1Q'\n",
    "- 'CN_tendance_2Q'\n",
    "- 'CO_atempQ'\n",
    "- 'CO_day'\n",
    "- 'CO_humidityQ'\n",
    "- 'CO_month'\n",
    "- 'CO_season'\n",
    "- 'CO_tempQ'\n",
    "- 'CO_weather'\n",
    "- 'CO_windspeedQ'\n",
    "- 'S_casualQ'\n",
    "- 'S_rateregisQ'\n",
    "- 'CO_hour'\n",
    "- 'CO_year'"
   ]
  },
  {
   "cell_type": "markdown",
   "metadata": {},
   "source": [
    "##### Nouvelles variables avec suffixes:\n",
    "\"_labels_encoded\" pour : CO_day, CO_month, CO_season, CO_weather, CO_hour et CO_year"
   ]
  },
  {
   "cell_type": "code",
   "execution_count": 286,
   "metadata": {},
   "outputs": [],
   "source": [
    "def labels_encoding(df):\n",
    "    \n",
    "    le_CO_day = LabelEncoder()\n",
    "    le_CO_month = LabelEncoder()\n",
    "    le_CO_season = LabelEncoder()\n",
    "    le_CO_weather = LabelEncoder()\n",
    "    le_CO_hour = LabelEncoder()\n",
    "    le_CO_year = LabelEncoder()\n",
    "\n",
    "    le_CO_day.fit(list(df.CO_day))\n",
    "    le_CO_month.fit(list(df.CO_month))\n",
    "    le_CO_season.fit(list(df.CO_season))\n",
    "    le_CO_weather.fit(list(df.CO_weather))\n",
    "    le_CO_hour.fit(list(df.CO_hour))\n",
    "    le_CO_year.fit(list(df.CO_year))\n",
    "\n",
    "    ## le_CO_month.classes_\n",
    "    df[\"CO_day_labels_encoding\"] = list(le_CO_day.transform(list(df.CO_day)))\n",
    "    df[\"CO_month_labels_encoding\"] = list(le_CO_month.transform(list(df.CO_month)))\n",
    "    df[\"CO_season_labels_encoding\"] = list(le_CO_season.transform(list(df.CO_season)))\n",
    "    df[\"CO_weather_labels_encoding\"] = list(le_CO_weather.transform(list(df.CO_weather)))\n",
    "    df[\"CO_hour_labels_encoding\"] = list(le_CO_hour.transform(list(df.CO_hour)))\n",
    "    df[\"CO_year_labels_encoding\"] = list(le_CO_year.transform(list(df.CO_year)))\n",
    "    \n",
    "    resultat = df\n",
    "    return resultat"
   ]
  },
  {
   "cell_type": "code",
   "execution_count": 209,
   "metadata": {},
   "outputs": [],
   "source": [
    "# var_name = \"CO_hour\"\n",
    "# exec(\"le_\" + var_name + \" = LabelEncoder()\")"
   ]
  },
  {
   "cell_type": "code",
   "execution_count": 210,
   "metadata": {},
   "outputs": [],
   "source": [
    "# Fonction qui ne marche pas; utiliser un dico \n",
    "\n",
    "\n",
    "# liste_feat_for_label_encodings = [\"CO_day\",\"CO_month\",\"CO_season\",\"CO_weather\",\"CO_hour\",\"CO_year\"]\n",
    "def labels_encoding(df,liste_feat):\n",
    "    dict_df = {}\n",
    "    dict_df[\"df_all\"] = df_all\n",
    "    for var_name in liste_feat:\n",
    "        \n",
    "        print (var_name)\n",
    "        exec(\"le_\" + var_name + \" = LabelEncoder()\")\n",
    "        \n",
    "        #print (\"le_\" + var_name + \".fit(list(\" + df + \".\" + var_name + \"))\")\n",
    "        exec(\"le_\" + var_name + \".fit(list(\") + dict_df[\"df_all\"] + exec(\".\" + var_name + \"))\")\n",
    "        # print (\"le_\" + var_name + \".classes_\")\n",
    "        # df[var_name] = \"toto\"\n",
    "        \n",
    "        # exec(df[var_name + \"_labels_encoding] = list(le_\" + var_name + \".transform(list(\" + df + \".\" + var_name  + \")))\")\n",
    "        new_var_name = var_name + \"_labels_encoding\"\n",
    "        df[new_var_name] = exec(\"list(le_\" + var_name + \".transform(list(\" + df + \".\" + var_name  + \")))\")\n",
    "    resultat = df\n",
    "    return resultat"
   ]
  },
  {
   "cell_type": "code",
   "execution_count": 287,
   "metadata": {},
   "outputs": [],
   "source": [
    "# df_train_for_cv_o_n = labels_encoding(df_train_for_cv_o_n)\n",
    "# df_test_kaggle_cv_o_n = labels_encoding(df_test_kaggle_cv_o_n)\n",
    "# df_train_for_cv_o_n = labels_encoding(df_train_for_cv_o_n, liste_feat_for_label_encodings)\n",
    "# df_test_kaggle_cv_o_n = labels_encoding(df_test_kaggle_cv_o_n, liste_feat_for_label_encodings)\n",
    "\n",
    "# NE MARCHE PAS\n",
    "# df_all = labels_encoding(df_all, liste_feat_for_label_encodings)\n",
    "\n",
    "df_all = labels_encoding(df_all)"
   ]
  },
  {
   "cell_type": "code",
   "execution_count": 288,
   "metadata": {},
   "outputs": [
    {
     "data": {
      "text/plain": [
       "['CO_day',\n",
       " 'CO_hour',\n",
       " 'CO_month',\n",
       " 'CO_season',\n",
       " 'CO_weather',\n",
       " 'CO_year',\n",
       " 'CO_day_labels_encoding',\n",
       " 'CO_month_labels_encoding',\n",
       " 'CO_season_labels_encoding',\n",
       " 'CO_weather_labels_encoding',\n",
       " 'CO_hour_labels_encoding',\n",
       " 'CO_year_labels_encoding']"
      ]
     },
     "execution_count": 288,
     "metadata": {},
     "output_type": "execute_result"
    }
   ],
   "source": [
    "init = []\n",
    "init.append(['CO_day', 'CO_hour', 'CO_month', 'CO_season', 'CO_weather', 'CO_year'])\n",
    "new_var_labels_encoding = [each_name for each_name in list(df_all) if 'labels_encoding' in each_name]\n",
    "init.append(new_var_labels_encoding)\n",
    "\n",
    "liste_of_new_var = list(chain(*init))\n",
    "liste_of_new_var"
   ]
  },
  {
   "cell_type": "code",
   "execution_count": 289,
   "metadata": {},
   "outputs": [
    {
     "data": {
      "text/html": [
       "<div>\n",
       "<style scoped>\n",
       "    .dataframe tbody tr th:only-of-type {\n",
       "        vertical-align: middle;\n",
       "    }\n",
       "\n",
       "    .dataframe tbody tr th {\n",
       "        vertical-align: top;\n",
       "    }\n",
       "\n",
       "    .dataframe thead th {\n",
       "        text-align: right;\n",
       "    }\n",
       "</style>\n",
       "<table border=\"1\" class=\"dataframe\">\n",
       "  <thead>\n",
       "    <tr style=\"text-align: right;\">\n",
       "      <th></th>\n",
       "      <th>CO_day</th>\n",
       "      <th>CO_hour</th>\n",
       "      <th>CO_month</th>\n",
       "      <th>CO_season</th>\n",
       "      <th>CO_weather</th>\n",
       "      <th>CO_year</th>\n",
       "      <th>CO_day_labels_encoding</th>\n",
       "      <th>CO_month_labels_encoding</th>\n",
       "      <th>CO_season_labels_encoding</th>\n",
       "      <th>CO_weather_labels_encoding</th>\n",
       "      <th>CO_hour_labels_encoding</th>\n",
       "      <th>CO_year_labels_encoding</th>\n",
       "    </tr>\n",
       "  </thead>\n",
       "  <tbody>\n",
       "    <tr>\n",
       "      <th>579</th>\n",
       "      <td>Friday</td>\n",
       "      <td>1</td>\n",
       "      <td>March</td>\n",
       "      <td>Été</td>\n",
       "      <td>Beau temps</td>\n",
       "      <td>2011</td>\n",
       "      <td>0</td>\n",
       "      <td>7</td>\n",
       "      <td>3</td>\n",
       "      <td>0</td>\n",
       "      <td>1</td>\n",
       "      <td>0</td>\n",
       "    </tr>\n",
       "    <tr>\n",
       "      <th>749</th>\n",
       "      <td>Monday</td>\n",
       "      <td>14</td>\n",
       "      <td>February</td>\n",
       "      <td>Printemps</td>\n",
       "      <td>Beau temps</td>\n",
       "      <td>2011</td>\n",
       "      <td>1</td>\n",
       "      <td>3</td>\n",
       "      <td>2</td>\n",
       "      <td>0</td>\n",
       "      <td>6</td>\n",
       "      <td>0</td>\n",
       "    </tr>\n",
       "    <tr>\n",
       "      <th>1372</th>\n",
       "      <td>Sunday</td>\n",
       "      <td>1</td>\n",
       "      <td>April</td>\n",
       "      <td>Été</td>\n",
       "      <td>Beau temps</td>\n",
       "      <td>2011</td>\n",
       "      <td>3</td>\n",
       "      <td>0</td>\n",
       "      <td>3</td>\n",
       "      <td>0</td>\n",
       "      <td>1</td>\n",
       "      <td>0</td>\n",
       "    </tr>\n",
       "    <tr>\n",
       "      <th>4309</th>\n",
       "      <td>Tuesday</td>\n",
       "      <td>14</td>\n",
       "      <td>October</td>\n",
       "      <td>Hiver</td>\n",
       "      <td>Pluvieux (-)</td>\n",
       "      <td>2011</td>\n",
       "      <td>5</td>\n",
       "      <td>10</td>\n",
       "      <td>1</td>\n",
       "      <td>3</td>\n",
       "      <td>6</td>\n",
       "      <td>0</td>\n",
       "    </tr>\n",
       "    <tr>\n",
       "      <th>2384</th>\n",
       "      <td>Tuesday</td>\n",
       "      <td>6</td>\n",
       "      <td>June</td>\n",
       "      <td>Été</td>\n",
       "      <td>Beau temps</td>\n",
       "      <td>2011</td>\n",
       "      <td>5</td>\n",
       "      <td>6</td>\n",
       "      <td>3</td>\n",
       "      <td>0</td>\n",
       "      <td>20</td>\n",
       "      <td>0</td>\n",
       "    </tr>\n",
       "  </tbody>\n",
       "</table>\n",
       "</div>"
      ],
      "text/plain": [
       "       CO_day CO_hour  CO_month  CO_season    CO_weather CO_year  \\\n",
       "579    Friday       1     March        Été    Beau temps    2011   \n",
       "749    Monday      14  February  Printemps    Beau temps    2011   \n",
       "1372   Sunday       1     April        Été    Beau temps    2011   \n",
       "4309  Tuesday      14   October      Hiver  Pluvieux (-)    2011   \n",
       "2384  Tuesday       6      June        Été    Beau temps    2011   \n",
       "\n",
       "      CO_day_labels_encoding  CO_month_labels_encoding  \\\n",
       "579                        0                         7   \n",
       "749                        1                         3   \n",
       "1372                       3                         0   \n",
       "4309                       5                        10   \n",
       "2384                       5                         6   \n",
       "\n",
       "      CO_season_labels_encoding  CO_weather_labels_encoding  \\\n",
       "579                           3                           0   \n",
       "749                           2                           0   \n",
       "1372                          3                           0   \n",
       "4309                          1                           3   \n",
       "2384                          3                           0   \n",
       "\n",
       "      CO_hour_labels_encoding  CO_year_labels_encoding  \n",
       "579                         1                        0  \n",
       "749                         6                        0  \n",
       "1372                        1                        0  \n",
       "4309                        6                        0  \n",
       "2384                       20                        0  "
      ]
     },
     "execution_count": 289,
     "metadata": {},
     "output_type": "execute_result"
    }
   ],
   "source": [
    "df_all[liste_of_new_var].sample(n=5)"
   ]
  },
  {
   "cell_type": "markdown",
   "metadata": {},
   "source": [
    "Idée: transformer CO_hour en ordinale + mesurer la corrélation<br> \n",
    "entre la variable ordinale obtenue et \"count\"<br>\n",
    "Faire de meme avec : la variable moyenne de \"count\" par modalité de CO_hour<br>\n",
    "avec \"count\"<br>\n",
    "On met alors en évidence que la nouvelle variable est plus corrélée à \"count\""
   ]
  },
  {
   "cell_type": "code",
   "execution_count": 290,
   "metadata": {},
   "outputs": [],
   "source": [
    "### group by suivant CO_hour + mean(['count'])\n",
    "# df_train_for_cv_o_n[['CO_hour','count']]\n",
    "# df_train_for_cv_o_n[['CO_hour','count']].groupby(['CO_hour']).mean()"
   ]
  },
  {
   "cell_type": "code",
   "execution_count": 291,
   "metadata": {},
   "outputs": [],
   "source": [
    "# Quelle est la moyenne de \"count\" pour chacun\n",
    "# de ces bins de \"hour\" ?"
   ]
  },
  {
   "cell_type": "markdown",
   "metadata": {},
   "source": [
    "Transformation en int de CO_hour"
   ]
  },
  {
   "cell_type": "code",
   "execution_count": 292,
   "metadata": {},
   "outputs": [],
   "source": [
    "# df_train_for_cv_o_n[\"CO_hour_int\"] = df_train_for_cv_o_n[\"CO_hour\"].apply(int)\n",
    "# df_test_kaggle_cv_o_n[\"CO_hour_int\"] = df_test_kaggle_cv_o_n[\"CO_hour\"].apply(int)\n",
    "df_all[\"CO_hour_int\"] = df_all[\"CO_hour\"].apply(int)"
   ]
  },
  {
   "cell_type": "markdown",
   "metadata": {},
   "source": [
    "Utiliser des decision trees via scikit<br>\n",
    "pour trouver l'optimal binning ou optimal collapsing<br>"
   ]
  },
  {
   "cell_type": "markdown",
   "metadata": {},
   "source": [
    "Avec Rpart, on trouve en faisant: count ~ hour<br>\n",
    "BIN n°1: hour <= 7          modalité 0<br>\n",
    "BIN n°2: hour >= 22         modalité 1<br>\n",
    "BIN n°3: 10 =< hour <= 16   modalité 3<br>\n",
    "BIN n°4: hour == 8          modalité 2<br>\n",
    "BIN n°5: hour == 9          modalité 6<br>\n",
    "BIN n°6 : 20 =< hour <= 21  modalité 4<br>\n",
    "BIN n°7: hour == 17         modalité 5<br>\n",
    "BIN n°8: 18 =< hour <= 19   modalité 7<br>"
   ]
  },
  {
   "cell_type": "code",
   "execution_count": 293,
   "metadata": {},
   "outputs": [],
   "source": [
    "# On se base sur le graphe 2D obtenu avec Shiny\n",
    "# en croisant CO_hour avec count\n",
    "\n",
    "#if 0 <= int(x) < 8:\n",
    "##resultat = 0\n",
    "#elif int(x) >= 19:\n",
    "##resultat = 1\n",
    "#elif int(x) == 9:\n",
    "##resultat = 2   \n",
    "#elif 9 < int(x) <= 16:\n",
    "##resultat = 3   \n",
    "#elif int(x) == 8:\n",
    "##resultat = 4\n",
    "#elif 17 <= int(x) <= 18:a\n",
    "##resultat = 5\n",
    "\n",
    "def mean_encoding_hour(x):\n",
    "# mettre les moyennes par bin pour voir\n",
    "    if int(x) < 8:\n",
    "        resultat = 0\n",
    "    elif int(x) >= 22:\n",
    "        resultat = 1\n",
    "    elif 9 < int(x) < 17:\n",
    "        resultat = 3    \n",
    "    elif int(x) == 8:\n",
    "        resultat = 2\n",
    "    elif int(x) == 9:\n",
    "        resultat = 6      \n",
    "    elif 20 <= int(x) <= 21:\n",
    "        resultat = 4 \n",
    "    elif int(x) == 17:\n",
    "        resultat = 5\n",
    "    elif 18 <= int(x) or int(x) <= 19:\n",
    "        resultat = 7\n",
    "    \n",
    "    return resultat\n",
    "\n",
    "def mean_encoding_month(x):\n",
    "    if x in ['January', 'February', 'March', 'April', 'May']:          \n",
    "        resultat = 0\n",
    "    elif x in ['November','December']:\n",
    "        resultat = 1\n",
    "    elif x in ['June', 'July','August', 'September', 'October']:\n",
    "        resultat = 2    \n",
    "    return resultat\n",
    "\n",
    "def mean_encoding_day(x):\n",
    "    if x == 'Sunday':          \n",
    "        resultat = 0\n",
    "    elif x in ['Monday', 'Tuesday', 'Wednesday']:\n",
    "        resultat = 1\n",
    "    elif x in ['Thursday','Friday','Saturday']:\n",
    "        resultat = 2    \n",
    "    return resultat"
   ]
  },
  {
   "cell_type": "code",
   "execution_count": 294,
   "metadata": {},
   "outputs": [
    {
     "data": {
      "text/plain": [
       "array(['Saturday', 'Sunday', 'Monday', 'Tuesday', 'Wednesday', 'Thursday',\n",
       "       'Friday'], dtype=object)"
      ]
     },
     "execution_count": 294,
     "metadata": {},
     "output_type": "execute_result"
    }
   ],
   "source": [
    "df_all.CO_day.unique()"
   ]
  },
  {
   "cell_type": "code",
   "execution_count": 295,
   "metadata": {},
   "outputs": [],
   "source": [
    "df_all[\"CO_hour_mean_encoding\"] = df_all[\"CO_hour\"].apply(mean_encoding_hour)\n",
    "df_all[\"CO_month_mean_encoding\"] = df_all[\"CO_month\"].apply(mean_encoding_month)\n",
    "df_all[\"CO_day_mean_encoding\"] = df_all[\"CO_day\"].apply(mean_encoding_day)"
   ]
  },
  {
   "cell_type": "code",
   "execution_count": 296,
   "metadata": {},
   "outputs": [],
   "source": [
    "# Vérification de \"mean encoding\" : les nouvelles modalités sont elle correctement ordonnées ?\n",
    "# df_all[[\"CO_hour_mean_encoding\",\"count\"]].groupby([\"CO_hour_mean_encoding\"]).mean()\n",
    "# df_all[[\"CO_month_mean_encoding\",\"count\"]].groupby([\"CO_month_mean_encoding\"]).mean()\n",
    "# df_all[[\"CO_day_mean_encoding\",\"count\"]].groupby([\"CO_day_mean_encoding\"]).mean()"
   ]
  },
  {
   "cell_type": "code",
   "execution_count": 297,
   "metadata": {},
   "outputs": [
    {
     "data": {
      "text/plain": [
       "['CO_day',\n",
       " 'CO_hour',\n",
       " 'CO_month',\n",
       " 'CO_season',\n",
       " 'CO_weather',\n",
       " 'CO_year',\n",
       " 'CO_day_labels_encoding',\n",
       " 'CO_month_labels_encoding',\n",
       " 'CO_season_labels_encoding',\n",
       " 'CO_weather_labels_encoding',\n",
       " 'CO_hour_labels_encoding',\n",
       " 'CO_year_labels_encoding',\n",
       " 'CO_hour_mean_encoding',\n",
       " 'CO_month_mean_encoding',\n",
       " 'CO_day_mean_encoding']"
      ]
     },
     "execution_count": 297,
     "metadata": {},
     "output_type": "execute_result"
    }
   ],
   "source": [
    "init = []\n",
    "init.append(['CO_day', 'CO_hour', 'CO_month', 'CO_season', 'CO_weather', 'CO_year'])\n",
    "new_var_labels_encoding = [each_name for each_name in list(df_all) if 'labels_encoding' in each_name]\n",
    "init.append(new_var_labels_encoding)\n",
    "\n",
    "new_var_mean_encoding = [each_name for each_name in list(df_all) if 'mean_encoding' in each_name]\n",
    "init.append(new_var_mean_encoding)\n",
    "\n",
    "liste_of_new_var = list(chain(*init))\n",
    "liste_of_new_var"
   ]
  },
  {
   "cell_type": "markdown",
   "metadata": {},
   "source": [
    "Création des nouvelles features ordinales"
   ]
  },
  {
   "cell_type": "code",
   "execution_count": 298,
   "metadata": {},
   "outputs": [],
   "source": [
    "liste_feat_for_ordinal_encodings = [\"CO_hour\",\"CO_month\",\"CO_day\",\"CO_weather\",\"CO_season\",\"CO_year\"]\n",
    "\n",
    "# On crée un dictionnaire qui contient les correspondances ancienne valeur --> nouvelle valeur\n",
    "def build_correspondance(df,list_variables):\n",
    "    dict_all_corresp = {}\n",
    "    for each in list_variables:\n",
    "        # print (each)\n",
    "        str_categories = list(df[each].unique())      \n",
    "        # print (str_categories)\n",
    "        idx = 0\n",
    "        for each in str_categories:\n",
    "            dict_all_corresp[each] = idx\n",
    "            idx += 1\n",
    "        \n",
    "    return dict_all_corresp\n",
    "my_dict_all_corresp = build_correspondance(df_all, liste_feat_for_ordinal_encodings)"
   ]
  },
  {
   "cell_type": "code",
   "execution_count": 299,
   "metadata": {},
   "outputs": [],
   "source": [
    "def return_value(x):\n",
    "    resultat = my_dict_all_corresp[x]\n",
    "    return resultat"
   ]
  },
  {
   "cell_type": "code",
   "execution_count": 236,
   "metadata": {},
   "outputs": [],
   "source": [
    "# NB) On pourra créer une fonction:\n",
    "#def ordinal_encoding(df, liste_feat_for_ordinal_encodings):\n",
    "    \n",
    "    \n",
    "    #return resultat"
   ]
  },
  {
   "cell_type": "code",
   "execution_count": 300,
   "metadata": {},
   "outputs": [],
   "source": [
    "df_all[\"CO_hour_ordinal_encoding\"] = df_all[\"CO_hour\"].map(lambda x: return_value(x))\n",
    "df_all[\"CO_month_ordinal_encoding\"] = df_all[\"CO_month\"].map(lambda x: return_value(x))\n",
    "df_all[\"CO_day_ordinal_encoding\"] = df_all[\"CO_day\"].map(lambda x: return_value(x))\n",
    "df_all[\"CO_weather_ordinal_encoding\"] = df_all[\"CO_weather\"].map(lambda x: return_value(x))\n",
    "df_all[\"CO_season_ordinal_encoding\"] = df_all[\"CO_season\"].map(lambda x: return_value(x))\n",
    "df_all[\"CO_year_ordinal_encoding\"] = df_all[\"CO_year\"].map(lambda x: return_value(x))"
   ]
  },
  {
   "cell_type": "code",
   "execution_count": 301,
   "metadata": {},
   "outputs": [
    {
     "data": {
      "text/plain": [
       "['CN_school',\n",
       " 'CN_soleilQ',\n",
       " 'CN_tendance_1Q',\n",
       " 'CN_tendance_2Q',\n",
       " 'CO_atempQ',\n",
       " 'CO_day',\n",
       " 'CO_holiday',\n",
       " 'CO_humidityQ',\n",
       " 'CO_month',\n",
       " 'CO_season',\n",
       " 'CO_tempQ',\n",
       " 'CO_weather',\n",
       " 'CO_windspeedQ',\n",
       " 'CO_workingday',\n",
       " 'NN_soleil',\n",
       " 'NN_tendance_1',\n",
       " 'NN_tendance_2',\n",
       " 'NO_atemp',\n",
       " 'NO_humidity',\n",
       " 'NO_temp',\n",
       " 'NO_windspeed',\n",
       " 'S_casual',\n",
       " 'S_casualQ',\n",
       " 'S_rateregis',\n",
       " 'S_rateregisQ',\n",
       " 'S_registered',\n",
       " 'S_registeredQ',\n",
       " 'count',\n",
       " 'datetime',\n",
       " 'CO_hour',\n",
       " 'CO_year',\n",
       " 'CO_day_labels_encoding',\n",
       " 'CO_month_labels_encoding',\n",
       " 'CO_season_labels_encoding',\n",
       " 'CO_weather_labels_encoding',\n",
       " 'CO_hour_labels_encoding',\n",
       " 'CO_year_labels_encoding',\n",
       " 'CO_hour_int',\n",
       " 'CO_hour_mean_encoding',\n",
       " 'CO_month_mean_encoding',\n",
       " 'CO_day_mean_encoding',\n",
       " 'CO_hour_ordinal_encoding',\n",
       " 'CO_month_ordinal_encoding',\n",
       " 'CO_day_ordinal_encoding',\n",
       " 'CO_weather_ordinal_encoding',\n",
       " 'CO_season_ordinal_encoding',\n",
       " 'CO_year_ordinal_encoding']"
      ]
     },
     "execution_count": 301,
     "metadata": {},
     "output_type": "execute_result"
    }
   ],
   "source": [
    "list(df_all)"
   ]
  },
  {
   "cell_type": "code",
   "execution_count": 239,
   "metadata": {},
   "outputs": [],
   "source": [
    "init = []\n",
    "init.append(['CO_day', 'CO_hour', 'CO_month', 'CO_season', 'CO_weather', 'CO_year'])\n",
    "new_var_labels_encoding = [each_name for each_name in list(df_all) if 'labels_encoding' in each_name]\n",
    "init.append(new_var_labels_encoding)\n",
    "\n",
    "new_var_mean_encoding = [each_name for each_name in list(df_all) if 'mean_encoding' in each_name]\n",
    "init.append(new_var_mean_encoding)\n",
    "\n",
    "new_var_ordinal_encoding = [each_name for each_name in list(df_all) if 'ordinal_encoding' in each_name]\n",
    "init.append(new_var_ordinal_encoding)\n",
    "\n",
    "liste_of_new_var = list(chain(*init))"
   ]
  },
  {
   "cell_type": "code",
   "execution_count": 302,
   "metadata": {},
   "outputs": [
    {
     "data": {
      "text/html": [
       "<div>\n",
       "<style scoped>\n",
       "    .dataframe tbody tr th:only-of-type {\n",
       "        vertical-align: middle;\n",
       "    }\n",
       "\n",
       "    .dataframe tbody tr th {\n",
       "        vertical-align: top;\n",
       "    }\n",
       "\n",
       "    .dataframe thead th {\n",
       "        text-align: right;\n",
       "    }\n",
       "</style>\n",
       "<table border=\"1\" class=\"dataframe\">\n",
       "  <thead>\n",
       "    <tr style=\"text-align: right;\">\n",
       "      <th></th>\n",
       "      <th>CO_day</th>\n",
       "      <th>CO_hour</th>\n",
       "      <th>CO_month</th>\n",
       "      <th>CO_season</th>\n",
       "      <th>CO_weather</th>\n",
       "      <th>CO_year</th>\n",
       "      <th>CO_day_labels_encoding</th>\n",
       "      <th>CO_month_labels_encoding</th>\n",
       "      <th>CO_season_labels_encoding</th>\n",
       "      <th>CO_weather_labels_encoding</th>\n",
       "      <th>CO_hour_labels_encoding</th>\n",
       "      <th>CO_year_labels_encoding</th>\n",
       "      <th>CO_hour_mean_encoding</th>\n",
       "      <th>CO_month_mean_encoding</th>\n",
       "      <th>CO_day_mean_encoding</th>\n",
       "    </tr>\n",
       "  </thead>\n",
       "  <tbody>\n",
       "    <tr>\n",
       "      <th>5128</th>\n",
       "      <td>Wednesday</td>\n",
       "      <td>18</td>\n",
       "      <td>December</td>\n",
       "      <td>Hiver</td>\n",
       "      <td>Pluvieux (-)</td>\n",
       "      <td>2011</td>\n",
       "      <td>6</td>\n",
       "      <td>2</td>\n",
       "      <td>1</td>\n",
       "      <td>3</td>\n",
       "      <td>10</td>\n",
       "      <td>0</td>\n",
       "      <td>7</td>\n",
       "      <td>1</td>\n",
       "      <td>1</td>\n",
       "    </tr>\n",
       "    <tr>\n",
       "      <th>5465</th>\n",
       "      <td>Friday</td>\n",
       "      <td>13</td>\n",
       "      <td>September</td>\n",
       "      <td>Automne</td>\n",
       "      <td>Beau temps</td>\n",
       "      <td>2012</td>\n",
       "      <td>0</td>\n",
       "      <td>11</td>\n",
       "      <td>0</td>\n",
       "      <td>0</td>\n",
       "      <td>5</td>\n",
       "      <td>1</td>\n",
       "      <td>3</td>\n",
       "      <td>2</td>\n",
       "      <td>2</td>\n",
       "    </tr>\n",
       "    <tr>\n",
       "      <th>3229</th>\n",
       "      <td>Thursday</td>\n",
       "      <td>11</td>\n",
       "      <td>August</td>\n",
       "      <td>Automne</td>\n",
       "      <td>Nuageux</td>\n",
       "      <td>2011</td>\n",
       "      <td>4</td>\n",
       "      <td>1</td>\n",
       "      <td>0</td>\n",
       "      <td>1</td>\n",
       "      <td>3</td>\n",
       "      <td>0</td>\n",
       "      <td>3</td>\n",
       "      <td>2</td>\n",
       "      <td>2</td>\n",
       "    </tr>\n",
       "    <tr>\n",
       "      <th>4958</th>\n",
       "      <td>Tuesday</td>\n",
       "      <td>10</td>\n",
       "      <td>July</td>\n",
       "      <td>Automne</td>\n",
       "      <td>Beau temps</td>\n",
       "      <td>2012</td>\n",
       "      <td>5</td>\n",
       "      <td>5</td>\n",
       "      <td>0</td>\n",
       "      <td>0</td>\n",
       "      <td>2</td>\n",
       "      <td>1</td>\n",
       "      <td>3</td>\n",
       "      <td>2</td>\n",
       "      <td>1</td>\n",
       "    </tr>\n",
       "    <tr>\n",
       "      <th>3360</th>\n",
       "      <td>Wednesday</td>\n",
       "      <td>17</td>\n",
       "      <td>January</td>\n",
       "      <td>Printemps</td>\n",
       "      <td>Beau temps</td>\n",
       "      <td>2012</td>\n",
       "      <td>6</td>\n",
       "      <td>4</td>\n",
       "      <td>2</td>\n",
       "      <td>0</td>\n",
       "      <td>9</td>\n",
       "      <td>1</td>\n",
       "      <td>5</td>\n",
       "      <td>0</td>\n",
       "      <td>1</td>\n",
       "    </tr>\n",
       "  </tbody>\n",
       "</table>\n",
       "</div>"
      ],
      "text/plain": [
       "         CO_day CO_hour   CO_month  CO_season    CO_weather CO_year  \\\n",
       "5128  Wednesday      18   December      Hiver  Pluvieux (-)    2011   \n",
       "5465     Friday      13  September    Automne    Beau temps    2012   \n",
       "3229   Thursday      11     August    Automne       Nuageux    2011   \n",
       "4958    Tuesday      10       July    Automne    Beau temps    2012   \n",
       "3360  Wednesday      17    January  Printemps    Beau temps    2012   \n",
       "\n",
       "      CO_day_labels_encoding  CO_month_labels_encoding  \\\n",
       "5128                       6                         2   \n",
       "5465                       0                        11   \n",
       "3229                       4                         1   \n",
       "4958                       5                         5   \n",
       "3360                       6                         4   \n",
       "\n",
       "      CO_season_labels_encoding  CO_weather_labels_encoding  \\\n",
       "5128                          1                           3   \n",
       "5465                          0                           0   \n",
       "3229                          0                           1   \n",
       "4958                          0                           0   \n",
       "3360                          2                           0   \n",
       "\n",
       "      CO_hour_labels_encoding  CO_year_labels_encoding  CO_hour_mean_encoding  \\\n",
       "5128                       10                        0                      7   \n",
       "5465                        5                        1                      3   \n",
       "3229                        3                        0                      3   \n",
       "4958                        2                        1                      3   \n",
       "3360                        9                        1                      5   \n",
       "\n",
       "      CO_month_mean_encoding  CO_day_mean_encoding  \n",
       "5128                       1                     1  \n",
       "5465                       2                     2  \n",
       "3229                       2                     2  \n",
       "4958                       2                     1  \n",
       "3360                       0                     1  "
      ]
     },
     "execution_count": 302,
     "metadata": {},
     "output_type": "execute_result"
    }
   ],
   "source": [
    "df_all[liste_of_new_var].sample(n=5)"
   ]
  },
  {
   "cell_type": "markdown",
   "metadata": {},
   "source": [
    "Nouvelle variable: type de jour<br>\n",
    "Ou bien on est un jour travaillé<br>\n",
    "ou un jour du week end<br> \n",
    "ou un jour férié<br>\n",
    "Grâce aux variables :\n",
    "- CO_workingday = jour de travail = 0/1\n",
    "- CO_holiday = jour férié = 0/1   "
   ]
  },
  {
   "cell_type": "code",
   "execution_count": 303,
   "metadata": {},
   "outputs": [
    {
     "data": {
      "text/html": [
       "<div>\n",
       "<style scoped>\n",
       "    .dataframe tbody tr th:only-of-type {\n",
       "        vertical-align: middle;\n",
       "    }\n",
       "\n",
       "    .dataframe tbody tr th {\n",
       "        vertical-align: top;\n",
       "    }\n",
       "\n",
       "    .dataframe thead th {\n",
       "        text-align: right;\n",
       "    }\n",
       "</style>\n",
       "<table border=\"1\" class=\"dataframe\">\n",
       "  <thead>\n",
       "    <tr style=\"text-align: right;\">\n",
       "      <th></th>\n",
       "      <th>datetime</th>\n",
       "      <th>CO_workingday</th>\n",
       "      <th>CO_holiday</th>\n",
       "      <th>CN_school</th>\n",
       "    </tr>\n",
       "  </thead>\n",
       "  <tbody>\n",
       "    <tr>\n",
       "      <th>6396</th>\n",
       "      <td>2012-03-03 18:00:00</td>\n",
       "      <td>0</td>\n",
       "      <td>0</td>\n",
       "      <td>0</td>\n",
       "    </tr>\n",
       "    <tr>\n",
       "      <th>2462</th>\n",
       "      <td>2011-06-10 12:00:00</td>\n",
       "      <td>1</td>\n",
       "      <td>0</td>\n",
       "      <td>0</td>\n",
       "    </tr>\n",
       "    <tr>\n",
       "      <th>235</th>\n",
       "      <td>2011-01-11 02:00:00</td>\n",
       "      <td>1</td>\n",
       "      <td>0</td>\n",
       "      <td>0</td>\n",
       "    </tr>\n",
       "    <tr>\n",
       "      <th>2737</th>\n",
       "      <td>2011-07-02 23:00:00</td>\n",
       "      <td>0</td>\n",
       "      <td>0</td>\n",
       "      <td>1</td>\n",
       "    </tr>\n",
       "    <tr>\n",
       "      <th>2780</th>\n",
       "      <td>2011-07-04 18:00:00</td>\n",
       "      <td>0</td>\n",
       "      <td>1</td>\n",
       "      <td>1</td>\n",
       "    </tr>\n",
       "    <tr>\n",
       "      <th>2565</th>\n",
       "      <td>2011-06-14 19:00:00</td>\n",
       "      <td>1</td>\n",
       "      <td>0</td>\n",
       "      <td>0</td>\n",
       "    </tr>\n",
       "    <tr>\n",
       "      <th>1664</th>\n",
       "      <td>2011-07-24 08:00:00</td>\n",
       "      <td>0</td>\n",
       "      <td>0</td>\n",
       "      <td>1</td>\n",
       "    </tr>\n",
       "    <tr>\n",
       "      <th>3828</th>\n",
       "      <td>2012-03-23 08:00:00</td>\n",
       "      <td>1</td>\n",
       "      <td>0</td>\n",
       "      <td>1</td>\n",
       "    </tr>\n",
       "    <tr>\n",
       "      <th>4960</th>\n",
       "      <td>2011-11-19 18:00:00</td>\n",
       "      <td>0</td>\n",
       "      <td>0</td>\n",
       "      <td>0</td>\n",
       "    </tr>\n",
       "    <tr>\n",
       "      <th>6478</th>\n",
       "      <td>2012-03-07 04:00:00</td>\n",
       "      <td>1</td>\n",
       "      <td>0</td>\n",
       "      <td>0</td>\n",
       "    </tr>\n",
       "    <tr>\n",
       "      <th>8462</th>\n",
       "      <td>2012-07-13 23:00:00</td>\n",
       "      <td>1</td>\n",
       "      <td>0</td>\n",
       "      <td>1</td>\n",
       "    </tr>\n",
       "    <tr>\n",
       "      <th>3996</th>\n",
       "      <td>2011-09-17 13:00:00</td>\n",
       "      <td>0</td>\n",
       "      <td>0</td>\n",
       "      <td>0</td>\n",
       "    </tr>\n",
       "    <tr>\n",
       "      <th>7180</th>\n",
       "      <td>2012-04-17 13:00:00</td>\n",
       "      <td>1</td>\n",
       "      <td>0</td>\n",
       "      <td>0</td>\n",
       "    </tr>\n",
       "    <tr>\n",
       "      <th>6305</th>\n",
       "      <td>2012-02-18 23:00:00</td>\n",
       "      <td>0</td>\n",
       "      <td>0</td>\n",
       "      <td>0</td>\n",
       "    </tr>\n",
       "    <tr>\n",
       "      <th>1880</th>\n",
       "      <td>2011-08-21 08:00:00</td>\n",
       "      <td>0</td>\n",
       "      <td>0</td>\n",
       "      <td>0</td>\n",
       "    </tr>\n",
       "    <tr>\n",
       "      <th>8634</th>\n",
       "      <td>2012-08-02 03:00:00</td>\n",
       "      <td>1</td>\n",
       "      <td>0</td>\n",
       "      <td>1</td>\n",
       "    </tr>\n",
       "    <tr>\n",
       "      <th>1498</th>\n",
       "      <td>2011-04-08 07:00:00</td>\n",
       "      <td>1</td>\n",
       "      <td>0</td>\n",
       "      <td>0</td>\n",
       "    </tr>\n",
       "    <tr>\n",
       "      <th>7375</th>\n",
       "      <td>2012-05-06 16:00:00</td>\n",
       "      <td>0</td>\n",
       "      <td>0</td>\n",
       "      <td>0</td>\n",
       "    </tr>\n",
       "    <tr>\n",
       "      <th>930</th>\n",
       "      <td>2011-03-03 05:00:00</td>\n",
       "      <td>1</td>\n",
       "      <td>0</td>\n",
       "      <td>0</td>\n",
       "    </tr>\n",
       "    <tr>\n",
       "      <th>5222</th>\n",
       "      <td>2012-08-23 10:00:00</td>\n",
       "      <td>1</td>\n",
       "      <td>0</td>\n",
       "      <td>1</td>\n",
       "    </tr>\n",
       "  </tbody>\n",
       "</table>\n",
       "</div>"
      ],
      "text/plain": [
       "                 datetime  CO_workingday  CO_holiday  CN_school\n",
       "6396  2012-03-03 18:00:00              0           0          0\n",
       "2462  2011-06-10 12:00:00              1           0          0\n",
       "235   2011-01-11 02:00:00              1           0          0\n",
       "2737  2011-07-02 23:00:00              0           0          1\n",
       "2780  2011-07-04 18:00:00              0           1          1\n",
       "2565  2011-06-14 19:00:00              1           0          0\n",
       "1664  2011-07-24 08:00:00              0           0          1\n",
       "3828  2012-03-23 08:00:00              1           0          1\n",
       "4960  2011-11-19 18:00:00              0           0          0\n",
       "6478  2012-03-07 04:00:00              1           0          0\n",
       "8462  2012-07-13 23:00:00              1           0          1\n",
       "3996  2011-09-17 13:00:00              0           0          0\n",
       "7180  2012-04-17 13:00:00              1           0          0\n",
       "6305  2012-02-18 23:00:00              0           0          0\n",
       "1880  2011-08-21 08:00:00              0           0          0\n",
       "8634  2012-08-02 03:00:00              1           0          1\n",
       "1498  2011-04-08 07:00:00              1           0          0\n",
       "7375  2012-05-06 16:00:00              0           0          0\n",
       "930   2011-03-03 05:00:00              1           0          0\n",
       "5222  2012-08-23 10:00:00              1           0          1"
      ]
     },
     "execution_count": 303,
     "metadata": {},
     "output_type": "execute_result"
    }
   ],
   "source": [
    "df_all[[\"datetime\",\"CO_workingday\",\"CO_holiday\",\"CN_school\"]].sample(n=20)"
   ]
  },
  {
   "cell_type": "markdown",
   "metadata": {},
   "source": [
    "On crée une seule variable \"ordinale\" grâce aux 2 variables : CO_workingday et CO_holiday \t"
   ]
  },
  {
   "cell_type": "code",
   "execution_count": 304,
   "metadata": {},
   "outputs": [],
   "source": [
    "def type_of_day(df):\n",
    "    # Jour de travail\n",
    "    if df.CO_workingday == 1 and df.CO_holiday == 0:\n",
    "        resultat = 0\n",
    "    # Jour de week end\n",
    "    elif df.CO_workingday == 0 and df.CO_holiday == 0:\n",
    "        resultat = 1\n",
    "    # Jour férié \n",
    "    else:\n",
    "        resultat = 2\n",
    "    return resultat\n",
    "df_all[\"CN_type_of_day\"] = df_all.apply(type_of_day, axis = 1)"
   ]
  },
  {
   "cell_type": "code",
   "execution_count": 305,
   "metadata": {},
   "outputs": [],
   "source": [
    "def week_end(df):\n",
    "    if df.CO_day != \"Saturday\" and df.CO_day != \"Sunday\":\n",
    "        resultat = 0\n",
    "    else:\n",
    "        resultat = 1\n",
    "    return resultat\n",
    "df_all[\"CN_week_end\"] = df_all.apply(week_end, axis = 1)"
   ]
  },
  {
   "cell_type": "markdown",
   "metadata": {},
   "source": [
    "NOUVELLES VARIABLES bins de NN_soleil et NO_temp"
   ]
  },
  {
   "cell_type": "code",
   "execution_count": 306,
   "metadata": {},
   "outputs": [],
   "source": [
    "def binned_soleil(x):\n",
    "    if x < -22:\n",
    "        resultat = 0\n",
    "    elif x < -7.6 and x >= -22:\n",
    "        resultat = 1\n",
    "    else:\n",
    "        resultat = 2\n",
    "    return resultat"
   ]
  },
  {
   "cell_type": "code",
   "execution_count": 307,
   "metadata": {},
   "outputs": [],
   "source": [
    "def binned_temp(x):\n",
    "    if x <= 12:\n",
    "        resultat = 0\n",
    "    elif x >= 13 and x <= 22:\n",
    "        resultat = 1\n",
    "    elif x >= 23 and x <= 29:\n",
    "        resultat = 2\n",
    "    else:\n",
    "        resultat = 2\n",
    "    return resultat"
   ]
  },
  {
   "cell_type": "code",
   "execution_count": 308,
   "metadata": {},
   "outputs": [],
   "source": [
    "df_all[\"NN_soleil_binned\"] = df_all[\"NN_soleil\"].apply(binned_soleil)\n",
    "df_all[\"NO_temp_binned\"] = df_all[\"NO_temp\"].apply(binned_temp)"
   ]
  },
  {
   "cell_type": "markdown",
   "metadata": {},
   "source": [
    "Liste des variables utilisées pour \"MODELE_1\":<br>\n",
    "-CN_school\n",
    "-NN_soleil\n",
    "-NN_tendance_1\n",
    "-NN_tendance_2\n",
    "-NO_atemp\n",
    "-NO_humidity\n",
    "-NO_temp\n",
    "-NO_windspeed\n",
    "\n",
    "-datetime\n",
    "-count\n",
    "\n",
    "-CO_hour_mean_encoding\n",
    "-CO_month_mean_encoding\n",
    "-CO_day_mean_encoding\n",
    "-CO_weather_ordinal_encoding\n",
    "-CO_season_ordinal_encoding\n",
    "-CO_year_ordinal_encoding\n",
    "-CN_type_of_day"
   ]
  },
  {
   "cell_type": "markdown",
   "metadata": {},
   "source": [
    "On crée des .pkl des dataframes contenant toutes les variables:"
   ]
  },
  {
   "cell_type": "markdown",
   "metadata": {},
   "source": [
    "On distingue dans 2 dataframe différents :\n",
    "- les données pour créer les modèles\n",
    "- des données de test pour soumettre"
   ]
  },
  {
   "cell_type": "code",
   "execution_count": 309,
   "metadata": {},
   "outputs": [],
   "source": [
    "df_all[\"day\"] = pd.to_datetime(df_all[\"datetime\"]).dt.day\n",
    "\n",
    "df_train_for_models = df_all[df_all[\"day\"] < 20 ]\n",
    "df_test_kaggle = df_all[df_all[\"day\"] >= 20]\n",
    "\n",
    "df_train_for_models = df_train_for_models.drop(\"day\", axis=1)\n",
    "df_test_kaggle = df_test_kaggle.drop(\"day\", axis=1)"
   ]
  },
  {
   "cell_type": "code",
   "execution_count": 312,
   "metadata": {},
   "outputs": [],
   "source": [
    "# J'ai vérifié qu'on a les memes données par rapport à avant\n",
    "\n",
    "# df_train_for_cv_o_n = pd.read_pickle(\"../data/df_train_for_cv_o_n_all_variables.pkl\")\n",
    "# df_test_kaggle_cv_o_n = pd.read_pickle(\"../data/df_test_kaggle_cv_o_n_all_variables.pkl\")"
   ]
  },
  {
   "cell_type": "code",
   "execution_count": null,
   "metadata": {},
   "outputs": [],
   "source": [
    "# df_train_for_cv_o_n.to_pickle(\"../data/df_train_for_cv_o_n_all_variables.pkl\")\n",
    "# df_test_kaggle_cv_o_n.to_pickle(\"../data/df_test_kaggle_cv_o_n_all_variables.pkl\")"
   ]
  },
  {
   "cell_type": "markdown",
   "metadata": {},
   "source": [
    "##### On stocke les dataframes avec toutes les features en .pkl"
   ]
  },
  {
   "cell_type": "code",
   "execution_count": 331,
   "metadata": {},
   "outputs": [],
   "source": [
    "df_train_for_models.to_pickle(\"../data/df_train_all_variables.pkl\")\n",
    "df_test_kaggle.to_pickle(\"../data/df_test_kaggle_all_variables.pkl\")"
   ]
  },
  {
   "cell_type": "code",
   "execution_count": 2,
   "metadata": {},
   "outputs": [],
   "source": [
    "# df_train_for_cv_o_n_sk_mean_encoding_1 = df_train_for_cv_o_n[variables_to_keep_train]\n",
    "# df_test_kaggle_cv_o_n_sk_mean_encoding_1 = df_test_kaggle_cv_o_n[variables_to_keep_test]\n",
    "# df_train_for_cv_o_n_sk_mean_encoding_1.shape\n",
    "# df_test_kaggle_cv_o_n_sk_mean_encoding_1.shape\n",
    "# df_test_kaggle_cv_o_n_sk_mean_encoding_1.sample(n=5)\n",
    "# df_train_for_cv_o_n_sk_mean_encoding_1.to_pickle(\"../data/df_train_for_cv_o_n_sk_mean_encoding_1.pkl\")\n",
    "# df_test_kaggle_cv_o_n_sk_mean_encoding_1.to_pickle(\"../data/df_test_kaggle_cv_o_n_sk_mean_encoding_1.pkl\")"
   ]
  },
  {
   "cell_type": "code",
   "execution_count": 330,
   "metadata": {},
   "outputs": [],
   "source": [
    "# df_for_cv_o_n_sk_encoded.dtypes"
   ]
  },
  {
   "cell_type": "code",
   "execution_count": 337,
   "metadata": {},
   "outputs": [],
   "source": [
    "# df_for_cv_o_n_sk_encoded.describe()\n",
    "# Encodage en numérique OK pour : day, month, season, weather, hour, year"
   ]
  },
  {
   "cell_type": "code",
   "execution_count": 338,
   "metadata": {},
   "outputs": [
    {
     "data": {
      "text/html": [
       "<div>\n",
       "<style scoped>\n",
       "    .dataframe tbody tr th:only-of-type {\n",
       "        vertical-align: middle;\n",
       "    }\n",
       "\n",
       "    .dataframe tbody tr th {\n",
       "        vertical-align: top;\n",
       "    }\n",
       "\n",
       "    .dataframe thead th {\n",
       "        text-align: right;\n",
       "    }\n",
       "</style>\n",
       "<table border=\"1\" class=\"dataframe\">\n",
       "  <thead>\n",
       "    <tr style=\"text-align: right;\">\n",
       "      <th></th>\n",
       "      <th>CN_school</th>\n",
       "      <th>CN_soleilQ</th>\n",
       "      <th>CN_tendance_1Q</th>\n",
       "      <th>CN_tendance_2Q</th>\n",
       "      <th>CO_atempQ</th>\n",
       "      <th>CO_day</th>\n",
       "      <th>CO_holiday</th>\n",
       "      <th>CO_humidityQ</th>\n",
       "      <th>CO_month</th>\n",
       "      <th>CO_season</th>\n",
       "      <th>...</th>\n",
       "      <th>NO_windspeed</th>\n",
       "      <th>S_casual</th>\n",
       "      <th>S_casualQ</th>\n",
       "      <th>S_rateregis</th>\n",
       "      <th>S_rateregisQ</th>\n",
       "      <th>S_registered</th>\n",
       "      <th>S_registeredQ</th>\n",
       "      <th>datetime</th>\n",
       "      <th>CO_hour</th>\n",
       "      <th>CO_year</th>\n",
       "    </tr>\n",
       "  </thead>\n",
       "  <tbody>\n",
       "    <tr>\n",
       "      <th>0</th>\n",
       "      <td>0</td>\n",
       "      <td>[-74.5,-27.9]</td>\n",
       "      <td>[0.828,0.92]</td>\n",
       "      <td>[19,86]</td>\n",
       "      <td>[0,16.7]</td>\n",
       "      <td>4</td>\n",
       "      <td>0</td>\n",
       "      <td>(49,65]</td>\n",
       "      <td>4</td>\n",
       "      <td>2</td>\n",
       "      <td>...</td>\n",
       "      <td>26.0027</td>\n",
       "      <td>0.328669</td>\n",
       "      <td>(0.249,0.501]</td>\n",
       "      <td>0.805835</td>\n",
       "      <td>(0.802,1]</td>\n",
       "      <td>0.788077</td>\n",
       "      <td>(0.753,1]</td>\n",
       "      <td>2011-01-20 00:00:00</td>\n",
       "      <td>0</td>\n",
       "      <td>0</td>\n",
       "    </tr>\n",
       "    <tr>\n",
       "      <th>1</th>\n",
       "      <td>0</td>\n",
       "      <td>[-74.5,-27.9]</td>\n",
       "      <td>[0.828,0.92]</td>\n",
       "      <td>[19,86]</td>\n",
       "      <td>[0,16.7]</td>\n",
       "      <td>4</td>\n",
       "      <td>0</td>\n",
       "      <td>(49,65]</td>\n",
       "      <td>4</td>\n",
       "      <td>2</td>\n",
       "      <td>...</td>\n",
       "      <td>0.0000</td>\n",
       "      <td>0.277432</td>\n",
       "      <td>(0.249,0.501]</td>\n",
       "      <td>0.698099</td>\n",
       "      <td>(0.597,0.802]</td>\n",
       "      <td>0.541911</td>\n",
       "      <td>(0.498,0.753]</td>\n",
       "      <td>2011-01-20 01:00:00</td>\n",
       "      <td>1</td>\n",
       "      <td>0</td>\n",
       "    </tr>\n",
       "    <tr>\n",
       "      <th>2</th>\n",
       "      <td>0</td>\n",
       "      <td>[-74.5,-27.9]</td>\n",
       "      <td>[0.828,0.92]</td>\n",
       "      <td>[19,86]</td>\n",
       "      <td>[0,16.7]</td>\n",
       "      <td>4</td>\n",
       "      <td>0</td>\n",
       "      <td>(49,65]</td>\n",
       "      <td>4</td>\n",
       "      <td>2</td>\n",
       "      <td>...</td>\n",
       "      <td>0.0000</td>\n",
       "      <td>0.120899</td>\n",
       "      <td>[5.86e-05,0.249]</td>\n",
       "      <td>0.338947</td>\n",
       "      <td>(0.194,0.4]</td>\n",
       "      <td>0.216304</td>\n",
       "      <td>[0.000152,0.248]</td>\n",
       "      <td>2011-01-20 02:00:00</td>\n",
       "      <td>12</td>\n",
       "      <td>0</td>\n",
       "    </tr>\n",
       "    <tr>\n",
       "      <th>3</th>\n",
       "      <td>0</td>\n",
       "      <td>[-74.5,-27.9]</td>\n",
       "      <td>[0.828,0.92]</td>\n",
       "      <td>[19,86]</td>\n",
       "      <td>[0,16.7]</td>\n",
       "      <td>4</td>\n",
       "      <td>0</td>\n",
       "      <td>(49,65]</td>\n",
       "      <td>4</td>\n",
       "      <td>2</td>\n",
       "      <td>...</td>\n",
       "      <td>11.0014</td>\n",
       "      <td>0.158266</td>\n",
       "      <td>[5.86e-05,0.249]</td>\n",
       "      <td>1.551012</td>\n",
       "      <td>(1.25,1.69]</td>\n",
       "      <td>0.948388</td>\n",
       "      <td>(0.753,1]</td>\n",
       "      <td>2011-01-20 03:00:00</td>\n",
       "      <td>17</td>\n",
       "      <td>0</td>\n",
       "    </tr>\n",
       "    <tr>\n",
       "      <th>4</th>\n",
       "      <td>0</td>\n",
       "      <td>[-74.5,-27.9]</td>\n",
       "      <td>[0.828,0.92]</td>\n",
       "      <td>[19,86]</td>\n",
       "      <td>[0,16.7]</td>\n",
       "      <td>4</td>\n",
       "      <td>0</td>\n",
       "      <td>(49,65]</td>\n",
       "      <td>4</td>\n",
       "      <td>2</td>\n",
       "      <td>...</td>\n",
       "      <td>11.0014</td>\n",
       "      <td>0.390428</td>\n",
       "      <td>(0.249,0.501]</td>\n",
       "      <td>1.040613</td>\n",
       "      <td>(1,1.25]</td>\n",
       "      <td>0.869250</td>\n",
       "      <td>(0.753,1]</td>\n",
       "      <td>2011-01-20 04:00:00</td>\n",
       "      <td>18</td>\n",
       "      <td>0</td>\n",
       "    </tr>\n",
       "  </tbody>\n",
       "</table>\n",
       "<p>5 rows × 30 columns</p>\n",
       "</div>"
      ],
      "text/plain": [
       "   CN_school     CN_soleilQ CN_tendance_1Q CN_tendance_2Q CO_atempQ  CO_day  \\\n",
       "0          0  [-74.5,-27.9]   [0.828,0.92]        [19,86]  [0,16.7]       4   \n",
       "1          0  [-74.5,-27.9]   [0.828,0.92]        [19,86]  [0,16.7]       4   \n",
       "2          0  [-74.5,-27.9]   [0.828,0.92]        [19,86]  [0,16.7]       4   \n",
       "3          0  [-74.5,-27.9]   [0.828,0.92]        [19,86]  [0,16.7]       4   \n",
       "4          0  [-74.5,-27.9]   [0.828,0.92]        [19,86]  [0,16.7]       4   \n",
       "\n",
       "   CO_holiday CO_humidityQ  CO_month  CO_season  ... NO_windspeed  S_casual  \\\n",
       "0           0      (49,65]         4          2  ...      26.0027  0.328669   \n",
       "1           0      (49,65]         4          2  ...       0.0000  0.277432   \n",
       "2           0      (49,65]         4          2  ...       0.0000  0.120899   \n",
       "3           0      (49,65]         4          2  ...      11.0014  0.158266   \n",
       "4           0      (49,65]         4          2  ...      11.0014  0.390428   \n",
       "\n",
       "          S_casualQ  S_rateregis   S_rateregisQ  S_registered  \\\n",
       "0     (0.249,0.501]     0.805835      (0.802,1]      0.788077   \n",
       "1     (0.249,0.501]     0.698099  (0.597,0.802]      0.541911   \n",
       "2  [5.86e-05,0.249]     0.338947    (0.194,0.4]      0.216304   \n",
       "3  [5.86e-05,0.249]     1.551012    (1.25,1.69]      0.948388   \n",
       "4     (0.249,0.501]     1.040613       (1,1.25]      0.869250   \n",
       "\n",
       "      S_registeredQ             datetime  CO_hour  CO_year  \n",
       "0         (0.753,1]  2011-01-20 00:00:00        0        0  \n",
       "1     (0.498,0.753]  2011-01-20 01:00:00        1        0  \n",
       "2  [0.000152,0.248]  2011-01-20 02:00:00       12        0  \n",
       "3         (0.753,1]  2011-01-20 03:00:00       17        0  \n",
       "4         (0.753,1]  2011-01-20 04:00:00       18        0  \n",
       "\n",
       "[5 rows x 30 columns]"
      ]
     },
     "execution_count": 338,
     "metadata": {},
     "output_type": "execute_result"
    }
   ],
   "source": [
    "# df_test_kaggle_o_n_sk_encoded.head()"
   ]
  },
  {
   "cell_type": "markdown",
   "metadata": {},
   "source": [
    "Mais penser à faire d'abord un modèle \"xgboost\" avec :\n",
    "CO_day, CO_month, CO_season, CO_weather, CO_hour et CO_year"
   ]
  },
  {
   "cell_type": "code",
   "execution_count": 340,
   "metadata": {},
   "outputs": [
    {
     "data": {
      "text/plain": [
       "['CN_school',\n",
       " 'CN_soleilQ',\n",
       " 'CN_tendance_1Q',\n",
       " 'CN_tendance_2Q',\n",
       " 'CO_atempQ',\n",
       " 'CO_day',\n",
       " 'CO_holiday',\n",
       " 'CO_humidityQ',\n",
       " 'CO_month',\n",
       " 'CO_season',\n",
       " 'CO_tempQ',\n",
       " 'CO_weather',\n",
       " 'CO_windspeedQ',\n",
       " 'CO_workingday',\n",
       " 'NN_soleil',\n",
       " 'NN_tendance_1',\n",
       " 'NN_tendance_2',\n",
       " 'NO_atemp',\n",
       " 'NO_humidity',\n",
       " 'NO_temp',\n",
       " 'NO_windspeed',\n",
       " 'S_casual',\n",
       " 'S_casualQ',\n",
       " 'S_rateregis',\n",
       " 'S_rateregisQ',\n",
       " 'S_registered',\n",
       " 'S_registeredQ',\n",
       " 'datetime',\n",
       " 'CO_hour',\n",
       " 'CO_year',\n",
       " 'count']"
      ]
     },
     "execution_count": 340,
     "metadata": {},
     "output_type": "execute_result"
    }
   ],
   "source": [
    "# list(df_for_cv_o_n_sk_encoded)"
   ]
  },
  {
   "cell_type": "code",
   "execution_count": 347,
   "metadata": {},
   "outputs": [
    {
     "data": {
      "text/plain": [
       "(6493, 17)"
      ]
     },
     "execution_count": 347,
     "metadata": {},
     "output_type": "execute_result"
    }
   ],
   "source": [
    "# 1er modèle réalisé avec labels encoding de scikit learn\n",
    "# des variables : [\"CO_day\", \"CO_month\", \"CO_season\", \"CO_weather\", \"CO_hour\" , \"CO_year\"]\n",
    "\n",
    "# variables_to_keep_train = [each for each in list(df_for_cv_o_n_sk_encoded) if each[0] != 'S' and each[-1] != 'Q']\n",
    "# variables_to_keep_test = [each for each in list(df_for_cv_o_n_sk_encoded) if each[0] != 'S' and each[-1] != 'Q' and each != 'count']\n",
    "# df_for_cv_o_n_sk_encoded = df_for_cv_o_n_sk_encoded[variables_to_keep_train]\n",
    "# df_test_kaggle_o_n_sk_encoded = df_test_kaggle_o_n_sk_encoded[variables_to_keep_test]\n",
    "# df_for_cv_o_n_sk_encoded.shape\n",
    "# df_test_kaggle_o_n_sk_encoded.shape\n",
    "# df_for_cv_o_n_sk_encoded.to_pickle(\"../data/df_for_cv_o_n_sk_encoded.pkl\")\n",
    "# df_test_kaggle_o_n_sk_encoded.to_pickle(\"../data/df_test_kaggle_o_n_sk_encoded.pkl\")"
   ]
  },
  {
   "cell_type": "code",
   "execution_count": 350,
   "metadata": {},
   "outputs": [
    {
     "data": {
      "text/html": [
       "<div>\n",
       "<style scoped>\n",
       "    .dataframe tbody tr th:only-of-type {\n",
       "        vertical-align: middle;\n",
       "    }\n",
       "\n",
       "    .dataframe tbody tr th {\n",
       "        vertical-align: top;\n",
       "    }\n",
       "\n",
       "    .dataframe thead th {\n",
       "        text-align: right;\n",
       "    }\n",
       "</style>\n",
       "<table border=\"1\" class=\"dataframe\">\n",
       "  <thead>\n",
       "    <tr style=\"text-align: right;\">\n",
       "      <th></th>\n",
       "      <th>CN_school</th>\n",
       "      <th>CO_day</th>\n",
       "      <th>CO_holiday</th>\n",
       "      <th>CO_month</th>\n",
       "      <th>CO_season</th>\n",
       "      <th>CO_weather</th>\n",
       "      <th>CO_workingday</th>\n",
       "      <th>NN_soleil</th>\n",
       "      <th>NN_tendance_1</th>\n",
       "      <th>NN_tendance_2</th>\n",
       "      <th>NO_atemp</th>\n",
       "      <th>NO_humidity</th>\n",
       "      <th>NO_temp</th>\n",
       "      <th>NO_windspeed</th>\n",
       "      <th>datetime</th>\n",
       "      <th>CO_hour</th>\n",
       "      <th>CO_year</th>\n",
       "    </tr>\n",
       "  </thead>\n",
       "  <tbody>\n",
       "    <tr>\n",
       "      <th>0</th>\n",
       "      <td>0</td>\n",
       "      <td>4</td>\n",
       "      <td>0</td>\n",
       "      <td>4</td>\n",
       "      <td>2</td>\n",
       "      <td>0</td>\n",
       "      <td>1</td>\n",
       "      <td>-64.731114</td>\n",
       "      <td>0.920373</td>\n",
       "      <td>19</td>\n",
       "      <td>11.365</td>\n",
       "      <td>56</td>\n",
       "      <td>10.66</td>\n",
       "      <td>26.0027</td>\n",
       "      <td>2011-01-20 00:00:00</td>\n",
       "      <td>0</td>\n",
       "      <td>0</td>\n",
       "    </tr>\n",
       "    <tr>\n",
       "      <th>1</th>\n",
       "      <td>0</td>\n",
       "      <td>4</td>\n",
       "      <td>0</td>\n",
       "      <td>4</td>\n",
       "      <td>2</td>\n",
       "      <td>0</td>\n",
       "      <td>1</td>\n",
       "      <td>-70.858731</td>\n",
       "      <td>0.920373</td>\n",
       "      <td>19</td>\n",
       "      <td>13.635</td>\n",
       "      <td>56</td>\n",
       "      <td>10.66</td>\n",
       "      <td>0.0000</td>\n",
       "      <td>2011-01-20 01:00:00</td>\n",
       "      <td>1</td>\n",
       "      <td>0</td>\n",
       "    </tr>\n",
       "    <tr>\n",
       "      <th>2</th>\n",
       "      <td>0</td>\n",
       "      <td>4</td>\n",
       "      <td>0</td>\n",
       "      <td>4</td>\n",
       "      <td>2</td>\n",
       "      <td>0</td>\n",
       "      <td>1</td>\n",
       "      <td>-69.313963</td>\n",
       "      <td>0.920373</td>\n",
       "      <td>19</td>\n",
       "      <td>13.635</td>\n",
       "      <td>56</td>\n",
       "      <td>10.66</td>\n",
       "      <td>0.0000</td>\n",
       "      <td>2011-01-20 02:00:00</td>\n",
       "      <td>12</td>\n",
       "      <td>0</td>\n",
       "    </tr>\n",
       "    <tr>\n",
       "      <th>3</th>\n",
       "      <td>0</td>\n",
       "      <td>4</td>\n",
       "      <td>0</td>\n",
       "      <td>4</td>\n",
       "      <td>2</td>\n",
       "      <td>0</td>\n",
       "      <td>1</td>\n",
       "      <td>-61.327846</td>\n",
       "      <td>0.920373</td>\n",
       "      <td>19</td>\n",
       "      <td>12.880</td>\n",
       "      <td>56</td>\n",
       "      <td>10.66</td>\n",
       "      <td>11.0014</td>\n",
       "      <td>2011-01-20 03:00:00</td>\n",
       "      <td>17</td>\n",
       "      <td>0</td>\n",
       "    </tr>\n",
       "    <tr>\n",
       "      <th>4</th>\n",
       "      <td>0</td>\n",
       "      <td>4</td>\n",
       "      <td>0</td>\n",
       "      <td>4</td>\n",
       "      <td>2</td>\n",
       "      <td>0</td>\n",
       "      <td>1</td>\n",
       "      <td>-50.733442</td>\n",
       "      <td>0.920373</td>\n",
       "      <td>19</td>\n",
       "      <td>12.880</td>\n",
       "      <td>56</td>\n",
       "      <td>10.66</td>\n",
       "      <td>11.0014</td>\n",
       "      <td>2011-01-20 04:00:00</td>\n",
       "      <td>18</td>\n",
       "      <td>0</td>\n",
       "    </tr>\n",
       "  </tbody>\n",
       "</table>\n",
       "</div>"
      ],
      "text/plain": [
       "   CN_school  CO_day  CO_holiday  CO_month  CO_season  CO_weather  \\\n",
       "0          0       4           0         4          2           0   \n",
       "1          0       4           0         4          2           0   \n",
       "2          0       4           0         4          2           0   \n",
       "3          0       4           0         4          2           0   \n",
       "4          0       4           0         4          2           0   \n",
       "\n",
       "   CO_workingday  NN_soleil  NN_tendance_1  NN_tendance_2  NO_atemp  \\\n",
       "0              1 -64.731114       0.920373             19    11.365   \n",
       "1              1 -70.858731       0.920373             19    13.635   \n",
       "2              1 -69.313963       0.920373             19    13.635   \n",
       "3              1 -61.327846       0.920373             19    12.880   \n",
       "4              1 -50.733442       0.920373             19    12.880   \n",
       "\n",
       "   NO_humidity  NO_temp  NO_windspeed             datetime  CO_hour  CO_year  \n",
       "0           56    10.66       26.0027  2011-01-20 00:00:00        0        0  \n",
       "1           56    10.66        0.0000  2011-01-20 01:00:00        1        0  \n",
       "2           56    10.66        0.0000  2011-01-20 02:00:00       12        0  \n",
       "3           56    10.66       11.0014  2011-01-20 03:00:00       17        0  \n",
       "4           56    10.66       11.0014  2011-01-20 04:00:00       18        0  "
      ]
     },
     "execution_count": 350,
     "metadata": {},
     "output_type": "execute_result"
    }
   ],
   "source": [
    "# df_test_kaggle_o_n_sk_encoded.head()"
   ]
  },
  {
   "cell_type": "code",
   "execution_count": null,
   "metadata": {},
   "outputs": [],
   "source": []
  },
  {
   "cell_type": "markdown",
   "metadata": {},
   "source": [
    "#### II Création de dataset à priori plus adapté pour une régression linéaire \n",
    "Création de interactions entre features catégorielles d'ordre 2<br>\n",
    "Création ensuite de toutes les dummy variables à partir des:<br>\n",
    "    - features catégorielles \n",
    "    - des interactions d'ordre 2 entre features catégorielles\n",
    "\n",
    "On pourrait aussi ajouter les interactions entre variables numériques "
   ]
  },
  {
   "cell_type": "code",
   "execution_count": null,
   "metadata": {},
   "outputs": [],
   "source": [
    "list(all_df)\n",
    "# len(all_categorical)"
   ]
  },
  {
   "cell_type": "code",
   "execution_count": 40,
   "metadata": {},
   "outputs": [],
   "source": [
    "all_categorical = [name_var for name_var in list(all_df) if name_var[0:1] == 'C'] "
   ]
  },
  {
   "cell_type": "code",
   "execution_count": 42,
   "metadata": {},
   "outputs": [
    {
     "data": {
      "text/plain": [
       "CN_school          int64\n",
       "CN_soleilQ        object\n",
       "CN_tendance_1Q    object\n",
       "CN_tendance_2Q    object\n",
       "CO_atempQ         object\n",
       "CO_day            object\n",
       "CO_holiday         int64\n",
       "CO_humidityQ      object\n",
       "CO_month          object\n",
       "CO_season         object\n",
       "CO_tempQ          object\n",
       "CO_weather        object\n",
       "CO_windspeedQ     object\n",
       "CO_workingday      int64\n",
       "CO_hour           object\n",
       "CO_year           object\n",
       "dtype: object"
      ]
     },
     "execution_count": 42,
     "metadata": {},
     "output_type": "execute_result"
    }
   ],
   "source": [
    "all_df[all_categorical].dtypes"
   ]
  },
  {
   "cell_type": "code",
   "execution_count": 43,
   "metadata": {},
   "outputs": [],
   "source": [
    "df_all_categorical = all_df[all_categorical].applymap(str)"
   ]
  },
  {
   "cell_type": "code",
   "execution_count": 44,
   "metadata": {},
   "outputs": [
    {
     "data": {
      "text/plain": [
       "(17379, 16)"
      ]
     },
     "execution_count": 44,
     "metadata": {},
     "output_type": "execute_result"
    }
   ],
   "source": [
    "df_all_categorical.shape"
   ]
  },
  {
   "cell_type": "markdown",
   "metadata": {},
   "source": [
    "Ajout des interactions d'ordre 2 entre variables catégorielles "
   ]
  },
  {
   "cell_type": "code",
   "execution_count": 45,
   "metadata": {},
   "outputs": [],
   "source": [
    "# On peut faire les interactions d'ordre 2 avec \"Patsylearn\" (différent de \"Patsy\") \n",
    "# C'est un package Github\n",
    "# from patsylearn import PatsyTransformer\n",
    "# from patsylearn import PatsyModel\n",
    "# transformer = PatsyTransformer(\"C(CO_season):C(CO_weather) + C(CO_season):C(CO_humidityQ)\")"
   ]
  },
  {
   "cell_type": "code",
   "execution_count": 46,
   "metadata": {},
   "outputs": [],
   "source": [
    "# def interaction_order(df,list_of_categ_var, order, only_ordre):\n",
    "def interaction_order(df,list_of_categ_var, order):\n",
    "    \n",
    "    initial_list_df = list_of_categ_var\n",
    "    print (list(df))\n",
    "\n",
    "    # if only_ordre == True:\n",
    "    all_interactions = list(combinations(list_of_categ_var,order))\n",
    "\n",
    "    # print (\"Nb d'interactions\", len(all_interactions))\n",
    "    # print (\"Interaction entre : \", all_interactions)\n",
    "\n",
    "    for i in range(0, len(all_interactions)):\n",
    "        # all_inter_variables = []\n",
    "        # print (list(all_interactions[i]))\n",
    "\n",
    "        for each in list(all_interactions[i]):\n",
    "            # New columns of interaction\n",
    "            for each in range(0,order):\n",
    "\n",
    "                # Name of interaction variables\n",
    "                # var_inter_name = 'inter_' + str(i)\n",
    "                \n",
    "                var_inter_name = \"_+_\".join(list(all_interactions[i]))\n",
    "\n",
    "                # df[var_inter_name] = df[list(all_interactions[i])[0]] + '_' + df[list(all_interactions[i])[1]]\n",
    "                if each == 0:\n",
    "                    # print (\"each\", each)\n",
    "                    \n",
    "                    # print (var_inter_name)\n",
    "                    df[var_inter_name] = df[list(all_interactions[i])[each]]\n",
    "                else:\n",
    "                    df[var_inter_name] = df[var_inter_name] + '_' + df[list(all_interactions[i])[each]]\n",
    "\n",
    "                # all_inter_variables.append(var_inter_name)\n",
    "                # print (all_inter_variables)\n",
    "\n",
    "    # Keep only interaction variables in the dataframe\n",
    "    # print (initial_list_df)\n",
    "    df = df.drop(initial_list_df, axis=1)\n",
    "    # df = df[all_inter_variables]\n",
    "    return df"
   ]
  },
  {
   "cell_type": "code",
   "execution_count": 48,
   "metadata": {},
   "outputs": [
    {
     "name": "stdout",
     "output_type": "stream",
     "text": [
      "['CN_school', 'CN_soleilQ', 'CN_tendance_1Q', 'CN_tendance_2Q', 'CO_atempQ', 'CO_day', 'CO_holiday', 'CO_humidityQ', 'CO_month', 'CO_season', 'CO_tempQ', 'CO_weather', 'CO_windspeedQ', 'CO_workingday', 'CO_hour', 'CO_year']\n"
     ]
    }
   ],
   "source": [
    "df_with_interaction = interaction_order(df_all_categorical,all_categorical, 2)"
   ]
  },
  {
   "cell_type": "code",
   "execution_count": 49,
   "metadata": {},
   "outputs": [
    {
     "data": {
      "text/plain": [
       "120"
      ]
     },
     "execution_count": 49,
     "metadata": {},
     "output_type": "execute_result"
    }
   ],
   "source": [
    "len(list(df_with_interaction))"
   ]
  },
  {
   "cell_type": "code",
   "execution_count": 50,
   "metadata": {},
   "outputs": [
    {
     "data": {
      "text/html": [
       "<div>\n",
       "<style scoped>\n",
       "    .dataframe tbody tr th:only-of-type {\n",
       "        vertical-align: middle;\n",
       "    }\n",
       "\n",
       "    .dataframe tbody tr th {\n",
       "        vertical-align: top;\n",
       "    }\n",
       "\n",
       "    .dataframe thead th {\n",
       "        text-align: right;\n",
       "    }\n",
       "</style>\n",
       "<table border=\"1\" class=\"dataframe\">\n",
       "  <thead>\n",
       "    <tr style=\"text-align: right;\">\n",
       "      <th></th>\n",
       "      <th>CN_school_+_CN_soleilQ</th>\n",
       "      <th>CN_school_+_CN_tendance_1Q</th>\n",
       "      <th>CN_school_+_CN_tendance_2Q</th>\n",
       "      <th>CN_school_+_CO_atempQ</th>\n",
       "      <th>CN_school_+_CO_day</th>\n",
       "      <th>CN_school_+_CO_holiday</th>\n",
       "      <th>CN_school_+_CO_humidityQ</th>\n",
       "      <th>CN_school_+_CO_month</th>\n",
       "      <th>CN_school_+_CO_season</th>\n",
       "      <th>CN_school_+_CO_tempQ</th>\n",
       "      <th>...</th>\n",
       "      <th>CO_weather_+_CO_windspeedQ</th>\n",
       "      <th>CO_weather_+_CO_workingday</th>\n",
       "      <th>CO_weather_+_CO_hour</th>\n",
       "      <th>CO_weather_+_CO_year</th>\n",
       "      <th>CO_windspeedQ_+_CO_workingday</th>\n",
       "      <th>CO_windspeedQ_+_CO_hour</th>\n",
       "      <th>CO_windspeedQ_+_CO_year</th>\n",
       "      <th>CO_workingday_+_CO_hour</th>\n",
       "      <th>CO_workingday_+_CO_year</th>\n",
       "      <th>CO_hour_+_CO_year</th>\n",
       "    </tr>\n",
       "  </thead>\n",
       "  <tbody>\n",
       "    <tr>\n",
       "      <th>0</th>\n",
       "      <td>0_[-74.5,-28]</td>\n",
       "      <td>0_[0.409,0.432]</td>\n",
       "      <td>0_[0,67]</td>\n",
       "      <td>0_[0.76,16.7]</td>\n",
       "      <td>0_Saturday</td>\n",
       "      <td>0_1</td>\n",
       "      <td>0_(77,100]</td>\n",
       "      <td>0_January</td>\n",
       "      <td>0_Printemps</td>\n",
       "      <td>0_[0.82,13.9]</td>\n",
       "      <td>...</td>\n",
       "      <td>Beau temps_[0,7]</td>\n",
       "      <td>Beau temps_0</td>\n",
       "      <td>Beau temps_0</td>\n",
       "      <td>Beau temps_2011</td>\n",
       "      <td>[0,7]_0</td>\n",
       "      <td>[0,7]_0</td>\n",
       "      <td>[0,7]_2011</td>\n",
       "      <td>0_0</td>\n",
       "      <td>0_2011</td>\n",
       "      <td>0_2011</td>\n",
       "    </tr>\n",
       "    <tr>\n",
       "      <th>1</th>\n",
       "      <td>0_[-74.5,-28]</td>\n",
       "      <td>0_[0.409,0.432]</td>\n",
       "      <td>0_[0,67]</td>\n",
       "      <td>0_[0.76,16.7]</td>\n",
       "      <td>0_Saturday</td>\n",
       "      <td>0_1</td>\n",
       "      <td>0_(77,100]</td>\n",
       "      <td>0_January</td>\n",
       "      <td>0_Printemps</td>\n",
       "      <td>0_[0.82,13.9]</td>\n",
       "      <td>...</td>\n",
       "      <td>Beau temps_[0,7]</td>\n",
       "      <td>Beau temps_0</td>\n",
       "      <td>Beau temps_1</td>\n",
       "      <td>Beau temps_2011</td>\n",
       "      <td>[0,7]_0</td>\n",
       "      <td>[0,7]_1</td>\n",
       "      <td>[0,7]_2011</td>\n",
       "      <td>0_1</td>\n",
       "      <td>0_2011</td>\n",
       "      <td>1_2011</td>\n",
       "    </tr>\n",
       "    <tr>\n",
       "      <th>2</th>\n",
       "      <td>0_[-74.5,-28]</td>\n",
       "      <td>0_[0.409,0.432]</td>\n",
       "      <td>0_[0,67]</td>\n",
       "      <td>0_[0.76,16.7]</td>\n",
       "      <td>0_Saturday</td>\n",
       "      <td>0_1</td>\n",
       "      <td>0_(77,100]</td>\n",
       "      <td>0_January</td>\n",
       "      <td>0_Printemps</td>\n",
       "      <td>0_[0.82,13.9]</td>\n",
       "      <td>...</td>\n",
       "      <td>Beau temps_[0,7]</td>\n",
       "      <td>Beau temps_0</td>\n",
       "      <td>Beau temps_2</td>\n",
       "      <td>Beau temps_2011</td>\n",
       "      <td>[0,7]_0</td>\n",
       "      <td>[0,7]_2</td>\n",
       "      <td>[0,7]_2011</td>\n",
       "      <td>0_2</td>\n",
       "      <td>0_2011</td>\n",
       "      <td>2_2011</td>\n",
       "    </tr>\n",
       "    <tr>\n",
       "      <th>3</th>\n",
       "      <td>0_[-74.5,-28]</td>\n",
       "      <td>0_[0.409,0.432]</td>\n",
       "      <td>0_[0,67]</td>\n",
       "      <td>0_[0.76,16.7]</td>\n",
       "      <td>0_Saturday</td>\n",
       "      <td>0_1</td>\n",
       "      <td>0_(62,77]</td>\n",
       "      <td>0_January</td>\n",
       "      <td>0_Printemps</td>\n",
       "      <td>0_[0.82,13.9]</td>\n",
       "      <td>...</td>\n",
       "      <td>Beau temps_[0,7]</td>\n",
       "      <td>Beau temps_0</td>\n",
       "      <td>Beau temps_3</td>\n",
       "      <td>Beau temps_2011</td>\n",
       "      <td>[0,7]_0</td>\n",
       "      <td>[0,7]_3</td>\n",
       "      <td>[0,7]_2011</td>\n",
       "      <td>0_3</td>\n",
       "      <td>0_2011</td>\n",
       "      <td>3_2011</td>\n",
       "    </tr>\n",
       "    <tr>\n",
       "      <th>4</th>\n",
       "      <td>0_[-74.5,-28]</td>\n",
       "      <td>0_[0.409,0.432]</td>\n",
       "      <td>0_[0,67]</td>\n",
       "      <td>0_[0.76,16.7]</td>\n",
       "      <td>0_Saturday</td>\n",
       "      <td>0_1</td>\n",
       "      <td>0_(62,77]</td>\n",
       "      <td>0_January</td>\n",
       "      <td>0_Printemps</td>\n",
       "      <td>0_[0.82,13.9]</td>\n",
       "      <td>...</td>\n",
       "      <td>Beau temps_[0,7]</td>\n",
       "      <td>Beau temps_0</td>\n",
       "      <td>Beau temps_4</td>\n",
       "      <td>Beau temps_2011</td>\n",
       "      <td>[0,7]_0</td>\n",
       "      <td>[0,7]_4</td>\n",
       "      <td>[0,7]_2011</td>\n",
       "      <td>0_4</td>\n",
       "      <td>0_2011</td>\n",
       "      <td>4_2011</td>\n",
       "    </tr>\n",
       "  </tbody>\n",
       "</table>\n",
       "<p>5 rows × 120 columns</p>\n",
       "</div>"
      ],
      "text/plain": [
       "  CN_school_+_CN_soleilQ CN_school_+_CN_tendance_1Q  \\\n",
       "0          0_[-74.5,-28]            0_[0.409,0.432]   \n",
       "1          0_[-74.5,-28]            0_[0.409,0.432]   \n",
       "2          0_[-74.5,-28]            0_[0.409,0.432]   \n",
       "3          0_[-74.5,-28]            0_[0.409,0.432]   \n",
       "4          0_[-74.5,-28]            0_[0.409,0.432]   \n",
       "\n",
       "  CN_school_+_CN_tendance_2Q CN_school_+_CO_atempQ CN_school_+_CO_day  \\\n",
       "0                   0_[0,67]         0_[0.76,16.7]         0_Saturday   \n",
       "1                   0_[0,67]         0_[0.76,16.7]         0_Saturday   \n",
       "2                   0_[0,67]         0_[0.76,16.7]         0_Saturday   \n",
       "3                   0_[0,67]         0_[0.76,16.7]         0_Saturday   \n",
       "4                   0_[0,67]         0_[0.76,16.7]         0_Saturday   \n",
       "\n",
       "  CN_school_+_CO_holiday CN_school_+_CO_humidityQ CN_school_+_CO_month  \\\n",
       "0                    0_1               0_(77,100]            0_January   \n",
       "1                    0_1               0_(77,100]            0_January   \n",
       "2                    0_1               0_(77,100]            0_January   \n",
       "3                    0_1                0_(62,77]            0_January   \n",
       "4                    0_1                0_(62,77]            0_January   \n",
       "\n",
       "  CN_school_+_CO_season CN_school_+_CO_tempQ  ... CO_weather_+_CO_windspeedQ  \\\n",
       "0           0_Printemps        0_[0.82,13.9]  ...           Beau temps_[0,7]   \n",
       "1           0_Printemps        0_[0.82,13.9]  ...           Beau temps_[0,7]   \n",
       "2           0_Printemps        0_[0.82,13.9]  ...           Beau temps_[0,7]   \n",
       "3           0_Printemps        0_[0.82,13.9]  ...           Beau temps_[0,7]   \n",
       "4           0_Printemps        0_[0.82,13.9]  ...           Beau temps_[0,7]   \n",
       "\n",
       "  CO_weather_+_CO_workingday CO_weather_+_CO_hour CO_weather_+_CO_year  \\\n",
       "0               Beau temps_0         Beau temps_0      Beau temps_2011   \n",
       "1               Beau temps_0         Beau temps_1      Beau temps_2011   \n",
       "2               Beau temps_0         Beau temps_2      Beau temps_2011   \n",
       "3               Beau temps_0         Beau temps_3      Beau temps_2011   \n",
       "4               Beau temps_0         Beau temps_4      Beau temps_2011   \n",
       "\n",
       "  CO_windspeedQ_+_CO_workingday CO_windspeedQ_+_CO_hour  \\\n",
       "0                       [0,7]_0                 [0,7]_0   \n",
       "1                       [0,7]_0                 [0,7]_1   \n",
       "2                       [0,7]_0                 [0,7]_2   \n",
       "3                       [0,7]_0                 [0,7]_3   \n",
       "4                       [0,7]_0                 [0,7]_4   \n",
       "\n",
       "  CO_windspeedQ_+_CO_year CO_workingday_+_CO_hour CO_workingday_+_CO_year  \\\n",
       "0              [0,7]_2011                     0_0                  0_2011   \n",
       "1              [0,7]_2011                     0_1                  0_2011   \n",
       "2              [0,7]_2011                     0_2                  0_2011   \n",
       "3              [0,7]_2011                     0_3                  0_2011   \n",
       "4              [0,7]_2011                     0_4                  0_2011   \n",
       "\n",
       "  CO_hour_+_CO_year  \n",
       "0            0_2011  \n",
       "1            1_2011  \n",
       "2            2_2011  \n",
       "3            3_2011  \n",
       "4            4_2011  \n",
       "\n",
       "[5 rows x 120 columns]"
      ]
     },
     "execution_count": 50,
     "metadata": {},
     "output_type": "execute_result"
    }
   ],
   "source": [
    "df_with_interaction.head()"
   ]
  },
  {
   "cell_type": "code",
   "execution_count": 51,
   "metadata": {},
   "outputs": [
    {
     "data": {
      "text/plain": [
       "['CN_school_+_CN_soleilQ',\n",
       " 'CN_school_+_CN_tendance_1Q',\n",
       " 'CN_school_+_CN_tendance_2Q',\n",
       " 'CN_school_+_CO_atempQ',\n",
       " 'CN_school_+_CO_day']"
      ]
     },
     "execution_count": 51,
     "metadata": {},
     "output_type": "execute_result"
    }
   ],
   "source": [
    "list(df_with_interaction)[0:5]"
   ]
  },
  {
   "cell_type": "code",
   "execution_count": 52,
   "metadata": {},
   "outputs": [
    {
     "data": {
      "text/html": [
       "<div>\n",
       "<style scoped>\n",
       "    .dataframe tbody tr th:only-of-type {\n",
       "        vertical-align: middle;\n",
       "    }\n",
       "\n",
       "    .dataframe tbody tr th {\n",
       "        vertical-align: top;\n",
       "    }\n",
       "\n",
       "    .dataframe thead th {\n",
       "        text-align: right;\n",
       "    }\n",
       "</style>\n",
       "<table border=\"1\" class=\"dataframe\">\n",
       "  <thead>\n",
       "    <tr style=\"text-align: right;\">\n",
       "      <th></th>\n",
       "      <th>CO_month_+_CO_season</th>\n",
       "    </tr>\n",
       "  </thead>\n",
       "  <tbody>\n",
       "    <tr>\n",
       "      <th>0</th>\n",
       "      <td>January_Printemps</td>\n",
       "    </tr>\n",
       "    <tr>\n",
       "      <th>1</th>\n",
       "      <td>January_Printemps</td>\n",
       "    </tr>\n",
       "    <tr>\n",
       "      <th>2</th>\n",
       "      <td>January_Printemps</td>\n",
       "    </tr>\n",
       "    <tr>\n",
       "      <th>3</th>\n",
       "      <td>January_Printemps</td>\n",
       "    </tr>\n",
       "    <tr>\n",
       "      <th>4</th>\n",
       "      <td>January_Printemps</td>\n",
       "    </tr>\n",
       "  </tbody>\n",
       "</table>\n",
       "</div>"
      ],
      "text/plain": [
       "  CO_month_+_CO_season\n",
       "0    January_Printemps\n",
       "1    January_Printemps\n",
       "2    January_Printemps\n",
       "3    January_Printemps\n",
       "4    January_Printemps"
      ]
     },
     "execution_count": 52,
     "metadata": {},
     "output_type": "execute_result"
    }
   ],
   "source": [
    "df_with_interaction[[\"CO_month_+_CO_season\"]].head()"
   ]
  },
  {
   "cell_type": "code",
   "execution_count": 53,
   "metadata": {},
   "outputs": [
    {
     "data": {
      "text/plain": [
       "(17379, 120)"
      ]
     },
     "execution_count": 53,
     "metadata": {},
     "output_type": "execute_result"
    }
   ],
   "source": [
    "df_with_interaction.shape"
   ]
  },
  {
   "cell_type": "code",
   "execution_count": null,
   "metadata": {},
   "outputs": [],
   "source": [
    "list(df_all_categorical)"
   ]
  },
  {
   "cell_type": "code",
   "execution_count": 54,
   "metadata": {},
   "outputs": [],
   "source": [
    "df_all_categorical = all_df[all_categorical].applymap(str)\n",
    "df_with_interaction = all_df.applymap(str)"
   ]
  },
  {
   "cell_type": "code",
   "execution_count": 56,
   "metadata": {},
   "outputs": [],
   "source": [
    "df_before_dummies = pd.concat([df_all_categorical,df_with_interaction], axis = 1)"
   ]
  },
  {
   "cell_type": "code",
   "execution_count": 57,
   "metadata": {},
   "outputs": [
    {
     "data": {
      "text/plain": [
       "(17379, 136)"
      ]
     },
     "execution_count": 57,
     "metadata": {},
     "output_type": "execute_result"
    }
   ],
   "source": [
    "df_before_dummies.shape"
   ]
  },
  {
   "cell_type": "code",
   "execution_count": 58,
   "metadata": {},
   "outputs": [
    {
     "data": {
      "text/html": [
       "<div>\n",
       "<style scoped>\n",
       "    .dataframe tbody tr th:only-of-type {\n",
       "        vertical-align: middle;\n",
       "    }\n",
       "\n",
       "    .dataframe tbody tr th {\n",
       "        vertical-align: top;\n",
       "    }\n",
       "\n",
       "    .dataframe thead th {\n",
       "        text-align: right;\n",
       "    }\n",
       "</style>\n",
       "<table border=\"1\" class=\"dataframe\">\n",
       "  <thead>\n",
       "    <tr style=\"text-align: right;\">\n",
       "      <th></th>\n",
       "      <th>CN_school</th>\n",
       "      <th>CN_soleilQ</th>\n",
       "      <th>CN_tendance_1Q</th>\n",
       "      <th>CN_tendance_2Q</th>\n",
       "      <th>CO_atempQ</th>\n",
       "      <th>CO_day</th>\n",
       "      <th>CO_holiday</th>\n",
       "      <th>CO_humidityQ</th>\n",
       "      <th>CO_month</th>\n",
       "      <th>CO_season</th>\n",
       "      <th>...</th>\n",
       "      <th>CO_weather_+_CO_windspeedQ</th>\n",
       "      <th>CO_weather_+_CO_workingday</th>\n",
       "      <th>CO_weather_+_CO_hour</th>\n",
       "      <th>CO_weather_+_CO_year</th>\n",
       "      <th>CO_windspeedQ_+_CO_workingday</th>\n",
       "      <th>CO_windspeedQ_+_CO_hour</th>\n",
       "      <th>CO_windspeedQ_+_CO_year</th>\n",
       "      <th>CO_workingday_+_CO_hour</th>\n",
       "      <th>CO_workingday_+_CO_year</th>\n",
       "      <th>CO_hour_+_CO_year</th>\n",
       "    </tr>\n",
       "  </thead>\n",
       "  <tbody>\n",
       "    <tr>\n",
       "      <th>0</th>\n",
       "      <td>0</td>\n",
       "      <td>[-74.5,-28]</td>\n",
       "      <td>[0.409,0.432]</td>\n",
       "      <td>[0,67]</td>\n",
       "      <td>[0.76,16.7]</td>\n",
       "      <td>Saturday</td>\n",
       "      <td>1</td>\n",
       "      <td>(77,100]</td>\n",
       "      <td>January</td>\n",
       "      <td>Printemps</td>\n",
       "      <td>...</td>\n",
       "      <td>Beau temps_[0,7]</td>\n",
       "      <td>Beau temps_0</td>\n",
       "      <td>Beau temps_0</td>\n",
       "      <td>Beau temps_2011</td>\n",
       "      <td>[0,7]_0</td>\n",
       "      <td>[0,7]_0</td>\n",
       "      <td>[0,7]_2011</td>\n",
       "      <td>0_0</td>\n",
       "      <td>0_2011</td>\n",
       "      <td>0_2011</td>\n",
       "    </tr>\n",
       "    <tr>\n",
       "      <th>1</th>\n",
       "      <td>0</td>\n",
       "      <td>[-74.5,-28]</td>\n",
       "      <td>[0.409,0.432]</td>\n",
       "      <td>[0,67]</td>\n",
       "      <td>[0.76,16.7]</td>\n",
       "      <td>Saturday</td>\n",
       "      <td>1</td>\n",
       "      <td>(77,100]</td>\n",
       "      <td>January</td>\n",
       "      <td>Printemps</td>\n",
       "      <td>...</td>\n",
       "      <td>Beau temps_[0,7]</td>\n",
       "      <td>Beau temps_0</td>\n",
       "      <td>Beau temps_1</td>\n",
       "      <td>Beau temps_2011</td>\n",
       "      <td>[0,7]_0</td>\n",
       "      <td>[0,7]_1</td>\n",
       "      <td>[0,7]_2011</td>\n",
       "      <td>0_1</td>\n",
       "      <td>0_2011</td>\n",
       "      <td>1_2011</td>\n",
       "    </tr>\n",
       "    <tr>\n",
       "      <th>2</th>\n",
       "      <td>0</td>\n",
       "      <td>[-74.5,-28]</td>\n",
       "      <td>[0.409,0.432]</td>\n",
       "      <td>[0,67]</td>\n",
       "      <td>[0.76,16.7]</td>\n",
       "      <td>Saturday</td>\n",
       "      <td>1</td>\n",
       "      <td>(77,100]</td>\n",
       "      <td>January</td>\n",
       "      <td>Printemps</td>\n",
       "      <td>...</td>\n",
       "      <td>Beau temps_[0,7]</td>\n",
       "      <td>Beau temps_0</td>\n",
       "      <td>Beau temps_2</td>\n",
       "      <td>Beau temps_2011</td>\n",
       "      <td>[0,7]_0</td>\n",
       "      <td>[0,7]_2</td>\n",
       "      <td>[0,7]_2011</td>\n",
       "      <td>0_2</td>\n",
       "      <td>0_2011</td>\n",
       "      <td>2_2011</td>\n",
       "    </tr>\n",
       "    <tr>\n",
       "      <th>3</th>\n",
       "      <td>0</td>\n",
       "      <td>[-74.5,-28]</td>\n",
       "      <td>[0.409,0.432]</td>\n",
       "      <td>[0,67]</td>\n",
       "      <td>[0.76,16.7]</td>\n",
       "      <td>Saturday</td>\n",
       "      <td>1</td>\n",
       "      <td>(62,77]</td>\n",
       "      <td>January</td>\n",
       "      <td>Printemps</td>\n",
       "      <td>...</td>\n",
       "      <td>Beau temps_[0,7]</td>\n",
       "      <td>Beau temps_0</td>\n",
       "      <td>Beau temps_3</td>\n",
       "      <td>Beau temps_2011</td>\n",
       "      <td>[0,7]_0</td>\n",
       "      <td>[0,7]_3</td>\n",
       "      <td>[0,7]_2011</td>\n",
       "      <td>0_3</td>\n",
       "      <td>0_2011</td>\n",
       "      <td>3_2011</td>\n",
       "    </tr>\n",
       "    <tr>\n",
       "      <th>4</th>\n",
       "      <td>0</td>\n",
       "      <td>[-74.5,-28]</td>\n",
       "      <td>[0.409,0.432]</td>\n",
       "      <td>[0,67]</td>\n",
       "      <td>[0.76,16.7]</td>\n",
       "      <td>Saturday</td>\n",
       "      <td>1</td>\n",
       "      <td>(62,77]</td>\n",
       "      <td>January</td>\n",
       "      <td>Printemps</td>\n",
       "      <td>...</td>\n",
       "      <td>Beau temps_[0,7]</td>\n",
       "      <td>Beau temps_0</td>\n",
       "      <td>Beau temps_4</td>\n",
       "      <td>Beau temps_2011</td>\n",
       "      <td>[0,7]_0</td>\n",
       "      <td>[0,7]_4</td>\n",
       "      <td>[0,7]_2011</td>\n",
       "      <td>0_4</td>\n",
       "      <td>0_2011</td>\n",
       "      <td>4_2011</td>\n",
       "    </tr>\n",
       "  </tbody>\n",
       "</table>\n",
       "<p>5 rows × 136 columns</p>\n",
       "</div>"
      ],
      "text/plain": [
       "  CN_school   CN_soleilQ CN_tendance_1Q CN_tendance_2Q    CO_atempQ    CO_day  \\\n",
       "0         0  [-74.5,-28]  [0.409,0.432]         [0,67]  [0.76,16.7]  Saturday   \n",
       "1         0  [-74.5,-28]  [0.409,0.432]         [0,67]  [0.76,16.7]  Saturday   \n",
       "2         0  [-74.5,-28]  [0.409,0.432]         [0,67]  [0.76,16.7]  Saturday   \n",
       "3         0  [-74.5,-28]  [0.409,0.432]         [0,67]  [0.76,16.7]  Saturday   \n",
       "4         0  [-74.5,-28]  [0.409,0.432]         [0,67]  [0.76,16.7]  Saturday   \n",
       "\n",
       "  CO_holiday CO_humidityQ CO_month  CO_season  ... CO_weather_+_CO_windspeedQ  \\\n",
       "0          1     (77,100]  January  Printemps  ...           Beau temps_[0,7]   \n",
       "1          1     (77,100]  January  Printemps  ...           Beau temps_[0,7]   \n",
       "2          1     (77,100]  January  Printemps  ...           Beau temps_[0,7]   \n",
       "3          1      (62,77]  January  Printemps  ...           Beau temps_[0,7]   \n",
       "4          1      (62,77]  January  Printemps  ...           Beau temps_[0,7]   \n",
       "\n",
       "  CO_weather_+_CO_workingday CO_weather_+_CO_hour CO_weather_+_CO_year  \\\n",
       "0               Beau temps_0         Beau temps_0      Beau temps_2011   \n",
       "1               Beau temps_0         Beau temps_1      Beau temps_2011   \n",
       "2               Beau temps_0         Beau temps_2      Beau temps_2011   \n",
       "3               Beau temps_0         Beau temps_3      Beau temps_2011   \n",
       "4               Beau temps_0         Beau temps_4      Beau temps_2011   \n",
       "\n",
       "  CO_windspeedQ_+_CO_workingday CO_windspeedQ_+_CO_hour  \\\n",
       "0                       [0,7]_0                 [0,7]_0   \n",
       "1                       [0,7]_0                 [0,7]_1   \n",
       "2                       [0,7]_0                 [0,7]_2   \n",
       "3                       [0,7]_0                 [0,7]_3   \n",
       "4                       [0,7]_0                 [0,7]_4   \n",
       "\n",
       "  CO_windspeedQ_+_CO_year CO_workingday_+_CO_hour CO_workingday_+_CO_year  \\\n",
       "0              [0,7]_2011                     0_0                  0_2011   \n",
       "1              [0,7]_2011                     0_1                  0_2011   \n",
       "2              [0,7]_2011                     0_2                  0_2011   \n",
       "3              [0,7]_2011                     0_3                  0_2011   \n",
       "4              [0,7]_2011                     0_4                  0_2011   \n",
       "\n",
       "  CO_hour_+_CO_year  \n",
       "0            0_2011  \n",
       "1            1_2011  \n",
       "2            2_2011  \n",
       "3            3_2011  \n",
       "4            4_2011  \n",
       "\n",
       "[5 rows x 136 columns]"
      ]
     },
     "execution_count": 58,
     "metadata": {},
     "output_type": "execute_result"
    }
   ],
   "source": [
    "df_before_dummies.head()"
   ]
  },
  {
   "cell_type": "code",
   "execution_count": 59,
   "metadata": {},
   "outputs": [],
   "source": [
    "# Transformation de toutes les variables catégorielles:\n",
    "df_all_dummies = pd.get_dummies(df_before_dummies)"
   ]
  },
  {
   "cell_type": "code",
   "execution_count": 60,
   "metadata": {},
   "outputs": [
    {
     "data": {
      "text/plain": [
       "(17379, 6422)"
      ]
     },
     "execution_count": 60,
     "metadata": {},
     "output_type": "execute_result"
    }
   ],
   "source": [
    "df_all_dummies.shape"
   ]
  },
  {
   "cell_type": "code",
   "execution_count": 61,
   "metadata": {},
   "outputs": [],
   "source": [
    "# import random\n",
    "# random.choices(list(df_all_dummies), k=10)"
   ]
  },
  {
   "cell_type": "markdown",
   "metadata": {},
   "source": [
    "Rassemblement de toutes les variables : les numériques et toutes les dummy variables"
   ]
  },
  {
   "cell_type": "code",
   "execution_count": 66,
   "metadata": {},
   "outputs": [],
   "source": [
    "all_df = pd.concat([all_df[['datetime','NO_temp','NO_atemp','NO_humidity','NO_windspeed','NN_soleil','NN_tendance_1','NN_tendance_2']], df_all_dummies], axis = 1)"
   ]
  },
  {
   "cell_type": "code",
   "execution_count": 67,
   "metadata": {},
   "outputs": [
    {
     "data": {
      "text/plain": [
       "(17379, 6430)"
      ]
     },
     "execution_count": 67,
     "metadata": {},
     "output_type": "execute_result"
    }
   ],
   "source": [
    "all_df.shape"
   ]
  },
  {
   "cell_type": "markdown",
   "metadata": {},
   "source": [
    "On distingue les données de \"train\" + \"test\" pour réaliser les modèles<br>\n",
    "versus les données de \"test\" de Kaggle"
   ]
  },
  {
   "cell_type": "code",
   "execution_count": 68,
   "metadata": {},
   "outputs": [],
   "source": [
    "all_df[\"day\"] = pd.to_datetime(all_df[\"datetime\"]).dt.day"
   ]
  },
  {
   "cell_type": "code",
   "execution_count": 69,
   "metadata": {},
   "outputs": [],
   "source": [
    "df_for_models = all_df[all_df[\"day\"] < 20 ]\n",
    "df_test_kaggle_interaction_and_dummies = all_df[all_df[\"day\"] >= 20]"
   ]
  },
  {
   "cell_type": "code",
   "execution_count": 71,
   "metadata": {},
   "outputs": [],
   "source": [
    "# df_for_cv_interaction_and_dummies = df_for_models\n",
    "# del df_for_models\n",
    "\n",
    "# On a besoin de la target pour créer des modèles\n",
    "# df_for_cv_interaction_and_dummies = pd.concat([df_for_cv_interaction_and_dummies, df_train_kaggle_count], axis = 1)\n",
    "\n",
    "# On n'a pas besoins de la colonne \"day\"\n",
    "df_for_models = df_for_models.drop(\"day\", axis = 1)\n",
    "df_test_kaggle_interaction_and_dummies = df_test_kaggle_interaction_and_dummies.drop(\"day\", axis = 1)"
   ]
  },
  {
   "cell_type": "code",
   "execution_count": 72,
   "metadata": {},
   "outputs": [
    {
     "data": {
      "text/plain": [
       "(10886, 6431)"
      ]
     },
     "execution_count": 72,
     "metadata": {},
     "output_type": "execute_result"
    }
   ],
   "source": [
    "df_for_models.shape"
   ]
  },
  {
   "cell_type": "code",
   "execution_count": 73,
   "metadata": {},
   "outputs": [
    {
     "data": {
      "text/plain": [
       "(6493, 6430)"
      ]
     },
     "execution_count": 73,
     "metadata": {},
     "output_type": "execute_result"
    }
   ],
   "source": [
    "df_test_kaggle_interaction_and_dummies.shape"
   ]
  },
  {
   "cell_type": "code",
   "execution_count": 74,
   "metadata": {},
   "outputs": [],
   "source": [
    "# list(df_for_cv_interaction_and_dummies) == list(df_test_kaggle_interaction_and_dummies)"
   ]
  },
  {
   "cell_type": "code",
   "execution_count": 75,
   "metadata": {},
   "outputs": [],
   "source": [
    "# Données en vue de faire créer des modèles\n",
    "df_for_models.to_pickle(\"df_for_cv_interaction_and_dummies.pkl\")\n",
    "# Données de test de Kaggle \n",
    "df_test_kaggle_interaction_and_dummies.to_pickle(\"df_test_kaggle_interaction_and_dummies.pkl\")"
   ]
  },
  {
   "cell_type": "code",
   "execution_count": null,
   "metadata": {},
   "outputs": [],
   "source": []
  },
  {
   "cell_type": "code",
   "execution_count": null,
   "metadata": {},
   "outputs": [],
   "source": [
    "Possibles modèles"
   ]
  },
  {
   "cell_type": "code",
   "execution_count": null,
   "metadata": {},
   "outputs": [],
   "source": [
    "MODELE 1:\n",
    "- Nouvelle variable : on binne la variable \"CO_hour\"\n",
    "- Nouvelle variable : on binne la variable \"CO_month\"\n",
    "- Nouvelles variables : on ajoute les variables ordinales\n",
    "CO_season, CO_day, CO_year\n",
    "- Nouvelle variable: type de jour"
   ]
  },
  {
   "cell_type": "code",
   "execution_count": null,
   "metadata": {},
   "outputs": [],
   "source": [
    "MODELE 2:\n",
    "- CO_weather : ordinale\n",
    "- On binne CO_hour + CO_month\n",
    "- CO_season, CO_day, CO_year: en dummy variables\n",
    "- Nouvelle variable: type de jour"
   ]
  },
  {
   "cell_type": "code",
   "execution_count": null,
   "metadata": {},
   "outputs": [],
   "source": []
  }
 ],
 "metadata": {
  "kernelspec": {
   "display_name": "data bike sharing",
   "language": "python",
   "name": "data"
  },
  "language_info": {
   "codemirror_mode": {
    "name": "ipython",
    "version": 3
   },
   "file_extension": ".py",
   "mimetype": "text/x-python",
   "name": "python",
   "nbconvert_exporter": "python",
   "pygments_lexer": "ipython3",
   "version": "3.6.8"
  }
 },
 "nbformat": 4,
 "nbformat_minor": 4
}
