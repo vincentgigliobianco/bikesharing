{
 "cells": [
  {
   "cell_type": "code",
   "execution_count": null,
   "metadata": {},
   "outputs": [],
   "source": [
    "### L'objet du Notebook est d'utiliser en entrée les données provenant de RStudio\n",
    "\n",
    "En vue de faire de la cross validation et modéliser, création de 3 dataframes\n",
    "    - un contenant les variables \"Origin\" et \"New\" \n",
    "    - un contenant les variables \"Origin\" et \"New\" avec transformation en numérique \n",
    "      des variables catégorielles\n",
    "    - un autre contenant les variables \"Origin\" et \"New\" \n",
    "    + interactions d'ordre 2 pour les variables catégorielles + dummy variables\n",
    "    \n",
    "\n",
    "Les .csv qu'on utilise, ont été créés grâce au programme \"maestro.R\" dans \"/proj/bikesharing/p02_features\""
   ]
  },
  {
   "cell_type": "code",
   "execution_count": 244,
   "metadata": {},
   "outputs": [
    {
     "name": "stderr",
     "output_type": "stream",
     "text": [
      "/home/osboxes/anaconda3/envs/data/lib/python3.6/site-packages/ipykernel_launcher.py:23: FutureWarning: Sorting because non-concatenation axis is not aligned. A future version\n",
      "of pandas will change to not sort by default.\n",
      "\n",
      "To accept the future behavior, pass 'sort=False'.\n",
      "\n",
      "To retain the current behavior and silence the warning, pass 'sort=True'.\n",
      "\n"
     ]
    }
   ],
   "source": [
    "import pandas as pd\n",
    "import numpy as np\n",
    "from itertools import chain\n",
    "\n",
    "from sklearn.model_selection import train_test_split\n",
    "# from sklearn.preprocessing import PolynomialFeatures\n",
    "from itertools import combinations\n",
    "\n",
    "from sklearn.preprocessing import LabelEncoder, OrdinalEncoder\n",
    "\n",
    "# On charge les .csv générés grâce à \"maestro.R\"  dans RStudio \n",
    "df_train_kaggle_read = pd.read_csv(\"../data/train.csv\")\n",
    "\n",
    "# Le dataset \"test\" ne contient pas \"count\"\n",
    "df_test_kaggle = pd.read_csv(\"../data/test.csv\")\n",
    "\n",
    "# Le dataset de \"test\" de Kaggle ne contient pas la variable \"count\"\n",
    "# On supprime donc la colonne \"count\" pour le dataset \"train\"\n",
    "df_train_kaggle = df_train_kaggle_read.drop(\"count\", axis = 1)\n",
    "df_train_kaggle_count = df_train_kaggle_read[[\"count\"]]\n",
    "\n",
    "# Et on concatène les données \n",
    "df = pd.concat([df_train_kaggle,df_test_kaggle])"
   ]
  },
  {
   "cell_type": "code",
   "execution_count": 245,
   "metadata": {},
   "outputs": [
    {
     "data": {
      "text/plain": [
       "(17379, 30)"
      ]
     },
     "execution_count": 245,
     "metadata": {},
     "output_type": "execute_result"
    }
   ],
   "source": [
    "df.shape"
   ]
  },
  {
   "cell_type": "markdown",
   "metadata": {},
   "source": [
    "### On regarde quelles sont les variables catégorielles"
   ]
  },
  {
   "cell_type": "code",
   "execution_count": 246,
   "metadata": {},
   "outputs": [],
   "source": [
    "all_categorical_o = [name_var for name_var in list(df) if name_var[0:2] == 'CO'] \n",
    "# all_numeric_o = [name_var for name_var in list(df) if name_var[0:2] == 'NO'] \n",
    "# all_numeric_n = [name_var for name_var in list(df) if name_var[0:2] == 'NN'] \n",
    "\n",
    "# df[all_categorical_o].dtypes\n",
    "# df_all_categorical_o = df[all_categorical_o].applymap(str)"
   ]
  },
  {
   "cell_type": "markdown",
   "metadata": {},
   "source": [
    "ATTENTION: les variables \"CO_hour\" et \"CO_year\" sont apparemment<br>\n",
    "considérées comme numérique, cf le \".describe()\" ci-dessous<br>\n",
    "On va donc les transformer grâce à str() pour qu'elles soient de type caractères"
   ]
  },
  {
   "cell_type": "code",
   "execution_count": 247,
   "metadata": {},
   "outputs": [
    {
     "data": {
      "text/html": [
       "<div>\n",
       "<style scoped>\n",
       "    .dataframe tbody tr th:only-of-type {\n",
       "        vertical-align: middle;\n",
       "    }\n",
       "\n",
       "    .dataframe tbody tr th {\n",
       "        vertical-align: top;\n",
       "    }\n",
       "\n",
       "    .dataframe thead th {\n",
       "        text-align: right;\n",
       "    }\n",
       "</style>\n",
       "<table border=\"1\" class=\"dataframe\">\n",
       "  <thead>\n",
       "    <tr style=\"text-align: right;\">\n",
       "      <th></th>\n",
       "      <th>CO_holiday</th>\n",
       "      <th>CO_hour</th>\n",
       "      <th>CO_workingday</th>\n",
       "      <th>CO_year</th>\n",
       "    </tr>\n",
       "  </thead>\n",
       "  <tbody>\n",
       "    <tr>\n",
       "      <th>count</th>\n",
       "      <td>17379.000000</td>\n",
       "      <td>17379.000000</td>\n",
       "      <td>17379.000000</td>\n",
       "      <td>17379.000000</td>\n",
       "    </tr>\n",
       "    <tr>\n",
       "      <th>mean</th>\n",
       "      <td>0.031475</td>\n",
       "      <td>11.546752</td>\n",
       "      <td>0.682721</td>\n",
       "      <td>2011.502561</td>\n",
       "    </tr>\n",
       "    <tr>\n",
       "      <th>std</th>\n",
       "      <td>0.174602</td>\n",
       "      <td>6.914405</td>\n",
       "      <td>0.465431</td>\n",
       "      <td>0.500008</td>\n",
       "    </tr>\n",
       "    <tr>\n",
       "      <th>min</th>\n",
       "      <td>0.000000</td>\n",
       "      <td>0.000000</td>\n",
       "      <td>0.000000</td>\n",
       "      <td>2011.000000</td>\n",
       "    </tr>\n",
       "    <tr>\n",
       "      <th>25%</th>\n",
       "      <td>0.000000</td>\n",
       "      <td>6.000000</td>\n",
       "      <td>0.000000</td>\n",
       "      <td>2011.000000</td>\n",
       "    </tr>\n",
       "    <tr>\n",
       "      <th>50%</th>\n",
       "      <td>0.000000</td>\n",
       "      <td>12.000000</td>\n",
       "      <td>1.000000</td>\n",
       "      <td>2012.000000</td>\n",
       "    </tr>\n",
       "    <tr>\n",
       "      <th>75%</th>\n",
       "      <td>0.000000</td>\n",
       "      <td>18.000000</td>\n",
       "      <td>1.000000</td>\n",
       "      <td>2012.000000</td>\n",
       "    </tr>\n",
       "    <tr>\n",
       "      <th>max</th>\n",
       "      <td>1.000000</td>\n",
       "      <td>23.000000</td>\n",
       "      <td>1.000000</td>\n",
       "      <td>2012.000000</td>\n",
       "    </tr>\n",
       "  </tbody>\n",
       "</table>\n",
       "</div>"
      ],
      "text/plain": [
       "         CO_holiday       CO_hour  CO_workingday       CO_year\n",
       "count  17379.000000  17379.000000   17379.000000  17379.000000\n",
       "mean       0.031475     11.546752       0.682721   2011.502561\n",
       "std        0.174602      6.914405       0.465431      0.500008\n",
       "min        0.000000      0.000000       0.000000   2011.000000\n",
       "25%        0.000000      6.000000       0.000000   2011.000000\n",
       "50%        0.000000     12.000000       1.000000   2012.000000\n",
       "75%        0.000000     18.000000       1.000000   2012.000000\n",
       "max        1.000000     23.000000       1.000000   2012.000000"
      ]
     },
     "execution_count": 247,
     "metadata": {},
     "output_type": "execute_result"
    }
   ],
   "source": [
    "df[all_categorical_o].describe()"
   ]
  },
  {
   "cell_type": "code",
   "execution_count": 248,
   "metadata": {},
   "outputs": [],
   "source": [
    "df['CO_hour_new'] = df['CO_hour'].map(lambda x: str(x))\n",
    "df = df.drop('CO_hour', axis=1)\n",
    "df = df.rename(columns={'CO_hour_new': 'CO_hour'})\n",
    "\n",
    "df['CO_year_new'] = df['CO_year'].map(lambda x: str(x))\n",
    "df = df.drop('CO_year', axis=1)\n",
    "df = df.rename(columns={'CO_year_new': 'CO_year'})"
   ]
  },
  {
   "cell_type": "code",
   "execution_count": 249,
   "metadata": {},
   "outputs": [
    {
     "data": {
      "text/html": [
       "<div>\n",
       "<style scoped>\n",
       "    .dataframe tbody tr th:only-of-type {\n",
       "        vertical-align: middle;\n",
       "    }\n",
       "\n",
       "    .dataframe tbody tr th {\n",
       "        vertical-align: top;\n",
       "    }\n",
       "\n",
       "    .dataframe thead th {\n",
       "        text-align: right;\n",
       "    }\n",
       "</style>\n",
       "<table border=\"1\" class=\"dataframe\">\n",
       "  <thead>\n",
       "    <tr style=\"text-align: right;\">\n",
       "      <th></th>\n",
       "      <th>CO_holiday</th>\n",
       "      <th>CO_workingday</th>\n",
       "    </tr>\n",
       "  </thead>\n",
       "  <tbody>\n",
       "    <tr>\n",
       "      <th>count</th>\n",
       "      <td>17379.000000</td>\n",
       "      <td>17379.000000</td>\n",
       "    </tr>\n",
       "    <tr>\n",
       "      <th>mean</th>\n",
       "      <td>0.031475</td>\n",
       "      <td>0.682721</td>\n",
       "    </tr>\n",
       "    <tr>\n",
       "      <th>std</th>\n",
       "      <td>0.174602</td>\n",
       "      <td>0.465431</td>\n",
       "    </tr>\n",
       "    <tr>\n",
       "      <th>min</th>\n",
       "      <td>0.000000</td>\n",
       "      <td>0.000000</td>\n",
       "    </tr>\n",
       "    <tr>\n",
       "      <th>25%</th>\n",
       "      <td>0.000000</td>\n",
       "      <td>0.000000</td>\n",
       "    </tr>\n",
       "    <tr>\n",
       "      <th>50%</th>\n",
       "      <td>0.000000</td>\n",
       "      <td>1.000000</td>\n",
       "    </tr>\n",
       "    <tr>\n",
       "      <th>75%</th>\n",
       "      <td>0.000000</td>\n",
       "      <td>1.000000</td>\n",
       "    </tr>\n",
       "    <tr>\n",
       "      <th>max</th>\n",
       "      <td>1.000000</td>\n",
       "      <td>1.000000</td>\n",
       "    </tr>\n",
       "  </tbody>\n",
       "</table>\n",
       "</div>"
      ],
      "text/plain": [
       "         CO_holiday  CO_workingday\n",
       "count  17379.000000   17379.000000\n",
       "mean       0.031475       0.682721\n",
       "std        0.174602       0.465431\n",
       "min        0.000000       0.000000\n",
       "25%        0.000000       0.000000\n",
       "50%        0.000000       1.000000\n",
       "75%        0.000000       1.000000\n",
       "max        1.000000       1.000000"
      ]
     },
     "execution_count": 249,
     "metadata": {},
     "output_type": "execute_result"
    }
   ],
   "source": [
    "df[all_categorical_o].describe()"
   ]
  },
  {
   "cell_type": "code",
   "execution_count": 250,
   "metadata": {},
   "outputs": [],
   "source": [
    "# Transformation de toutes les variables catégorielles:\n",
    "# df_all_dummies_o = pd.get_dummies(df[all_categorical_o])eg_lambda=1\n",
    "# df_all_dummies_o.shape\n",
    "# list(df_all_dummies_o)"
   ]
  },
  {
   "cell_type": "code",
   "execution_count": 251,
   "metadata": {},
   "outputs": [
    {
     "data": {
      "text/plain": [
       "(17379, 30)"
      ]
     },
     "execution_count": 251,
     "metadata": {},
     "output_type": "execute_result"
    }
   ],
   "source": [
    "df.shape"
   ]
  },
  {
   "cell_type": "code",
   "execution_count": 252,
   "metadata": {},
   "outputs": [],
   "source": [
    "df[\"day\"] = pd.to_datetime(df[\"datetime\"]).dt.day\n",
    "\n",
    "df_train_for_models = df[df[\"day\"] < 20 ]\n",
    "df_test_kaggle_cv_o_n = df[df[\"day\"] >= 20]"
   ]
  },
  {
   "cell_type": "code",
   "execution_count": 253,
   "metadata": {},
   "outputs": [],
   "source": [
    "# df_numeric_and_categorical_o = pd.concat([df[[\"datetime\"]], df[all_numeric_o], df_all_dummies_o], axis = 1)\n",
    "# df_for_models = pd.concat([df_for_models[[\"datetime\"]], df_for_models[all_numeric_o],df_for_models[all_categorical_o]], axis = 1)"
   ]
  },
  {
   "cell_type": "code",
   "execution_count": 254,
   "metadata": {},
   "outputs": [
    {
     "data": {
      "text/plain": [
       "(10886, 31)"
      ]
     },
     "execution_count": 254,
     "metadata": {},
     "output_type": "execute_result"
    }
   ],
   "source": [
    "df_train_for_models.shape"
   ]
  },
  {
   "cell_type": "code",
   "execution_count": 255,
   "metadata": {},
   "outputs": [],
   "source": [
    "# list_var_clean_X = [var for var in list(df_for_models) if var != \"count\" and var != \"datetime\"]\n",
    "# clean_X = df_for_models[list_var_clean_X]\n",
    "# clean_Y = df_for_models[[\"count\"]]\n",
    "\n",
    "# Soit on fait de la cross validation et utilise tout \"df_for_models\"\n",
    "df_train_for_cv_o_n = df_train_for_models\n",
    "\n",
    "del df_train_for_models\n",
    "\n",
    "# Soit on splitte \"df_for_models\" en train + validation\n",
    "# X_train, X_valid, Y_train, Y_valid = train_test_split(clean_X,\n",
    "                                                      # clean_Y,\n",
    "                                                      # test_size = 0.3,\n",
    "                                                      # random_state = 0)"
   ]
  },
  {
   "cell_type": "code",
   "execution_count": 256,
   "metadata": {},
   "outputs": [
    {
     "data": {
      "text/plain": [
       "['CN_school',\n",
       " 'CN_soleilQ',\n",
       " 'CN_tendance_1Q',\n",
       " 'CN_tendance_2Q',\n",
       " 'CO_atempQ',\n",
       " 'CO_day',\n",
       " 'CO_holiday',\n",
       " 'CO_humidityQ',\n",
       " 'CO_month',\n",
       " 'CO_season',\n",
       " 'CO_tempQ',\n",
       " 'CO_weather',\n",
       " 'CO_windspeedQ',\n",
       " 'CO_workingday',\n",
       " 'NN_soleil',\n",
       " 'NN_tendance_1',\n",
       " 'NN_tendance_2',\n",
       " 'NO_atemp',\n",
       " 'NO_humidity',\n",
       " 'NO_temp',\n",
       " 'NO_windspeed',\n",
       " 'S_casual',\n",
       " 'S_casualQ',\n",
       " 'S_rateregis',\n",
       " 'S_rateregisQ',\n",
       " 'S_registered',\n",
       " 'S_registeredQ',\n",
       " 'datetime',\n",
       " 'CO_hour',\n",
       " 'CO_year',\n",
       " 'day']"
      ]
     },
     "execution_count": 256,
     "metadata": {},
     "output_type": "execute_result"
    }
   ],
   "source": [
    "list(df_train_for_cv_o_n)"
   ]
  },
  {
   "cell_type": "code",
   "execution_count": 257,
   "metadata": {},
   "outputs": [
    {
     "data": {
      "text/plain": [
       "(6493, 31)"
      ]
     },
     "execution_count": 257,
     "metadata": {},
     "output_type": "execute_result"
    }
   ],
   "source": [
    "df_test_kaggle_cv_o_n.shape"
   ]
  },
  {
   "cell_type": "code",
   "execution_count": 258,
   "metadata": {},
   "outputs": [],
   "source": [
    "# On n'a pas besoin de la variable \"day\"\n",
    "df_train_for_cv_o_n = df_train_for_cv_o_n.drop(\"day\", axis = 1)\n",
    "# On a besoin de la target pour faire la cross validation !\n",
    "df_train_for_cv_o_n = pd.concat([df_train_for_cv_o_n, df_train_kaggle_count], axis = 1)\n",
    "df_test_kaggle_cv_o_n = df_test_kaggle_cv_o_n.drop(\"day\", axis = 1)"
   ]
  },
  {
   "cell_type": "code",
   "execution_count": 259,
   "metadata": {},
   "outputs": [
    {
     "data": {
      "text/plain": [
       "(10886, 31)"
      ]
     },
     "execution_count": 259,
     "metadata": {},
     "output_type": "execute_result"
    }
   ],
   "source": [
    "df_train_for_cv_o_n.shape"
   ]
  },
  {
   "cell_type": "code",
   "execution_count": 260,
   "metadata": {},
   "outputs": [
    {
     "data": {
      "text/plain": [
       "(6493, 30)"
      ]
     },
     "execution_count": 260,
     "metadata": {},
     "output_type": "execute_result"
    }
   ],
   "source": [
    "df_test_kaggle_cv_o_n.shape"
   ]
  },
  {
   "cell_type": "code",
   "execution_count": 261,
   "metadata": {},
   "outputs": [
    {
     "data": {
      "text/html": [
       "<div>\n",
       "<style scoped>\n",
       "    .dataframe tbody tr th:only-of-type {\n",
       "        vertical-align: middle;\n",
       "    }\n",
       "\n",
       "    .dataframe tbody tr th {\n",
       "        vertical-align: top;\n",
       "    }\n",
       "\n",
       "    .dataframe thead th {\n",
       "        text-align: right;\n",
       "    }\n",
       "</style>\n",
       "<table border=\"1\" class=\"dataframe\">\n",
       "  <thead>\n",
       "    <tr style=\"text-align: right;\">\n",
       "      <th></th>\n",
       "      <th>CN_school</th>\n",
       "      <th>CN_soleilQ</th>\n",
       "      <th>CN_tendance_1Q</th>\n",
       "      <th>CN_tendance_2Q</th>\n",
       "      <th>CO_atempQ</th>\n",
       "      <th>CO_day</th>\n",
       "      <th>CO_holiday</th>\n",
       "      <th>CO_humidityQ</th>\n",
       "      <th>CO_month</th>\n",
       "      <th>CO_season</th>\n",
       "      <th>...</th>\n",
       "      <th>NO_windspeed</th>\n",
       "      <th>S_casual</th>\n",
       "      <th>S_casualQ</th>\n",
       "      <th>S_rateregis</th>\n",
       "      <th>S_rateregisQ</th>\n",
       "      <th>S_registered</th>\n",
       "      <th>S_registeredQ</th>\n",
       "      <th>datetime</th>\n",
       "      <th>CO_hour</th>\n",
       "      <th>CO_year</th>\n",
       "    </tr>\n",
       "  </thead>\n",
       "  <tbody>\n",
       "    <tr>\n",
       "      <th>0</th>\n",
       "      <td>0</td>\n",
       "      <td>[-74.5,-27.9]</td>\n",
       "      <td>[0.828,0.92]</td>\n",
       "      <td>[19,86]</td>\n",
       "      <td>[0,16.7]</td>\n",
       "      <td>Thursday</td>\n",
       "      <td>0</td>\n",
       "      <td>(49,65]</td>\n",
       "      <td>January</td>\n",
       "      <td>Printemps</td>\n",
       "      <td>...</td>\n",
       "      <td>26.0027</td>\n",
       "      <td>0.328669</td>\n",
       "      <td>(0.249,0.501]</td>\n",
       "      <td>0.805835</td>\n",
       "      <td>(0.802,1]</td>\n",
       "      <td>0.788077</td>\n",
       "      <td>(0.753,1]</td>\n",
       "      <td>2011-01-20 00:00:00</td>\n",
       "      <td>0</td>\n",
       "      <td>2011</td>\n",
       "    </tr>\n",
       "    <tr>\n",
       "      <th>1</th>\n",
       "      <td>0</td>\n",
       "      <td>[-74.5,-27.9]</td>\n",
       "      <td>[0.828,0.92]</td>\n",
       "      <td>[19,86]</td>\n",
       "      <td>[0,16.7]</td>\n",
       "      <td>Thursday</td>\n",
       "      <td>0</td>\n",
       "      <td>(49,65]</td>\n",
       "      <td>January</td>\n",
       "      <td>Printemps</td>\n",
       "      <td>...</td>\n",
       "      <td>0.0000</td>\n",
       "      <td>0.277432</td>\n",
       "      <td>(0.249,0.501]</td>\n",
       "      <td>0.698099</td>\n",
       "      <td>(0.597,0.802]</td>\n",
       "      <td>0.541911</td>\n",
       "      <td>(0.498,0.753]</td>\n",
       "      <td>2011-01-20 01:00:00</td>\n",
       "      <td>1</td>\n",
       "      <td>2011</td>\n",
       "    </tr>\n",
       "    <tr>\n",
       "      <th>2</th>\n",
       "      <td>0</td>\n",
       "      <td>[-74.5,-27.9]</td>\n",
       "      <td>[0.828,0.92]</td>\n",
       "      <td>[19,86]</td>\n",
       "      <td>[0,16.7]</td>\n",
       "      <td>Thursday</td>\n",
       "      <td>0</td>\n",
       "      <td>(49,65]</td>\n",
       "      <td>January</td>\n",
       "      <td>Printemps</td>\n",
       "      <td>...</td>\n",
       "      <td>0.0000</td>\n",
       "      <td>0.120899</td>\n",
       "      <td>[5.86e-05,0.249]</td>\n",
       "      <td>0.338947</td>\n",
       "      <td>(0.194,0.4]</td>\n",
       "      <td>0.216304</td>\n",
       "      <td>[0.000152,0.248]</td>\n",
       "      <td>2011-01-20 02:00:00</td>\n",
       "      <td>2</td>\n",
       "      <td>2011</td>\n",
       "    </tr>\n",
       "    <tr>\n",
       "      <th>3</th>\n",
       "      <td>0</td>\n",
       "      <td>[-74.5,-27.9]</td>\n",
       "      <td>[0.828,0.92]</td>\n",
       "      <td>[19,86]</td>\n",
       "      <td>[0,16.7]</td>\n",
       "      <td>Thursday</td>\n",
       "      <td>0</td>\n",
       "      <td>(49,65]</td>\n",
       "      <td>January</td>\n",
       "      <td>Printemps</td>\n",
       "      <td>...</td>\n",
       "      <td>11.0014</td>\n",
       "      <td>0.158266</td>\n",
       "      <td>[5.86e-05,0.249]</td>\n",
       "      <td>1.551012</td>\n",
       "      <td>(1.25,1.69]</td>\n",
       "      <td>0.948388</td>\n",
       "      <td>(0.753,1]</td>\n",
       "      <td>2011-01-20 03:00:00</td>\n",
       "      <td>3</td>\n",
       "      <td>2011</td>\n",
       "    </tr>\n",
       "    <tr>\n",
       "      <th>4</th>\n",
       "      <td>0</td>\n",
       "      <td>[-74.5,-27.9]</td>\n",
       "      <td>[0.828,0.92]</td>\n",
       "      <td>[19,86]</td>\n",
       "      <td>[0,16.7]</td>\n",
       "      <td>Thursday</td>\n",
       "      <td>0</td>\n",
       "      <td>(49,65]</td>\n",
       "      <td>January</td>\n",
       "      <td>Printemps</td>\n",
       "      <td>...</td>\n",
       "      <td>11.0014</td>\n",
       "      <td>0.390428</td>\n",
       "      <td>(0.249,0.501]</td>\n",
       "      <td>1.040613</td>\n",
       "      <td>(1,1.25]</td>\n",
       "      <td>0.869250</td>\n",
       "      <td>(0.753,1]</td>\n",
       "      <td>2011-01-20 04:00:00</td>\n",
       "      <td>4</td>\n",
       "      <td>2011</td>\n",
       "    </tr>\n",
       "  </tbody>\n",
       "</table>\n",
       "<p>5 rows × 30 columns</p>\n",
       "</div>"
      ],
      "text/plain": [
       "   CN_school     CN_soleilQ CN_tendance_1Q CN_tendance_2Q CO_atempQ    CO_day  \\\n",
       "0          0  [-74.5,-27.9]   [0.828,0.92]        [19,86]  [0,16.7]  Thursday   \n",
       "1          0  [-74.5,-27.9]   [0.828,0.92]        [19,86]  [0,16.7]  Thursday   \n",
       "2          0  [-74.5,-27.9]   [0.828,0.92]        [19,86]  [0,16.7]  Thursday   \n",
       "3          0  [-74.5,-27.9]   [0.828,0.92]        [19,86]  [0,16.7]  Thursday   \n",
       "4          0  [-74.5,-27.9]   [0.828,0.92]        [19,86]  [0,16.7]  Thursday   \n",
       "\n",
       "   CO_holiday CO_humidityQ CO_month  CO_season  ... NO_windspeed  S_casual  \\\n",
       "0           0      (49,65]  January  Printemps  ...      26.0027  0.328669   \n",
       "1           0      (49,65]  January  Printemps  ...       0.0000  0.277432   \n",
       "2           0      (49,65]  January  Printemps  ...       0.0000  0.120899   \n",
       "3           0      (49,65]  January  Printemps  ...      11.0014  0.158266   \n",
       "4           0      (49,65]  January  Printemps  ...      11.0014  0.390428   \n",
       "\n",
       "          S_casualQ  S_rateregis   S_rateregisQ  S_registered  \\\n",
       "0     (0.249,0.501]     0.805835      (0.802,1]      0.788077   \n",
       "1     (0.249,0.501]     0.698099  (0.597,0.802]      0.541911   \n",
       "2  [5.86e-05,0.249]     0.338947    (0.194,0.4]      0.216304   \n",
       "3  [5.86e-05,0.249]     1.551012    (1.25,1.69]      0.948388   \n",
       "4     (0.249,0.501]     1.040613       (1,1.25]      0.869250   \n",
       "\n",
       "      S_registeredQ             datetime  CO_hour  CO_year  \n",
       "0         (0.753,1]  2011-01-20 00:00:00        0     2011  \n",
       "1     (0.498,0.753]  2011-01-20 01:00:00        1     2011  \n",
       "2  [0.000152,0.248]  2011-01-20 02:00:00        2     2011  \n",
       "3         (0.753,1]  2011-01-20 03:00:00        3     2011  \n",
       "4         (0.753,1]  2011-01-20 04:00:00        4     2011  \n",
       "\n",
       "[5 rows x 30 columns]"
      ]
     },
     "execution_count": 261,
     "metadata": {},
     "output_type": "execute_result"
    }
   ],
   "source": [
    "df_test_kaggle_cv_o_n.head()"
   ]
  },
  {
   "cell_type": "code",
   "execution_count": 262,
   "metadata": {},
   "outputs": [
    {
     "data": {
      "text/plain": [
       "['CN_school',\n",
       " 'CN_soleilQ',\n",
       " 'CN_tendance_1Q',\n",
       " 'CN_tendance_2Q',\n",
       " 'CO_atempQ',\n",
       " 'CO_day',\n",
       " 'CO_holiday',\n",
       " 'CO_humidityQ',\n",
       " 'CO_month',\n",
       " 'CO_season',\n",
       " 'CO_tempQ',\n",
       " 'CO_weather',\n",
       " 'CO_windspeedQ',\n",
       " 'CO_workingday',\n",
       " 'NN_soleil',\n",
       " 'NN_tendance_1',\n",
       " 'NN_tendance_2',\n",
       " 'NO_atemp',\n",
       " 'NO_humidity',\n",
       " 'NO_temp',\n",
       " 'NO_windspeed',\n",
       " 'S_casual',\n",
       " 'S_casualQ',\n",
       " 'S_rateregis',\n",
       " 'S_rateregisQ',\n",
       " 'S_registered',\n",
       " 'S_registeredQ',\n",
       " 'datetime',\n",
       " 'CO_hour',\n",
       " 'CO_year']"
      ]
     },
     "execution_count": 262,
     "metadata": {},
     "output_type": "execute_result"
    }
   ],
   "source": [
    "list(df_test_kaggle_cv_o_n)"
   ]
  },
  {
   "cell_type": "code",
   "execution_count": 263,
   "metadata": {},
   "outputs": [],
   "source": [
    "# Données en vue de faire de la cross validation\n",
    "# df_train_for_cv_o_n.to_pickle(\"df_train_for_cv_o_n.pkl\")\n",
    "# Données de test de Kaggle \n",
    "# df_test_kaggle_cv_o_n.to_pickle(\"df_test_kaggle_o_n.pkl\")"
   ]
  },
  {
   "cell_type": "markdown",
   "metadata": {},
   "source": [
    "### II On crée un autre dataset à partir du dataframe \"df_train_for_cv_o_n\" "
   ]
  },
  {
   "cell_type": "markdown",
   "metadata": {},
   "source": [
    "#### Les variables à transformer sont celles en type \"object\" ie les variables catégorielles"
   ]
  },
  {
   "cell_type": "code",
   "execution_count": 264,
   "metadata": {},
   "outputs": [
    {
     "data": {
      "text/plain": [
       "(6493, 30)"
      ]
     },
     "execution_count": 264,
     "metadata": {},
     "output_type": "execute_result"
    }
   ],
   "source": [
    "df_test_kaggle_cv_o_n.shape"
   ]
  },
  {
   "cell_type": "code",
   "execution_count": 265,
   "metadata": {},
   "outputs": [],
   "source": [
    "# df_train_for_cv_o_n['CO_day'].unique()\n",
    "# df_train_for_cv_o_n['CO_month'].unique()"
   ]
  },
  {
   "cell_type": "markdown",
   "metadata": {},
   "source": [
    "Rappels des variables présentes:\n",
    "- 'CN_soleilQ'\n",
    "- 'CN_tendance_1Q'\n",
    "- 'CN_tendance_2Q'\n",
    "- 'CO_atempQ'\n",
    "- 'CO_day'\n",
    "- 'CO_humidityQ'\n",
    "- 'CO_month'\n",
    "- 'CO_season'\n",
    "- 'CO_tempQ'\n",
    "- 'CO_weather'\n",
    "- 'CO_windspeedQ'\n",
    "- 'S_casualQ'\n",
    "- 'S_rateregisQ'\n",
    "- 'CO_hour'\n",
    "- 'CO_year'"
   ]
  },
  {
   "cell_type": "markdown",
   "metadata": {},
   "source": [
    "##### Nouvelles variables avec suffixes:\n",
    "\"_labels_encoded\" pour : CO_day, CO_month, CO_season, CO_weather, CO_hour et CO_year"
   ]
  },
  {
   "cell_type": "code",
   "execution_count": 266,
   "metadata": {},
   "outputs": [],
   "source": [
    "le_CO_day = LabelEncoder()\n",
    "le_CO_month = LabelEncoder()\n",
    "le_CO_season = LabelEncoder()\n",
    "le_CO_weather = LabelEncoder()\n",
    "le_CO_hour = LabelEncoder()\n",
    "le_CO_year = LabelEncoder()"
   ]
  },
  {
   "cell_type": "code",
   "execution_count": 267,
   "metadata": {},
   "outputs": [],
   "source": [
    "def labels_encoding(df):\n",
    "\n",
    "    le_CO_day.fit(list(df.CO_day))\n",
    "    le_CO_month.fit(list(df.CO_month))\n",
    "    le_CO_season.fit(list(df.CO_season))\n",
    "    le_CO_weather.fit(list(df.CO_weather))\n",
    "    le_CO_hour.fit(list(df.CO_hour))\n",
    "    le_CO_year.fit(list(df.CO_year))\n",
    "\n",
    "    # le_CO_month.classes_\n",
    "    df[\"CO_day_labels_encoding\"] = list(le_CO_day.transform(list(df.CO_day)))\n",
    "    df[\"CO_month_labels_encoding\"] = list(le_CO_month.transform(list(df.CO_month)))\n",
    "    df[\"CO_season_labels_encoding\"] = list(le_CO_season.transform(list(df.CO_season)))\n",
    "    df[\"CO_weather_labels_encoding\"] = list(le_CO_weather.transform(list(df.CO_weather)))\n",
    "    df[\"CO_hour_labels_encoding\"] = list(le_CO_hour.transform(list(df.CO_hour)))\n",
    "    df[\"CO_year_labels_encoding\"] = list(le_CO_year.transform(list(df.CO_year)))\n",
    "    \n",
    "    resultat = df\n",
    "    return resultat"
   ]
  },
  {
   "cell_type": "code",
   "execution_count": 268,
   "metadata": {},
   "outputs": [],
   "source": [
    "df_train_for_cv_o_n = labels_encoding(df_train_for_cv_o_n)\n",
    "df_test_kaggle_cv_o_n = labels_encoding(df_test_kaggle_cv_o_n)"
   ]
  },
  {
   "cell_type": "code",
   "execution_count": 269,
   "metadata": {},
   "outputs": [
    {
     "data": {
      "text/plain": [
       "['CO_day',\n",
       " 'CO_hour',\n",
       " 'CO_month',\n",
       " 'CO_season',\n",
       " 'CO_weather',\n",
       " 'CO_year',\n",
       " 'CO_day_labels_encoding',\n",
       " 'CO_month_labels_encoding',\n",
       " 'CO_season_labels_encoding',\n",
       " 'CO_weather_labels_encoding',\n",
       " 'CO_hour_labels_encoding',\n",
       " 'CO_year_labels_encoding']"
      ]
     },
     "execution_count": 269,
     "metadata": {},
     "output_type": "execute_result"
    }
   ],
   "source": [
    "init = []\n",
    "init.append(['CO_day', 'CO_hour', 'CO_month', 'CO_season', 'CO_weather', 'CO_year'])\n",
    "new_var_labels_encoding = [each_name for each_name in list(df_train_for_cv_o_n) if 'labels_encoding' in each_name]\n",
    "init.append(new_var_labels_encoding)\n",
    "\n",
    "liste_of_new_var = list(chain(*init))\n",
    "liste_of_new_var"
   ]
  },
  {
   "cell_type": "code",
   "execution_count": 270,
   "metadata": {},
   "outputs": [
    {
     "data": {
      "text/html": [
       "<div>\n",
       "<style scoped>\n",
       "    .dataframe tbody tr th:only-of-type {\n",
       "        vertical-align: middle;\n",
       "    }\n",
       "\n",
       "    .dataframe tbody tr th {\n",
       "        vertical-align: top;\n",
       "    }\n",
       "\n",
       "    .dataframe thead th {\n",
       "        text-align: right;\n",
       "    }\n",
       "</style>\n",
       "<table border=\"1\" class=\"dataframe\">\n",
       "  <thead>\n",
       "    <tr style=\"text-align: right;\">\n",
       "      <th></th>\n",
       "      <th>CO_day</th>\n",
       "      <th>CO_hour</th>\n",
       "      <th>CO_month</th>\n",
       "      <th>CO_season</th>\n",
       "      <th>CO_weather</th>\n",
       "      <th>CO_year</th>\n",
       "      <th>CO_day_labels_encoding</th>\n",
       "      <th>CO_month_labels_encoding</th>\n",
       "      <th>CO_season_labels_encoding</th>\n",
       "      <th>CO_weather_labels_encoding</th>\n",
       "      <th>CO_hour_labels_encoding</th>\n",
       "      <th>CO_year_labels_encoding</th>\n",
       "    </tr>\n",
       "  </thead>\n",
       "  <tbody>\n",
       "    <tr>\n",
       "      <th>3625</th>\n",
       "      <td>Thursday</td>\n",
       "      <td>23</td>\n",
       "      <td>September</td>\n",
       "      <td>Automne</td>\n",
       "      <td>Beau temps</td>\n",
       "      <td>2011</td>\n",
       "      <td>4</td>\n",
       "      <td>11</td>\n",
       "      <td>0</td>\n",
       "      <td>0</td>\n",
       "      <td>16</td>\n",
       "      <td>0</td>\n",
       "    </tr>\n",
       "    <tr>\n",
       "      <th>5819</th>\n",
       "      <td>Tuesday</td>\n",
       "      <td>16</td>\n",
       "      <td>January</td>\n",
       "      <td>Printemps</td>\n",
       "      <td>Beau temps</td>\n",
       "      <td>2012</td>\n",
       "      <td>5</td>\n",
       "      <td>4</td>\n",
       "      <td>2</td>\n",
       "      <td>0</td>\n",
       "      <td>8</td>\n",
       "      <td>1</td>\n",
       "    </tr>\n",
       "    <tr>\n",
       "      <th>9486</th>\n",
       "      <td>Tuesday</td>\n",
       "      <td>15</td>\n",
       "      <td>September</td>\n",
       "      <td>Automne</td>\n",
       "      <td>Pluvieux (-)</td>\n",
       "      <td>2012</td>\n",
       "      <td>5</td>\n",
       "      <td>11</td>\n",
       "      <td>0</td>\n",
       "      <td>3</td>\n",
       "      <td>7</td>\n",
       "      <td>1</td>\n",
       "    </tr>\n",
       "    <tr>\n",
       "      <th>8021</th>\n",
       "      <td>Thursday</td>\n",
       "      <td>14</td>\n",
       "      <td>June</td>\n",
       "      <td>Été</td>\n",
       "      <td>Beau temps</td>\n",
       "      <td>2012</td>\n",
       "      <td>4</td>\n",
       "      <td>6</td>\n",
       "      <td>3</td>\n",
       "      <td>0</td>\n",
       "      <td>6</td>\n",
       "      <td>1</td>\n",
       "    </tr>\n",
       "    <tr>\n",
       "      <th>7959</th>\n",
       "      <td>Tuesday</td>\n",
       "      <td>0</td>\n",
       "      <td>June</td>\n",
       "      <td>Été</td>\n",
       "      <td>Nuageux</td>\n",
       "      <td>2012</td>\n",
       "      <td>5</td>\n",
       "      <td>6</td>\n",
       "      <td>3</td>\n",
       "      <td>1</td>\n",
       "      <td>0</td>\n",
       "      <td>1</td>\n",
       "    </tr>\n",
       "  </tbody>\n",
       "</table>\n",
       "</div>"
      ],
      "text/plain": [
       "        CO_day CO_hour   CO_month  CO_season    CO_weather CO_year  \\\n",
       "3625  Thursday      23  September    Automne    Beau temps    2011   \n",
       "5819   Tuesday      16    January  Printemps    Beau temps    2012   \n",
       "9486   Tuesday      15  September    Automne  Pluvieux (-)    2012   \n",
       "8021  Thursday      14       June        Été    Beau temps    2012   \n",
       "7959   Tuesday       0       June        Été       Nuageux    2012   \n",
       "\n",
       "      CO_day_labels_encoding  CO_month_labels_encoding  \\\n",
       "3625                       4                        11   \n",
       "5819                       5                         4   \n",
       "9486                       5                        11   \n",
       "8021                       4                         6   \n",
       "7959                       5                         6   \n",
       "\n",
       "      CO_season_labels_encoding  CO_weather_labels_encoding  \\\n",
       "3625                          0                           0   \n",
       "5819                          2                           0   \n",
       "9486                          0                           3   \n",
       "8021                          3                           0   \n",
       "7959                          3                           1   \n",
       "\n",
       "      CO_hour_labels_encoding  CO_year_labels_encoding  \n",
       "3625                       16                        0  \n",
       "5819                        8                        1  \n",
       "9486                        7                        1  \n",
       "8021                        6                        1  \n",
       "7959                        0                        1  "
      ]
     },
     "execution_count": 270,
     "metadata": {},
     "output_type": "execute_result"
    }
   ],
   "source": [
    "df_train_for_cv_o_n[liste_of_new_var].sample(n=5)\n",
    "# [\"CO_day\", \"CO_month\", \"CO_season\", \"CO_weather\", \"CO_hour\" , \"CO_year\"]\n"
   ]
  },
  {
   "cell_type": "markdown",
   "metadata": {},
   "source": [
    "Idée: transformer CO_hour en ordinale + mesurer la corrélation<br> \n",
    "entre la variable ordinale obtenue et \"count\"<br>\n",
    "Faire de meme avec : la variable moyenne de \"count\" par modalité de CO_hour<br>\n",
    "avec \"count\"<br>\n",
    "On met alors en évidence que la nouvelle variable est plus corrélée à \"count\""
   ]
  },
  {
   "cell_type": "code",
   "execution_count": 271,
   "metadata": {},
   "outputs": [],
   "source": [
    "### group by suivant CO_hour + mean(['count'])\n",
    "# df_train_for_cv_o_n[['CO_hour','count']]\n",
    "# df_train_for_cv_o_n[['CO_hour','count']].groupby(['CO_hour']).mean()"
   ]
  },
  {
   "cell_type": "markdown",
   "metadata": {},
   "source": [
    "MODELE 1:\n",
    "- Nouvelle variable : on binne la variable \"CO_hour\"\n",
    "- Nouvelle variable : on binne la variable \"CO_month\"\n",
    "- Nouvelles variables : on ajoute les variables ordinales\n",
    "CO_season, CO_day, CO_year\n",
    "- Nouvelle variable: type de jour"
   ]
  },
  {
   "cell_type": "code",
   "execution_count": 272,
   "metadata": {},
   "outputs": [],
   "source": [
    "# Quelle est la moyenne de \"count\" pour chacun\n",
    "# de ces bins de \"hour\" ?"
   ]
  },
  {
   "cell_type": "code",
   "execution_count": 273,
   "metadata": {},
   "outputs": [
    {
     "ename": "SyntaxError",
     "evalue": "invalid syntax (<ipython-input-273-dc23fd745df4>, line 1)",
     "output_type": "error",
     "traceback": [
      "\u001b[0;36m  File \u001b[0;32m\"<ipython-input-273-dc23fd745df4>\"\u001b[0;36m, line \u001b[0;32m1\u001b[0m\n\u001b[0;31m    Transformation en int de CO_hour\u001b[0m\n\u001b[0m                    ^\u001b[0m\n\u001b[0;31mSyntaxError\u001b[0m\u001b[0;31m:\u001b[0m invalid syntax\n"
     ]
    }
   ],
   "source": [
    "Transformation en int de CO_hour"
   ]
  },
  {
   "cell_type": "code",
   "execution_count": 274,
   "metadata": {},
   "outputs": [],
   "source": [
    "df_train_for_cv_o_n[\"CO_hour_int\"] = df_train_for_cv_o_n[\"CO_hour\"].apply(int)\n",
    "df_test_kaggle_cv_o_n[\"CO_hour_int\"] = df_test_kaggle_cv_o_n[\"CO_hour\"].apply(int)"
   ]
  },
  {
   "cell_type": "code",
   "execution_count": 275,
   "metadata": {},
   "outputs": [
    {
     "ename": "SyntaxError",
     "evalue": "invalid syntax (<ipython-input-275-303ab05eb6aa>, line 1)",
     "output_type": "error",
     "traceback": [
      "\u001b[0;36m  File \u001b[0;32m\"<ipython-input-275-303ab05eb6aa>\"\u001b[0;36m, line \u001b[0;32m1\u001b[0m\n\u001b[0;31m    Utiliser des decision trees via scikit\u001b[0m\n\u001b[0m               ^\u001b[0m\n\u001b[0;31mSyntaxError\u001b[0m\u001b[0;31m:\u001b[0m invalid syntax\n"
     ]
    }
   ],
   "source": [
    "Utiliser des decision trees via scikit \n",
    "pour trouver l'optimal binning ou optimal collapsing"
   ]
  },
  {
   "cell_type": "code",
   "execution_count": 276,
   "metadata": {},
   "outputs": [
    {
     "ename": "SyntaxError",
     "evalue": "invalid syntax (<ipython-input-276-14878c49d47b>, line 1)",
     "output_type": "error",
     "traceback": [
      "\u001b[0;36m  File \u001b[0;32m\"<ipython-input-276-14878c49d47b>\"\u001b[0;36m, line \u001b[0;32m1\u001b[0m\n\u001b[0;31m    Avec Rpart, on trouve en faisant: count ~ hour\u001b[0m\n\u001b[0m             ^\u001b[0m\n\u001b[0;31mSyntaxError\u001b[0m\u001b[0;31m:\u001b[0m invalid syntax\n"
     ]
    }
   ],
   "source": [
    "Avec Rpart, on trouve en faisant: count ~ hour\n",
    "BIN n°1: hour <= 7             0\n",
    "BIN n°2: hour >= 22            1\n",
    "BIN n°3: 10 =< hour <= 16      3\n",
    "BIN n°4: hour == 8             2\n",
    "BIN n°5: hour == 9             6\n",
    "BIN n°6 : 20 =< hour <= 21     4\n",
    "BIN n°7: hour == 17            5\n",
    "BIN n°8: 18 =< hour <= 19      7"
   ]
  },
  {
   "cell_type": "code",
   "execution_count": 277,
   "metadata": {},
   "outputs": [],
   "source": [
    "# On se base sur le graphe 2D obtenu avec Shiny\n",
    "# en croisant CO_hour avec count\n",
    "\n",
    "#if 0 <= int(x) < 8:\n",
    "##resultat = 0\n",
    "#elif int(x) >= 19:\n",
    "##resultat = 1\n",
    "#elif int(x) == 9:\n",
    "##resultat = 2   \n",
    "#elif 9 < int(x) <= 16:\n",
    "##resultat = 3   \n",
    "#elif int(x) == 8:\n",
    "##resultat = 4\n",
    "#elif 17 <= int(x) <= 18:a\n",
    "##resultat = 5\n",
    "\n",
    "def mean_encoding_hour(x):\n",
    "# mettre les moyennes par bin pour voir\n",
    "    if int(x) < 8:\n",
    "        resultat = 0\n",
    "    elif int(x) >= 22:\n",
    "        resultat = 1\n",
    "    elif 9 < int(x) < 17:\n",
    "        resultat = 3    \n",
    "    elif int(x) == 8:\n",
    "        resultat = 2\n",
    "    elif int(x) == 9:\n",
    "        resultat = 6      \n",
    "    elif 20 <= int(x) <= 21:\n",
    "        resultat = 4 \n",
    "    elif int(x) == 17:\n",
    "        resultat = 5\n",
    "    elif 18 <= int(x) or int(x) <= 19:\n",
    "        resultat = 7\n",
    "    \n",
    "    return resultat\n",
    "\n",
    "def mean_encoding_month(x):\n",
    "    if x in ['January', 'February', 'March', 'April', 'May']:          \n",
    "        resultat = 0\n",
    "    elif x in ['November','December']:\n",
    "        resultat = 1\n",
    "    elif x in ['June', 'July','August', 'September', 'October']:\n",
    "        resultat = 2    \n",
    "    return resultat\n",
    "\n",
    "def mean_encoding_day(x):\n",
    "    if x == 'Sunday':          \n",
    "        resultat = 0\n",
    "    elif x in ['Monday', 'Tuesday', 'Wednesday']:\n",
    "        resultat = 1\n",
    "    elif x in ['Thursday','Friday','Saturday']:\n",
    "        resultat = 2    \n",
    "    return resultat"
   ]
  },
  {
   "cell_type": "code",
   "execution_count": 278,
   "metadata": {},
   "outputs": [
    {
     "data": {
      "text/plain": [
       "array(['Saturday', 'Sunday', 'Monday', 'Tuesday', 'Wednesday', 'Thursday',\n",
       "       'Friday'], dtype=object)"
      ]
     },
     "execution_count": 278,
     "metadata": {},
     "output_type": "execute_result"
    }
   ],
   "source": [
    "df_train_for_cv_o_n.CO_day.unique()"
   ]
  },
  {
   "cell_type": "code",
   "execution_count": 279,
   "metadata": {},
   "outputs": [],
   "source": [
    "df_train_for_cv_o_n[\"CO_hour_mean_encoding\"] = df_train_for_cv_o_n[\"CO_hour\"].apply(mean_encoding_hour)\n",
    "df_train_for_cv_o_n[\"CO_month_mean_encoding\"] = df_train_for_cv_o_n[\"CO_month\"].apply(mean_encoding_month)\n",
    "df_train_for_cv_o_n[\"CO_day_mean_encoding\"] = df_train_for_cv_o_n[\"CO_day\"].apply(mean_encoding_day)"
   ]
  },
  {
   "cell_type": "code",
   "execution_count": 280,
   "metadata": {},
   "outputs": [
    {
     "data": {
      "text/html": [
       "<div>\n",
       "<style scoped>\n",
       "    .dataframe tbody tr th:only-of-type {\n",
       "        vertical-align: middle;\n",
       "    }\n",
       "\n",
       "    .dataframe tbody tr th {\n",
       "        vertical-align: top;\n",
       "    }\n",
       "\n",
       "    .dataframe thead th {\n",
       "        text-align: right;\n",
       "    }\n",
       "</style>\n",
       "<table border=\"1\" class=\"dataframe\">\n",
       "  <thead>\n",
       "    <tr style=\"text-align: right;\">\n",
       "      <th></th>\n",
       "      <th>count</th>\n",
       "    </tr>\n",
       "    <tr>\n",
       "      <th>CO_hour_mean_encoding</th>\n",
       "      <th></th>\n",
       "    </tr>\n",
       "  </thead>\n",
       "  <tbody>\n",
       "    <tr>\n",
       "      <th>0</th>\n",
       "      <td>55.437674</td>\n",
       "    </tr>\n",
       "    <tr>\n",
       "      <th>1</th>\n",
       "      <td>111.542763</td>\n",
       "    </tr>\n",
       "    <tr>\n",
       "      <th>2</th>\n",
       "      <td>362.769231</td>\n",
       "    </tr>\n",
       "    <tr>\n",
       "      <th>3</th>\n",
       "      <td>244.915047</td>\n",
       "    </tr>\n",
       "    <tr>\n",
       "      <th>4</th>\n",
       "      <td>200.944079</td>\n",
       "    </tr>\n",
       "    <tr>\n",
       "      <th>5</th>\n",
       "      <td>468.765351</td>\n",
       "    </tr>\n",
       "    <tr>\n",
       "      <th>6</th>\n",
       "      <td>221.780220</td>\n",
       "    </tr>\n",
       "    <tr>\n",
       "      <th>7</th>\n",
       "      <td>373.069079</td>\n",
       "    </tr>\n",
       "  </tbody>\n",
       "</table>\n",
       "</div>"
      ],
      "text/plain": [
       "                            count\n",
       "CO_hour_mean_encoding            \n",
       "0                       55.437674\n",
       "1                      111.542763\n",
       "2                      362.769231\n",
       "3                      244.915047\n",
       "4                      200.944079\n",
       "5                      468.765351\n",
       "6                      221.780220\n",
       "7                      373.069079"
      ]
     },
     "execution_count": 280,
     "metadata": {},
     "output_type": "execute_result"
    }
   ],
   "source": [
    "df_train_for_cv_o_n[[\"CO_hour_mean_encoding\",\"count\"]].groupby([\"CO_hour_mean_encoding\"]).mean()"
   ]
  },
  {
   "cell_type": "code",
   "execution_count": 281,
   "metadata": {},
   "outputs": [
    {
     "data": {
      "text/html": [
       "<div>\n",
       "<style scoped>\n",
       "    .dataframe tbody tr th:only-of-type {\n",
       "        vertical-align: middle;\n",
       "    }\n",
       "\n",
       "    .dataframe tbody tr th {\n",
       "        vertical-align: top;\n",
       "    }\n",
       "\n",
       "    .dataframe thead th {\n",
       "        text-align: right;\n",
       "    }\n",
       "</style>\n",
       "<table border=\"1\" class=\"dataframe\">\n",
       "  <thead>\n",
       "    <tr style=\"text-align: right;\">\n",
       "      <th></th>\n",
       "      <th>count</th>\n",
       "    </tr>\n",
       "    <tr>\n",
       "      <th>CO_month_mean_encoding</th>\n",
       "      <th></th>\n",
       "    </tr>\n",
       "  </thead>\n",
       "  <tbody>\n",
       "    <tr>\n",
       "      <th>0</th>\n",
       "      <td>150.886843</td>\n",
       "    </tr>\n",
       "    <tr>\n",
       "      <th>1</th>\n",
       "      <td>184.640702</td>\n",
       "    </tr>\n",
       "    <tr>\n",
       "      <th>2</th>\n",
       "      <td>234.598112</td>\n",
       "    </tr>\n",
       "  </tbody>\n",
       "</table>\n",
       "</div>"
      ],
      "text/plain": [
       "                             count\n",
       "CO_month_mean_encoding            \n",
       "0                       150.886843\n",
       "1                       184.640702\n",
       "2                       234.598112"
      ]
     },
     "execution_count": 281,
     "metadata": {},
     "output_type": "execute_result"
    }
   ],
   "source": [
    "df_train_for_cv_o_n[[\"CO_month_mean_encoding\",\"count\"]].groupby([\"CO_month_mean_encoding\"]).mean()"
   ]
  },
  {
   "cell_type": "code",
   "execution_count": 282,
   "metadata": {},
   "outputs": [
    {
     "data": {
      "text/html": [
       "<div>\n",
       "<style scoped>\n",
       "    .dataframe tbody tr th:only-of-type {\n",
       "        vertical-align: middle;\n",
       "    }\n",
       "\n",
       "    .dataframe tbody tr th {\n",
       "        vertical-align: top;\n",
       "    }\n",
       "\n",
       "    .dataframe thead th {\n",
       "        text-align: right;\n",
       "    }\n",
       "</style>\n",
       "<table border=\"1\" class=\"dataframe\">\n",
       "  <thead>\n",
       "    <tr style=\"text-align: right;\">\n",
       "      <th></th>\n",
       "      <th>count</th>\n",
       "    </tr>\n",
       "    <tr>\n",
       "      <th>CO_day_mean_encoding</th>\n",
       "      <th></th>\n",
       "    </tr>\n",
       "  </thead>\n",
       "  <tbody>\n",
       "    <tr>\n",
       "      <th>0</th>\n",
       "      <td>180.839772</td>\n",
       "    </tr>\n",
       "    <tr>\n",
       "      <th>1</th>\n",
       "      <td>189.508080</td>\n",
       "    </tr>\n",
       "    <tr>\n",
       "      <th>2</th>\n",
       "      <td>197.261680</td>\n",
       "    </tr>\n",
       "  </tbody>\n",
       "</table>\n",
       "</div>"
      ],
      "text/plain": [
       "                           count\n",
       "CO_day_mean_encoding            \n",
       "0                     180.839772\n",
       "1                     189.508080\n",
       "2                     197.261680"
      ]
     },
     "execution_count": 282,
     "metadata": {},
     "output_type": "execute_result"
    }
   ],
   "source": [
    "df_train_for_cv_o_n[[\"CO_day_mean_encoding\",\"count\"]].groupby([\"CO_day_mean_encoding\"]).mean()"
   ]
  },
  {
   "cell_type": "code",
   "execution_count": 283,
   "metadata": {},
   "outputs": [],
   "source": [
    "df_test_kaggle_cv_o_n[\"CO_hour_mean_encoding\"] = df_test_kaggle_cv_o_n[\"CO_hour\"].apply(mean_encoding_hour)\n",
    "df_test_kaggle_cv_o_n[\"CO_month_mean_encoding\"] = df_test_kaggle_cv_o_n[\"CO_month\"].apply(mean_encoding_month)\n",
    "df_test_kaggle_cv_o_n[\"CO_day_mean_encoding\"] = df_test_kaggle_cv_o_n[\"CO_day\"].apply(mean_encoding_day)"
   ]
  },
  {
   "cell_type": "code",
   "execution_count": 284,
   "metadata": {},
   "outputs": [
    {
     "data": {
      "text/plain": [
       "['CO_day',\n",
       " 'CO_hour',\n",
       " 'CO_month',\n",
       " 'CO_season',\n",
       " 'CO_weather',\n",
       " 'CO_year',\n",
       " 'CO_day_labels_encoding',\n",
       " 'CO_month_labels_encoding',\n",
       " 'CO_season_labels_encoding',\n",
       " 'CO_weather_labels_encoding',\n",
       " 'CO_hour_labels_encoding',\n",
       " 'CO_year_labels_encoding',\n",
       " 'CO_hour_mean_encoding',\n",
       " 'CO_month_mean_encoding',\n",
       " 'CO_day_mean_encoding']"
      ]
     },
     "execution_count": 284,
     "metadata": {},
     "output_type": "execute_result"
    }
   ],
   "source": [
    "init = []\n",
    "init.append(['CO_day', 'CO_hour', 'CO_month', 'CO_season', 'CO_weather', 'CO_year'])\n",
    "new_var_labels_encoding = [each_name for each_name in list(df_train_for_cv_o_n) if 'labels_encoding' in each_name]\n",
    "init.append(new_var_labels_encoding)\n",
    "\n",
    "new_var_mean_encoding = [each_name for each_name in list(df_train_for_cv_o_n) if 'mean_encoding' in each_name]\n",
    "init.append(new_var_mean_encoding)\n",
    "\n",
    "liste_of_new_var = list(chain(*init))\n",
    "liste_of_new_var"
   ]
  },
  {
   "cell_type": "markdown",
   "metadata": {},
   "source": [
    "On ajoute les variables ordinales : CO_weather, CO_season et CO_year"
   ]
  },
  {
   "cell_type": "code",
   "execution_count": 285,
   "metadata": {},
   "outputs": [],
   "source": [
    "# np.expand_dims(np.array(df_train_for_cv_o_n.CO_season), axis = 1).shape"
   ]
  },
  {
   "cell_type": "code",
   "execution_count": 286,
   "metadata": {},
   "outputs": [],
   "source": [
    "# oeCO_hour = OrdinalEncoder()\n",
    "# oeCO_month = OrdinalEncoder()\n",
    "# oeCO_day = OrdinalEncoder()\n",
    "# oeCO_weather = OrdinalEncoder()\n",
    "# oeCO_season = OrdinalEncoder()\n",
    "# oeCO_year = OrdinalEncoder()"
   ]
  },
  {
   "cell_type": "code",
   "execution_count": 287,
   "metadata": {},
   "outputs": [],
   "source": [
    "# A refaire car OrdinalEncoder()\n",
    "# ne transforme en vraies valeurs ordinales:\n",
    "# on recode manuellement\n",
    "# def ordinal_encoding(df):\n",
    "    \n",
    "    #oe_CO_hour.fit(np.expand_dims(np.array(df.CO_hour), axis = 1))\n",
    "    #oe_CO_month.fit(np.expand_dims(np.array(df.CO_month), axis = 1))\n",
    "    #oe_CO_day.fit(np.expand_dims(np.array(df.CO_day), axis = 1))\n",
    "    #oe_CO_weather.fit(np.expand_dims(np.array(df.CO_weather), axis = 1))\n",
    "    #oe_CO_season.fit(np.expand_dims(np.array(df.CO_season), axis = 1))\n",
    "    #oe_CO_year.fit(np.expand_dims(np.array(df.CO_year), axis = 1))\n",
    "\n",
    "    ## oe_CO_season.categories_\n",
    "    #df[\"CO_hour_ordinal_encoding\"] = oe_CO_hour.transform(np.expand_dims(np.array(df.CO_hour), axis = 1))\n",
    "    #df[\"CO_month_ordinal_encoding\"] = oe_CO_month.transform(np.expand_dims(np.array(df.CO_month), axis = 1))\n",
    "    #df[\"CO_day_ordinal_encoding\"] = oe_CO_day.transform(np.expand_dims(np.array(df.CO_day), axis = 1))\n",
    "    #df[\"CO_weather_ordinal_encoding\"] = oe_CO_weather.transform(np.expand_dims(np.array(df.CO_weather), axis = 1))\n",
    "    #df[\"CO_season_ordinal_encoding\"] = oe_CO_season.transform(np.expand_dims(np.array(df.CO_season), axis = 1))\n",
    "    #df[\"CO_year_ordinal_encoding\"] = oe_CO_year.transform(np.expand_dims(np.array(df.CO_year), axis = 1))\n",
    "\n",
    "    #resultat = df\n",
    "    # return resultat"
   ]
  },
  {
   "cell_type": "code",
   "execution_count": 288,
   "metadata": {},
   "outputs": [],
   "source": [
    "# df_train_for_cv_o_n = ordinal_encoding(df_train_for_cv_o_n)\n",
    "# df_test_kaggle_cv_o_n = ordinal_encoding(df_test_kaggle_cv_o_n)"
   ]
  },
  {
   "cell_type": "code",
   "execution_count": 289,
   "metadata": {},
   "outputs": [],
   "source": [
    "def build_correspondance(df,list_variables):\n",
    "    dict_all_corresp = {}\n",
    "    for each in list_variables:\n",
    "        # print (each)\n",
    "        str_categories = list(df[each].unique())      \n",
    "        # print (str_categories)\n",
    "        idx = 0\n",
    "        for each in str_categories:\n",
    "            dict_all_corresp[each] = idx\n",
    "            idx += 1\n",
    "        \n",
    "    return dict_all_corresp\n",
    "my_dict_all_corresp = build_correspondance(df_train_for_cv_o_n, [\"CO_hour\",\"CO_month\",\"CO_day\",\"CO_weather\",\"CO_season\",\"CO_year\"])"
   ]
  },
  {
   "cell_type": "code",
   "execution_count": 290,
   "metadata": {},
   "outputs": [],
   "source": [
    "def return_value(x):\n",
    "    resultat = my_dict_all_corresp[x]\n",
    "    return resultat"
   ]
  },
  {
   "cell_type": "code",
   "execution_count": 291,
   "metadata": {},
   "outputs": [],
   "source": [
    "df_train_for_cv_o_n[\"CO_hour_ordinal_encoding\"] = df_train_for_cv_o_n[\"CO_hour\"].map(lambda x: return_value(x))\n",
    "df_train_for_cv_o_n[\"CO_month_ordinal_encoding\"] = df_train_for_cv_o_n[\"CO_month\"].map(lambda x: return_value(x))\n",
    "df_train_for_cv_o_n[\"CO_day_ordinal_encoding\"] = df_train_for_cv_o_n[\"CO_day\"].map(lambda x: return_value(x))\n",
    "df_train_for_cv_o_n[\"CO_weather_ordinal_encoding\"] = df_train_for_cv_o_n[\"CO_weather\"].map(lambda x: return_value(x))\n",
    "df_train_for_cv_o_n[\"CO_season_ordinal_encoding\"] = df_train_for_cv_o_n[\"CO_season\"].map(lambda x: return_value(x))\n",
    "df_train_for_cv_o_n[\"CO_year_ordinal_encoding\"] = df_train_for_cv_o_n[\"CO_year\"].map(lambda x: return_value(x))\n",
    "\n",
    "df_test_kaggle_cv_o_n[\"CO_hour_ordinal_encoding\"] = df_test_kaggle_cv_o_n[\"CO_hour\"].map(lambda x: return_value(x))\n",
    "df_test_kaggle_cv_o_n[\"CO_month_ordinal_encoding\"] = df_test_kaggle_cv_o_n[\"CO_month\"].map(lambda x: return_value(x))\n",
    "df_test_kaggle_cv_o_n[\"CO_day_ordinal_encoding\"] = df_test_kaggle_cv_o_n[\"CO_day\"].map(lambda x: return_value(x))\n",
    "df_test_kaggle_cv_o_n[\"CO_weather_ordinal_encoding\"] = df_test_kaggle_cv_o_n[\"CO_weather\"].map(lambda x: return_value(x))\n",
    "df_test_kaggle_cv_o_n[\"CO_season_ordinal_encoding\"] = df_test_kaggle_cv_o_n[\"CO_season\"].map(lambda x: return_value(x))\n",
    "df_test_kaggle_cv_o_n[\"CO_year_ordinal_encoding\"] = df_test_kaggle_cv_o_n[\"CO_year\"].map(lambda x: return_value(x))"
   ]
  },
  {
   "cell_type": "code",
   "execution_count": 292,
   "metadata": {},
   "outputs": [
    {
     "data": {
      "text/plain": [
       "['CN_school',\n",
       " 'CN_soleilQ',\n",
       " 'CN_tendance_1Q',\n",
       " 'CN_tendance_2Q',\n",
       " 'CO_atempQ',\n",
       " 'CO_day',\n",
       " 'CO_holiday',\n",
       " 'CO_humidityQ',\n",
       " 'CO_month',\n",
       " 'CO_season',\n",
       " 'CO_tempQ',\n",
       " 'CO_weather',\n",
       " 'CO_windspeedQ',\n",
       " 'CO_workingday',\n",
       " 'NN_soleil',\n",
       " 'NN_tendance_1',\n",
       " 'NN_tendance_2',\n",
       " 'NO_atemp',\n",
       " 'NO_humidity',\n",
       " 'NO_temp',\n",
       " 'NO_windspeed',\n",
       " 'S_casual',\n",
       " 'S_casualQ',\n",
       " 'S_rateregis',\n",
       " 'S_rateregisQ',\n",
       " 'S_registered',\n",
       " 'S_registeredQ',\n",
       " 'datetime',\n",
       " 'CO_hour',\n",
       " 'CO_year',\n",
       " 'count',\n",
       " 'CO_day_labels_encoding',\n",
       " 'CO_month_labels_encoding',\n",
       " 'CO_season_labels_encoding',\n",
       " 'CO_weather_labels_encoding',\n",
       " 'CO_hour_labels_encoding',\n",
       " 'CO_year_labels_encoding',\n",
       " 'CO_hour_int',\n",
       " 'CO_hour_mean_encoding',\n",
       " 'CO_month_mean_encoding',\n",
       " 'CO_day_mean_encoding',\n",
       " 'CO_hour_ordinal_encoding',\n",
       " 'CO_month_ordinal_encoding',\n",
       " 'CO_day_ordinal_encoding',\n",
       " 'CO_weather_ordinal_encoding',\n",
       " 'CO_season_ordinal_encoding',\n",
       " 'CO_year_ordinal_encoding']"
      ]
     },
     "execution_count": 292,
     "metadata": {},
     "output_type": "execute_result"
    }
   ],
   "source": [
    "list(df_train_for_cv_o_n)"
   ]
  },
  {
   "cell_type": "code",
   "execution_count": 293,
   "metadata": {},
   "outputs": [
    {
     "data": {
      "text/html": [
       "<div>\n",
       "<style scoped>\n",
       "    .dataframe tbody tr th:only-of-type {\n",
       "        vertical-align: middle;\n",
       "    }\n",
       "\n",
       "    .dataframe tbody tr th {\n",
       "        vertical-align: top;\n",
       "    }\n",
       "\n",
       "    .dataframe thead th {\n",
       "        text-align: right;\n",
       "    }\n",
       "</style>\n",
       "<table border=\"1\" class=\"dataframe\">\n",
       "  <thead>\n",
       "    <tr style=\"text-align: right;\">\n",
       "      <th></th>\n",
       "      <th>CO_day</th>\n",
       "      <th>CO_hour</th>\n",
       "      <th>CO_month</th>\n",
       "      <th>CO_season</th>\n",
       "      <th>CO_weather</th>\n",
       "      <th>CO_year</th>\n",
       "      <th>CO_day_labels_encoding</th>\n",
       "      <th>CO_month_labels_encoding</th>\n",
       "      <th>CO_season_labels_encoding</th>\n",
       "      <th>CO_weather_labels_encoding</th>\n",
       "      <th>...</th>\n",
       "      <th>CO_year_labels_encoding</th>\n",
       "      <th>CO_hour_mean_encoding</th>\n",
       "      <th>CO_month_mean_encoding</th>\n",
       "      <th>CO_day_mean_encoding</th>\n",
       "      <th>CO_hour_ordinal_encoding</th>\n",
       "      <th>CO_month_ordinal_encoding</th>\n",
       "      <th>CO_day_ordinal_encoding</th>\n",
       "      <th>CO_weather_ordinal_encoding</th>\n",
       "      <th>CO_season_ordinal_encoding</th>\n",
       "      <th>CO_year_ordinal_encoding</th>\n",
       "    </tr>\n",
       "  </thead>\n",
       "  <tbody>\n",
       "    <tr>\n",
       "      <th>4320</th>\n",
       "      <td>Wednesday</td>\n",
       "      <td>1</td>\n",
       "      <td>October</td>\n",
       "      <td>Hiver</td>\n",
       "      <td>Pluvieux (-)</td>\n",
       "      <td>2011</td>\n",
       "      <td>6</td>\n",
       "      <td>10</td>\n",
       "      <td>1</td>\n",
       "      <td>3</td>\n",
       "      <td>...</td>\n",
       "      <td>0</td>\n",
       "      <td>0</td>\n",
       "      <td>2</td>\n",
       "      <td>1</td>\n",
       "      <td>1</td>\n",
       "      <td>9</td>\n",
       "      <td>4</td>\n",
       "      <td>2</td>\n",
       "      <td>3</td>\n",
       "      <td>0</td>\n",
       "    </tr>\n",
       "    <tr>\n",
       "      <th>4399</th>\n",
       "      <td>Saturday</td>\n",
       "      <td>8</td>\n",
       "      <td>October</td>\n",
       "      <td>Hiver</td>\n",
       "      <td>Beau temps</td>\n",
       "      <td>2011</td>\n",
       "      <td>2</td>\n",
       "      <td>10</td>\n",
       "      <td>1</td>\n",
       "      <td>0</td>\n",
       "      <td>...</td>\n",
       "      <td>0</td>\n",
       "      <td>2</td>\n",
       "      <td>2</td>\n",
       "      <td>2</td>\n",
       "      <td>8</td>\n",
       "      <td>9</td>\n",
       "      <td>0</td>\n",
       "      <td>0</td>\n",
       "      <td>3</td>\n",
       "      <td>0</td>\n",
       "    </tr>\n",
       "    <tr>\n",
       "      <th>5521</th>\n",
       "      <td>Thursday</td>\n",
       "      <td>4</td>\n",
       "      <td>January</td>\n",
       "      <td>Printemps</td>\n",
       "      <td>Nuageux</td>\n",
       "      <td>2012</td>\n",
       "      <td>4</td>\n",
       "      <td>4</td>\n",
       "      <td>2</td>\n",
       "      <td>1</td>\n",
       "      <td>...</td>\n",
       "      <td>1</td>\n",
       "      <td>0</td>\n",
       "      <td>0</td>\n",
       "      <td>2</td>\n",
       "      <td>4</td>\n",
       "      <td>0</td>\n",
       "      <td>5</td>\n",
       "      <td>1</td>\n",
       "      <td>0</td>\n",
       "      <td>1</td>\n",
       "    </tr>\n",
       "    <tr>\n",
       "      <th>3298</th>\n",
       "      <td>Sunday</td>\n",
       "      <td>8</td>\n",
       "      <td>August</td>\n",
       "      <td>Automne</td>\n",
       "      <td>Beau temps</td>\n",
       "      <td>2011</td>\n",
       "      <td>3</td>\n",
       "      <td>1</td>\n",
       "      <td>0</td>\n",
       "      <td>0</td>\n",
       "      <td>...</td>\n",
       "      <td>0</td>\n",
       "      <td>2</td>\n",
       "      <td>2</td>\n",
       "      <td>0</td>\n",
       "      <td>8</td>\n",
       "      <td>7</td>\n",
       "      <td>1</td>\n",
       "      <td>0</td>\n",
       "      <td>2</td>\n",
       "      <td>0</td>\n",
       "    </tr>\n",
       "    <tr>\n",
       "      <th>2577</th>\n",
       "      <td>Wednesday</td>\n",
       "      <td>7</td>\n",
       "      <td>June</td>\n",
       "      <td>Été</td>\n",
       "      <td>Beau temps</td>\n",
       "      <td>2011</td>\n",
       "      <td>6</td>\n",
       "      <td>6</td>\n",
       "      <td>3</td>\n",
       "      <td>0</td>\n",
       "      <td>...</td>\n",
       "      <td>0</td>\n",
       "      <td>0</td>\n",
       "      <td>2</td>\n",
       "      <td>1</td>\n",
       "      <td>7</td>\n",
       "      <td>5</td>\n",
       "      <td>4</td>\n",
       "      <td>0</td>\n",
       "      <td>1</td>\n",
       "      <td>0</td>\n",
       "    </tr>\n",
       "  </tbody>\n",
       "</table>\n",
       "<p>5 rows × 21 columns</p>\n",
       "</div>"
      ],
      "text/plain": [
       "         CO_day CO_hour CO_month  CO_season    CO_weather CO_year  \\\n",
       "4320  Wednesday       1  October      Hiver  Pluvieux (-)    2011   \n",
       "4399   Saturday       8  October      Hiver    Beau temps    2011   \n",
       "5521   Thursday       4  January  Printemps       Nuageux    2012   \n",
       "3298     Sunday       8   August    Automne    Beau temps    2011   \n",
       "2577  Wednesday       7     June        Été    Beau temps    2011   \n",
       "\n",
       "      CO_day_labels_encoding  CO_month_labels_encoding  \\\n",
       "4320                       6                        10   \n",
       "4399                       2                        10   \n",
       "5521                       4                         4   \n",
       "3298                       3                         1   \n",
       "2577                       6                         6   \n",
       "\n",
       "      CO_season_labels_encoding  CO_weather_labels_encoding  ...  \\\n",
       "4320                          1                           3  ...   \n",
       "4399                          1                           0  ...   \n",
       "5521                          2                           1  ...   \n",
       "3298                          0                           0  ...   \n",
       "2577                          3                           0  ...   \n",
       "\n",
       "      CO_year_labels_encoding  CO_hour_mean_encoding  CO_month_mean_encoding  \\\n",
       "4320                        0                      0                       2   \n",
       "4399                        0                      2                       2   \n",
       "5521                        1                      0                       0   \n",
       "3298                        0                      2                       2   \n",
       "2577                        0                      0                       2   \n",
       "\n",
       "      CO_day_mean_encoding  CO_hour_ordinal_encoding  \\\n",
       "4320                     1                         1   \n",
       "4399                     2                         8   \n",
       "5521                     2                         4   \n",
       "3298                     0                         8   \n",
       "2577                     1                         7   \n",
       "\n",
       "      CO_month_ordinal_encoding  CO_day_ordinal_encoding  \\\n",
       "4320                          9                        4   \n",
       "4399                          9                        0   \n",
       "5521                          0                        5   \n",
       "3298                          7                        1   \n",
       "2577                          5                        4   \n",
       "\n",
       "      CO_weather_ordinal_encoding  CO_season_ordinal_encoding  \\\n",
       "4320                            2                           3   \n",
       "4399                            0                           3   \n",
       "5521                            1                           0   \n",
       "3298                            0                           2   \n",
       "2577                            0                           1   \n",
       "\n",
       "      CO_year_ordinal_encoding  \n",
       "4320                         0  \n",
       "4399                         0  \n",
       "5521                         1  \n",
       "3298                         0  \n",
       "2577                         0  \n",
       "\n",
       "[5 rows x 21 columns]"
      ]
     },
     "execution_count": 293,
     "metadata": {},
     "output_type": "execute_result"
    }
   ],
   "source": [
    "init = []\n",
    "init.append(['CO_day', 'CO_hour', 'CO_month', 'CO_season', 'CO_weather', 'CO_year'])\n",
    "new_var_labels_encoding = [each_name for each_name in list(df_train_for_cv_o_n) if 'labels_encoding' in each_name]\n",
    "init.append(new_var_labels_encoding)\n",
    "\n",
    "new_var_mean_encoding = [each_name for each_name in list(df_train_for_cv_o_n) if 'mean_encoding' in each_name]\n",
    "init.append(new_var_mean_encoding)\n",
    "\n",
    "new_var_ordinal_encoding = [each_name for each_name in list(df_train_for_cv_o_n) if 'ordinal_encoding' in each_name]\n",
    "init.append(new_var_ordinal_encoding)\n",
    "\n",
    "liste_of_new_var = list(chain(*init))\n",
    "df_train_for_cv_o_n[liste_of_new_var].sample(n=5)"
   ]
  },
  {
   "cell_type": "markdown",
   "metadata": {},
   "source": [
    "Nouvelle variable: type de jour<br>\n",
    "Ou bien on est un jour travaillé<br>\n",
    "ou un jour du week end<br> \n",
    "ou un jour férié<br>\n",
    "Grâce aux variables :\n",
    "- CO_workingday = jour de travail = 0/1\n",
    "- CO_holiday = jour férié = 0/1   "
   ]
  },
  {
   "cell_type": "code",
   "execution_count": 294,
   "metadata": {},
   "outputs": [
    {
     "data": {
      "text/html": [
       "<div>\n",
       "<style scoped>\n",
       "    .dataframe tbody tr th:only-of-type {\n",
       "        vertical-align: middle;\n",
       "    }\n",
       "\n",
       "    .dataframe tbody tr th {\n",
       "        vertical-align: top;\n",
       "    }\n",
       "\n",
       "    .dataframe thead th {\n",
       "        text-align: right;\n",
       "    }\n",
       "</style>\n",
       "<table border=\"1\" class=\"dataframe\">\n",
       "  <thead>\n",
       "    <tr style=\"text-align: right;\">\n",
       "      <th></th>\n",
       "      <th>datetime</th>\n",
       "      <th>CO_workingday</th>\n",
       "      <th>CO_holiday</th>\n",
       "      <th>CN_school</th>\n",
       "    </tr>\n",
       "  </thead>\n",
       "  <tbody>\n",
       "    <tr>\n",
       "      <th>6389</th>\n",
       "      <td>2012-03-03 11:00:00</td>\n",
       "      <td>0</td>\n",
       "      <td>0</td>\n",
       "      <td>0</td>\n",
       "    </tr>\n",
       "    <tr>\n",
       "      <th>6809</th>\n",
       "      <td>2012-04-02 00:00:00</td>\n",
       "      <td>1</td>\n",
       "      <td>0</td>\n",
       "      <td>1</td>\n",
       "    </tr>\n",
       "    <tr>\n",
       "      <th>6924</th>\n",
       "      <td>2012-04-06 20:00:00</td>\n",
       "      <td>1</td>\n",
       "      <td>0</td>\n",
       "      <td>1</td>\n",
       "    </tr>\n",
       "    <tr>\n",
       "      <th>9170</th>\n",
       "      <td>2012-09-05 11:00:00</td>\n",
       "      <td>1</td>\n",
       "      <td>0</td>\n",
       "      <td>0</td>\n",
       "    </tr>\n",
       "    <tr>\n",
       "      <th>6697</th>\n",
       "      <td>2012-03-16 08:00:00</td>\n",
       "      <td>1</td>\n",
       "      <td>0</td>\n",
       "      <td>0</td>\n",
       "    </tr>\n",
       "    <tr>\n",
       "      <th>3742</th>\n",
       "      <td>2011-09-06 21:00:00</td>\n",
       "      <td>1</td>\n",
       "      <td>0</td>\n",
       "      <td>0</td>\n",
       "    </tr>\n",
       "    <tr>\n",
       "      <th>4030</th>\n",
       "      <td>2011-09-18 23:00:00</td>\n",
       "      <td>0</td>\n",
       "      <td>0</td>\n",
       "      <td>0</td>\n",
       "    </tr>\n",
       "    <tr>\n",
       "      <th>8270</th>\n",
       "      <td>2012-07-05 23:00:00</td>\n",
       "      <td>1</td>\n",
       "      <td>0</td>\n",
       "      <td>1</td>\n",
       "    </tr>\n",
       "    <tr>\n",
       "      <th>7975</th>\n",
       "      <td>2012-06-12 16:00:00</td>\n",
       "      <td>1</td>\n",
       "      <td>0</td>\n",
       "      <td>0</td>\n",
       "    </tr>\n",
       "    <tr>\n",
       "      <th>3595</th>\n",
       "      <td>2011-08-19 17:00:00</td>\n",
       "      <td>1</td>\n",
       "      <td>0</td>\n",
       "      <td>1</td>\n",
       "    </tr>\n",
       "    <tr>\n",
       "      <th>2690</th>\n",
       "      <td>2011-07-01 00:00:00</td>\n",
       "      <td>1</td>\n",
       "      <td>0</td>\n",
       "      <td>1</td>\n",
       "    </tr>\n",
       "    <tr>\n",
       "      <th>8452</th>\n",
       "      <td>2012-07-13 13:00:00</td>\n",
       "      <td>1</td>\n",
       "      <td>0</td>\n",
       "      <td>1</td>\n",
       "    </tr>\n",
       "    <tr>\n",
       "      <th>5813</th>\n",
       "      <td>2012-01-17 10:00:00</td>\n",
       "      <td>1</td>\n",
       "      <td>0</td>\n",
       "      <td>0</td>\n",
       "    </tr>\n",
       "    <tr>\n",
       "      <th>7521</th>\n",
       "      <td>2012-05-12 18:00:00</td>\n",
       "      <td>0</td>\n",
       "      <td>0</td>\n",
       "      <td>0</td>\n",
       "    </tr>\n",
       "    <tr>\n",
       "      <th>195</th>\n",
       "      <td>2011-01-09 10:00:00</td>\n",
       "      <td>0</td>\n",
       "      <td>0</td>\n",
       "      <td>0</td>\n",
       "    </tr>\n",
       "    <tr>\n",
       "      <th>377</th>\n",
       "      <td>2011-01-17 05:00:00</td>\n",
       "      <td>0</td>\n",
       "      <td>1</td>\n",
       "      <td>1</td>\n",
       "    </tr>\n",
       "    <tr>\n",
       "      <th>9181</th>\n",
       "      <td>2012-09-05 22:00:00</td>\n",
       "      <td>1</td>\n",
       "      <td>0</td>\n",
       "      <td>0</td>\n",
       "    </tr>\n",
       "    <tr>\n",
       "      <th>7892</th>\n",
       "      <td>2012-06-09 05:00:00</td>\n",
       "      <td>0</td>\n",
       "      <td>0</td>\n",
       "      <td>0</td>\n",
       "    </tr>\n",
       "    <tr>\n",
       "      <th>6027</th>\n",
       "      <td>2012-02-07 09:00:00</td>\n",
       "      <td>1</td>\n",
       "      <td>0</td>\n",
       "      <td>0</td>\n",
       "    </tr>\n",
       "    <tr>\n",
       "      <th>7174</th>\n",
       "      <td>2012-04-17 07:00:00</td>\n",
       "      <td>1</td>\n",
       "      <td>0</td>\n",
       "      <td>0</td>\n",
       "    </tr>\n",
       "  </tbody>\n",
       "</table>\n",
       "</div>"
      ],
      "text/plain": [
       "                 datetime  CO_workingday  CO_holiday  CN_school\n",
       "6389  2012-03-03 11:00:00              0           0          0\n",
       "6809  2012-04-02 00:00:00              1           0          1\n",
       "6924  2012-04-06 20:00:00              1           0          1\n",
       "9170  2012-09-05 11:00:00              1           0          0\n",
       "6697  2012-03-16 08:00:00              1           0          0\n",
       "3742  2011-09-06 21:00:00              1           0          0\n",
       "4030  2011-09-18 23:00:00              0           0          0\n",
       "8270  2012-07-05 23:00:00              1           0          1\n",
       "7975  2012-06-12 16:00:00              1           0          0\n",
       "3595  2011-08-19 17:00:00              1           0          1\n",
       "2690  2011-07-01 00:00:00              1           0          1\n",
       "8452  2012-07-13 13:00:00              1           0          1\n",
       "5813  2012-01-17 10:00:00              1           0          0\n",
       "7521  2012-05-12 18:00:00              0           0          0\n",
       "195   2011-01-09 10:00:00              0           0          0\n",
       "377   2011-01-17 05:00:00              0           1          1\n",
       "9181  2012-09-05 22:00:00              1           0          0\n",
       "7892  2012-06-09 05:00:00              0           0          0\n",
       "6027  2012-02-07 09:00:00              1           0          0\n",
       "7174  2012-04-17 07:00:00              1           0          0"
      ]
     },
     "execution_count": 294,
     "metadata": {},
     "output_type": "execute_result"
    }
   ],
   "source": [
    "df_train_for_cv_o_n[[\"datetime\",\"CO_workingday\",\"CO_holiday\",\"CN_school\"]].sample(n=20)"
   ]
  },
  {
   "cell_type": "markdown",
   "metadata": {},
   "source": [
    "On crée une seule variable \"ordinale\" grâce aux 2 variables : CO_workingday et CO_holiday \t"
   ]
  },
  {
   "cell_type": "code",
   "execution_count": 295,
   "metadata": {},
   "outputs": [],
   "source": [
    "def type_of_day(df):\n",
    "    # Jour de travail\n",
    "    if df.CO_workingday == 1 and df.CO_holiday == 0:\n",
    "        resultat = 0\n",
    "    # Jour de week end\n",
    "    elif df.CO_workingday == 0 and df.CO_holiday == 0:\n",
    "        resultat = 1\n",
    "    # Jour férié \n",
    "    else:\n",
    "        resultat = 2\n",
    "    return resultat\n",
    "df_train_for_cv_o_n[\"CN_type_of_day\"] = df_train_for_cv_o_n.apply(type_of_day, axis = 1)\n",
    "df_test_kaggle_cv_o_n[\"CN_type_of_day\"] = df_test_kaggle_cv_o_n.apply(type_of_day, axis = 1)"
   ]
  },
  {
   "cell_type": "code",
   "execution_count": 296,
   "metadata": {},
   "outputs": [],
   "source": [
    "def week_end(df):\n",
    "    if df.CO_day != \"Saturday\" and df.CO_day != \"Sunday\":\n",
    "        resultat = 0\n",
    "    else:\n",
    "        resultat = 1\n",
    "    return resultat\n",
    "df_train_for_cv_o_n[\"CN_week_end\"] = df_train_for_cv_o_n.apply(week_end, axis = 1)\n",
    "df_test_kaggle_cv_o_n[\"CN_week_end\"] = df_test_kaggle_cv_o_n.apply(week_end, axis = 1)"
   ]
  },
  {
   "cell_type": "code",
   "execution_count": 297,
   "metadata": {},
   "outputs": [
    {
     "ename": "SyntaxError",
     "evalue": "invalid syntax (<ipython-input-297-ea6c42d5ed62>, line 1)",
     "output_type": "error",
     "traceback": [
      "\u001b[0;36m  File \u001b[0;32m\"<ipython-input-297-ea6c42d5ed62>\"\u001b[0;36m, line \u001b[0;32m1\u001b[0m\n\u001b[0;31m    NOUVELLES VARIABLES bins de NN_soleil et NO_temp\u001b[0m\n\u001b[0m                      ^\u001b[0m\n\u001b[0;31mSyntaxError\u001b[0m\u001b[0;31m:\u001b[0m invalid syntax\n"
     ]
    }
   ],
   "source": [
    "NOUVELLES VARIABLES bins de NN_soleil et NO_temp"
   ]
  },
  {
   "cell_type": "code",
   "execution_count": 300,
   "metadata": {},
   "outputs": [
    {
     "name": "stdout",
     "output_type": "stream",
     "text": [
      "value -22\n"
     ]
    }
   ],
   "source": [
    "print (\"value\", -22)"
   ]
  },
  {
   "cell_type": "code",
   "execution_count": 302,
   "metadata": {},
   "outputs": [],
   "source": [
    "def binned_soleil(x):\n",
    "    if x < -22:\n",
    "        resultat = 0\n",
    "    elif x < -7.6 and x >= -22:\n",
    "        resultat = 1\n",
    "    else:\n",
    "        resultat = 2\n",
    "    return resultat"
   ]
  },
  {
   "cell_type": "code",
   "execution_count": 304,
   "metadata": {},
   "outputs": [],
   "source": [
    "def binned_temp(x):\n",
    "    if x <= 12:\n",
    "        resultat = 0\n",
    "    elif x >= 13 and x <= 22:\n",
    "        resultat = 1\n",
    "    elif x >= 23 and x <= 29:\n",
    "        resultat = 2\n",
    "    else:\n",
    "        resultat = 2\n",
    "    return resultat"
   ]
  },
  {
   "cell_type": "code",
   "execution_count": 305,
   "metadata": {},
   "outputs": [],
   "source": [
    "df_train_for_cv_o_n[\"NN_soleil_binned\"] = df_train_for_cv_o_n[\"NN_soleil\"].apply(binned_soleil)\n",
    "df_train_for_cv_o_n[\"NO_temp_binned\"] = df_train_for_cv_o_n[\"NO_temp\"].apply(binned_temp)"
   ]
  },
  {
   "cell_type": "code",
   "execution_count": null,
   "metadata": {},
   "outputs": [],
   "source": [
    "df_test_kaggle_cv_o_n[\"NN_soleil_binned\"] = df_test_kaggle_cv_o_n[\"NN_soleil\"].apply(binned_soleil)\n",
    "df_test_kaggle_cv_o_n[\"NO_temp_binned\"] = df_test_kaggle_cv_o_n[\"NO_temp\"].apply(binned_temp)"
   ]
  },
  {
   "cell_type": "markdown",
   "metadata": {},
   "source": [
    "Liste des variables utilisées pour \"MODELE_1\":<br>\n",
    "-CN_school\n",
    "-NN_soleil\n",
    "-NN_tendance_1\n",
    "-NN_tendance_2\n",
    "-NO_atemp\n",
    "-NO_humidity\n",
    "-NO_temp\n",
    "-NO_windspeed\n",
    "\n",
    "-datetime\n",
    "-count\n",
    "\n",
    "-CO_hour_mean_encoding\n",
    "-CO_month_mean_encoding\n",
    "-CO_day_mean_encoding\n",
    "-CO_weather_ordinal_encoding\n",
    "-CO_season_ordinal_encoding\n",
    "-CO_year_ordinal_encoding\n",
    "-CN_type_of_day"
   ]
  },
  {
   "cell_type": "markdown",
   "metadata": {},
   "source": [
    "On crée des .pkl des dataframes contenant toutes les variables:"
   ]
  },
  {
   "cell_type": "code",
   "execution_count": 306,
   "metadata": {},
   "outputs": [],
   "source": [
    "df_train_for_cv_o_n.to_pickle(\"../data/df_train_for_cv_o_n_all_variables.pkl\")\n",
    "df_test_kaggle_cv_o_n.to_pickle(\"../data/df_test_kaggle_cv_o_n_all_variables.pkl\")"
   ]
  },
  {
   "cell_type": "code",
   "execution_count": 254,
   "metadata": {},
   "outputs": [],
   "source": [
    "variables_to_keep_train = ['CN_school',\n",
    "'NN_soleil',\n",
    "'NN_tendance_1',\n",
    "'NN_tendance_2',\n",
    "'NO_atemp',\n",
    "'NO_humidity',\n",
    "'NO_temp',\n",
    "'NO_windspeed',\n",
    "'datetime',\n",
    "'count',\n",
    "'CO_hour_mean_encoding',\n",
    "'CO_month_mean_encoding',\n",
    "'CO_day_mean_encoding',\n",
    "'CO_weather_ordinal_encoding',\n",
    "'CO_season_ordinal_encoding',\n",
    "'CO_year_ordinal_encoding',\n",
    "'CN_type_of_day']\n",
    "variables_to_keep_test = ['CN_school',\n",
    "'NN_soleil',\n",
    "'NN_tendance_1',\n",
    "'NN_tendance_2',\n",
    "'NO_atemp',\n",
    "'NO_humidity',\n",
    "'NO_temp',\n",
    "'NO_windspeed',\n",
    "'datetime',\n",
    "'CO_hour_mean_encoding',\n",
    "'CO_month_mean_encoding',\n",
    "'CO_day_mean_encoding',\n",
    "'CO_weather_ordinal_encoding',\n",
    "'CO_season_ordinal_encoding',\n",
    "'CO_year_ordinal_encoding',\n",
    "'CN_type_of_day']"
   ]
  },
  {
   "cell_type": "code",
   "execution_count": 361,
   "metadata": {},
   "outputs": [],
   "source": [
    "df_train_for_cv_o_n_sk_mean_encoding_1 = df_train_for_cv_o_n[variables_to_keep_train]\n",
    "df_test_kaggle_cv_o_n_sk_mean_encoding_1 = df_test_kaggle_cv_o_n[variables_to_keep_test]"
   ]
  },
  {
   "cell_type": "code",
   "execution_count": 362,
   "metadata": {},
   "outputs": [
    {
     "data": {
      "text/plain": [
       "(10886, 17)"
      ]
     },
     "execution_count": 362,
     "metadata": {},
     "output_type": "execute_result"
    }
   ],
   "source": [
    "df_train_for_cv_o_n_sk_mean_encoding_1.shape"
   ]
  },
  {
   "cell_type": "code",
   "execution_count": 364,
   "metadata": {},
   "outputs": [
    {
     "data": {
      "text/plain": [
       "(6493, 16)"
      ]
     },
     "execution_count": 364,
     "metadata": {},
     "output_type": "execute_result"
    }
   ],
   "source": [
    "df_test_kaggle_cv_o_n_sk_mean_encoding_1.shape"
   ]
  },
  {
   "cell_type": "code",
   "execution_count": 367,
   "metadata": {},
   "outputs": [
    {
     "data": {
      "text/html": [
       "<div>\n",
       "<style scoped>\n",
       "    .dataframe tbody tr th:only-of-type {\n",
       "        vertical-align: middle;\n",
       "    }\n",
       "\n",
       "    .dataframe tbody tr th {\n",
       "        vertical-align: top;\n",
       "    }\n",
       "\n",
       "    .dataframe thead th {\n",
       "        text-align: right;\n",
       "    }\n",
       "</style>\n",
       "<table border=\"1\" class=\"dataframe\">\n",
       "  <thead>\n",
       "    <tr style=\"text-align: right;\">\n",
       "      <th></th>\n",
       "      <th>CN_school</th>\n",
       "      <th>NN_soleil</th>\n",
       "      <th>NN_tendance_1</th>\n",
       "      <th>NN_tendance_2</th>\n",
       "      <th>NO_atemp</th>\n",
       "      <th>NO_humidity</th>\n",
       "      <th>NO_temp</th>\n",
       "      <th>NO_windspeed</th>\n",
       "      <th>datetime</th>\n",
       "      <th>CO_hour_mean_encoding</th>\n",
       "      <th>CO_month_mean_encoding</th>\n",
       "      <th>CO_day_mean_encoding</th>\n",
       "      <th>CO_weather_ordinal_encoding</th>\n",
       "      <th>CO_season_ordinal_encoding</th>\n",
       "      <th>CO_year_ordinal_encoding</th>\n",
       "      <th>CN_type_of_day</th>\n",
       "    </tr>\n",
       "  </thead>\n",
       "  <tbody>\n",
       "    <tr>\n",
       "      <th>698</th>\n",
       "      <td>0</td>\n",
       "      <td>-46.090147</td>\n",
       "      <td>0.963799</td>\n",
       "      <td>88</td>\n",
       "      <td>17.425</td>\n",
       "      <td>57</td>\n",
       "      <td>13.12</td>\n",
       "      <td>0.0000</td>\n",
       "      <td>2011-03-30 02:00:00</td>\n",
       "      <td>0</td>\n",
       "      <td>0</td>\n",
       "      <td>0</td>\n",
       "      <td>1.0</td>\n",
       "      <td>3.0</td>\n",
       "      <td>0.0</td>\n",
       "      <td>0</td>\n",
       "    </tr>\n",
       "    <tr>\n",
       "      <th>2891</th>\n",
       "      <td>0</td>\n",
       "      <td>-72.498785</td>\n",
       "      <td>0.929079</td>\n",
       "      <td>332</td>\n",
       "      <td>25.000</td>\n",
       "      <td>83</td>\n",
       "      <td>21.32</td>\n",
       "      <td>6.0032</td>\n",
       "      <td>2011-11-29 01:00:00</td>\n",
       "      <td>0</td>\n",
       "      <td>2</td>\n",
       "      <td>0</td>\n",
       "      <td>0.0</td>\n",
       "      <td>1.0</td>\n",
       "      <td>0.0</td>\n",
       "      <td>0</td>\n",
       "    </tr>\n",
       "    <tr>\n",
       "      <th>3633</th>\n",
       "      <td>0</td>\n",
       "      <td>-43.820223</td>\n",
       "      <td>1.208349</td>\n",
       "      <td>420</td>\n",
       "      <td>13.635</td>\n",
       "      <td>42</td>\n",
       "      <td>12.30</td>\n",
       "      <td>22.0028</td>\n",
       "      <td>2012-02-25 04:00:00</td>\n",
       "      <td>0</td>\n",
       "      <td>0</td>\n",
       "      <td>1</td>\n",
       "      <td>0.0</td>\n",
       "      <td>2.0</td>\n",
       "      <td>1.0</td>\n",
       "      <td>1</td>\n",
       "    </tr>\n",
       "    <tr>\n",
       "      <th>5321</th>\n",
       "      <td>0</td>\n",
       "      <td>60.778684</td>\n",
       "      <td>1.051918</td>\n",
       "      <td>604</td>\n",
       "      <td>35.605</td>\n",
       "      <td>57</td>\n",
       "      <td>31.16</td>\n",
       "      <td>11.0014</td>\n",
       "      <td>2012-08-27 13:00:00</td>\n",
       "      <td>2</td>\n",
       "      <td>1</td>\n",
       "      <td>0</td>\n",
       "      <td>0.0</td>\n",
       "      <td>0.0</td>\n",
       "      <td>1.0</td>\n",
       "      <td>0</td>\n",
       "    </tr>\n",
       "    <tr>\n",
       "      <th>1486</th>\n",
       "      <td>1</td>\n",
       "      <td>-13.394015</td>\n",
       "      <td>1.014383</td>\n",
       "      <td>177</td>\n",
       "      <td>31.820</td>\n",
       "      <td>69</td>\n",
       "      <td>27.88</td>\n",
       "      <td>0.0000</td>\n",
       "      <td>2011-06-27 22:00:00</td>\n",
       "      <td>4</td>\n",
       "      <td>1</td>\n",
       "      <td>0</td>\n",
       "      <td>0.0</td>\n",
       "      <td>0.0</td>\n",
       "      <td>0.0</td>\n",
       "      <td>0</td>\n",
       "    </tr>\n",
       "  </tbody>\n",
       "</table>\n",
       "</div>"
      ],
      "text/plain": [
       "      CN_school  NN_soleil  NN_tendance_1  NN_tendance_2  NO_atemp  \\\n",
       "698           0 -46.090147       0.963799             88    17.425   \n",
       "2891          0 -72.498785       0.929079            332    25.000   \n",
       "3633          0 -43.820223       1.208349            420    13.635   \n",
       "5321          0  60.778684       1.051918            604    35.605   \n",
       "1486          1 -13.394015       1.014383            177    31.820   \n",
       "\n",
       "      NO_humidity  NO_temp  NO_windspeed             datetime  \\\n",
       "698            57    13.12        0.0000  2011-03-30 02:00:00   \n",
       "2891           83    21.32        6.0032  2011-11-29 01:00:00   \n",
       "3633           42    12.30       22.0028  2012-02-25 04:00:00   \n",
       "5321           57    31.16       11.0014  2012-08-27 13:00:00   \n",
       "1486           69    27.88        0.0000  2011-06-27 22:00:00   \n",
       "\n",
       "      CO_hour_mean_encoding  CO_month_mean_encoding  CO_day_mean_encoding  \\\n",
       "698                       0                       0                     0   \n",
       "2891                      0                       2                     0   \n",
       "3633                      0                       0                     1   \n",
       "5321                      2                       1                     0   \n",
       "1486                      4                       1                     0   \n",
       "\n",
       "      CO_weather_ordinal_encoding  CO_season_ordinal_encoding  \\\n",
       "698                           1.0                         3.0   \n",
       "2891                          0.0                         1.0   \n",
       "3633                          0.0                         2.0   \n",
       "5321                          0.0                         0.0   \n",
       "1486                          0.0                         0.0   \n",
       "\n",
       "      CO_year_ordinal_encoding  CN_type_of_day  \n",
       "698                        0.0               0  \n",
       "2891                       0.0               0  \n",
       "3633                       1.0               1  \n",
       "5321                       1.0               0  \n",
       "1486                       0.0               0  "
      ]
     },
     "execution_count": 367,
     "metadata": {},
     "output_type": "execute_result"
    }
   ],
   "source": [
    "df_test_kaggle_cv_o_n_sk_mean_encoding_1.sample(n=5)"
   ]
  },
  {
   "cell_type": "code",
   "execution_count": 369,
   "metadata": {},
   "outputs": [],
   "source": [
    "df_train_for_cv_o_n_sk_mean_encoding_1.to_pickle(\"../data/df_train_for_cv_o_n_sk_mean_encoding_1.pkl\")\n",
    "df_test_kaggle_cv_o_n_sk_mean_encoding_1.to_pickle(\"../data/df_test_kaggle_cv_o_n_sk_mean_encoding_1.pkl\")"
   ]
  },
  {
   "cell_type": "code",
   "execution_count": null,
   "metadata": {},
   "outputs": [],
   "source": [
    "MODELE 2:\n",
    "- CO_weather : ordinale\n",
    "- On binne CO_hour + CO_month\n",
    "- CO_season, CO_day, CO_year: en dummy variables\n",
    "- Nouvelle variable: type de jour"
   ]
  },
  {
   "cell_type": "code",
   "execution_count": null,
   "metadata": {},
   "outputs": [],
   "source": []
  },
  {
   "cell_type": "code",
   "execution_count": 336,
   "metadata": {},
   "outputs": [
    {
     "data": {
      "text/plain": [
       "CN_school           int64\n",
       "CN_soleilQ         object\n",
       "CN_tendance_1Q     object\n",
       "CN_tendance_2Q     object\n",
       "CO_atempQ          object\n",
       "CO_day              int64\n",
       "CO_holiday          int64\n",
       "CO_humidityQ       object\n",
       "CO_month            int64\n",
       "CO_season           int64\n",
       "CO_tempQ           object\n",
       "CO_weather          int64\n",
       "CO_windspeedQ      object\n",
       "CO_workingday       int64\n",
       "NN_soleil         float64\n",
       "NN_tendance_1     float64\n",
       "NN_tendance_2       int64\n",
       "NO_atemp          float64\n",
       "NO_humidity         int64\n",
       "NO_temp           float64\n",
       "NO_windspeed      float64\n",
       "S_casual          float64\n",
       "S_casualQ          object\n",
       "S_rateregis       float64\n",
       "S_rateregisQ       object\n",
       "S_registered      float64\n",
       "S_registeredQ      object\n",
       "datetime           object\n",
       "CO_hour             int64\n",
       "CO_year             int64\n",
       "count               int64\n",
       "dtype: object"
      ]
     },
     "execution_count": 336,
     "metadata": {},
     "output_type": "execute_result"
    }
   ],
   "source": [
    "df_for_cv_o_n_sk_encoded.dtypes"
   ]
  },
  {
   "cell_type": "code",
   "execution_count": 337,
   "metadata": {},
   "outputs": [],
   "source": [
    "# df_for_cv_o_n_sk_encoded.describe()\n",
    "# Encodage en numérique OK pour : day, month, season, weather, hour, year"
   ]
  },
  {
   "cell_type": "code",
   "execution_count": 338,
   "metadata": {},
   "outputs": [
    {
     "data": {
      "text/html": [
       "<div>\n",
       "<style scoped>\n",
       "    .dataframe tbody tr th:only-of-type {\n",
       "        vertical-align: middle;\n",
       "    }\n",
       "\n",
       "    .dataframe tbody tr th {\n",
       "        vertical-align: top;\n",
       "    }\n",
       "\n",
       "    .dataframe thead th {\n",
       "        text-align: right;\n",
       "    }\n",
       "</style>\n",
       "<table border=\"1\" class=\"dataframe\">\n",
       "  <thead>\n",
       "    <tr style=\"text-align: right;\">\n",
       "      <th></th>\n",
       "      <th>CN_school</th>\n",
       "      <th>CN_soleilQ</th>\n",
       "      <th>CN_tendance_1Q</th>\n",
       "      <th>CN_tendance_2Q</th>\n",
       "      <th>CO_atempQ</th>\n",
       "      <th>CO_day</th>\n",
       "      <th>CO_holiday</th>\n",
       "      <th>CO_humidityQ</th>\n",
       "      <th>CO_month</th>\n",
       "      <th>CO_season</th>\n",
       "      <th>...</th>\n",
       "      <th>NO_windspeed</th>\n",
       "      <th>S_casual</th>\n",
       "      <th>S_casualQ</th>\n",
       "      <th>S_rateregis</th>\n",
       "      <th>S_rateregisQ</th>\n",
       "      <th>S_registered</th>\n",
       "      <th>S_registeredQ</th>\n",
       "      <th>datetime</th>\n",
       "      <th>CO_hour</th>\n",
       "      <th>CO_year</th>\n",
       "    </tr>\n",
       "  </thead>\n",
       "  <tbody>\n",
       "    <tr>\n",
       "      <th>0</th>\n",
       "      <td>0</td>\n",
       "      <td>[-74.5,-27.9]</td>\n",
       "      <td>[0.828,0.92]</td>\n",
       "      <td>[19,86]</td>\n",
       "      <td>[0,16.7]</td>\n",
       "      <td>4</td>\n",
       "      <td>0</td>\n",
       "      <td>(49,65]</td>\n",
       "      <td>4</td>\n",
       "      <td>2</td>\n",
       "      <td>...</td>\n",
       "      <td>26.0027</td>\n",
       "      <td>0.328669</td>\n",
       "      <td>(0.249,0.501]</td>\n",
       "      <td>0.805835</td>\n",
       "      <td>(0.802,1]</td>\n",
       "      <td>0.788077</td>\n",
       "      <td>(0.753,1]</td>\n",
       "      <td>2011-01-20 00:00:00</td>\n",
       "      <td>0</td>\n",
       "      <td>0</td>\n",
       "    </tr>\n",
       "    <tr>\n",
       "      <th>1</th>\n",
       "      <td>0</td>\n",
       "      <td>[-74.5,-27.9]</td>\n",
       "      <td>[0.828,0.92]</td>\n",
       "      <td>[19,86]</td>\n",
       "      <td>[0,16.7]</td>\n",
       "      <td>4</td>\n",
       "      <td>0</td>\n",
       "      <td>(49,65]</td>\n",
       "      <td>4</td>\n",
       "      <td>2</td>\n",
       "      <td>...</td>\n",
       "      <td>0.0000</td>\n",
       "      <td>0.277432</td>\n",
       "      <td>(0.249,0.501]</td>\n",
       "      <td>0.698099</td>\n",
       "      <td>(0.597,0.802]</td>\n",
       "      <td>0.541911</td>\n",
       "      <td>(0.498,0.753]</td>\n",
       "      <td>2011-01-20 01:00:00</td>\n",
       "      <td>1</td>\n",
       "      <td>0</td>\n",
       "    </tr>\n",
       "    <tr>\n",
       "      <th>2</th>\n",
       "      <td>0</td>\n",
       "      <td>[-74.5,-27.9]</td>\n",
       "      <td>[0.828,0.92]</td>\n",
       "      <td>[19,86]</td>\n",
       "      <td>[0,16.7]</td>\n",
       "      <td>4</td>\n",
       "      <td>0</td>\n",
       "      <td>(49,65]</td>\n",
       "      <td>4</td>\n",
       "      <td>2</td>\n",
       "      <td>...</td>\n",
       "      <td>0.0000</td>\n",
       "      <td>0.120899</td>\n",
       "      <td>[5.86e-05,0.249]</td>\n",
       "      <td>0.338947</td>\n",
       "      <td>(0.194,0.4]</td>\n",
       "      <td>0.216304</td>\n",
       "      <td>[0.000152,0.248]</td>\n",
       "      <td>2011-01-20 02:00:00</td>\n",
       "      <td>12</td>\n",
       "      <td>0</td>\n",
       "    </tr>\n",
       "    <tr>\n",
       "      <th>3</th>\n",
       "      <td>0</td>\n",
       "      <td>[-74.5,-27.9]</td>\n",
       "      <td>[0.828,0.92]</td>\n",
       "      <td>[19,86]</td>\n",
       "      <td>[0,16.7]</td>\n",
       "      <td>4</td>\n",
       "      <td>0</td>\n",
       "      <td>(49,65]</td>\n",
       "      <td>4</td>\n",
       "      <td>2</td>\n",
       "      <td>...</td>\n",
       "      <td>11.0014</td>\n",
       "      <td>0.158266</td>\n",
       "      <td>[5.86e-05,0.249]</td>\n",
       "      <td>1.551012</td>\n",
       "      <td>(1.25,1.69]</td>\n",
       "      <td>0.948388</td>\n",
       "      <td>(0.753,1]</td>\n",
       "      <td>2011-01-20 03:00:00</td>\n",
       "      <td>17</td>\n",
       "      <td>0</td>\n",
       "    </tr>\n",
       "    <tr>\n",
       "      <th>4</th>\n",
       "      <td>0</td>\n",
       "      <td>[-74.5,-27.9]</td>\n",
       "      <td>[0.828,0.92]</td>\n",
       "      <td>[19,86]</td>\n",
       "      <td>[0,16.7]</td>\n",
       "      <td>4</td>\n",
       "      <td>0</td>\n",
       "      <td>(49,65]</td>\n",
       "      <td>4</td>\n",
       "      <td>2</td>\n",
       "      <td>...</td>\n",
       "      <td>11.0014</td>\n",
       "      <td>0.390428</td>\n",
       "      <td>(0.249,0.501]</td>\n",
       "      <td>1.040613</td>\n",
       "      <td>(1,1.25]</td>\n",
       "      <td>0.869250</td>\n",
       "      <td>(0.753,1]</td>\n",
       "      <td>2011-01-20 04:00:00</td>\n",
       "      <td>18</td>\n",
       "      <td>0</td>\n",
       "    </tr>\n",
       "  </tbody>\n",
       "</table>\n",
       "<p>5 rows × 30 columns</p>\n",
       "</div>"
      ],
      "text/plain": [
       "   CN_school     CN_soleilQ CN_tendance_1Q CN_tendance_2Q CO_atempQ  CO_day  \\\n",
       "0          0  [-74.5,-27.9]   [0.828,0.92]        [19,86]  [0,16.7]       4   \n",
       "1          0  [-74.5,-27.9]   [0.828,0.92]        [19,86]  [0,16.7]       4   \n",
       "2          0  [-74.5,-27.9]   [0.828,0.92]        [19,86]  [0,16.7]       4   \n",
       "3          0  [-74.5,-27.9]   [0.828,0.92]        [19,86]  [0,16.7]       4   \n",
       "4          0  [-74.5,-27.9]   [0.828,0.92]        [19,86]  [0,16.7]       4   \n",
       "\n",
       "   CO_holiday CO_humidityQ  CO_month  CO_season  ... NO_windspeed  S_casual  \\\n",
       "0           0      (49,65]         4          2  ...      26.0027  0.328669   \n",
       "1           0      (49,65]         4          2  ...       0.0000  0.277432   \n",
       "2           0      (49,65]         4          2  ...       0.0000  0.120899   \n",
       "3           0      (49,65]         4          2  ...      11.0014  0.158266   \n",
       "4           0      (49,65]         4          2  ...      11.0014  0.390428   \n",
       "\n",
       "          S_casualQ  S_rateregis   S_rateregisQ  S_registered  \\\n",
       "0     (0.249,0.501]     0.805835      (0.802,1]      0.788077   \n",
       "1     (0.249,0.501]     0.698099  (0.597,0.802]      0.541911   \n",
       "2  [5.86e-05,0.249]     0.338947    (0.194,0.4]      0.216304   \n",
       "3  [5.86e-05,0.249]     1.551012    (1.25,1.69]      0.948388   \n",
       "4     (0.249,0.501]     1.040613       (1,1.25]      0.869250   \n",
       "\n",
       "      S_registeredQ             datetime  CO_hour  CO_year  \n",
       "0         (0.753,1]  2011-01-20 00:00:00        0        0  \n",
       "1     (0.498,0.753]  2011-01-20 01:00:00        1        0  \n",
       "2  [0.000152,0.248]  2011-01-20 02:00:00       12        0  \n",
       "3         (0.753,1]  2011-01-20 03:00:00       17        0  \n",
       "4         (0.753,1]  2011-01-20 04:00:00       18        0  \n",
       "\n",
       "[5 rows x 30 columns]"
      ]
     },
     "execution_count": 338,
     "metadata": {},
     "output_type": "execute_result"
    }
   ],
   "source": [
    "df_test_kaggle_o_n_sk_encoded.head()"
   ]
  },
  {
   "cell_type": "markdown",
   "metadata": {},
   "source": [
    "Mais penser à faire d'abord un modèle \"xgboost\" avec :\n",
    "CO_day, CO_month, CO_season, CO_weather, CO_hour et CO_year"
   ]
  },
  {
   "cell_type": "code",
   "execution_count": 340,
   "metadata": {},
   "outputs": [
    {
     "data": {
      "text/plain": [
       "['CN_school',\n",
       " 'CN_soleilQ',\n",
       " 'CN_tendance_1Q',\n",
       " 'CN_tendance_2Q',\n",
       " 'CO_atempQ',\n",
       " 'CO_day',\n",
       " 'CO_holiday',\n",
       " 'CO_humidityQ',\n",
       " 'CO_month',\n",
       " 'CO_season',\n",
       " 'CO_tempQ',\n",
       " 'CO_weather',\n",
       " 'CO_windspeedQ',\n",
       " 'CO_workingday',\n",
       " 'NN_soleil',\n",
       " 'NN_tendance_1',\n",
       " 'NN_tendance_2',\n",
       " 'NO_atemp',\n",
       " 'NO_humidity',\n",
       " 'NO_temp',\n",
       " 'NO_windspeed',\n",
       " 'S_casual',\n",
       " 'S_casualQ',\n",
       " 'S_rateregis',\n",
       " 'S_rateregisQ',\n",
       " 'S_registered',\n",
       " 'S_registeredQ',\n",
       " 'datetime',\n",
       " 'CO_hour',\n",
       " 'CO_year',\n",
       " 'count']"
      ]
     },
     "execution_count": 340,
     "metadata": {},
     "output_type": "execute_result"
    }
   ],
   "source": [
    "list(df_for_cv_o_n_sk_encoded)"
   ]
  },
  {
   "cell_type": "code",
   "execution_count": 341,
   "metadata": {},
   "outputs": [],
   "source": [
    "variables_to_keep_train = [each for each in list(df_for_cv_o_n_sk_encoded) if each[0] != 'S' and each[-1] != 'Q']\n",
    "variables_to_keep_test = [each for each in list(df_for_cv_o_n_sk_encoded) if each[0] != 'S' and each[-1] != 'Q' and each != 'count']"
   ]
  },
  {
   "cell_type": "code",
   "execution_count": 343,
   "metadata": {},
   "outputs": [
    {
     "data": {
      "text/plain": [
       "(10886, 31)"
      ]
     },
     "execution_count": 343,
     "metadata": {},
     "output_type": "execute_result"
    }
   ],
   "source": [
    "df_for_cv_o_n_sk_encoded.shape"
   ]
  },
  {
   "cell_type": "code",
   "execution_count": 344,
   "metadata": {},
   "outputs": [
    {
     "data": {
      "text/plain": [
       "(6493, 30)"
      ]
     },
     "execution_count": 344,
     "metadata": {},
     "output_type": "execute_result"
    }
   ],
   "source": [
    "df_test_kaggle_o_n.shape"
   ]
  },
  {
   "cell_type": "code",
   "execution_count": 345,
   "metadata": {},
   "outputs": [],
   "source": [
    "df_for_cv_o_n_sk_encoded = df_for_cv_o_n_sk_encoded[variables_to_keep_train]\n",
    "df_test_kaggle_o_n_sk_encoded = df_test_kaggle_o_n_sk_encoded[variables_to_keep_test]"
   ]
  },
  {
   "cell_type": "code",
   "execution_count": 346,
   "metadata": {},
   "outputs": [
    {
     "data": {
      "text/plain": [
       "(10886, 18)"
      ]
     },
     "execution_count": 346,
     "metadata": {},
     "output_type": "execute_result"
    }
   ],
   "source": [
    "df_for_cv_o_n_sk_encoded.shape"
   ]
  },
  {
   "cell_type": "code",
   "execution_count": 347,
   "metadata": {},
   "outputs": [
    {
     "data": {
      "text/plain": [
       "(6493, 17)"
      ]
     },
     "execution_count": 347,
     "metadata": {},
     "output_type": "execute_result"
    }
   ],
   "source": [
    "df_test_kaggle_o_n_sk_encoded.shape"
   ]
  },
  {
   "cell_type": "code",
   "execution_count": 348,
   "metadata": {},
   "outputs": [],
   "source": [
    "df_for_cv_o_n_sk_encoded.to_pickle(\"../data/df_for_cv_o_n_sk_encoded.pkl\")"
   ]
  },
  {
   "cell_type": "code",
   "execution_count": 349,
   "metadata": {},
   "outputs": [],
   "source": [
    "df_test_kaggle_o_n_sk_encoded.to_pickle(\"../data/df_test_kaggle_o_n_sk_encoded.pkl\")"
   ]
  },
  {
   "cell_type": "code",
   "execution_count": 350,
   "metadata": {},
   "outputs": [
    {
     "data": {
      "text/html": [
       "<div>\n",
       "<style scoped>\n",
       "    .dataframe tbody tr th:only-of-type {\n",
       "        vertical-align: middle;\n",
       "    }\n",
       "\n",
       "    .dataframe tbody tr th {\n",
       "        vertical-align: top;\n",
       "    }\n",
       "\n",
       "    .dataframe thead th {\n",
       "        text-align: right;\n",
       "    }\n",
       "</style>\n",
       "<table border=\"1\" class=\"dataframe\">\n",
       "  <thead>\n",
       "    <tr style=\"text-align: right;\">\n",
       "      <th></th>\n",
       "      <th>CN_school</th>\n",
       "      <th>CO_day</th>\n",
       "      <th>CO_holiday</th>\n",
       "      <th>CO_month</th>\n",
       "      <th>CO_season</th>\n",
       "      <th>CO_weather</th>\n",
       "      <th>CO_workingday</th>\n",
       "      <th>NN_soleil</th>\n",
       "      <th>NN_tendance_1</th>\n",
       "      <th>NN_tendance_2</th>\n",
       "      <th>NO_atemp</th>\n",
       "      <th>NO_humidity</th>\n",
       "      <th>NO_temp</th>\n",
       "      <th>NO_windspeed</th>\n",
       "      <th>datetime</th>\n",
       "      <th>CO_hour</th>\n",
       "      <th>CO_year</th>\n",
       "    </tr>\n",
       "  </thead>\n",
       "  <tbody>\n",
       "    <tr>\n",
       "      <th>0</th>\n",
       "      <td>0</td>\n",
       "      <td>4</td>\n",
       "      <td>0</td>\n",
       "      <td>4</td>\n",
       "      <td>2</td>\n",
       "      <td>0</td>\n",
       "      <td>1</td>\n",
       "      <td>-64.731114</td>\n",
       "      <td>0.920373</td>\n",
       "      <td>19</td>\n",
       "      <td>11.365</td>\n",
       "      <td>56</td>\n",
       "      <td>10.66</td>\n",
       "      <td>26.0027</td>\n",
       "      <td>2011-01-20 00:00:00</td>\n",
       "      <td>0</td>\n",
       "      <td>0</td>\n",
       "    </tr>\n",
       "    <tr>\n",
       "      <th>1</th>\n",
       "      <td>0</td>\n",
       "      <td>4</td>\n",
       "      <td>0</td>\n",
       "      <td>4</td>\n",
       "      <td>2</td>\n",
       "      <td>0</td>\n",
       "      <td>1</td>\n",
       "      <td>-70.858731</td>\n",
       "      <td>0.920373</td>\n",
       "      <td>19</td>\n",
       "      <td>13.635</td>\n",
       "      <td>56</td>\n",
       "      <td>10.66</td>\n",
       "      <td>0.0000</td>\n",
       "      <td>2011-01-20 01:00:00</td>\n",
       "      <td>1</td>\n",
       "      <td>0</td>\n",
       "    </tr>\n",
       "    <tr>\n",
       "      <th>2</th>\n",
       "      <td>0</td>\n",
       "      <td>4</td>\n",
       "      <td>0</td>\n",
       "      <td>4</td>\n",
       "      <td>2</td>\n",
       "      <td>0</td>\n",
       "      <td>1</td>\n",
       "      <td>-69.313963</td>\n",
       "      <td>0.920373</td>\n",
       "      <td>19</td>\n",
       "      <td>13.635</td>\n",
       "      <td>56</td>\n",
       "      <td>10.66</td>\n",
       "      <td>0.0000</td>\n",
       "      <td>2011-01-20 02:00:00</td>\n",
       "      <td>12</td>\n",
       "      <td>0</td>\n",
       "    </tr>\n",
       "    <tr>\n",
       "      <th>3</th>\n",
       "      <td>0</td>\n",
       "      <td>4</td>\n",
       "      <td>0</td>\n",
       "      <td>4</td>\n",
       "      <td>2</td>\n",
       "      <td>0</td>\n",
       "      <td>1</td>\n",
       "      <td>-61.327846</td>\n",
       "      <td>0.920373</td>\n",
       "      <td>19</td>\n",
       "      <td>12.880</td>\n",
       "      <td>56</td>\n",
       "      <td>10.66</td>\n",
       "      <td>11.0014</td>\n",
       "      <td>2011-01-20 03:00:00</td>\n",
       "      <td>17</td>\n",
       "      <td>0</td>\n",
       "    </tr>\n",
       "    <tr>\n",
       "      <th>4</th>\n",
       "      <td>0</td>\n",
       "      <td>4</td>\n",
       "      <td>0</td>\n",
       "      <td>4</td>\n",
       "      <td>2</td>\n",
       "      <td>0</td>\n",
       "      <td>1</td>\n",
       "      <td>-50.733442</td>\n",
       "      <td>0.920373</td>\n",
       "      <td>19</td>\n",
       "      <td>12.880</td>\n",
       "      <td>56</td>\n",
       "      <td>10.66</td>\n",
       "      <td>11.0014</td>\n",
       "      <td>2011-01-20 04:00:00</td>\n",
       "      <td>18</td>\n",
       "      <td>0</td>\n",
       "    </tr>\n",
       "  </tbody>\n",
       "</table>\n",
       "</div>"
      ],
      "text/plain": [
       "   CN_school  CO_day  CO_holiday  CO_month  CO_season  CO_weather  \\\n",
       "0          0       4           0         4          2           0   \n",
       "1          0       4           0         4          2           0   \n",
       "2          0       4           0         4          2           0   \n",
       "3          0       4           0         4          2           0   \n",
       "4          0       4           0         4          2           0   \n",
       "\n",
       "   CO_workingday  NN_soleil  NN_tendance_1  NN_tendance_2  NO_atemp  \\\n",
       "0              1 -64.731114       0.920373             19    11.365   \n",
       "1              1 -70.858731       0.920373             19    13.635   \n",
       "2              1 -69.313963       0.920373             19    13.635   \n",
       "3              1 -61.327846       0.920373             19    12.880   \n",
       "4              1 -50.733442       0.920373             19    12.880   \n",
       "\n",
       "   NO_humidity  NO_temp  NO_windspeed             datetime  CO_hour  CO_year  \n",
       "0           56    10.66       26.0027  2011-01-20 00:00:00        0        0  \n",
       "1           56    10.66        0.0000  2011-01-20 01:00:00        1        0  \n",
       "2           56    10.66        0.0000  2011-01-20 02:00:00       12        0  \n",
       "3           56    10.66       11.0014  2011-01-20 03:00:00       17        0  \n",
       "4           56    10.66       11.0014  2011-01-20 04:00:00       18        0  "
      ]
     },
     "execution_count": 350,
     "metadata": {},
     "output_type": "execute_result"
    }
   ],
   "source": [
    "df_test_kaggle_o_n_sk_encoded.head()"
   ]
  },
  {
   "cell_type": "code",
   "execution_count": null,
   "metadata": {},
   "outputs": [],
   "source": []
  },
  {
   "cell_type": "code",
   "execution_count": null,
   "metadata": {},
   "outputs": [],
   "source": []
  },
  {
   "cell_type": "code",
   "execution_count": null,
   "metadata": {},
   "outputs": [],
   "source": []
  },
  {
   "cell_type": "code",
   "execution_count": null,
   "metadata": {},
   "outputs": [],
   "source": []
  },
  {
   "cell_type": "markdown",
   "metadata": {},
   "source": [
    "#### III Création d'un dataset avec les variables Origin et New et interactions entre catégorielles d'ordre 2<br>\n",
    "\n",
    "On pourra aussi ajouter les interactions entre variables numériques "
   ]
  },
  {
   "cell_type": "markdown",
   "metadata": {},
   "source": [
    "On prend toutes les variables \"CO\", \"NO\", \"NN\" et \"CN\""
   ]
  },
  {
   "cell_type": "markdown",
   "metadata": {},
   "source": [
    "On a déjà \"df_for_models\""
   ]
  },
  {
   "cell_type": "code",
   "execution_count": 40,
   "metadata": {},
   "outputs": [],
   "source": [
    "all_categorical = [name_var for name_var in list(df) if name_var[0:1] == 'C'] "
   ]
  },
  {
   "cell_type": "code",
   "execution_count": 41,
   "metadata": {},
   "outputs": [
    {
     "data": {
      "text/plain": [
       "16"
      ]
     },
     "execution_count": 41,
     "metadata": {},
     "output_type": "execute_result"
    }
   ],
   "source": [
    "len(all_categorical)"
   ]
  },
  {
   "cell_type": "code",
   "execution_count": 42,
   "metadata": {},
   "outputs": [
    {
     "data": {
      "text/plain": [
       "CN_school          int64\n",
       "CN_soleilQ        object\n",
       "CN_tendance_1Q    object\n",
       "CN_tendance_2Q    object\n",
       "CO_atempQ         object\n",
       "CO_day            object\n",
       "CO_holiday         int64\n",
       "CO_humidityQ      object\n",
       "CO_month          object\n",
       "CO_season         object\n",
       "CO_tempQ          object\n",
       "CO_weather        object\n",
       "CO_windspeedQ     object\n",
       "CO_workingday      int64\n",
       "CO_hour           object\n",
       "CO_year           object\n",
       "dtype: object"
      ]
     },
     "execution_count": 42,
     "metadata": {},
     "output_type": "execute_result"
    }
   ],
   "source": [
    "df[all_categorical].dtypes"
   ]
  },
  {
   "cell_type": "code",
   "execution_count": 43,
   "metadata": {},
   "outputs": [],
   "source": [
    "df_all_categorical = df[all_categorical].applymap(str)"
   ]
  },
  {
   "cell_type": "code",
   "execution_count": 44,
   "metadata": {},
   "outputs": [
    {
     "data": {
      "text/plain": [
       "(17379, 16)"
      ]
     },
     "execution_count": 44,
     "metadata": {},
     "output_type": "execute_result"
    }
   ],
   "source": [
    "df_all_categorical.shape"
   ]
  },
  {
   "cell_type": "markdown",
   "metadata": {},
   "source": [
    "Ajout des interactions d'ordre 2 entre variables catégorielles "
   ]
  },
  {
   "cell_type": "code",
   "execution_count": 45,
   "metadata": {},
   "outputs": [],
   "source": [
    "# On peut faire les interactions d'ordre 2 avec \"Patsylearn\" (différent de \"Patsy\") \n",
    "# C'est un package Github\n",
    "# from patsylearn import PatsyTransformer\n",
    "# from patsylearn import PatsyModel\n",
    "# transformer = PatsyTransformer(\"C(CO_season):C(CO_weather) + C(CO_season):C(CO_humidityQ)\")"
   ]
  },
  {
   "cell_type": "code",
   "execution_count": 46,
   "metadata": {},
   "outputs": [],
   "source": [
    "# def interaction_order(df,list_of_categ_var, order, only_ordre):\n",
    "def interaction_order(df,list_of_categ_var, order):\n",
    "    \n",
    "    initial_list_df = list_of_categ_var\n",
    "    print (list(df))\n",
    "\n",
    "    # if only_ordre == True:\n",
    "    all_interactions = list(combinations(list_of_categ_var,order))\n",
    "\n",
    "    # print (\"Nb d'interactions\", len(all_interactions))\n",
    "    # print (\"Interaction entre : \", all_interactions)\n",
    "\n",
    "    for i in range(0, len(all_interactions)):\n",
    "        # all_inter_variables = []\n",
    "        # print (list(all_interactions[i]))\n",
    "\n",
    "        for each in list(all_interactions[i]):\n",
    "            # New columns of interaction\n",
    "            for each in range(0,order):\n",
    "\n",
    "                # Name of interaction variables\n",
    "                # var_inter_name = 'inter_' + str(i)\n",
    "                \n",
    "                var_inter_name = \"_+_\".join(list(all_interactions[i]))\n",
    "\n",
    "                # df[var_inter_name] = df[list(all_interactions[i])[0]] + '_' + df[list(all_interactions[i])[1]]\n",
    "                if each == 0:\n",
    "                    # print (\"each\", each)\n",
    "                    \n",
    "                    # print (var_inter_name)\n",
    "                    df[var_inter_name] = df[list(all_interactions[i])[each]]\n",
    "                else:\n",
    "                    df[var_inter_name] = df[var_inter_name] + '_' + df[list(all_interactions[i])[each]]\n",
    "\n",
    "                # all_inter_variables.append(var_inter_name)\n",
    "                # print (all_inter_variables)\n",
    "\n",
    "    # Keep only interaction variables in the dataframe\n",
    "    # print (initial_list_df)\n",
    "    df = df.drop(initial_list_df, axis=1)\n",
    "    # df = df[all_inter_variables]\n",
    "    return df"
   ]
  },
  {
   "cell_type": "code",
   "execution_count": 47,
   "metadata": {},
   "outputs": [
    {
     "data": {
      "text/plain": [
       "(17379, 31)"
      ]
     },
     "execution_count": 47,
     "metadata": {},
     "output_type": "execute_result"
    }
   ],
   "source": [
    "df.shape"
   ]
  },
  {
   "cell_type": "code",
   "execution_count": 48,
   "metadata": {},
   "outputs": [
    {
     "name": "stdout",
     "output_type": "stream",
     "text": [
      "['CN_school', 'CN_soleilQ', 'CN_tendance_1Q', 'CN_tendance_2Q', 'CO_atempQ', 'CO_day', 'CO_holiday', 'CO_humidityQ', 'CO_month', 'CO_season', 'CO_tempQ', 'CO_weather', 'CO_windspeedQ', 'CO_workingday', 'CO_hour', 'CO_year']\n"
     ]
    }
   ],
   "source": [
    "df_with_interaction = interaction_order(df_all_categorical,all_categorical, 2)"
   ]
  },
  {
   "cell_type": "code",
   "execution_count": 49,
   "metadata": {},
   "outputs": [
    {
     "data": {
      "text/plain": [
       "120"
      ]
     },
     "execution_count": 49,
     "metadata": {},
     "output_type": "execute_result"
    }
   ],
   "source": [
    "len(list(df_with_interaction))"
   ]
  },
  {
   "cell_type": "code",
   "execution_count": 50,
   "metadata": {},
   "outputs": [
    {
     "data": {
      "text/html": [
       "<div>\n",
       "<style scoped>\n",
       "    .dataframe tbody tr th:only-of-type {\n",
       "        vertical-align: middle;\n",
       "    }\n",
       "\n",
       "    .dataframe tbody tr th {\n",
       "        vertical-align: top;\n",
       "    }\n",
       "\n",
       "    .dataframe thead th {\n",
       "        text-align: right;\n",
       "    }\n",
       "</style>\n",
       "<table border=\"1\" class=\"dataframe\">\n",
       "  <thead>\n",
       "    <tr style=\"text-align: right;\">\n",
       "      <th></th>\n",
       "      <th>CN_school_+_CN_soleilQ</th>\n",
       "      <th>CN_school_+_CN_tendance_1Q</th>\n",
       "      <th>CN_school_+_CN_tendance_2Q</th>\n",
       "      <th>CN_school_+_CO_atempQ</th>\n",
       "      <th>CN_school_+_CO_day</th>\n",
       "      <th>CN_school_+_CO_holiday</th>\n",
       "      <th>CN_school_+_CO_humidityQ</th>\n",
       "      <th>CN_school_+_CO_month</th>\n",
       "      <th>CN_school_+_CO_season</th>\n",
       "      <th>CN_school_+_CO_tempQ</th>\n",
       "      <th>...</th>\n",
       "      <th>CO_weather_+_CO_windspeedQ</th>\n",
       "      <th>CO_weather_+_CO_workingday</th>\n",
       "      <th>CO_weather_+_CO_hour</th>\n",
       "      <th>CO_weather_+_CO_year</th>\n",
       "      <th>CO_windspeedQ_+_CO_workingday</th>\n",
       "      <th>CO_windspeedQ_+_CO_hour</th>\n",
       "      <th>CO_windspeedQ_+_CO_year</th>\n",
       "      <th>CO_workingday_+_CO_hour</th>\n",
       "      <th>CO_workingday_+_CO_year</th>\n",
       "      <th>CO_hour_+_CO_year</th>\n",
       "    </tr>\n",
       "  </thead>\n",
       "  <tbody>\n",
       "    <tr>\n",
       "      <th>0</th>\n",
       "      <td>0_[-74.5,-28]</td>\n",
       "      <td>0_[0.409,0.432]</td>\n",
       "      <td>0_[0,67]</td>\n",
       "      <td>0_[0.76,16.7]</td>\n",
       "      <td>0_Saturday</td>\n",
       "      <td>0_1</td>\n",
       "      <td>0_(77,100]</td>\n",
       "      <td>0_January</td>\n",
       "      <td>0_Printemps</td>\n",
       "      <td>0_[0.82,13.9]</td>\n",
       "      <td>...</td>\n",
       "      <td>Beau temps_[0,7]</td>\n",
       "      <td>Beau temps_0</td>\n",
       "      <td>Beau temps_0</td>\n",
       "      <td>Beau temps_2011</td>\n",
       "      <td>[0,7]_0</td>\n",
       "      <td>[0,7]_0</td>\n",
       "      <td>[0,7]_2011</td>\n",
       "      <td>0_0</td>\n",
       "      <td>0_2011</td>\n",
       "      <td>0_2011</td>\n",
       "    </tr>\n",
       "    <tr>\n",
       "      <th>1</th>\n",
       "      <td>0_[-74.5,-28]</td>\n",
       "      <td>0_[0.409,0.432]</td>\n",
       "      <td>0_[0,67]</td>\n",
       "      <td>0_[0.76,16.7]</td>\n",
       "      <td>0_Saturday</td>\n",
       "      <td>0_1</td>\n",
       "      <td>0_(77,100]</td>\n",
       "      <td>0_January</td>\n",
       "      <td>0_Printemps</td>\n",
       "      <td>0_[0.82,13.9]</td>\n",
       "      <td>...</td>\n",
       "      <td>Beau temps_[0,7]</td>\n",
       "      <td>Beau temps_0</td>\n",
       "      <td>Beau temps_1</td>\n",
       "      <td>Beau temps_2011</td>\n",
       "      <td>[0,7]_0</td>\n",
       "      <td>[0,7]_1</td>\n",
       "      <td>[0,7]_2011</td>\n",
       "      <td>0_1</td>\n",
       "      <td>0_2011</td>\n",
       "      <td>1_2011</td>\n",
       "    </tr>\n",
       "    <tr>\n",
       "      <th>2</th>\n",
       "      <td>0_[-74.5,-28]</td>\n",
       "      <td>0_[0.409,0.432]</td>\n",
       "      <td>0_[0,67]</td>\n",
       "      <td>0_[0.76,16.7]</td>\n",
       "      <td>0_Saturday</td>\n",
       "      <td>0_1</td>\n",
       "      <td>0_(77,100]</td>\n",
       "      <td>0_January</td>\n",
       "      <td>0_Printemps</td>\n",
       "      <td>0_[0.82,13.9]</td>\n",
       "      <td>...</td>\n",
       "      <td>Beau temps_[0,7]</td>\n",
       "      <td>Beau temps_0</td>\n",
       "      <td>Beau temps_2</td>\n",
       "      <td>Beau temps_2011</td>\n",
       "      <td>[0,7]_0</td>\n",
       "      <td>[0,7]_2</td>\n",
       "      <td>[0,7]_2011</td>\n",
       "      <td>0_2</td>\n",
       "      <td>0_2011</td>\n",
       "      <td>2_2011</td>\n",
       "    </tr>\n",
       "    <tr>\n",
       "      <th>3</th>\n",
       "      <td>0_[-74.5,-28]</td>\n",
       "      <td>0_[0.409,0.432]</td>\n",
       "      <td>0_[0,67]</td>\n",
       "      <td>0_[0.76,16.7]</td>\n",
       "      <td>0_Saturday</td>\n",
       "      <td>0_1</td>\n",
       "      <td>0_(62,77]</td>\n",
       "      <td>0_January</td>\n",
       "      <td>0_Printemps</td>\n",
       "      <td>0_[0.82,13.9]</td>\n",
       "      <td>...</td>\n",
       "      <td>Beau temps_[0,7]</td>\n",
       "      <td>Beau temps_0</td>\n",
       "      <td>Beau temps_3</td>\n",
       "      <td>Beau temps_2011</td>\n",
       "      <td>[0,7]_0</td>\n",
       "      <td>[0,7]_3</td>\n",
       "      <td>[0,7]_2011</td>\n",
       "      <td>0_3</td>\n",
       "      <td>0_2011</td>\n",
       "      <td>3_2011</td>\n",
       "    </tr>\n",
       "    <tr>\n",
       "      <th>4</th>\n",
       "      <td>0_[-74.5,-28]</td>\n",
       "      <td>0_[0.409,0.432]</td>\n",
       "      <td>0_[0,67]</td>\n",
       "      <td>0_[0.76,16.7]</td>\n",
       "      <td>0_Saturday</td>\n",
       "      <td>0_1</td>\n",
       "      <td>0_(62,77]</td>\n",
       "      <td>0_January</td>\n",
       "      <td>0_Printemps</td>\n",
       "      <td>0_[0.82,13.9]</td>\n",
       "      <td>...</td>\n",
       "      <td>Beau temps_[0,7]</td>\n",
       "      <td>Beau temps_0</td>\n",
       "      <td>Beau temps_4</td>\n",
       "      <td>Beau temps_2011</td>\n",
       "      <td>[0,7]_0</td>\n",
       "      <td>[0,7]_4</td>\n",
       "      <td>[0,7]_2011</td>\n",
       "      <td>0_4</td>\n",
       "      <td>0_2011</td>\n",
       "      <td>4_2011</td>\n",
       "    </tr>\n",
       "  </tbody>\n",
       "</table>\n",
       "<p>5 rows × 120 columns</p>\n",
       "</div>"
      ],
      "text/plain": [
       "  CN_school_+_CN_soleilQ CN_school_+_CN_tendance_1Q  \\\n",
       "0          0_[-74.5,-28]            0_[0.409,0.432]   \n",
       "1          0_[-74.5,-28]            0_[0.409,0.432]   \n",
       "2          0_[-74.5,-28]            0_[0.409,0.432]   \n",
       "3          0_[-74.5,-28]            0_[0.409,0.432]   \n",
       "4          0_[-74.5,-28]            0_[0.409,0.432]   \n",
       "\n",
       "  CN_school_+_CN_tendance_2Q CN_school_+_CO_atempQ CN_school_+_CO_day  \\\n",
       "0                   0_[0,67]         0_[0.76,16.7]         0_Saturday   \n",
       "1                   0_[0,67]         0_[0.76,16.7]         0_Saturday   \n",
       "2                   0_[0,67]         0_[0.76,16.7]         0_Saturday   \n",
       "3                   0_[0,67]         0_[0.76,16.7]         0_Saturday   \n",
       "4                   0_[0,67]         0_[0.76,16.7]         0_Saturday   \n",
       "\n",
       "  CN_school_+_CO_holiday CN_school_+_CO_humidityQ CN_school_+_CO_month  \\\n",
       "0                    0_1               0_(77,100]            0_January   \n",
       "1                    0_1               0_(77,100]            0_January   \n",
       "2                    0_1               0_(77,100]            0_January   \n",
       "3                    0_1                0_(62,77]            0_January   \n",
       "4                    0_1                0_(62,77]            0_January   \n",
       "\n",
       "  CN_school_+_CO_season CN_school_+_CO_tempQ  ... CO_weather_+_CO_windspeedQ  \\\n",
       "0           0_Printemps        0_[0.82,13.9]  ...           Beau temps_[0,7]   \n",
       "1           0_Printemps        0_[0.82,13.9]  ...           Beau temps_[0,7]   \n",
       "2           0_Printemps        0_[0.82,13.9]  ...           Beau temps_[0,7]   \n",
       "3           0_Printemps        0_[0.82,13.9]  ...           Beau temps_[0,7]   \n",
       "4           0_Printemps        0_[0.82,13.9]  ...           Beau temps_[0,7]   \n",
       "\n",
       "  CO_weather_+_CO_workingday CO_weather_+_CO_hour CO_weather_+_CO_year  \\\n",
       "0               Beau temps_0         Beau temps_0      Beau temps_2011   \n",
       "1               Beau temps_0         Beau temps_1      Beau temps_2011   \n",
       "2               Beau temps_0         Beau temps_2      Beau temps_2011   \n",
       "3               Beau temps_0         Beau temps_3      Beau temps_2011   \n",
       "4               Beau temps_0         Beau temps_4      Beau temps_2011   \n",
       "\n",
       "  CO_windspeedQ_+_CO_workingday CO_windspeedQ_+_CO_hour  \\\n",
       "0                       [0,7]_0                 [0,7]_0   \n",
       "1                       [0,7]_0                 [0,7]_1   \n",
       "2                       [0,7]_0                 [0,7]_2   \n",
       "3                       [0,7]_0                 [0,7]_3   \n",
       "4                       [0,7]_0                 [0,7]_4   \n",
       "\n",
       "  CO_windspeedQ_+_CO_year CO_workingday_+_CO_hour CO_workingday_+_CO_year  \\\n",
       "0              [0,7]_2011                     0_0                  0_2011   \n",
       "1              [0,7]_2011                     0_1                  0_2011   \n",
       "2              [0,7]_2011                     0_2                  0_2011   \n",
       "3              [0,7]_2011                     0_3                  0_2011   \n",
       "4              [0,7]_2011                     0_4                  0_2011   \n",
       "\n",
       "  CO_hour_+_CO_year  \n",
       "0            0_2011  \n",
       "1            1_2011  \n",
       "2            2_2011  \n",
       "3            3_2011  \n",
       "4            4_2011  \n",
       "\n",
       "[5 rows x 120 columns]"
      ]
     },
     "execution_count": 50,
     "metadata": {},
     "output_type": "execute_result"
    }
   ],
   "source": [
    "df_with_interaction.head()"
   ]
  },
  {
   "cell_type": "code",
   "execution_count": 51,
   "metadata": {},
   "outputs": [
    {
     "data": {
      "text/plain": [
       "['CN_school_+_CN_soleilQ',\n",
       " 'CN_school_+_CN_tendance_1Q',\n",
       " 'CN_school_+_CN_tendance_2Q',\n",
       " 'CN_school_+_CO_atempQ',\n",
       " 'CN_school_+_CO_day']"
      ]
     },
     "execution_count": 51,
     "metadata": {},
     "output_type": "execute_result"
    }
   ],
   "source": [
    "list(df_with_interaction)[0:5]"
   ]
  },
  {
   "cell_type": "code",
   "execution_count": 52,
   "metadata": {},
   "outputs": [
    {
     "data": {
      "text/html": [
       "<div>\n",
       "<style scoped>\n",
       "    .dataframe tbody tr th:only-of-type {\n",
       "        vertical-align: middle;\n",
       "    }\n",
       "\n",
       "    .dataframe tbody tr th {\n",
       "        vertical-align: top;\n",
       "    }\n",
       "\n",
       "    .dataframe thead th {\n",
       "        text-align: right;\n",
       "    }\n",
       "</style>\n",
       "<table border=\"1\" class=\"dataframe\">\n",
       "  <thead>\n",
       "    <tr style=\"text-align: right;\">\n",
       "      <th></th>\n",
       "      <th>CO_month_+_CO_season</th>\n",
       "    </tr>\n",
       "  </thead>\n",
       "  <tbody>\n",
       "    <tr>\n",
       "      <th>0</th>\n",
       "      <td>January_Printemps</td>\n",
       "    </tr>\n",
       "    <tr>\n",
       "      <th>1</th>\n",
       "      <td>January_Printemps</td>\n",
       "    </tr>\n",
       "    <tr>\n",
       "      <th>2</th>\n",
       "      <td>January_Printemps</td>\n",
       "    </tr>\n",
       "    <tr>\n",
       "      <th>3</th>\n",
       "      <td>January_Printemps</td>\n",
       "    </tr>\n",
       "    <tr>\n",
       "      <th>4</th>\n",
       "      <td>January_Printemps</td>\n",
       "    </tr>\n",
       "  </tbody>\n",
       "</table>\n",
       "</div>"
      ],
      "text/plain": [
       "  CO_month_+_CO_season\n",
       "0    January_Printemps\n",
       "1    January_Printemps\n",
       "2    January_Printemps\n",
       "3    January_Printemps\n",
       "4    January_Printemps"
      ]
     },
     "execution_count": 52,
     "metadata": {},
     "output_type": "execute_result"
    }
   ],
   "source": [
    "df_with_interaction[[\"CO_month_+_CO_season\"]].head()"
   ]
  },
  {
   "cell_type": "code",
   "execution_count": 53,
   "metadata": {},
   "outputs": [
    {
     "data": {
      "text/plain": [
       "(17379, 120)"
      ]
     },
     "execution_count": 53,
     "metadata": {},
     "output_type": "execute_result"
    }
   ],
   "source": [
    "df_with_interaction.shape"
   ]
  },
  {
   "cell_type": "code",
   "execution_count": 54,
   "metadata": {},
   "outputs": [],
   "source": [
    "df_all_categorical = df[all_categorical].applymap(str)\n",
    "df_with_interaction = df_with_interaction.applymap(str)"
   ]
  },
  {
   "cell_type": "code",
   "execution_count": 55,
   "metadata": {},
   "outputs": [
    {
     "data": {
      "text/plain": [
       "['CN_school',\n",
       " 'CN_soleilQ',\n",
       " 'CN_tendance_1Q',\n",
       " 'CN_tendance_2Q',\n",
       " 'CO_atempQ',\n",
       " 'CO_day',\n",
       " 'CO_holiday',\n",
       " 'CO_humidityQ',\n",
       " 'CO_month',\n",
       " 'CO_season',\n",
       " 'CO_tempQ',\n",
       " 'CO_weather',\n",
       " 'CO_windspeedQ',\n",
       " 'CO_workingday',\n",
       " 'CO_hour',\n",
       " 'CO_year']"
      ]
     },
     "execution_count": 55,
     "metadata": {},
     "output_type": "execute_result"
    }
   ],
   "source": [
    "list(df_all_categorical)"
   ]
  },
  {
   "cell_type": "code",
   "execution_count": 56,
   "metadata": {},
   "outputs": [],
   "source": [
    "df_before_dummies = pd.concat([df_all_categorical,df_with_interaction], axis = 1)"
   ]
  },
  {
   "cell_type": "code",
   "execution_count": 57,
   "metadata": {},
   "outputs": [
    {
     "data": {
      "text/plain": [
       "(17379, 136)"
      ]
     },
     "execution_count": 57,
     "metadata": {},
     "output_type": "execute_result"
    }
   ],
   "source": [
    "df_before_dummies.shape"
   ]
  },
  {
   "cell_type": "code",
   "execution_count": 58,
   "metadata": {},
   "outputs": [
    {
     "data": {
      "text/html": [
       "<div>\n",
       "<style scoped>\n",
       "    .dataframe tbody tr th:only-of-type {\n",
       "        vertical-align: middle;\n",
       "    }\n",
       "\n",
       "    .dataframe tbody tr th {\n",
       "        vertical-align: top;\n",
       "    }\n",
       "\n",
       "    .dataframe thead th {\n",
       "        text-align: right;\n",
       "    }\n",
       "</style>\n",
       "<table border=\"1\" class=\"dataframe\">\n",
       "  <thead>\n",
       "    <tr style=\"text-align: right;\">\n",
       "      <th></th>\n",
       "      <th>CN_school</th>\n",
       "      <th>CN_soleilQ</th>\n",
       "      <th>CN_tendance_1Q</th>\n",
       "      <th>CN_tendance_2Q</th>\n",
       "      <th>CO_atempQ</th>\n",
       "      <th>CO_day</th>\n",
       "      <th>CO_holiday</th>\n",
       "      <th>CO_humidityQ</th>\n",
       "      <th>CO_month</th>\n",
       "      <th>CO_season</th>\n",
       "      <th>...</th>\n",
       "      <th>CO_weather_+_CO_windspeedQ</th>\n",
       "      <th>CO_weather_+_CO_workingday</th>\n",
       "      <th>CO_weather_+_CO_hour</th>\n",
       "      <th>CO_weather_+_CO_year</th>\n",
       "      <th>CO_windspeedQ_+_CO_workingday</th>\n",
       "      <th>CO_windspeedQ_+_CO_hour</th>\n",
       "      <th>CO_windspeedQ_+_CO_year</th>\n",
       "      <th>CO_workingday_+_CO_hour</th>\n",
       "      <th>CO_workingday_+_CO_year</th>\n",
       "      <th>CO_hour_+_CO_year</th>\n",
       "    </tr>\n",
       "  </thead>\n",
       "  <tbody>\n",
       "    <tr>\n",
       "      <th>0</th>\n",
       "      <td>0</td>\n",
       "      <td>[-74.5,-28]</td>\n",
       "      <td>[0.409,0.432]</td>\n",
       "      <td>[0,67]</td>\n",
       "      <td>[0.76,16.7]</td>\n",
       "      <td>Saturday</td>\n",
       "      <td>1</td>\n",
       "      <td>(77,100]</td>\n",
       "      <td>January</td>\n",
       "      <td>Printemps</td>\n",
       "      <td>...</td>\n",
       "      <td>Beau temps_[0,7]</td>\n",
       "      <td>Beau temps_0</td>\n",
       "      <td>Beau temps_0</td>\n",
       "      <td>Beau temps_2011</td>\n",
       "      <td>[0,7]_0</td>\n",
       "      <td>[0,7]_0</td>\n",
       "      <td>[0,7]_2011</td>\n",
       "      <td>0_0</td>\n",
       "      <td>0_2011</td>\n",
       "      <td>0_2011</td>\n",
       "    </tr>\n",
       "    <tr>\n",
       "      <th>1</th>\n",
       "      <td>0</td>\n",
       "      <td>[-74.5,-28]</td>\n",
       "      <td>[0.409,0.432]</td>\n",
       "      <td>[0,67]</td>\n",
       "      <td>[0.76,16.7]</td>\n",
       "      <td>Saturday</td>\n",
       "      <td>1</td>\n",
       "      <td>(77,100]</td>\n",
       "      <td>January</td>\n",
       "      <td>Printemps</td>\n",
       "      <td>...</td>\n",
       "      <td>Beau temps_[0,7]</td>\n",
       "      <td>Beau temps_0</td>\n",
       "      <td>Beau temps_1</td>\n",
       "      <td>Beau temps_2011</td>\n",
       "      <td>[0,7]_0</td>\n",
       "      <td>[0,7]_1</td>\n",
       "      <td>[0,7]_2011</td>\n",
       "      <td>0_1</td>\n",
       "      <td>0_2011</td>\n",
       "      <td>1_2011</td>\n",
       "    </tr>\n",
       "    <tr>\n",
       "      <th>2</th>\n",
       "      <td>0</td>\n",
       "      <td>[-74.5,-28]</td>\n",
       "      <td>[0.409,0.432]</td>\n",
       "      <td>[0,67]</td>\n",
       "      <td>[0.76,16.7]</td>\n",
       "      <td>Saturday</td>\n",
       "      <td>1</td>\n",
       "      <td>(77,100]</td>\n",
       "      <td>January</td>\n",
       "      <td>Printemps</td>\n",
       "      <td>...</td>\n",
       "      <td>Beau temps_[0,7]</td>\n",
       "      <td>Beau temps_0</td>\n",
       "      <td>Beau temps_2</td>\n",
       "      <td>Beau temps_2011</td>\n",
       "      <td>[0,7]_0</td>\n",
       "      <td>[0,7]_2</td>\n",
       "      <td>[0,7]_2011</td>\n",
       "      <td>0_2</td>\n",
       "      <td>0_2011</td>\n",
       "      <td>2_2011</td>\n",
       "    </tr>\n",
       "    <tr>\n",
       "      <th>3</th>\n",
       "      <td>0</td>\n",
       "      <td>[-74.5,-28]</td>\n",
       "      <td>[0.409,0.432]</td>\n",
       "      <td>[0,67]</td>\n",
       "      <td>[0.76,16.7]</td>\n",
       "      <td>Saturday</td>\n",
       "      <td>1</td>\n",
       "      <td>(62,77]</td>\n",
       "      <td>January</td>\n",
       "      <td>Printemps</td>\n",
       "      <td>...</td>\n",
       "      <td>Beau temps_[0,7]</td>\n",
       "      <td>Beau temps_0</td>\n",
       "      <td>Beau temps_3</td>\n",
       "      <td>Beau temps_2011</td>\n",
       "      <td>[0,7]_0</td>\n",
       "      <td>[0,7]_3</td>\n",
       "      <td>[0,7]_2011</td>\n",
       "      <td>0_3</td>\n",
       "      <td>0_2011</td>\n",
       "      <td>3_2011</td>\n",
       "    </tr>\n",
       "    <tr>\n",
       "      <th>4</th>\n",
       "      <td>0</td>\n",
       "      <td>[-74.5,-28]</td>\n",
       "      <td>[0.409,0.432]</td>\n",
       "      <td>[0,67]</td>\n",
       "      <td>[0.76,16.7]</td>\n",
       "      <td>Saturday</td>\n",
       "      <td>1</td>\n",
       "      <td>(62,77]</td>\n",
       "      <td>January</td>\n",
       "      <td>Printemps</td>\n",
       "      <td>...</td>\n",
       "      <td>Beau temps_[0,7]</td>\n",
       "      <td>Beau temps_0</td>\n",
       "      <td>Beau temps_4</td>\n",
       "      <td>Beau temps_2011</td>\n",
       "      <td>[0,7]_0</td>\n",
       "      <td>[0,7]_4</td>\n",
       "      <td>[0,7]_2011</td>\n",
       "      <td>0_4</td>\n",
       "      <td>0_2011</td>\n",
       "      <td>4_2011</td>\n",
       "    </tr>\n",
       "  </tbody>\n",
       "</table>\n",
       "<p>5 rows × 136 columns</p>\n",
       "</div>"
      ],
      "text/plain": [
       "  CN_school   CN_soleilQ CN_tendance_1Q CN_tendance_2Q    CO_atempQ    CO_day  \\\n",
       "0         0  [-74.5,-28]  [0.409,0.432]         [0,67]  [0.76,16.7]  Saturday   \n",
       "1         0  [-74.5,-28]  [0.409,0.432]         [0,67]  [0.76,16.7]  Saturday   \n",
       "2         0  [-74.5,-28]  [0.409,0.432]         [0,67]  [0.76,16.7]  Saturday   \n",
       "3         0  [-74.5,-28]  [0.409,0.432]         [0,67]  [0.76,16.7]  Saturday   \n",
       "4         0  [-74.5,-28]  [0.409,0.432]         [0,67]  [0.76,16.7]  Saturday   \n",
       "\n",
       "  CO_holiday CO_humidityQ CO_month  CO_season  ... CO_weather_+_CO_windspeedQ  \\\n",
       "0          1     (77,100]  January  Printemps  ...           Beau temps_[0,7]   \n",
       "1          1     (77,100]  January  Printemps  ...           Beau temps_[0,7]   \n",
       "2          1     (77,100]  January  Printemps  ...           Beau temps_[0,7]   \n",
       "3          1      (62,77]  January  Printemps  ...           Beau temps_[0,7]   \n",
       "4          1      (62,77]  January  Printemps  ...           Beau temps_[0,7]   \n",
       "\n",
       "  CO_weather_+_CO_workingday CO_weather_+_CO_hour CO_weather_+_CO_year  \\\n",
       "0               Beau temps_0         Beau temps_0      Beau temps_2011   \n",
       "1               Beau temps_0         Beau temps_1      Beau temps_2011   \n",
       "2               Beau temps_0         Beau temps_2      Beau temps_2011   \n",
       "3               Beau temps_0         Beau temps_3      Beau temps_2011   \n",
       "4               Beau temps_0         Beau temps_4      Beau temps_2011   \n",
       "\n",
       "  CO_windspeedQ_+_CO_workingday CO_windspeedQ_+_CO_hour  \\\n",
       "0                       [0,7]_0                 [0,7]_0   \n",
       "1                       [0,7]_0                 [0,7]_1   \n",
       "2                       [0,7]_0                 [0,7]_2   \n",
       "3                       [0,7]_0                 [0,7]_3   \n",
       "4                       [0,7]_0                 [0,7]_4   \n",
       "\n",
       "  CO_windspeedQ_+_CO_year CO_workingday_+_CO_hour CO_workingday_+_CO_year  \\\n",
       "0              [0,7]_2011                     0_0                  0_2011   \n",
       "1              [0,7]_2011                     0_1                  0_2011   \n",
       "2              [0,7]_2011                     0_2                  0_2011   \n",
       "3              [0,7]_2011                     0_3                  0_2011   \n",
       "4              [0,7]_2011                     0_4                  0_2011   \n",
       "\n",
       "  CO_hour_+_CO_year  \n",
       "0            0_2011  \n",
       "1            1_2011  \n",
       "2            2_2011  \n",
       "3            3_2011  \n",
       "4            4_2011  \n",
       "\n",
       "[5 rows x 136 columns]"
      ]
     },
     "execution_count": 58,
     "metadata": {},
     "output_type": "execute_result"
    }
   ],
   "source": [
    "df_before_dummies.head()"
   ]
  },
  {
   "cell_type": "code",
   "execution_count": 59,
   "metadata": {},
   "outputs": [],
   "source": [
    "# Transformation de toutes les variables catégorielles:\n",
    "df_all_dummies = pd.get_dummies(df_before_dummies)"
   ]
  },
  {
   "cell_type": "code",
   "execution_count": 60,
   "metadata": {},
   "outputs": [
    {
     "data": {
      "text/plain": [
       "(17379, 6422)"
      ]
     },
     "execution_count": 60,
     "metadata": {},
     "output_type": "execute_result"
    }
   ],
   "source": [
    "df_all_dummies.shape"
   ]
  },
  {
   "cell_type": "code",
   "execution_count": 61,
   "metadata": {},
   "outputs": [],
   "source": [
    "# import random\n",
    "# random.choices(list(df_all_dummies), k=10)"
   ]
  },
  {
   "cell_type": "code",
   "execution_count": 62,
   "metadata": {},
   "outputs": [
    {
     "data": {
      "text/plain": [
       "['CN_school',\n",
       " 'CN_soleilQ',\n",
       " 'CN_tendance_1Q',\n",
       " 'CN_tendance_2Q',\n",
       " 'CO_atempQ',\n",
       " 'CO_day',\n",
       " 'CO_holiday',\n",
       " 'CO_humidityQ',\n",
       " 'CO_month',\n",
       " 'CO_season',\n",
       " 'CO_tempQ',\n",
       " 'CO_weather',\n",
       " 'CO_windspeedQ',\n",
       " 'CO_workingday',\n",
       " 'CO_hour',\n",
       " 'CO_year']"
      ]
     },
     "execution_count": 62,
     "metadata": {},
     "output_type": "execute_result"
    }
   ],
   "source": [
    "all_categorical"
   ]
  },
  {
   "cell_type": "code",
   "execution_count": 63,
   "metadata": {},
   "outputs": [
    {
     "data": {
      "text/plain": [
       "['CN_school',\n",
       " 'CN_soleilQ',\n",
       " 'CN_tendance_1Q',\n",
       " 'CN_tendance_2Q',\n",
       " 'CO_atempQ',\n",
       " 'CO_day',\n",
       " 'CO_holiday',\n",
       " 'CO_humidityQ',\n",
       " 'CO_month',\n",
       " 'CO_season',\n",
       " 'CO_tempQ',\n",
       " 'CO_weather',\n",
       " 'CO_windspeedQ',\n",
       " 'CO_workingday',\n",
       " 'NN_soleil',\n",
       " 'NN_tendance_1',\n",
       " 'NN_tendance_2',\n",
       " 'NO_atemp',\n",
       " 'NO_humidity',\n",
       " 'NO_temp',\n",
       " 'NO_windspeed',\n",
       " 'S_casual',\n",
       " 'S_casualQ',\n",
       " 'S_rateregis',\n",
       " 'S_rateregisQ',\n",
       " 'S_registered',\n",
       " 'S_registeredQ',\n",
       " 'datetime',\n",
       " 'CO_hour',\n",
       " 'CO_year',\n",
       " 'day']"
      ]
     },
     "execution_count": 63,
     "metadata": {},
     "output_type": "execute_result"
    }
   ],
   "source": [
    "list(df)"
   ]
  },
  {
   "cell_type": "code",
   "execution_count": 64,
   "metadata": {},
   "outputs": [
    {
     "data": {
      "text/plain": [
       "(17379, 6422)"
      ]
     },
     "execution_count": 64,
     "metadata": {},
     "output_type": "execute_result"
    }
   ],
   "source": [
    "df_all_dummies.shape"
   ]
  },
  {
   "cell_type": "markdown",
   "metadata": {},
   "source": [
    "Rassemblement de toutes les variables : les numériques et toutes les dummy variables"
   ]
  },
  {
   "cell_type": "code",
   "execution_count": 65,
   "metadata": {},
   "outputs": [],
   "source": [
    "# nodup = []\n",
    "# for each in ['datetime','NO_temp','NO_atemp','NO_humidity','NO_windspeed','NN_soleil','NN_tendance_1','NN_tendance_2'] + list(df_all_dummies):\n",
    "   # if each not in nodup:\n",
    "       # nodup.append(each)\n",
    "# nodup == ['datetime','NO_temp','NO_atemp','NO_humidity','NO_windspeed','NN_soleil','NN_tendance_1','NN_tendance_2'] + list(df_all_dummies)\n",
    "# True"
   ]
  },
  {
   "cell_type": "code",
   "execution_count": 66,
   "metadata": {},
   "outputs": [],
   "source": [
    "all_df = pd.concat([df[['datetime','NO_temp','NO_atemp','NO_humidity','NO_windspeed','NN_soleil','NN_tendance_1','NN_tendance_2']], df_all_dummies], axis = 1)"
   ]
  },
  {
   "cell_type": "code",
   "execution_count": 67,
   "metadata": {},
   "outputs": [
    {
     "data": {
      "text/plain": [
       "(17379, 6430)"
      ]
     },
     "execution_count": 67,
     "metadata": {},
     "output_type": "execute_result"
    }
   ],
   "source": [
    "all_df.shape"
   ]
  },
  {
   "cell_type": "markdown",
   "metadata": {},
   "source": [
    "On distingue les données de \"train\" + \"test\" pour réaliser les modèles<br>\n",
    "versus les données de \"test\" de Kaggle"
   ]
  },
  {
   "cell_type": "code",
   "execution_count": 68,
   "metadata": {},
   "outputs": [],
   "source": [
    "all_df[\"day\"] = pd.to_datetime(all_df[\"datetime\"]).dt.day"
   ]
  },
  {
   "cell_type": "code",
   "execution_count": 69,
   "metadata": {},
   "outputs": [],
   "source": [
    "df_for_models = all_df[all_df[\"day\"] < 20 ]\n",
    "df_test_kaggle_interaction_and_dummies = all_df[all_df[\"day\"] >= 20]"
   ]
  },
  {
   "cell_type": "code",
   "execution_count": 70,
   "metadata": {},
   "outputs": [
    {
     "data": {
      "text/plain": [
       "(10886, 6431)"
      ]
     },
     "execution_count": 70,
     "metadata": {},
     "output_type": "execute_result"
    }
   ],
   "source": [
    "df_for_models.shape"
   ]
  },
  {
   "cell_type": "code",
   "execution_count": 71,
   "metadata": {},
   "outputs": [],
   "source": [
    "df_for_cv_interaction_and_dummies = df_for_models\n",
    "del df_for_models\n",
    "\n",
    "# On a besoin de la target pour faire la cross validation !\n",
    "df_for_cv_interaction_and_dummies = pd.concat([df_for_cv_interaction_and_dummies, df_train_kaggle_count], axis = 1)\n",
    "\n",
    "df_for_cv_interaction_and_dummies = df_for_cv_interaction_and_dummies.drop(\"day\", axis = 1)\n",
    "df_test_kaggle_interaction_and_dummies = df_test_kaggle_interaction_and_dummies.drop(\"day\", axis = 1)"
   ]
  },
  {
   "cell_type": "code",
   "execution_count": 72,
   "metadata": {},
   "outputs": [
    {
     "data": {
      "text/plain": [
       "(10886, 6431)"
      ]
     },
     "execution_count": 72,
     "metadata": {},
     "output_type": "execute_result"
    }
   ],
   "source": [
    "df_for_cv_interaction_and_dummies.shape"
   ]
  },
  {
   "cell_type": "code",
   "execution_count": 73,
   "metadata": {},
   "outputs": [
    {
     "data": {
      "text/plain": [
       "(6493, 6430)"
      ]
     },
     "execution_count": 73,
     "metadata": {},
     "output_type": "execute_result"
    }
   ],
   "source": [
    "df_test_kaggle_interaction_and_dummies.shape"
   ]
  },
  {
   "cell_type": "code",
   "execution_count": 74,
   "metadata": {},
   "outputs": [],
   "source": [
    "# list(df_for_cv_interaction_and_dummies) == list(df_test_kaggle_interaction_and_dummies)"
   ]
  },
  {
   "cell_type": "code",
   "execution_count": 75,
   "metadata": {},
   "outputs": [],
   "source": [
    "# Données en vue de faire de la cross validation\n",
    "df_for_cv_interaction_and_dummies.to_pickle(\"df_for_cv_interaction_and_dummies.pkl\")\n",
    "# Données de test de Kaggle \n",
    "df_test_kaggle_interaction_and_dummies.to_pickle(\"df_test_kaggle_interaction_and_dummies.pkl\")"
   ]
  },
  {
   "cell_type": "code",
   "execution_count": 76,
   "metadata": {},
   "outputs": [],
   "source": [
    "# Données pour apprentissage des modèles\n",
    "# X_train.to_pickle(\"X_train_n.pkl\")\n",
    "# X_test.to_pickle(\"X_test_n.pkl\")\n",
    "# Y_train.to_pickle(\"Y_train_n.pkl\")\n",
    "# Y_test.to_pickle(\"Y_test_n.pkl\")"
   ]
  },
  {
   "cell_type": "code",
   "execution_count": null,
   "metadata": {},
   "outputs": [],
   "source": []
  }
 ],
 "metadata": {
  "kernelspec": {
   "display_name": "data bike sharing",
   "language": "python",
   "name": "data"
  },
  "language_info": {
   "codemirror_mode": {
    "name": "ipython",
    "version": 3
   },
   "file_extension": ".py",
   "mimetype": "text/x-python",
   "name": "python",
   "nbconvert_exporter": "python",
   "pygments_lexer": "ipython3",
   "version": "3.6.8"
  }
 },
 "nbformat": 4,
 "nbformat_minor": 4
}
