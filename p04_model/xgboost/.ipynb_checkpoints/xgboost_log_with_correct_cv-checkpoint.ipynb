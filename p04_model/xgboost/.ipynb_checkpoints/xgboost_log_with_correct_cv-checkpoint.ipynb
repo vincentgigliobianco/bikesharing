{
 "cells": [
  {
   "cell_type": "code",
   "execution_count": 9,
   "metadata": {},
   "outputs": [],
   "source": [
    "import pandas as pd\n",
    "import numpy as np\n",
    "# from sklearn.linear_model import Ridge\n",
    "# from sklearn.metrics import mean_squared_error\n",
    "# from sklearn.model_selection import GridSearchCV\n",
    "# from sklearn.model_selection import RandomizedSearchCV\n",
    "from sklearn.model_selection import train_test_split\n",
    "import matplotlib.pyplot as plt\n",
    "import xgboost as xgb\n",
    "import re"
   ]
  },
  {
   "cell_type": "markdown",
   "metadata": {},
   "source": [
    "### I Méthode Holdout"
   ]
  },
  {
   "cell_type": "code",
   "execution_count": 10,
   "metadata": {},
   "outputs": [
    {
     "data": {
      "text/plain": [
       "['CN_school',\n",
       " 'CO_day',\n",
       " 'CO_holiday',\n",
       " 'CO_month',\n",
       " 'CO_season',\n",
       " 'CO_weather',\n",
       " 'CO_workingday',\n",
       " 'NN_soleil',\n",
       " 'NN_tendance_1',\n",
       " 'NN_tendance_2',\n",
       " 'NO_atemp',\n",
       " 'NO_humidity',\n",
       " 'NO_temp',\n",
       " 'NO_windspeed',\n",
       " 'datetime',\n",
       " 'CO_hour',\n",
       " 'CO_year']"
      ]
     },
     "execution_count": 10,
     "metadata": {},
     "output_type": "execute_result"
    }
   ],
   "source": [
    "list(df_for_cv_used)"
   ]
  },
  {
   "cell_type": "code",
   "execution_count": 11,
   "metadata": {},
   "outputs": [],
   "source": [
    "# On pourra aussi utiliser \"df_for_cv_o_n.pkl\"\n",
    "# df_for_cv_interaction_and_dummies = pd.read_pickle(\"df_for_cv_interaction_and_dummies.pkl\")\n",
    "\n",
    "# OU \n",
    "\n",
    "df_for_cv_used = pd.read_pickle(\"../data/df_for_cv_o_n_sk_encoded.pkl\")\n",
    "\n",
    "all_var_x = [each for each in list(df_for_cv_used) if each != \"count\" and each != \"datetime\"]\n",
    "\n",
    "# df_for_cv_interaction_and_dummies.shape\n",
    "X_train = df_for_cv_used[all_var_x]\n",
    "Y_train = df_for_cv_used[[\"count\"]]"
   ]
  },
  {
   "cell_type": "markdown",
   "metadata": {},
   "source": [
    "Exclusion des variables Quartiles et des variables \"Special\""
   ]
  },
  {
   "cell_type": "code",
   "execution_count": 12,
   "metadata": {},
   "outputs": [
    {
     "data": {
      "text/plain": [
       "['CN_school',\n",
       " 'CO_day',\n",
       " 'CO_holiday',\n",
       " 'CO_month',\n",
       " 'CO_season',\n",
       " 'CO_weather',\n",
       " 'CO_workingday',\n",
       " 'NN_soleil',\n",
       " 'NN_tendance_1',\n",
       " 'NN_tendance_2',\n",
       " 'NO_atemp',\n",
       " 'NO_humidity',\n",
       " 'NO_temp',\n",
       " 'NO_windspeed',\n",
       " 'CO_hour',\n",
       " 'CO_year']"
      ]
     },
     "execution_count": 12,
     "metadata": {},
     "output_type": "execute_result"
    }
   ],
   "source": [
    "list(X_train)"
   ]
  },
  {
   "cell_type": "code",
   "execution_count": 13,
   "metadata": {},
   "outputs": [],
   "source": [
    "variables_to_keep = [each for each in list(X_train) if each[0] != 'S' and each[-1] != 'Q']"
   ]
  },
  {
   "cell_type": "code",
   "execution_count": 14,
   "metadata": {},
   "outputs": [],
   "source": [
    "X_train = X_train[variables_to_keep]"
   ]
  },
  {
   "cell_type": "markdown",
   "metadata": {},
   "source": [
    "### Petit processing sur le nom des features"
   ]
  },
  {
   "cell_type": "code",
   "execution_count": 15,
   "metadata": {},
   "outputs": [],
   "source": [
    "features_names = list(X_train)\n",
    "new_features_names = [re.sub(\"\\[|\\]|\\<|\\>\",'',line) for line in features_names]\n",
    "X_train.columns = new_features_names"
   ]
  },
  {
   "cell_type": "markdown",
   "metadata": {},
   "source": [
    "## XGBoost valeurs par défaut"
   ]
  },
  {
   "cell_type": "code",
   "execution_count": 18,
   "metadata": {},
   "outputs": [
    {
     "data": {
      "text/plain": [
       "(10886, 16)"
      ]
     },
     "execution_count": 18,
     "metadata": {},
     "output_type": "execute_result"
    }
   ],
   "source": [
    "X_train.shape"
   ]
  },
  {
   "cell_type": "code",
   "execution_count": 17,
   "metadata": {},
   "outputs": [
    {
     "name": "stderr",
     "output_type": "stream",
     "text": [
      "/home/osboxes/anaconda3/envs/data/lib/python3.6/site-packages/ipykernel_launcher.py:2: SettingWithCopyWarning: \n",
      "A value is trying to be set on a copy of a slice from a DataFrame.\n",
      "Try using .loc[row_indexer,col_indexer] = value instead\n",
      "\n",
      "See the caveats in the documentation: http://pandas.pydata.org/pandas-docs/stable/indexing.html#indexing-view-versus-copy\n",
      "  \n"
     ]
    }
   ],
   "source": [
    "# Calcul des Y = log(Y + 1)\n",
    "Y_train['log_count'] = Y_train['count'].map(lambda x: np.log1p(x))\n",
    "Y_train = Y_train.drop(\"count\", axis = 1)"
   ]
  },
  {
   "cell_type": "markdown",
   "metadata": {},
   "source": [
    "Création \"train\" + \"validation\" = méthode Holdout"
   ]
  },
  {
   "cell_type": "code",
   "execution_count": 19,
   "metadata": {},
   "outputs": [
    {
     "data": {
      "text/html": [
       "<div>\n",
       "<style scoped>\n",
       "    .dataframe tbody tr th:only-of-type {\n",
       "        vertical-align: middle;\n",
       "    }\n",
       "\n",
       "    .dataframe tbody tr th {\n",
       "        vertical-align: top;\n",
       "    }\n",
       "\n",
       "    .dataframe thead th {\n",
       "        text-align: right;\n",
       "    }\n",
       "</style>\n",
       "<table border=\"1\" class=\"dataframe\">\n",
       "  <thead>\n",
       "    <tr style=\"text-align: right;\">\n",
       "      <th></th>\n",
       "      <th>CN_school</th>\n",
       "      <th>CO_day</th>\n",
       "      <th>CO_holiday</th>\n",
       "      <th>CO_month</th>\n",
       "      <th>CO_season</th>\n",
       "      <th>CO_weather</th>\n",
       "      <th>CO_workingday</th>\n",
       "      <th>NN_soleil</th>\n",
       "      <th>NN_tendance_1</th>\n",
       "      <th>NN_tendance_2</th>\n",
       "      <th>NO_atemp</th>\n",
       "      <th>NO_humidity</th>\n",
       "      <th>NO_temp</th>\n",
       "      <th>NO_windspeed</th>\n",
       "      <th>CO_hour</th>\n",
       "      <th>CO_year</th>\n",
       "    </tr>\n",
       "  </thead>\n",
       "  <tbody>\n",
       "    <tr>\n",
       "      <th>0</th>\n",
       "      <td>0</td>\n",
       "      <td>2</td>\n",
       "      <td>1</td>\n",
       "      <td>4</td>\n",
       "      <td>2</td>\n",
       "      <td>0</td>\n",
       "      <td>0</td>\n",
       "      <td>-68.036186</td>\n",
       "      <td>0.418093</td>\n",
       "      <td>0</td>\n",
       "      <td>14.395</td>\n",
       "      <td>81</td>\n",
       "      <td>9.84</td>\n",
       "      <td>0.0</td>\n",
       "      <td>0</td>\n",
       "      <td>0</td>\n",
       "    </tr>\n",
       "    <tr>\n",
       "      <th>1</th>\n",
       "      <td>0</td>\n",
       "      <td>2</td>\n",
       "      <td>1</td>\n",
       "      <td>4</td>\n",
       "      <td>2</td>\n",
       "      <td>0</td>\n",
       "      <td>0</td>\n",
       "      <td>-73.948688</td>\n",
       "      <td>0.418093</td>\n",
       "      <td>0</td>\n",
       "      <td>13.635</td>\n",
       "      <td>80</td>\n",
       "      <td>9.02</td>\n",
       "      <td>0.0</td>\n",
       "      <td>1</td>\n",
       "      <td>0</td>\n",
       "    </tr>\n",
       "    <tr>\n",
       "      <th>2</th>\n",
       "      <td>0</td>\n",
       "      <td>2</td>\n",
       "      <td>1</td>\n",
       "      <td>4</td>\n",
       "      <td>2</td>\n",
       "      <td>0</td>\n",
       "      <td>0</td>\n",
       "      <td>-71.066026</td>\n",
       "      <td>0.418093</td>\n",
       "      <td>0</td>\n",
       "      <td>13.635</td>\n",
       "      <td>80</td>\n",
       "      <td>9.02</td>\n",
       "      <td>0.0</td>\n",
       "      <td>12</td>\n",
       "      <td>0</td>\n",
       "    </tr>\n",
       "    <tr>\n",
       "      <th>3</th>\n",
       "      <td>0</td>\n",
       "      <td>2</td>\n",
       "      <td>1</td>\n",
       "      <td>4</td>\n",
       "      <td>2</td>\n",
       "      <td>0</td>\n",
       "      <td>0</td>\n",
       "      <td>-62.016308</td>\n",
       "      <td>0.418093</td>\n",
       "      <td>0</td>\n",
       "      <td>14.395</td>\n",
       "      <td>75</td>\n",
       "      <td>9.84</td>\n",
       "      <td>0.0</td>\n",
       "      <td>17</td>\n",
       "      <td>0</td>\n",
       "    </tr>\n",
       "    <tr>\n",
       "      <th>4</th>\n",
       "      <td>0</td>\n",
       "      <td>2</td>\n",
       "      <td>1</td>\n",
       "      <td>4</td>\n",
       "      <td>2</td>\n",
       "      <td>0</td>\n",
       "      <td>0</td>\n",
       "      <td>-50.973158</td>\n",
       "      <td>0.418093</td>\n",
       "      <td>0</td>\n",
       "      <td>14.395</td>\n",
       "      <td>75</td>\n",
       "      <td>9.84</td>\n",
       "      <td>0.0</td>\n",
       "      <td>18</td>\n",
       "      <td>0</td>\n",
       "    </tr>\n",
       "  </tbody>\n",
       "</table>\n",
       "</div>"
      ],
      "text/plain": [
       "   CN_school  CO_day  CO_holiday  CO_month  CO_season  CO_weather  \\\n",
       "0          0       2           1         4          2           0   \n",
       "1          0       2           1         4          2           0   \n",
       "2          0       2           1         4          2           0   \n",
       "3          0       2           1         4          2           0   \n",
       "4          0       2           1         4          2           0   \n",
       "\n",
       "   CO_workingday  NN_soleil  NN_tendance_1  NN_tendance_2  NO_atemp  \\\n",
       "0              0 -68.036186       0.418093              0    14.395   \n",
       "1              0 -73.948688       0.418093              0    13.635   \n",
       "2              0 -71.066026       0.418093              0    13.635   \n",
       "3              0 -62.016308       0.418093              0    14.395   \n",
       "4              0 -50.973158       0.418093              0    14.395   \n",
       "\n",
       "   NO_humidity  NO_temp  NO_windspeed  CO_hour  CO_year  \n",
       "0           81     9.84           0.0        0        0  \n",
       "1           80     9.02           0.0        1        0  \n",
       "2           80     9.02           0.0       12        0  \n",
       "3           75     9.84           0.0       17        0  \n",
       "4           75     9.84           0.0       18        0  "
      ]
     },
     "execution_count": 19,
     "metadata": {},
     "output_type": "execute_result"
    }
   ],
   "source": [
    "X_train.head()"
   ]
  },
  {
   "cell_type": "code",
   "execution_count": 20,
   "metadata": {},
   "outputs": [
    {
     "data": {
      "text/plain": [
       "(10886, 16)"
      ]
     },
     "execution_count": 20,
     "metadata": {},
     "output_type": "execute_result"
    }
   ],
   "source": [
    "X_train.shape"
   ]
  },
  {
   "cell_type": "code",
   "execution_count": 21,
   "metadata": {},
   "outputs": [
    {
     "data": {
      "text/plain": [
       "(10886, 1)"
      ]
     },
     "execution_count": 21,
     "metadata": {},
     "output_type": "execute_result"
    }
   ],
   "source": [
    "Y_train.shape"
   ]
  },
  {
   "cell_type": "code",
   "execution_count": 22,
   "metadata": {},
   "outputs": [],
   "source": [
    "X_train, X_test, Y_train, Y_test = train_test_split(X_train,\n",
    "                                                    Y_train,\n",
    "                                                    test_size = 0.3,\n",
    "                                                    random_state = 0)"
   ]
  },
  {
   "cell_type": "code",
   "execution_count": 23,
   "metadata": {},
   "outputs": [
    {
     "data": {
      "text/html": [
       "<div>\n",
       "<style scoped>\n",
       "    .dataframe tbody tr th:only-of-type {\n",
       "        vertical-align: middle;\n",
       "    }\n",
       "\n",
       "    .dataframe tbody tr th {\n",
       "        vertical-align: top;\n",
       "    }\n",
       "\n",
       "    .dataframe thead th {\n",
       "        text-align: right;\n",
       "    }\n",
       "</style>\n",
       "<table border=\"1\" class=\"dataframe\">\n",
       "  <thead>\n",
       "    <tr style=\"text-align: right;\">\n",
       "      <th></th>\n",
       "      <th>CN_school</th>\n",
       "      <th>CO_day</th>\n",
       "      <th>CO_holiday</th>\n",
       "      <th>CO_month</th>\n",
       "      <th>CO_season</th>\n",
       "      <th>CO_weather</th>\n",
       "      <th>CO_workingday</th>\n",
       "      <th>NN_soleil</th>\n",
       "      <th>NN_tendance_1</th>\n",
       "      <th>NN_tendance_2</th>\n",
       "      <th>NO_atemp</th>\n",
       "      <th>NO_humidity</th>\n",
       "      <th>NO_temp</th>\n",
       "      <th>NO_windspeed</th>\n",
       "      <th>CO_hour</th>\n",
       "      <th>CO_year</th>\n",
       "    </tr>\n",
       "  </thead>\n",
       "  <tbody>\n",
       "    <tr>\n",
       "      <th>8620</th>\n",
       "      <td>1</td>\n",
       "      <td>6</td>\n",
       "      <td>0</td>\n",
       "      <td>1</td>\n",
       "      <td>0</td>\n",
       "      <td>0</td>\n",
       "      <td>1</td>\n",
       "      <td>68.660778</td>\n",
       "      <td>1.563340</td>\n",
       "      <td>578</td>\n",
       "      <td>37.120</td>\n",
       "      <td>52</td>\n",
       "      <td>32.80</td>\n",
       "      <td>11.0014</td>\n",
       "      <td>5</td>\n",
       "      <td>1</td>\n",
       "    </tr>\n",
       "    <tr>\n",
       "      <th>8985</th>\n",
       "      <td>1</td>\n",
       "      <td>4</td>\n",
       "      <td>0</td>\n",
       "      <td>1</td>\n",
       "      <td>0</td>\n",
       "      <td>0</td>\n",
       "      <td>1</td>\n",
       "      <td>22.375897</td>\n",
       "      <td>1.563340</td>\n",
       "      <td>593</td>\n",
       "      <td>35.605</td>\n",
       "      <td>36</td>\n",
       "      <td>32.80</td>\n",
       "      <td>0.0000</td>\n",
       "      <td>10</td>\n",
       "      <td>1</td>\n",
       "    </tr>\n",
       "    <tr>\n",
       "      <th>6171</th>\n",
       "      <td>0</td>\n",
       "      <td>1</td>\n",
       "      <td>0</td>\n",
       "      <td>3</td>\n",
       "      <td>2</td>\n",
       "      <td>0</td>\n",
       "      <td>1</td>\n",
       "      <td>9.692626</td>\n",
       "      <td>2.017690</td>\n",
       "      <td>408</td>\n",
       "      <td>6.820</td>\n",
       "      <td>50</td>\n",
       "      <td>4.92</td>\n",
       "      <td>12.9980</td>\n",
       "      <td>23</td>\n",
       "      <td>1</td>\n",
       "    </tr>\n",
       "    <tr>\n",
       "      <th>6473</th>\n",
       "      <td>0</td>\n",
       "      <td>5</td>\n",
       "      <td>0</td>\n",
       "      <td>7</td>\n",
       "      <td>2</td>\n",
       "      <td>0</td>\n",
       "      <td>1</td>\n",
       "      <td>-43.868511</td>\n",
       "      <td>2.446521</td>\n",
       "      <td>430</td>\n",
       "      <td>13.635</td>\n",
       "      <td>61</td>\n",
       "      <td>11.48</td>\n",
       "      <td>15.0013</td>\n",
       "      <td>16</td>\n",
       "      <td>1</td>\n",
       "    </tr>\n",
       "    <tr>\n",
       "      <th>10877</th>\n",
       "      <td>0</td>\n",
       "      <td>6</td>\n",
       "      <td>0</td>\n",
       "      <td>2</td>\n",
       "      <td>1</td>\n",
       "      <td>0</td>\n",
       "      <td>1</td>\n",
       "      <td>22.211826</td>\n",
       "      <td>1.617721</td>\n",
       "      <td>718</td>\n",
       "      <td>21.210</td>\n",
       "      <td>50</td>\n",
       "      <td>17.22</td>\n",
       "      <td>19.0012</td>\n",
       "      <td>7</td>\n",
       "      <td>1</td>\n",
       "    </tr>\n",
       "  </tbody>\n",
       "</table>\n",
       "</div>"
      ],
      "text/plain": [
       "       CN_school  CO_day  CO_holiday  CO_month  CO_season  CO_weather  \\\n",
       "8620           1       6           0         1          0           0   \n",
       "8985           1       4           0         1          0           0   \n",
       "6171           0       1           0         3          2           0   \n",
       "6473           0       5           0         7          2           0   \n",
       "10877          0       6           0         2          1           0   \n",
       "\n",
       "       CO_workingday  NN_soleil  NN_tendance_1  NN_tendance_2  NO_atemp  \\\n",
       "8620               1  68.660778       1.563340            578    37.120   \n",
       "8985               1  22.375897       1.563340            593    35.605   \n",
       "6171               1   9.692626       2.017690            408     6.820   \n",
       "6473               1 -43.868511       2.446521            430    13.635   \n",
       "10877              1  22.211826       1.617721            718    21.210   \n",
       "\n",
       "       NO_humidity  NO_temp  NO_windspeed  CO_hour  CO_year  \n",
       "8620            52    32.80       11.0014        5        1  \n",
       "8985            36    32.80        0.0000       10        1  \n",
       "6171            50     4.92       12.9980       23        1  \n",
       "6473            61    11.48       15.0013       16        1  \n",
       "10877           50    17.22       19.0012        7        1  "
      ]
     },
     "execution_count": 23,
     "metadata": {},
     "output_type": "execute_result"
    }
   ],
   "source": [
    "X_train.head()"
   ]
  },
  {
   "cell_type": "code",
   "execution_count": 24,
   "metadata": {},
   "outputs": [
    {
     "data": {
      "text/plain": [
       "(3266, 16)"
      ]
     },
     "execution_count": 24,
     "metadata": {},
     "output_type": "execute_result"
    }
   ],
   "source": [
    "X_test.shape"
   ]
  },
  {
   "cell_type": "code",
   "execution_count": 25,
   "metadata": {},
   "outputs": [
    {
     "data": {
      "text/plain": [
       "['CN_school',\n",
       " 'CO_day',\n",
       " 'CO_holiday',\n",
       " 'CO_month',\n",
       " 'CO_season',\n",
       " 'CO_weather',\n",
       " 'CO_workingday',\n",
       " 'NN_soleil',\n",
       " 'NN_tendance_1',\n",
       " 'NN_tendance_2',\n",
       " 'NO_atemp',\n",
       " 'NO_humidity',\n",
       " 'NO_temp',\n",
       " 'NO_windspeed',\n",
       " 'CO_hour',\n",
       " 'CO_year']"
      ]
     },
     "execution_count": 25,
     "metadata": {},
     "output_type": "execute_result"
    }
   ],
   "source": [
    "list(X_train)"
   ]
  },
  {
   "cell_type": "code",
   "execution_count": 130,
   "metadata": {},
   "outputs": [
    {
     "name": "stdout",
     "output_type": "stream",
     "text": [
      "CPU times: user 4min 40s, sys: 1.29 s, total: 4min 41s\n",
      "Wall time: 4min 51s\n"
     ]
    }
   ],
   "source": [
    "%%time\n",
    "n_iter=85\n",
    "\n",
    "# df_result_models = pd.DataFrame(columns = ['colsample_bytree','gamma','learning_rate','max_depth','n_estimators','subsample','reg_alpha','RMSE_train','RMSE_test'])\n",
    "df_result_models = pd.DataFrame(columns = ['colsample_bytree','gamma','learning_rate','max_depth','n_estimators','subsample','reg_lambda','RMSE_train','RMSE_test'])\n",
    "\n",
    "for each in range(1,n_iter):\n",
    "    \n",
    "    # print (\"Modèle n°\", each)\n",
    "    colsample_bytree_value = np.random.uniform(0.3,0.7)\n",
    "    gamma_value = np.random.uniform(0, 0.5)\n",
    "    learning_rate_value = np.random.uniform(0.03, 0.3)\n",
    "    max_depth_value = np.random.randint(2, 6)\n",
    "    \n",
    "    # n_estimators_value = np.random.randint(100, 150)\n",
    "    n_estimators_value = np.random.randint(400, 500)\n",
    "    subsample_value = np.random.uniform(0.4, 0.6)\n",
    "    # Ajouter reg_alpha ou reg_lambda\n",
    "    \n",
    "    # reg_alpha_value = np.random.uniform(0, 0.05)\n",
    "    # reg_alpha_value = np.random.uniform(0, 10)\n",
    "    reg_lambda_value = np.random.uniform(0, 10)\n",
    "    \n",
    "    # print (\"max_depth\", max_depth_value)\n",
    "    # print (\"reg_alpha\", reg_alpha_value)\n",
    "    \n",
    "    xgb_model = xgb.XGBRegressor(\n",
    "        colsample_bytree = colsample_bytree_value,\n",
    "        gamma = gamma_value,\n",
    "        learning_rate = learning_rate_value,\n",
    "        max_depth = max_depth_value,\n",
    "        n_estimators = n_estimators_value,\n",
    "        subsample = subsample_value,\n",
    "        # reg_alpha = reg_alpha_value,\n",
    "        reg_lambda = reg_lambda_value,\n",
    "        objective=\"reg:squarederror\")\n",
    "        \n",
    "        # eval_metric = \"rmse\"\n",
    "          \n",
    "    result = xgb_model.fit(X_train, Y_train)\n",
    "    \n",
    "    predicted_values = xgb_model.predict(X_train)\n",
    "    # print (\"predicted_values\", predicted_values)\n",
    "    predicted_values = np.expand_dims(predicted_values, axis=1)\n",
    "        \n",
    "    RMSE_train_value = np.sqrt(np.mean((predicted_values - Y_train.values)**2, axis=0))\n",
    "    # print(\"le score RMLSE sur le training set vaut : {}\".format(RMSE))\n",
    "    \n",
    "    predicted_values = xgb_model.predict(X_test)\n",
    "    predicted_values = np.expand_dims(predicted_values, axis=1)\n",
    "        \n",
    "    RMSE_test_value = np.sqrt(np.mean((predicted_values - Y_test.values)**2, axis=0))\n",
    "    # print(\"le score RMSE sur le test set vaut : {}\".format(RMSE))\n",
    "    \n",
    "    if RMSE_train_value != None and RMSE_test_value != None:\n",
    "    \n",
    "        df_result_models = df_result_models.append({'colsample_bytree': colsample_bytree_value, \n",
    "                                 'gamma':gamma_value,\n",
    "                                 'learning_rate':learning_rate_value,\n",
    "                                 'max_depth':max_depth_value,\n",
    "                                 'n_estimators':n_estimators_value,\n",
    "                                 'subsample':subsample_value,\n",
    "                                 # 'reg_alpha':reg_alpha_value,\n",
    "                                 'reg_lambda':reg_lambda_value,\n",
    "                                 'RMSE_train':RMSE_train_value,\n",
    "                                 'RMSE_test':RMSE_test_value}, ignore_index= True)"
   ]
  },
  {
   "cell_type": "code",
   "execution_count": 124,
   "metadata": {},
   "outputs": [
    {
     "data": {
      "text/html": [
       "<div>\n",
       "<style scoped>\n",
       "    .dataframe tbody tr th:only-of-type {\n",
       "        vertical-align: middle;\n",
       "    }\n",
       "\n",
       "    .dataframe tbody tr th {\n",
       "        vertical-align: top;\n",
       "    }\n",
       "\n",
       "    .dataframe thead th {\n",
       "        text-align: right;\n",
       "    }\n",
       "</style>\n",
       "<table border=\"1\" class=\"dataframe\">\n",
       "  <thead>\n",
       "    <tr style=\"text-align: right;\">\n",
       "      <th></th>\n",
       "      <th>colsample_bytree</th>\n",
       "      <th>gamma</th>\n",
       "      <th>learning_rate</th>\n",
       "      <th>max_depth</th>\n",
       "      <th>n_estimators</th>\n",
       "      <th>subsample</th>\n",
       "      <th>reg_alpha</th>\n",
       "      <th>RMSE_train</th>\n",
       "      <th>RMSE_test</th>\n",
       "    </tr>\n",
       "  </thead>\n",
       "  <tbody>\n",
       "    <tr>\n",
       "      <th>29</th>\n",
       "      <td>0.561203</td>\n",
       "      <td>0.056888</td>\n",
       "      <td>0.11314</td>\n",
       "      <td>5</td>\n",
       "      <td>131</td>\n",
       "      <td>0.485035</td>\n",
       "      <td>0.672504</td>\n",
       "      <td>[0.24326636325942566]</td>\n",
       "      <td>[0.298649468865716]</td>\n",
       "    </tr>\n",
       "  </tbody>\n",
       "</table>\n",
       "</div>"
      ],
      "text/plain": [
       "    colsample_bytree     gamma  learning_rate max_depth n_estimators  \\\n",
       "29          0.561203  0.056888        0.11314         5          131   \n",
       "\n",
       "    subsample  reg_alpha             RMSE_train            RMSE_test  \n",
       "29   0.485035   0.672504  [0.24326636325942566]  [0.298649468865716]  "
      ]
     },
     "execution_count": 124,
     "metadata": {},
     "output_type": "execute_result"
    }
   ],
   "source": [
    "# n_estimators entre 100 à 150 et régularisation L1 entre 0 et 10\n",
    "df_result_models[df_result_models[\"RMSE_test\"]  == df_result_models[\"RMSE_test\"].min()[0]]"
   ]
  },
  {
   "cell_type": "code",
   "execution_count": 126,
   "metadata": {},
   "outputs": [
    {
     "data": {
      "text/html": [
       "<div>\n",
       "<style scoped>\n",
       "    .dataframe tbody tr th:only-of-type {\n",
       "        vertical-align: middle;\n",
       "    }\n",
       "\n",
       "    .dataframe tbody tr th {\n",
       "        vertical-align: top;\n",
       "    }\n",
       "\n",
       "    .dataframe thead th {\n",
       "        text-align: right;\n",
       "    }\n",
       "</style>\n",
       "<table border=\"1\" class=\"dataframe\">\n",
       "  <thead>\n",
       "    <tr style=\"text-align: right;\">\n",
       "      <th></th>\n",
       "      <th>colsample_bytree</th>\n",
       "      <th>gamma</th>\n",
       "      <th>learning_rate</th>\n",
       "      <th>max_depth</th>\n",
       "      <th>n_estimators</th>\n",
       "      <th>subsample</th>\n",
       "      <th>reg_alpha</th>\n",
       "      <th>RMSE_train</th>\n",
       "      <th>RMSE_test</th>\n",
       "    </tr>\n",
       "  </thead>\n",
       "  <tbody>\n",
       "    <tr>\n",
       "      <th>24</th>\n",
       "      <td>0.49319</td>\n",
       "      <td>0.192595</td>\n",
       "      <td>0.103625</td>\n",
       "      <td>5</td>\n",
       "      <td>440</td>\n",
       "      <td>0.543256</td>\n",
       "      <td>1.672217</td>\n",
       "      <td>[0.22553366470978184]</td>\n",
       "      <td>[0.29043559328525825]</td>\n",
       "    </tr>\n",
       "  </tbody>\n",
       "</table>\n",
       "</div>"
      ],
      "text/plain": [
       "    colsample_bytree     gamma  learning_rate max_depth n_estimators  \\\n",
       "24           0.49319  0.192595       0.103625         5          440   \n",
       "\n",
       "    subsample  reg_alpha             RMSE_train              RMSE_test  \n",
       "24   0.543256   1.672217  [0.22553366470978184]  [0.29043559328525825]  "
      ]
     },
     "execution_count": 126,
     "metadata": {},
     "output_type": "execute_result"
    }
   ],
   "source": [
    "# n_estimators entre 400 à 500 et régularisation L1 entre 0 et 10\n",
    "df_result_models[df_result_models[\"RMSE_test\"]  == df_result_models[\"RMSE_test\"].min()[0]]"
   ]
  },
  {
   "cell_type": "markdown",
   "metadata": {},
   "source": [
    "Cette fois avec régularisation L2 avec lambda : entre 0 et 10"
   ]
  },
  {
   "cell_type": "code",
   "execution_count": 129,
   "metadata": {},
   "outputs": [
    {
     "data": {
      "text/html": [
       "<div>\n",
       "<style scoped>\n",
       "    .dataframe tbody tr th:only-of-type {\n",
       "        vertical-align: middle;\n",
       "    }\n",
       "\n",
       "    .dataframe tbody tr th {\n",
       "        vertical-align: top;\n",
       "    }\n",
       "\n",
       "    .dataframe thead th {\n",
       "        text-align: right;\n",
       "    }\n",
       "</style>\n",
       "<table border=\"1\" class=\"dataframe\">\n",
       "  <thead>\n",
       "    <tr style=\"text-align: right;\">\n",
       "      <th></th>\n",
       "      <th>colsample_bytree</th>\n",
       "      <th>gamma</th>\n",
       "      <th>learning_rate</th>\n",
       "      <th>max_depth</th>\n",
       "      <th>n_estimators</th>\n",
       "      <th>subsample</th>\n",
       "      <th>reg_lambda</th>\n",
       "      <th>RMSE_train</th>\n",
       "      <th>RMSE_test</th>\n",
       "    </tr>\n",
       "  </thead>\n",
       "  <tbody>\n",
       "    <tr>\n",
       "      <th>58</th>\n",
       "      <td>0.527602</td>\n",
       "      <td>0.387389</td>\n",
       "      <td>0.129492</td>\n",
       "      <td>5</td>\n",
       "      <td>134</td>\n",
       "      <td>0.513007</td>\n",
       "      <td>9.068883</td>\n",
       "      <td>[0.2584567246348274]</td>\n",
       "      <td>[0.3010008457426222]</td>\n",
       "    </tr>\n",
       "  </tbody>\n",
       "</table>\n",
       "</div>"
      ],
      "text/plain": [
       "    colsample_bytree     gamma  learning_rate max_depth n_estimators  \\\n",
       "58          0.527602  0.387389       0.129492         5          134   \n",
       "\n",
       "    subsample  reg_lambda            RMSE_train             RMSE_test  \n",
       "58   0.513007    9.068883  [0.2584567246348274]  [0.3010008457426222]  "
      ]
     },
     "execution_count": 129,
     "metadata": {},
     "output_type": "execute_result"
    }
   ],
   "source": [
    "# n_estimators entre 100 à 150 et régularisation L2 entre 0 et 10\n",
    "df_result_models[df_result_models[\"RMSE_test\"]  == df_result_models[\"RMSE_test\"].min()[0]]"
   ]
  },
  {
   "cell_type": "code",
   "execution_count": 131,
   "metadata": {},
   "outputs": [
    {
     "data": {
      "text/html": [
       "<div>\n",
       "<style scoped>\n",
       "    .dataframe tbody tr th:only-of-type {\n",
       "        vertical-align: middle;\n",
       "    }\n",
       "\n",
       "    .dataframe tbody tr th {\n",
       "        vertical-align: top;\n",
       "    }\n",
       "\n",
       "    .dataframe thead th {\n",
       "        text-align: right;\n",
       "    }\n",
       "</style>\n",
       "<table border=\"1\" class=\"dataframe\">\n",
       "  <thead>\n",
       "    <tr style=\"text-align: right;\">\n",
       "      <th></th>\n",
       "      <th>colsample_bytree</th>\n",
       "      <th>gamma</th>\n",
       "      <th>learning_rate</th>\n",
       "      <th>max_depth</th>\n",
       "      <th>n_estimators</th>\n",
       "      <th>subsample</th>\n",
       "      <th>reg_lambda</th>\n",
       "      <th>RMSE_train</th>\n",
       "      <th>RMSE_test</th>\n",
       "    </tr>\n",
       "  </thead>\n",
       "  <tbody>\n",
       "    <tr>\n",
       "      <th>39</th>\n",
       "      <td>0.675896</td>\n",
       "      <td>0.103326</td>\n",
       "      <td>0.088006</td>\n",
       "      <td>5</td>\n",
       "      <td>433</td>\n",
       "      <td>0.59952</td>\n",
       "      <td>6.282758</td>\n",
       "      <td>[0.1923565255813504]</td>\n",
       "      <td>[0.2867988720875062]</td>\n",
       "    </tr>\n",
       "  </tbody>\n",
       "</table>\n",
       "</div>"
      ],
      "text/plain": [
       "    colsample_bytree     gamma  learning_rate max_depth n_estimators  \\\n",
       "39          0.675896  0.103326       0.088006         5          433   \n",
       "\n",
       "    subsample  reg_lambda            RMSE_train             RMSE_test  \n",
       "39    0.59952    6.282758  [0.1923565255813504]  [0.2867988720875062]  "
      ]
     },
     "execution_count": 131,
     "metadata": {},
     "output_type": "execute_result"
    }
   ],
   "source": [
    "# n_estimators entre 400 à 500 et régularisation L2 entre 0 et 10\n",
    "df_result_models[df_result_models[\"RMSE_test\"]  == df_result_models[\"RMSE_test\"].min()[0]]"
   ]
  },
  {
   "cell_type": "markdown",
   "metadata": {},
   "source": [
    "On essaye avec 1000 arbres et Lambda: entre 5 et 20"
   ]
  },
  {
   "cell_type": "code",
   "execution_count": 28,
   "metadata": {},
   "outputs": [
    {
     "name": "stdout",
     "output_type": "stream",
     "text": [
      "CPU times: user 15.2 s, sys: 419 ms, total: 15.6 s\n",
      "Wall time: 15.8 s\n"
     ]
    }
   ],
   "source": [
    "%%time\n",
    "xgb_model = xgb.XGBRegressor(\n",
    "        colsample_bytree = 0.675896,\n",
    "        gamma = 0.103326,\n",
    "        learning_rate = 0.088006,\n",
    "        max_depth = 5,\n",
    "        n_estimators = 1000,\n",
    "        subsample = 0.59952,\n",
    "        # reg_alpha = reg_alpha_value,\n",
    "        reg_lambda = np.random.uniform(5, 20),\n",
    "        objective=\"reg:squarederror\")\n",
    "        \n",
    "        # eval_metric = \"rmse\"\n",
    "        \n",
    "# print (\"reg_lambda used:\", reg_lambda)\n",
    "          \n",
    "result = xgb_model.fit(X_train, Y_train)\n",
    "\n",
    "predicted_values = xgb_model.predict(X_train)\n",
    "# print (\"predicted_values\", predicted_values)\n",
    "predicted_values = np.expand_dims(predicted_values, axis=1)\n",
    "\n",
    "RMSE_train_value = np.sqrt(np.mean((predicted_values - Y_train.values)**2, axis=0))\n",
    "# print(\"le score RMLSE sur le training set vaut : {}\".format(RMSE))\n",
    "\n",
    "predicted_values = xgb_model.predict(X_test)\n",
    "predicted_values = np.expand_dims(predicted_values, axis=1)\n",
    "\n",
    "RMSE_test_value = np.sqrt(np.mean((predicted_values - Y_test.values)**2, axis=0))"
   ]
  },
  {
   "cell_type": "code",
   "execution_count": 29,
   "metadata": {},
   "outputs": [
    {
     "data": {
      "text/plain": [
       "array([0.15105345])"
      ]
     },
     "execution_count": 29,
     "metadata": {},
     "output_type": "execute_result"
    }
   ],
   "source": [
    "RMSE_train_value\n",
    "# On avait : array([0.16629486])"
   ]
  },
  {
   "cell_type": "code",
   "execution_count": 30,
   "metadata": {},
   "outputs": [
    {
     "data": {
      "text/plain": [
       "array([0.28635527])"
      ]
     },
     "execution_count": 30,
     "metadata": {},
     "output_type": "execute_result"
    }
   ],
   "source": [
    "RMSE_test_value\n",
    "# On avait : array([0.28462085])"
   ]
  },
  {
   "cell_type": "code",
   "execution_count": null,
   "metadata": {},
   "outputs": [],
   "source": []
  },
  {
   "cell_type": "code",
   "execution_count": null,
   "metadata": {},
   "outputs": [],
   "source": []
  },
  {
   "cell_type": "code",
   "execution_count": null,
   "metadata": {},
   "outputs": [],
   "source": []
  },
  {
   "cell_type": "markdown",
   "metadata": {},
   "source": [
    "## SAUVEGARDE avec xgb_model"
   ]
  },
  {
   "cell_type": "code",
   "execution_count": 32,
   "metadata": {},
   "outputs": [
    {
     "name": "stderr",
     "output_type": "stream",
     "text": [
      "/home/osboxes/anaconda3/envs/data/lib/python3.6/site-packages/sklearn/externals/joblib/__init__.py:15: DeprecationWarning: sklearn.externals.joblib is deprecated in 0.21 and will be removed in 0.23. Please import this functionality directly from joblib, which can be installed with: pip install joblib. If this warning is raised when loading pickled models, you may need to re-serialize those models with scikit-learn 0.21+.\n",
      "  warnings.warn(msg, category=DeprecationWarning)\n"
     ]
    },
    {
     "data": {
      "text/plain": [
       "['xgb_0.408.pkl']"
      ]
     },
     "execution_count": 32,
     "metadata": {},
     "output_type": "execute_result"
    }
   ],
   "source": [
    "from sklearn.externals import joblib\n",
    "# pour le save\n",
    "joblib.dump(xgb_model, \"xgb_0.408.pkl\", compress=9)\n",
    "# pour le reload\n",
    "mymodel = joblib.load(\"xgb_0.408.pkl\")"
   ]
  },
  {
   "cell_type": "code",
   "execution_count": 33,
   "metadata": {},
   "outputs": [],
   "source": []
  },
  {
   "cell_type": "code",
   "execution_count": null,
   "metadata": {},
   "outputs": [],
   "source": []
  },
  {
   "cell_type": "code",
   "execution_count": null,
   "metadata": {},
   "outputs": [],
   "source": []
  },
  {
   "cell_type": "code",
   "execution_count": null,
   "metadata": {},
   "outputs": [],
   "source": []
  },
  {
   "cell_type": "code",
   "execution_count": null,
   "metadata": {},
   "outputs": [],
   "source": []
  },
  {
   "cell_type": "code",
   "execution_count": null,
   "metadata": {},
   "outputs": [],
   "source": []
  },
  {
   "cell_type": "code",
   "execution_count": null,
   "metadata": {},
   "outputs": [],
   "source": []
  },
  {
   "cell_type": "code",
   "execution_count": null,
   "metadata": {},
   "outputs": [],
   "source": [
    "ON SOUMET A Kaggle !!!"
   ]
  },
  {
   "cell_type": "code",
   "execution_count": null,
   "metadata": {},
   "outputs": [],
   "source": [
    "On essaye avec 5000 arbres et Lambda: entre 5 et 20"
   ]
  },
  {
   "cell_type": "code",
   "execution_count": 138,
   "metadata": {},
   "outputs": [
    {
     "name": "stdout",
     "output_type": "stream",
     "text": [
      "CPU times: user 1min 6s, sys: 494 ms, total: 1min 7s\n",
      "Wall time: 1min 10s\n"
     ]
    }
   ],
   "source": [
    "%%time\n",
    "xgb_model = xgb.XGBRegressor(\n",
    "        colsample_bytree = 0.675896,\n",
    "        gamma = 0.103326,\n",
    "        learning_rate = 0.088006,\n",
    "        max_depth = 5,\n",
    "        n_estimators = 5000,\n",
    "        subsample = 0.59952,\n",
    "        # reg_alpha = reg_alpha_value,\n",
    "        reg_lambda = np.random.uniform(5, 20),\n",
    "        objective=\"reg:squarederror\")\n",
    "        \n",
    "        # eval_metric = \"rmse\"\n",
    "          \n",
    "result = xgb_model.fit(X_train, Y_train)\n",
    "\n",
    "predicted_values = xgb_model.predict(X_train)\n",
    "# print (\"predicted_values\", predicted_values)\n",
    "predicted_values = np.expand_dims(predicted_values, axis=1)\n",
    "\n",
    "RMSE_train_value = np.sqrt(np.mean((predicted_values - Y_train.values)**2, axis=0))\n",
    "# print(\"le score RMLSE sur le training set vaut : {}\".format(RMSE))\n",
    "\n",
    "predicted_values = xgb_model.predict(X_test)\n",
    "predicted_values = np.expand_dims(predicted_values, axis=1)\n",
    "\n",
    "RMSE_test_value = np.sqrt(np.mean((predicted_values - Y_test.values)**2, axis=0))"
   ]
  },
  {
   "cell_type": "code",
   "execution_count": 162,
   "metadata": {},
   "outputs": [
    {
     "data": {
      "text/plain": [
       "array([0.16629486])"
      ]
     },
     "execution_count": 162,
     "metadata": {},
     "output_type": "execute_result"
    }
   ],
   "source": [
    "RMSE_train_value"
   ]
  },
  {
   "cell_type": "code",
   "execution_count": 163,
   "metadata": {},
   "outputs": [
    {
     "data": {
      "text/plain": [
       "array([0.28462085])"
      ]
     },
     "execution_count": 163,
     "metadata": {},
     "output_type": "execute_result"
    }
   ],
   "source": [
    "RMSE_test_value"
   ]
  },
  {
   "cell_type": "code",
   "execution_count": null,
   "metadata": {},
   "outputs": [],
   "source": [
    "Pas mieux qu'avec 1000 arbres et Lambda: entre 5 et 20"
   ]
  },
  {
   "cell_type": "markdown",
   "metadata": {},
   "source": [
    "SOUMETTRE A KAGGLE !!!!"
   ]
  },
  {
   "cell_type": "code",
   "execution_count": 168,
   "metadata": {},
   "outputs": [
    {
     "data": {
      "text/plain": [
       "(6493, 17)"
      ]
     },
     "execution_count": 168,
     "metadata": {},
     "output_type": "execute_result"
    }
   ],
   "source": [
    "df_to_predict = pd.read_pickle(\"../data/df_test_kaggle_o_n_sk_encoded.pkl\") \n",
    "df_to_predict.shape"
   ]
  },
  {
   "cell_type": "code",
   "execution_count": 170,
   "metadata": {},
   "outputs": [
    {
     "data": {
      "text/html": [
       "<div>\n",
       "<style scoped>\n",
       "    .dataframe tbody tr th:only-of-type {\n",
       "        vertical-align: middle;\n",
       "    }\n",
       "\n",
       "    .dataframe tbody tr th {\n",
       "        vertical-align: top;\n",
       "    }\n",
       "\n",
       "    .dataframe thead th {\n",
       "        text-align: right;\n",
       "    }\n",
       "</style>\n",
       "<table border=\"1\" class=\"dataframe\">\n",
       "  <thead>\n",
       "    <tr style=\"text-align: right;\">\n",
       "      <th></th>\n",
       "      <th>CN_school</th>\n",
       "      <th>CO_day</th>\n",
       "      <th>CO_holiday</th>\n",
       "      <th>CO_month</th>\n",
       "      <th>CO_season</th>\n",
       "      <th>CO_weather</th>\n",
       "      <th>CO_workingday</th>\n",
       "      <th>NN_soleil</th>\n",
       "      <th>NN_tendance_1</th>\n",
       "      <th>NN_tendance_2</th>\n",
       "      <th>NO_atemp</th>\n",
       "      <th>NO_humidity</th>\n",
       "      <th>NO_temp</th>\n",
       "      <th>NO_windspeed</th>\n",
       "      <th>datetime</th>\n",
       "      <th>CO_hour</th>\n",
       "      <th>CO_year</th>\n",
       "    </tr>\n",
       "  </thead>\n",
       "  <tbody>\n",
       "    <tr>\n",
       "      <th>0</th>\n",
       "      <td>0</td>\n",
       "      <td>4</td>\n",
       "      <td>0</td>\n",
       "      <td>4</td>\n",
       "      <td>2</td>\n",
       "      <td>0</td>\n",
       "      <td>1</td>\n",
       "      <td>-64.731114</td>\n",
       "      <td>0.920373</td>\n",
       "      <td>19</td>\n",
       "      <td>11.365</td>\n",
       "      <td>56</td>\n",
       "      <td>10.66</td>\n",
       "      <td>26.0027</td>\n",
       "      <td>2011-01-20 00:00:00</td>\n",
       "      <td>0</td>\n",
       "      <td>0</td>\n",
       "    </tr>\n",
       "    <tr>\n",
       "      <th>1</th>\n",
       "      <td>0</td>\n",
       "      <td>4</td>\n",
       "      <td>0</td>\n",
       "      <td>4</td>\n",
       "      <td>2</td>\n",
       "      <td>0</td>\n",
       "      <td>1</td>\n",
       "      <td>-70.858731</td>\n",
       "      <td>0.920373</td>\n",
       "      <td>19</td>\n",
       "      <td>13.635</td>\n",
       "      <td>56</td>\n",
       "      <td>10.66</td>\n",
       "      <td>0.0000</td>\n",
       "      <td>2011-01-20 01:00:00</td>\n",
       "      <td>1</td>\n",
       "      <td>0</td>\n",
       "    </tr>\n",
       "    <tr>\n",
       "      <th>2</th>\n",
       "      <td>0</td>\n",
       "      <td>4</td>\n",
       "      <td>0</td>\n",
       "      <td>4</td>\n",
       "      <td>2</td>\n",
       "      <td>0</td>\n",
       "      <td>1</td>\n",
       "      <td>-69.313963</td>\n",
       "      <td>0.920373</td>\n",
       "      <td>19</td>\n",
       "      <td>13.635</td>\n",
       "      <td>56</td>\n",
       "      <td>10.66</td>\n",
       "      <td>0.0000</td>\n",
       "      <td>2011-01-20 02:00:00</td>\n",
       "      <td>12</td>\n",
       "      <td>0</td>\n",
       "    </tr>\n",
       "    <tr>\n",
       "      <th>3</th>\n",
       "      <td>0</td>\n",
       "      <td>4</td>\n",
       "      <td>0</td>\n",
       "      <td>4</td>\n",
       "      <td>2</td>\n",
       "      <td>0</td>\n",
       "      <td>1</td>\n",
       "      <td>-61.327846</td>\n",
       "      <td>0.920373</td>\n",
       "      <td>19</td>\n",
       "      <td>12.880</td>\n",
       "      <td>56</td>\n",
       "      <td>10.66</td>\n",
       "      <td>11.0014</td>\n",
       "      <td>2011-01-20 03:00:00</td>\n",
       "      <td>17</td>\n",
       "      <td>0</td>\n",
       "    </tr>\n",
       "    <tr>\n",
       "      <th>4</th>\n",
       "      <td>0</td>\n",
       "      <td>4</td>\n",
       "      <td>0</td>\n",
       "      <td>4</td>\n",
       "      <td>2</td>\n",
       "      <td>0</td>\n",
       "      <td>1</td>\n",
       "      <td>-50.733442</td>\n",
       "      <td>0.920373</td>\n",
       "      <td>19</td>\n",
       "      <td>12.880</td>\n",
       "      <td>56</td>\n",
       "      <td>10.66</td>\n",
       "      <td>11.0014</td>\n",
       "      <td>2011-01-20 04:00:00</td>\n",
       "      <td>18</td>\n",
       "      <td>0</td>\n",
       "    </tr>\n",
       "  </tbody>\n",
       "</table>\n",
       "</div>"
      ],
      "text/plain": [
       "   CN_school  CO_day  CO_holiday  CO_month  CO_season  CO_weather  \\\n",
       "0          0       4           0         4          2           0   \n",
       "1          0       4           0         4          2           0   \n",
       "2          0       4           0         4          2           0   \n",
       "3          0       4           0         4          2           0   \n",
       "4          0       4           0         4          2           0   \n",
       "\n",
       "   CO_workingday  NN_soleil  NN_tendance_1  NN_tendance_2  NO_atemp  \\\n",
       "0              1 -64.731114       0.920373             19    11.365   \n",
       "1              1 -70.858731       0.920373             19    13.635   \n",
       "2              1 -69.313963       0.920373             19    13.635   \n",
       "3              1 -61.327846       0.920373             19    12.880   \n",
       "4              1 -50.733442       0.920373             19    12.880   \n",
       "\n",
       "   NO_humidity  NO_temp  NO_windspeed             datetime  CO_hour  CO_year  \n",
       "0           56    10.66       26.0027  2011-01-20 00:00:00        0        0  \n",
       "1           56    10.66        0.0000  2011-01-20 01:00:00        1        0  \n",
       "2           56    10.66        0.0000  2011-01-20 02:00:00       12        0  \n",
       "3           56    10.66       11.0014  2011-01-20 03:00:00       17        0  \n",
       "4           56    10.66       11.0014  2011-01-20 04:00:00       18        0  "
      ]
     },
     "execution_count": 170,
     "metadata": {},
     "output_type": "execute_result"
    }
   ],
   "source": [
    "df_to_predict.head()"
   ]
  },
  {
   "cell_type": "code",
   "execution_count": 161,
   "metadata": {},
   "outputs": [
    {
     "data": {
      "text/plain": [
       "2152"
      ]
     },
     "execution_count": 161,
     "metadata": {},
     "output_type": "execute_result"
    }
   ],
   "source": [
    "# df_to_predict['CN_school'].sum()"
   ]
  },
  {
   "cell_type": "code",
   "execution_count": 171,
   "metadata": {},
   "outputs": [
    {
     "name": "stdout",
     "output_type": "stream",
     "text": [
      "[[2.9426036]\n",
      " [1.8973216]\n",
      " [1.671432 ]\n",
      " ...\n",
      " [4.8414903]\n",
      " [4.4583635]\n",
      " [3.7573152]]\n"
     ]
    }
   ],
   "source": [
    "# Ajout de la prédiction au dataframe \"df_to_predict\"\n",
    "df_temp = df_to_predict.drop(\"datetime\", axis = 1)\n",
    "features_names = list(df_temp)\n",
    "\n",
    "# new_features_names = [re.sub(\"\\[|\\]|\\<|\\>\",'',line) for line in features_names]\n",
    "# df_temp.columns = new_features_names\n",
    "\n",
    "log_pred = np.expand_dims(xgb_model.predict(df_temp), axis=1)\n",
    "\n",
    "print (log_pred)"
   ]
  },
  {
   "cell_type": "code",
   "execution_count": 172,
   "metadata": {},
   "outputs": [],
   "source": [
    "df_to_predict[\"count\"] = list((np.exp(log_pred) - 1)[:,0])\n",
    "df_to_predict[[\"datetime\", \"count\"]].to_csv(\"../data/submission_to_send/pred_xgboost_regression_holdout_1000.csv\", index= False)"
   ]
  },
  {
   "cell_type": "code",
   "execution_count": null,
   "metadata": {},
   "outputs": [],
   "source": [
    "KAGGLE SCORE = 0.40892"
   ]
  },
  {
   "cell_type": "markdown",
   "metadata": {},
   "source": [
    "### II Méthode randomized cross validation"
   ]
  },
  {
   "cell_type": "code",
   "execution_count": 74,
   "metadata": {},
   "outputs": [
    {
     "name": "stderr",
     "output_type": "stream",
     "text": [
      "/home/osboxes/anaconda3/envs/data/lib/python3.6/site-packages/ipykernel_launcher.py:13: SettingWithCopyWarning: \n",
      "A value is trying to be set on a copy of a slice from a DataFrame.\n",
      "Try using .loc[row_indexer,col_indexer] = value instead\n",
      "\n",
      "See the caveats in the documentation: http://pandas.pydata.org/pandas-docs/stable/indexing.html#indexing-view-versus-copy\n",
      "  del sys.path[0]\n"
     ]
    }
   ],
   "source": [
    "# df_for_cv_interaction_and_dummies = pd.read_pickle(\"df_for_cv_o_n_sk_encoded.pkl\")\n",
    "\n",
    "# OU\n",
    "df_for_cv_interaction_and_dummies = pd.read_pickle(\"df_for_cv_interaction_and_dummies.pkl\")\n",
    "\n",
    "all_var_x = [each for each in list(df_for_cv_interaction_and_dummies) if each != \"count\" and each != \"datetime\"]\n",
    "\n",
    "# df_for_cv_interaction_and_dummies.shape\n",
    "X_train = df_for_cv_interaction_and_dummies[all_var_x]\n",
    "Y_train = df_for_cv_interaction_and_dummies[[\"count\"]]\n",
    "\n",
    "# Calcul des Y = log(Y + 1)\n",
    "Y_train['log_count'] = Y_train['count'].map(lambda x: np.log1p(x))\n",
    "Y_train = Y_train.drop(\"count\", axis = 1)"
   ]
  },
  {
   "cell_type": "code",
   "execution_count": 75,
   "metadata": {},
   "outputs": [
    {
     "data": {
      "text/plain": [
       "(10886, 6429)"
      ]
     },
     "execution_count": 75,
     "metadata": {},
     "output_type": "execute_result"
    }
   ],
   "source": [
    "X_train.shape"
   ]
  },
  {
   "cell_type": "code",
   "execution_count": 76,
   "metadata": {},
   "outputs": [],
   "source": [
    "features_names = list(X_train)\n",
    "new_features_names = [re.sub(\"\\[|\\]|\\<|\\>\",'',line) for line in features_names]\n",
    "X_train.columns = new_features_names\n",
    "\n",
    "features_names = list(X_test)\n",
    "new_features_names = [re.sub(\"\\[|\\]|\\<|\\>\",'',line) for line in features_names]\n",
    "X_test.columns = new_features_names"
   ]
  },
  {
   "cell_type": "code",
   "execution_count": 77,
   "metadata": {},
   "outputs": [
    {
     "name": "stdout",
     "output_type": "stream",
     "text": [
      "Fitting 3 folds for each of 85 candidates, totalling 255 fits\n"
     ]
    },
    {
     "name": "stderr",
     "output_type": "stream",
     "text": [
      "[Parallel(n_jobs=2)]: Using backend LokyBackend with 2 concurrent workers.\n"
     ]
    },
    {
     "ename": "KeyboardInterrupt",
     "evalue": "",
     "output_type": "error",
     "traceback": [
      "\u001b[0;31m---------------------------------------------------------------------------\u001b[0m",
      "\u001b[0;31mKeyboardInterrupt\u001b[0m                         Traceback (most recent call last)",
      "\u001b[0;32m<ipython-input-77-c585b2e76478>\u001b[0m in \u001b[0;36m<module>\u001b[0;34m\u001b[0m\n\u001b[1;32m     12\u001b[0m \u001b[0msearch\u001b[0m \u001b[0;34m=\u001b[0m \u001b[0mRandomizedSearchCV\u001b[0m\u001b[0;34m(\u001b[0m\u001b[0mxgb_model\u001b[0m\u001b[0;34m,\u001b[0m \u001b[0mparam_distributions\u001b[0m\u001b[0;34m=\u001b[0m\u001b[0mparams\u001b[0m\u001b[0;34m,\u001b[0m \u001b[0mrandom_state\u001b[0m\u001b[0;34m=\u001b[0m\u001b[0;36m42\u001b[0m\u001b[0;34m,\u001b[0m \u001b[0mn_iter\u001b[0m\u001b[0;34m=\u001b[0m\u001b[0;36m85\u001b[0m\u001b[0;34m,\u001b[0m \u001b[0mcv\u001b[0m\u001b[0;34m=\u001b[0m\u001b[0;36m3\u001b[0m\u001b[0;34m,\u001b[0m \u001b[0mverbose\u001b[0m\u001b[0;34m=\u001b[0m\u001b[0;36m1\u001b[0m\u001b[0;34m,\u001b[0m \u001b[0mn_jobs\u001b[0m\u001b[0;34m=\u001b[0m\u001b[0;36m2\u001b[0m\u001b[0;34m,\u001b[0m \u001b[0mreturn_train_score\u001b[0m\u001b[0;34m=\u001b[0m\u001b[0;32mTrue\u001b[0m\u001b[0;34m)\u001b[0m\u001b[0;34m\u001b[0m\u001b[0;34m\u001b[0m\u001b[0m\n\u001b[1;32m     13\u001b[0m \u001b[0;34m\u001b[0m\u001b[0m\n\u001b[0;32m---> 14\u001b[0;31m \u001b[0msearch\u001b[0m\u001b[0;34m.\u001b[0m\u001b[0mfit\u001b[0m\u001b[0;34m(\u001b[0m\u001b[0mX_train\u001b[0m\u001b[0;34m,\u001b[0m \u001b[0mY_train\u001b[0m\u001b[0;34m)\u001b[0m\u001b[0;34m\u001b[0m\u001b[0;34m\u001b[0m\u001b[0m\n\u001b[0m",
      "\u001b[0;32m~/anaconda3/envs/data/lib/python3.6/site-packages/sklearn/model_selection/_search.py\u001b[0m in \u001b[0;36mfit\u001b[0;34m(self, X, y, groups, **fit_params)\u001b[0m\n\u001b[1;32m    685\u001b[0m                 \u001b[0;32mreturn\u001b[0m \u001b[0mresults\u001b[0m\u001b[0;34m\u001b[0m\u001b[0;34m\u001b[0m\u001b[0m\n\u001b[1;32m    686\u001b[0m \u001b[0;34m\u001b[0m\u001b[0m\n\u001b[0;32m--> 687\u001b[0;31m             \u001b[0mself\u001b[0m\u001b[0;34m.\u001b[0m\u001b[0m_run_search\u001b[0m\u001b[0;34m(\u001b[0m\u001b[0mevaluate_candidates\u001b[0m\u001b[0;34m)\u001b[0m\u001b[0;34m\u001b[0m\u001b[0;34m\u001b[0m\u001b[0m\n\u001b[0m\u001b[1;32m    688\u001b[0m \u001b[0;34m\u001b[0m\u001b[0m\n\u001b[1;32m    689\u001b[0m         \u001b[0;31m# For multi-metric evaluation, store the best_index_, best_params_ and\u001b[0m\u001b[0;34m\u001b[0m\u001b[0;34m\u001b[0m\u001b[0;34m\u001b[0m\u001b[0m\n",
      "\u001b[0;32m~/anaconda3/envs/data/lib/python3.6/site-packages/sklearn/model_selection/_search.py\u001b[0m in \u001b[0;36m_run_search\u001b[0;34m(self, evaluate_candidates)\u001b[0m\n\u001b[1;32m   1466\u001b[0m         evaluate_candidates(ParameterSampler(\n\u001b[1;32m   1467\u001b[0m             \u001b[0mself\u001b[0m\u001b[0;34m.\u001b[0m\u001b[0mparam_distributions\u001b[0m\u001b[0;34m,\u001b[0m \u001b[0mself\u001b[0m\u001b[0;34m.\u001b[0m\u001b[0mn_iter\u001b[0m\u001b[0;34m,\u001b[0m\u001b[0;34m\u001b[0m\u001b[0;34m\u001b[0m\u001b[0m\n\u001b[0;32m-> 1468\u001b[0;31m             random_state=self.random_state))\n\u001b[0m",
      "\u001b[0;32m~/anaconda3/envs/data/lib/python3.6/site-packages/sklearn/model_selection/_search.py\u001b[0m in \u001b[0;36mevaluate_candidates\u001b[0;34m(candidate_params)\u001b[0m\n\u001b[1;32m    664\u001b[0m                                \u001b[0;32mfor\u001b[0m \u001b[0mparameters\u001b[0m\u001b[0;34m,\u001b[0m \u001b[0;34m(\u001b[0m\u001b[0mtrain\u001b[0m\u001b[0;34m,\u001b[0m \u001b[0mtest\u001b[0m\u001b[0;34m)\u001b[0m\u001b[0;34m\u001b[0m\u001b[0;34m\u001b[0m\u001b[0m\n\u001b[1;32m    665\u001b[0m                                in product(candidate_params,\n\u001b[0;32m--> 666\u001b[0;31m                                           cv.split(X, y, groups)))\n\u001b[0m\u001b[1;32m    667\u001b[0m \u001b[0;34m\u001b[0m\u001b[0m\n\u001b[1;32m    668\u001b[0m                 \u001b[0;32mif\u001b[0m \u001b[0mlen\u001b[0m\u001b[0;34m(\u001b[0m\u001b[0mout\u001b[0m\u001b[0;34m)\u001b[0m \u001b[0;34m<\u001b[0m \u001b[0;36m1\u001b[0m\u001b[0;34m:\u001b[0m\u001b[0;34m\u001b[0m\u001b[0;34m\u001b[0m\u001b[0m\n",
      "\u001b[0;32m~/anaconda3/envs/data/lib/python3.6/site-packages/joblib/parallel.py\u001b[0m in \u001b[0;36m__call__\u001b[0;34m(self, iterable)\u001b[0m\n\u001b[1;32m    932\u001b[0m \u001b[0;34m\u001b[0m\u001b[0m\n\u001b[1;32m    933\u001b[0m             \u001b[0;32mwith\u001b[0m \u001b[0mself\u001b[0m\u001b[0;34m.\u001b[0m\u001b[0m_backend\u001b[0m\u001b[0;34m.\u001b[0m\u001b[0mretrieval_context\u001b[0m\u001b[0;34m(\u001b[0m\u001b[0;34m)\u001b[0m\u001b[0;34m:\u001b[0m\u001b[0;34m\u001b[0m\u001b[0;34m\u001b[0m\u001b[0m\n\u001b[0;32m--> 934\u001b[0;31m                 \u001b[0mself\u001b[0m\u001b[0;34m.\u001b[0m\u001b[0mretrieve\u001b[0m\u001b[0;34m(\u001b[0m\u001b[0;34m)\u001b[0m\u001b[0;34m\u001b[0m\u001b[0;34m\u001b[0m\u001b[0m\n\u001b[0m\u001b[1;32m    935\u001b[0m             \u001b[0;31m# Make sure that we get a last message telling us we are done\u001b[0m\u001b[0;34m\u001b[0m\u001b[0;34m\u001b[0m\u001b[0;34m\u001b[0m\u001b[0m\n\u001b[1;32m    936\u001b[0m             \u001b[0melapsed_time\u001b[0m \u001b[0;34m=\u001b[0m \u001b[0mtime\u001b[0m\u001b[0;34m.\u001b[0m\u001b[0mtime\u001b[0m\u001b[0;34m(\u001b[0m\u001b[0;34m)\u001b[0m \u001b[0;34m-\u001b[0m \u001b[0mself\u001b[0m\u001b[0;34m.\u001b[0m\u001b[0m_start_time\u001b[0m\u001b[0;34m\u001b[0m\u001b[0;34m\u001b[0m\u001b[0m\n",
      "\u001b[0;32m~/anaconda3/envs/data/lib/python3.6/site-packages/joblib/parallel.py\u001b[0m in \u001b[0;36mretrieve\u001b[0;34m(self)\u001b[0m\n\u001b[1;32m    831\u001b[0m             \u001b[0;32mtry\u001b[0m\u001b[0;34m:\u001b[0m\u001b[0;34m\u001b[0m\u001b[0;34m\u001b[0m\u001b[0m\n\u001b[1;32m    832\u001b[0m                 \u001b[0;32mif\u001b[0m \u001b[0mgetattr\u001b[0m\u001b[0;34m(\u001b[0m\u001b[0mself\u001b[0m\u001b[0;34m.\u001b[0m\u001b[0m_backend\u001b[0m\u001b[0;34m,\u001b[0m \u001b[0;34m'supports_timeout'\u001b[0m\u001b[0;34m,\u001b[0m \u001b[0;32mFalse\u001b[0m\u001b[0;34m)\u001b[0m\u001b[0;34m:\u001b[0m\u001b[0;34m\u001b[0m\u001b[0;34m\u001b[0m\u001b[0m\n\u001b[0;32m--> 833\u001b[0;31m                     \u001b[0mself\u001b[0m\u001b[0;34m.\u001b[0m\u001b[0m_output\u001b[0m\u001b[0;34m.\u001b[0m\u001b[0mextend\u001b[0m\u001b[0;34m(\u001b[0m\u001b[0mjob\u001b[0m\u001b[0;34m.\u001b[0m\u001b[0mget\u001b[0m\u001b[0;34m(\u001b[0m\u001b[0mtimeout\u001b[0m\u001b[0;34m=\u001b[0m\u001b[0mself\u001b[0m\u001b[0;34m.\u001b[0m\u001b[0mtimeout\u001b[0m\u001b[0;34m)\u001b[0m\u001b[0;34m)\u001b[0m\u001b[0;34m\u001b[0m\u001b[0;34m\u001b[0m\u001b[0m\n\u001b[0m\u001b[1;32m    834\u001b[0m                 \u001b[0;32melse\u001b[0m\u001b[0;34m:\u001b[0m\u001b[0;34m\u001b[0m\u001b[0;34m\u001b[0m\u001b[0m\n\u001b[1;32m    835\u001b[0m                     \u001b[0mself\u001b[0m\u001b[0;34m.\u001b[0m\u001b[0m_output\u001b[0m\u001b[0;34m.\u001b[0m\u001b[0mextend\u001b[0m\u001b[0;34m(\u001b[0m\u001b[0mjob\u001b[0m\u001b[0;34m.\u001b[0m\u001b[0mget\u001b[0m\u001b[0;34m(\u001b[0m\u001b[0;34m)\u001b[0m\u001b[0;34m)\u001b[0m\u001b[0;34m\u001b[0m\u001b[0;34m\u001b[0m\u001b[0m\n",
      "\u001b[0;32m~/anaconda3/envs/data/lib/python3.6/site-packages/joblib/_parallel_backends.py\u001b[0m in \u001b[0;36mwrap_future_result\u001b[0;34m(future, timeout)\u001b[0m\n\u001b[1;32m    519\u001b[0m         AsyncResults.get from multiprocessing.\"\"\"\n\u001b[1;32m    520\u001b[0m         \u001b[0;32mtry\u001b[0m\u001b[0;34m:\u001b[0m\u001b[0;34m\u001b[0m\u001b[0;34m\u001b[0m\u001b[0m\n\u001b[0;32m--> 521\u001b[0;31m             \u001b[0;32mreturn\u001b[0m \u001b[0mfuture\u001b[0m\u001b[0;34m.\u001b[0m\u001b[0mresult\u001b[0m\u001b[0;34m(\u001b[0m\u001b[0mtimeout\u001b[0m\u001b[0;34m=\u001b[0m\u001b[0mtimeout\u001b[0m\u001b[0;34m)\u001b[0m\u001b[0;34m\u001b[0m\u001b[0;34m\u001b[0m\u001b[0m\n\u001b[0m\u001b[1;32m    522\u001b[0m         \u001b[0;32mexcept\u001b[0m \u001b[0mLokyTimeoutError\u001b[0m\u001b[0;34m:\u001b[0m\u001b[0;34m\u001b[0m\u001b[0;34m\u001b[0m\u001b[0m\n\u001b[1;32m    523\u001b[0m             \u001b[0;32mraise\u001b[0m \u001b[0mTimeoutError\u001b[0m\u001b[0;34m(\u001b[0m\u001b[0;34m)\u001b[0m\u001b[0;34m\u001b[0m\u001b[0;34m\u001b[0m\u001b[0m\n",
      "\u001b[0;32m~/anaconda3/envs/data/lib/python3.6/concurrent/futures/_base.py\u001b[0m in \u001b[0;36mresult\u001b[0;34m(self, timeout)\u001b[0m\n\u001b[1;32m    425\u001b[0m                 \u001b[0;32mreturn\u001b[0m \u001b[0mself\u001b[0m\u001b[0;34m.\u001b[0m\u001b[0m__get_result\u001b[0m\u001b[0;34m(\u001b[0m\u001b[0;34m)\u001b[0m\u001b[0;34m\u001b[0m\u001b[0;34m\u001b[0m\u001b[0m\n\u001b[1;32m    426\u001b[0m \u001b[0;34m\u001b[0m\u001b[0m\n\u001b[0;32m--> 427\u001b[0;31m             \u001b[0mself\u001b[0m\u001b[0;34m.\u001b[0m\u001b[0m_condition\u001b[0m\u001b[0;34m.\u001b[0m\u001b[0mwait\u001b[0m\u001b[0;34m(\u001b[0m\u001b[0mtimeout\u001b[0m\u001b[0;34m)\u001b[0m\u001b[0;34m\u001b[0m\u001b[0;34m\u001b[0m\u001b[0m\n\u001b[0m\u001b[1;32m    428\u001b[0m \u001b[0;34m\u001b[0m\u001b[0m\n\u001b[1;32m    429\u001b[0m             \u001b[0;32mif\u001b[0m \u001b[0mself\u001b[0m\u001b[0;34m.\u001b[0m\u001b[0m_state\u001b[0m \u001b[0;32min\u001b[0m \u001b[0;34m[\u001b[0m\u001b[0mCANCELLED\u001b[0m\u001b[0;34m,\u001b[0m \u001b[0mCANCELLED_AND_NOTIFIED\u001b[0m\u001b[0;34m]\u001b[0m\u001b[0;34m:\u001b[0m\u001b[0;34m\u001b[0m\u001b[0;34m\u001b[0m\u001b[0m\n",
      "\u001b[0;32m~/anaconda3/envs/data/lib/python3.6/threading.py\u001b[0m in \u001b[0;36mwait\u001b[0;34m(self, timeout)\u001b[0m\n\u001b[1;32m    293\u001b[0m         \u001b[0;32mtry\u001b[0m\u001b[0;34m:\u001b[0m    \u001b[0;31m# restore state no matter what (e.g., KeyboardInterrupt)\u001b[0m\u001b[0;34m\u001b[0m\u001b[0;34m\u001b[0m\u001b[0m\n\u001b[1;32m    294\u001b[0m             \u001b[0;32mif\u001b[0m \u001b[0mtimeout\u001b[0m \u001b[0;32mis\u001b[0m \u001b[0;32mNone\u001b[0m\u001b[0;34m:\u001b[0m\u001b[0;34m\u001b[0m\u001b[0;34m\u001b[0m\u001b[0m\n\u001b[0;32m--> 295\u001b[0;31m                 \u001b[0mwaiter\u001b[0m\u001b[0;34m.\u001b[0m\u001b[0macquire\u001b[0m\u001b[0;34m(\u001b[0m\u001b[0;34m)\u001b[0m\u001b[0;34m\u001b[0m\u001b[0;34m\u001b[0m\u001b[0m\n\u001b[0m\u001b[1;32m    296\u001b[0m                 \u001b[0mgotit\u001b[0m \u001b[0;34m=\u001b[0m \u001b[0;32mTrue\u001b[0m\u001b[0;34m\u001b[0m\u001b[0;34m\u001b[0m\u001b[0m\n\u001b[1;32m    297\u001b[0m             \u001b[0;32melse\u001b[0m\u001b[0;34m:\u001b[0m\u001b[0;34m\u001b[0m\u001b[0;34m\u001b[0m\u001b[0m\n",
      "\u001b[0;31mKeyboardInterrupt\u001b[0m: "
     ]
    }
   ],
   "source": [
    "params = {\n",
    "    \"colsample_bytree\": uniform(0.3, 0.7),\n",
    "    \"gamma\": uniform(0, 0.5),\n",
    "    \"learning_rate\": uniform(0.03, 0.3), # default 0.1 \n",
    "    \"max_depth\": randint(2, 6), # default 3\n",
    "    \"n_estimators\": randint(100, 150), # default 100\n",
    "    \"subsample\": uniform(0.4, 0.6),  # c'est quoi ?\n",
    "    \"reg_alpha\": uniform(0, 0.05)\n",
    "}\n",
    "\n",
    "# n_iter = 200 avant\n",
    "search = RandomizedSearchCV(xgb_model, param_distributions=params, random_state=42, n_iter=85, cv=3, verbose=1, n_jobs=2, return_train_score=True)\n",
    "\n",
    "search.fit(X_train, Y_train)"
   ]
  },
  {
   "cell_type": "code",
   "execution_count": null,
   "metadata": {},
   "outputs": [],
   "source": []
  }
 ],
 "metadata": {
  "kernelspec": {
   "display_name": "data",
   "language": "python",
   "name": "data"
  },
  "language_info": {
   "codemirror_mode": {
    "name": "ipython",
    "version": 3
   },
   "file_extension": ".py",
   "mimetype": "text/x-python",
   "name": "python",
   "nbconvert_exporter": "python",
   "pygments_lexer": "ipython3",
   "version": "3.6.8"
  }
 },
 "nbformat": 4,
 "nbformat_minor": 2
}
