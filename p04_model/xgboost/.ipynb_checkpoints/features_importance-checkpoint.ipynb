{
 "cells": [
  {
   "cell_type": "code",
   "execution_count": 1,
   "metadata": {},
   "outputs": [],
   "source": [
    "import pandas as pd\n",
    "import numpy as np\n",
    "import xgboost as xgb\n",
    "from xgboost import plot_importance\n",
    "from matplotlib import pyplot\n",
    "\n",
    "from numpy import sort\n",
    "from xgboost import XGBRegressor\n",
    "from sklearn.model_selection import train_test_split\n",
    "# from sklearn.metrics import accuracy_score\n",
    "from sklearn.feature_selection import SelectFromModel\n",
    "\n",
    "from functions import fun_tools as tools"
   ]
  },
  {
   "cell_type": "markdown",
   "metadata": {},
   "source": [
    "##### https://stackoverflow.com/questions/46943314/xgboost-plot-importance-doesnt-show-feature-names"
   ]
  },
  {
   "cell_type": "code",
   "execution_count": 2,
   "metadata": {},
   "outputs": [
    {
     "name": "stderr",
     "output_type": "stream",
     "text": [
      "/home/osboxes/anaconda3/envs/data/lib/python3.6/site-packages/ipykernel_launcher.py:8: SettingWithCopyWarning: \n",
      "A value is trying to be set on a copy of a slice from a DataFrame.\n",
      "Try using .loc[row_indexer,col_indexer] = value instead\n",
      "\n",
      "See the caveats in the documentation: http://pandas.pydata.org/pandas-docs/stable/indexing.html#indexing-view-versus-copy\n",
      "  \n"
     ]
    }
   ],
   "source": [
    "df_train_all_variables = pd.read_pickle(\"../data/df_train_all_variables.pkl\")\n",
    "all_var_x = [each for each in list(df_train_all_variables) if each != \"count\" and each != \"datetime\"]\n",
    "\n",
    "X_train = df_train_all_variables[all_var_x]\n",
    "Y_train = df_train_all_variables[[\"count\"]]\n",
    "\n",
    "# Calcul des Y = log(Y + 1)\n",
    "Y_train['log_count'] = Y_train['count'].map(lambda x: np.log1p(x))\n",
    "Y_train = Y_train.drop(\"count\", axis = 1)"
   ]
  },
  {
   "cell_type": "code",
   "execution_count": 3,
   "metadata": {},
   "outputs": [
    {
     "data": {
      "text/plain": [
       "['CN_school',\n",
       " 'CN_soleilQ',\n",
       " 'CN_tendance_1Q',\n",
       " 'CN_tendance_2Q',\n",
       " 'CO_atempQ',\n",
       " 'CO_day',\n",
       " 'CO_holiday',\n",
       " 'CO_humidityQ',\n",
       " 'CO_month',\n",
       " 'CO_season',\n",
       " 'CO_tempQ',\n",
       " 'CO_weather',\n",
       " 'CO_windspeedQ',\n",
       " 'CO_workingday',\n",
       " 'NN_soleil',\n",
       " 'NN_tendance_1',\n",
       " 'NN_tendance_2',\n",
       " 'NO_atemp',\n",
       " 'NO_humidity',\n",
       " 'NO_temp',\n",
       " 'NO_windspeed',\n",
       " 'S_casual',\n",
       " 'S_casualQ',\n",
       " 'S_rateregis',\n",
       " 'S_rateregisQ',\n",
       " 'S_registered',\n",
       " 'S_registeredQ',\n",
       " 'CO_hour',\n",
       " 'CO_year',\n",
       " 'CO_day_labels_encoding',\n",
       " 'CO_month_labels_encoding',\n",
       " 'CO_season_labels_encoding',\n",
       " 'CO_weather_labels_encoding',\n",
       " 'CO_hour_labels_encoding',\n",
       " 'CO_year_labels_encoding',\n",
       " 'CO_hour_int',\n",
       " 'CO_hour_mean_encoding',\n",
       " 'CO_month_mean_encoding',\n",
       " 'CO_day_mean_encoding',\n",
       " 'CO_hour_ordinal_encoding',\n",
       " 'CO_month_ordinal_encoding',\n",
       " 'CO_day_ordinal_encoding',\n",
       " 'CO_weather_ordinal_encoding',\n",
       " 'CO_season_ordinal_encoding',\n",
       " 'CO_year_ordinal_encoding',\n",
       " 'CN_type_of_day',\n",
       " 'CN_week_end',\n",
       " 'NN_soleil_binned',\n",
       " 'NO_temp_binned']"
      ]
     },
     "execution_count": 3,
     "metadata": {},
     "output_type": "execute_result"
    }
   ],
   "source": [
    "list(X_train)"
   ]
  },
  {
   "cell_type": "markdown",
   "metadata": {},
   "source": [
    "On enlève toutes les variables \"specialized\""
   ]
  },
  {
   "cell_type": "code",
   "execution_count": 4,
   "metadata": {},
   "outputs": [],
   "source": [
    "var_to_keep = [var_name for var_name in list(X_train.describe()) if var_name[0] != 'S']"
   ]
  },
  {
   "cell_type": "code",
   "execution_count": 5,
   "metadata": {},
   "outputs": [],
   "source": [
    "X_train = X_train[var_to_keep]\n",
    "\n",
    "# liste de toutes les features\n",
    "feature_names = list(X_train)"
   ]
  },
  {
   "cell_type": "code",
   "execution_count": 6,
   "metadata": {},
   "outputs": [
    {
     "data": {
      "text/plain": [
       "(10886, 30)"
      ]
     },
     "execution_count": 6,
     "metadata": {},
     "output_type": "execute_result"
    }
   ],
   "source": [
    "X_train.shape"
   ]
  },
  {
   "cell_type": "code",
   "execution_count": 9,
   "metadata": {},
   "outputs": [
    {
     "name": "stdout",
     "output_type": "stream",
     "text": [
      "RMSE_test_value using all possible predictors: 36.41%\n",
      "Il y a  18 Variables sélectionnées : ['CO_holiday', 'CO_workingday', 'NN_soleil', 'NN_tendance_1', 'NN_tendance_2', 'NO_atemp', 'NO_humidity', 'NO_temp', 'NO_windspeed', 'CO_day_labels_encoding', 'CO_month_labels_encoding', 'CO_weather_labels_encoding', 'CO_hour_labels_encoding', 'CO_hour_int', 'CO_hour_mean_encoding', 'CO_day_mean_encoding', 'CO_month_ordinal_encoding', 'CO_day_ordinal_encoding']\n",
      "shape de select_X_train: (3733, 30)\n",
      "Thresh=0.000000, n=30, RMSE test: 36.41%\n",
      "j -1\n",
      "Il y a  18 Variables sélectionnées : ['CO_holiday', 'CO_workingday', 'NN_soleil', 'NN_tendance_1', 'NN_tendance_2', 'NO_atemp', 'NO_humidity', 'NO_temp', 'NO_windspeed', 'CO_day_labels_encoding', 'CO_month_labels_encoding', 'CO_weather_labels_encoding', 'CO_hour_labels_encoding', 'CO_hour_int', 'CO_hour_mean_encoding', 'CO_day_mean_encoding', 'CO_month_ordinal_encoding', 'CO_day_ordinal_encoding']\n",
      "shape de select_X_train: (3733, 30)\n",
      "Thresh=0.000000, n=30, RMSE test: 36.41%\n",
      "j 0\n",
      "Il y a  18 Variables sélectionnées : ['CO_holiday', 'CO_workingday', 'NN_soleil', 'NN_tendance_1', 'NN_tendance_2', 'NO_atemp', 'NO_humidity', 'NO_temp', 'NO_windspeed', 'CO_day_labels_encoding', 'CO_month_labels_encoding', 'CO_weather_labels_encoding', 'CO_hour_labels_encoding', 'CO_hour_int', 'CO_hour_mean_encoding', 'CO_day_mean_encoding', 'CO_month_ordinal_encoding', 'CO_day_ordinal_encoding']\n",
      "shape de select_X_train: (3733, 30)\n",
      "Thresh=0.000000, n=30, RMSE test: 36.41%\n",
      "j 1\n",
      "Il y a  18 Variables sélectionnées : ['CO_holiday', 'CO_workingday', 'NN_soleil', 'NN_tendance_1', 'NN_tendance_2', 'NO_atemp', 'NO_humidity', 'NO_temp', 'NO_windspeed', 'CO_day_labels_encoding', 'CO_month_labels_encoding', 'CO_weather_labels_encoding', 'CO_hour_labels_encoding', 'CO_hour_int', 'CO_hour_mean_encoding', 'CO_day_mean_encoding', 'CO_month_ordinal_encoding', 'CO_day_ordinal_encoding']\n",
      "shape de select_X_train: (3733, 30)\n",
      "Thresh=0.000000, n=30, RMSE test: 36.41%\n",
      "j 2\n",
      "Il y a  18 Variables sélectionnées : ['CO_holiday', 'CO_workingday', 'NN_soleil', 'NN_tendance_1', 'NN_tendance_2', 'NO_atemp', 'NO_humidity', 'NO_temp', 'NO_windspeed', 'CO_day_labels_encoding', 'CO_month_labels_encoding', 'CO_weather_labels_encoding', 'CO_hour_labels_encoding', 'CO_hour_int', 'CO_hour_mean_encoding', 'CO_day_mean_encoding', 'CO_month_ordinal_encoding', 'CO_day_ordinal_encoding']\n",
      "shape de select_X_train: (3733, 30)\n",
      "Thresh=0.000000, n=30, RMSE test: 36.41%\n",
      "j 3\n",
      "Il y a  18 Variables sélectionnées : ['CO_holiday', 'CO_workingday', 'NN_soleil', 'NN_tendance_1', 'NN_tendance_2', 'NO_atemp', 'NO_humidity', 'NO_temp', 'NO_windspeed', 'CO_day_labels_encoding', 'CO_month_labels_encoding', 'CO_weather_labels_encoding', 'CO_hour_labels_encoding', 'CO_hour_int', 'CO_hour_mean_encoding', 'CO_day_mean_encoding', 'CO_month_ordinal_encoding', 'CO_day_ordinal_encoding']\n",
      "shape de select_X_train: (3733, 30)\n",
      "Thresh=0.000000, n=30, RMSE test: 36.41%\n",
      "j 4\n",
      "Il y a  18 Variables sélectionnées : ['CO_holiday', 'CO_workingday', 'NN_soleil', 'NN_tendance_1', 'NN_tendance_2', 'NO_atemp', 'NO_humidity', 'NO_temp', 'NO_windspeed', 'CO_day_labels_encoding', 'CO_month_labels_encoding', 'CO_weather_labels_encoding', 'CO_hour_labels_encoding', 'CO_hour_int', 'CO_hour_mean_encoding', 'CO_day_mean_encoding', 'CO_month_ordinal_encoding', 'CO_day_ordinal_encoding']\n",
      "shape de select_X_train: (3733, 30)\n",
      "Thresh=0.000000, n=30, RMSE test: 36.41%\n",
      "j 5\n",
      "Il y a  18 Variables sélectionnées : ['CO_holiday', 'CO_workingday', 'NN_soleil', 'NN_tendance_1', 'NN_tendance_2', 'NO_atemp', 'NO_humidity', 'NO_temp', 'NO_windspeed', 'CO_day_labels_encoding', 'CO_month_labels_encoding', 'CO_weather_labels_encoding', 'CO_hour_labels_encoding', 'CO_hour_int', 'CO_hour_mean_encoding', 'CO_day_mean_encoding', 'CO_month_ordinal_encoding', 'CO_day_ordinal_encoding']\n",
      "shape de select_X_train: (3733, 30)\n",
      "Thresh=0.000000, n=30, RMSE test: 36.41%\n",
      "j 6\n",
      "Il y a  18 Variables sélectionnées : ['CO_holiday', 'CO_workingday', 'NN_soleil', 'NN_tendance_1', 'NN_tendance_2', 'NO_atemp', 'NO_humidity', 'NO_temp', 'NO_windspeed', 'CO_day_labels_encoding', 'CO_month_labels_encoding', 'CO_weather_labels_encoding', 'CO_hour_labels_encoding', 'CO_hour_int', 'CO_hour_mean_encoding', 'CO_day_mean_encoding', 'CO_month_ordinal_encoding', 'CO_day_ordinal_encoding']\n",
      "shape de select_X_train: (3733, 30)\n",
      "Thresh=0.000000, n=30, RMSE test: 36.41%\n",
      "j 7\n",
      "Il y a  18 Variables sélectionnées : ['CO_holiday', 'CO_workingday', 'NN_soleil', 'NN_tendance_1', 'NN_tendance_2', 'NO_atemp', 'NO_humidity', 'NO_temp', 'NO_windspeed', 'CO_day_labels_encoding', 'CO_month_labels_encoding', 'CO_weather_labels_encoding', 'CO_hour_labels_encoding', 'CO_hour_int', 'CO_hour_mean_encoding', 'CO_day_mean_encoding', 'CO_month_ordinal_encoding', 'CO_day_ordinal_encoding']\n",
      "shape de select_X_train: (3733, 30)\n",
      "Thresh=0.000000, n=30, RMSE test: 36.41%\n",
      "j 8\n",
      "Il y a  18 Variables sélectionnées : ['CO_holiday', 'CO_workingday', 'NN_soleil', 'NN_tendance_1', 'NN_tendance_2', 'NO_atemp', 'NO_humidity', 'NO_temp', 'NO_windspeed', 'CO_day_labels_encoding', 'CO_month_labels_encoding', 'CO_weather_labels_encoding', 'CO_hour_labels_encoding', 'CO_hour_int', 'CO_hour_mean_encoding', 'CO_day_mean_encoding', 'CO_month_ordinal_encoding', 'CO_day_ordinal_encoding']\n",
      "shape de select_X_train: (3733, 30)\n",
      "Thresh=0.000000, n=30, RMSE test: 36.41%\n",
      "j 9\n",
      "Il y a  18 Variables sélectionnées : ['CO_holiday', 'CO_workingday', 'NN_soleil', 'NN_tendance_1', 'NN_tendance_2', 'NO_atemp', 'NO_humidity', 'NO_temp', 'NO_windspeed', 'CO_day_labels_encoding', 'CO_month_labels_encoding', 'CO_weather_labels_encoding', 'CO_hour_labels_encoding', 'CO_hour_int', 'CO_hour_mean_encoding', 'CO_day_mean_encoding', 'CO_month_ordinal_encoding', 'CO_day_ordinal_encoding']\n",
      "shape de select_X_train: (3733, 30)\n",
      "Thresh=0.000000, n=30, RMSE test: 36.41%\n",
      "j 10\n",
      "Il y a  17 Variables sélectionnées : ['CO_workingday', 'NN_soleil', 'NN_tendance_1', 'NN_tendance_2', 'NO_atemp', 'NO_humidity', 'NO_temp', 'NO_windspeed', 'CO_day_labels_encoding', 'CO_month_labels_encoding', 'CO_weather_labels_encoding', 'CO_hour_labels_encoding', 'CO_hour_int', 'CO_hour_mean_encoding', 'CO_day_mean_encoding', 'CO_month_ordinal_encoding', 'CO_day_ordinal_encoding']\n",
      "shape de select_X_train: (3733, 18)\n",
      "Thresh=0.000046, n=18, RMSE test: 36.41%\n",
      "j 11\n",
      "Il y a  16 Variables sélectionnées : ['CO_workingday', 'NN_soleil', 'NN_tendance_1', 'NN_tendance_2', 'NO_atemp', 'NO_humidity', 'NO_temp', 'CO_day_labels_encoding', 'CO_month_labels_encoding', 'CO_weather_labels_encoding', 'CO_hour_labels_encoding', 'CO_hour_int', 'CO_hour_mean_encoding', 'CO_day_mean_encoding', 'CO_month_ordinal_encoding', 'CO_day_ordinal_encoding']\n",
      "shape de select_X_train: (3733, 17)\n",
      "Thresh=0.001393, n=17, RMSE test: 36.41%\n",
      "j 12\n",
      "Il y a  15 Variables sélectionnées : ['CO_workingday', 'NN_soleil', 'NN_tendance_1', 'NN_tendance_2', 'NO_atemp', 'NO_humidity', 'NO_temp', 'CO_day_labels_encoding', 'CO_weather_labels_encoding', 'CO_hour_labels_encoding', 'CO_hour_int', 'CO_hour_mean_encoding', 'CO_day_mean_encoding', 'CO_month_ordinal_encoding', 'CO_day_ordinal_encoding']\n",
      "shape de select_X_train: (3733, 16)\n",
      "Thresh=0.003632, n=16, RMSE test: 35.80%\n",
      "j 13\n",
      "Il y a  14 Variables sélectionnées : ['CO_workingday', 'NN_soleil', 'NN_tendance_1', 'NN_tendance_2', 'NO_atemp', 'NO_humidity', 'NO_temp', 'CO_day_labels_encoding', 'CO_weather_labels_encoding', 'CO_hour_labels_encoding', 'CO_hour_int', 'CO_hour_mean_encoding', 'CO_month_ordinal_encoding', 'CO_day_ordinal_encoding']\n",
      "shape de select_X_train: (3733, 15)\n",
      "Thresh=0.006244, n=15, RMSE test: 36.66%\n",
      "j 14\n"
     ]
    }
   ],
   "source": [
    "delta_error_thresh = 0.5\n",
    "dict_feature_importance = {}\n",
    "\n",
    "# split data into train and test sets\n",
    "X_train, X_test, Y_train, Y_test = train_test_split(X_train,Y_train,test_size = 0.3,random_state = 0)\n",
    "\n",
    "X_train = pd.DataFrame(X_train,columns=feature_names)\n",
    "X_test = pd.DataFrame(X_test,columns=feature_names)\n",
    "\n",
    "# mymodel_instance\n",
    "xgb_model = xgb.XGBRegressor(objective=\"reg:squarederror\")\n",
    "# fit model on all training data\n",
    "xgb_model.fit(X_train, Y_train)\n",
    "\n",
    "# make predictions for test data and evaluate\n",
    "y_pred = xgb_model.predict(X_test)\n",
    "# predictions = [round(value) for value in y_pred]\n",
    "# accuracy = accuracy_score(Y_test, predictions)\n",
    "# print(\"Accuracy: %.2f%%\" % (accuracy * 100.0))\n",
    "predicted_values = xgb_model.predict(X_test)\n",
    "predicted_values = np.expand_dims(predicted_values, axis=1)\n",
    "RMSE_test_value = tools.RMSE(predicted_values, Y_test)\n",
    "\n",
    "print (\"RMSE_test_value using all possible predictors: %.2f%%\" % (RMSE_test_value * 100.0))\n",
    "\n",
    "# Dictionnaire clé = importance variable, valeur = nom de feature\n",
    "for each in list(zip(xgb_model.feature_importances_, list(X_train))):\n",
    "    dict_feature_importance[each[0]] = each[1]\n",
    "# print (dict_feature_importance.values())\n",
    "\n",
    "\n",
    "# Fit model using each importance as a threshold\n",
    "thresholds = sort(xgb_model.feature_importances_)\n",
    "\n",
    "# print (xgb_model.feature_names)\n",
    "# plot_importance(xgb_model)\n",
    "\n",
    "# plot_importance(xgb_model)\n",
    "# pyplot.show()\n",
    "\n",
    "df_stored_rmse = pd.DataFrame(columns = ['thresh','n','RMSE_test'])\n",
    "\n",
    "i = 0\n",
    "\n",
    "feature_thresh = []\n",
    "for thresh in thresholds:\n",
    "    \n",
    "    # On récupère le nom de la variable grâce au dico \"dict_feature_importance\"\n",
    "    if thresh > 0:\n",
    "        feature_thresh.append(dict_feature_importance[thresh]) \n",
    "        features_selected = [each for each in dict_feature_importance.values() if each not in feature_thresh]\n",
    "        print (\"Il y a \",len(features_selected) , \"Variables sélectionnées :\", features_selected)\n",
    "        print (\"Suppression de la variable\", dict_feature_importance[thresh], \"avec thresh :\", thresh)\n",
    "    \n",
    "    # select features using threshold\n",
    "    selection = SelectFromModel(xgb_model, threshold=thresh, prefit=True) \n",
    "    select_X_train = selection.transform(X_train)\n",
    "    \n",
    "    # train model\n",
    "    selection_model = xgb.XGBRegressor(objective=\"reg:squarederror\")\n",
    "    selection_model.fit(select_X_train, Y_train)\n",
    "    \n",
    "    # eval model\n",
    "    select_X_test = selection.transform(X_test)\n",
    "    predicted_values = selection_model.predict(select_X_test)\n",
    "    predicted_values = np.expand_dims(predicted_values, axis=1)\n",
    "    RMSE_test_value = tools.RMSE(predicted_values, Y_test)\n",
    "    \n",
    "    print (\"shape de select_X_train:\", select_X_train.shape)\n",
    "    \n",
    "    # print(\"Thresh=%.3f, n=%d, RMSE test: %.2f%%\" % (thresh, select_X_train.shape[1], RMSE_test_value*100.0))\n",
    "    print(\"Thresh=%.6f, n=%d, RMSE test: %.2f%%\" % (thresh, select_X_train.shape[1], RMSE_test_value*100.0))\n",
    "    \n",
    "    i+= 1\n",
    "    j = i - 2\n",
    "    \n",
    "    print (\"j\",j)\n",
    "                                \n",
    "    df_stored_rmse = df_stored_rmse.append({'thresh': thresh,'n': select_X_train.shape[1],'RMSE_test':RMSE_test_value}, ignore_index= True)\n",
    "    \n",
    "    if j >= 0:\n",
    "        delta_error = (RMSE_test_value*100.0)[0] - df_stored_rmse.iloc[j,2][0]*100.0\n",
    "        if delta_error >= delta_error_thresh:\n",
    "            # print (\"delta error\", delta_error, \"on ne garde que \", select_X_train.shape[1], \"features\")\n",
    "            break"
   ]
  },
  {
   "cell_type": "code",
   "execution_count": null,
   "metadata": {},
   "outputs": [],
   "source": [
    "CRITERE si diminution de l'erreur est supérieure à : delta_error_thresh = 0.5\n",
    "alors extraire la liste de features qui correspond à cette variation d'erreur"
   ]
  },
  {
   "cell_type": "code",
   "execution_count": null,
   "metadata": {},
   "outputs": [],
   "source": [
    "df_stored_rmse"
   ]
  },
  {
   "cell_type": "code",
   "execution_count": 67,
   "metadata": {},
   "outputs": [
    {
     "data": {
      "text/plain": [
       "0.4116003365345681"
      ]
     },
     "execution_count": 67,
     "metadata": {},
     "output_type": "execute_result"
    }
   ],
   "source": [
    "df_stored_rmse.iloc[22,2][0]"
   ]
  },
  {
   "cell_type": "code",
   "execution_count": null,
   "metadata": {},
   "outputs": [],
   "source": []
  }
 ],
 "metadata": {
  "kernelspec": {
   "display_name": "data bike sharing",
   "language": "python",
   "name": "data"
  },
  "language_info": {
   "codemirror_mode": {
    "name": "ipython",
    "version": 3
   },
   "file_extension": ".py",
   "mimetype": "text/x-python",
   "name": "python",
   "nbconvert_exporter": "python",
   "pygments_lexer": "ipython3",
   "version": "3.6.8"
  }
 },
 "nbformat": 4,
 "nbformat_minor": 4
}
