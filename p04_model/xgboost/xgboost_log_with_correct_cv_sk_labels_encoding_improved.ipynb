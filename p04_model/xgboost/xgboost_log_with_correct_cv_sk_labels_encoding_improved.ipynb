{
 "cells": [
  {
   "cell_type": "code",
   "execution_count": 1,
   "metadata": {},
   "outputs": [],
   "source": [
    "import pandas as pd\n",
    "import numpy as np\n",
    "from sklearn.model_selection import train_test_split\n",
    "import xgboost as xgb\n",
    "import re"
   ]
  },
  {
   "cell_type": "markdown",
   "metadata": {},
   "source": [
    "### I Méthode Holdout"
   ]
  },
  {
   "cell_type": "code",
   "execution_count": 8,
   "metadata": {},
   "outputs": [],
   "source": [
    "# On pourra aussi utiliser \"df_for_cv_o_n.pkl\"\n",
    "# df_for_cv_interaction_and_dummies = pd.read_pickle(\"df_for_cv_interaction_and_dummies.pkl\")\n",
    "\n",
    "# OU \n",
    "\n",
    "# On va utiliser:\n",
    "# - df_train_for_cv_o_n_all_variables.pkl\n",
    "# - df_test_kaggle_cv_o_n_all_variables.pkl\n",
    "\n",
    "df_train_for_cv_used = pd.read_pickle(\"../data/df_train_for_cv_o_n_all_variables.pkl\")\n",
    "\n",
    "all_var_x = [each for each in list(df_train_for_cv_used) if each != \"count\" and each != \"datetime\"]\n",
    "\n",
    "# df_for_cv_interaction_and_dummies.shape\n",
    "X_train = df_train_for_cv_used[all_var_x]\n",
    "Y_train = df_train_for_cv_used[[\"count\"]]"
   ]
  },
  {
   "cell_type": "markdown",
   "metadata": {},
   "source": [
    "Exclusion des variables Quartiles et des variables \"Special\""
   ]
  },
  {
   "cell_type": "code",
   "execution_count": 9,
   "metadata": {},
   "outputs": [
    {
     "data": {
      "text/plain": [
       "(10886, 49)"
      ]
     },
     "execution_count": 9,
     "metadata": {},
     "output_type": "execute_result"
    }
   ],
   "source": [
    "X_train.shape"
   ]
  },
  {
   "cell_type": "code",
   "execution_count": 10,
   "metadata": {},
   "outputs": [
    {
     "data": {
      "text/plain": [
       "['CN_school',\n",
       " 'CN_soleilQ',\n",
       " 'CN_tendance_1Q',\n",
       " 'CN_tendance_2Q',\n",
       " 'CO_atempQ',\n",
       " 'CO_day',\n",
       " 'CO_holiday',\n",
       " 'CO_humidityQ',\n",
       " 'CO_month',\n",
       " 'CO_season',\n",
       " 'CO_tempQ',\n",
       " 'CO_weather',\n",
       " 'CO_windspeedQ',\n",
       " 'CO_workingday',\n",
       " 'NN_soleil',\n",
       " 'NN_tendance_1',\n",
       " 'NN_tendance_2',\n",
       " 'NO_atemp',\n",
       " 'NO_humidity',\n",
       " 'NO_temp',\n",
       " 'NO_windspeed',\n",
       " 'S_casual',\n",
       " 'S_casualQ',\n",
       " 'S_rateregis',\n",
       " 'S_rateregisQ',\n",
       " 'S_registered',\n",
       " 'S_registeredQ',\n",
       " 'CO_hour',\n",
       " 'CO_year',\n",
       " 'CO_day_labels_encoding',\n",
       " 'CO_month_labels_encoding',\n",
       " 'CO_season_labels_encoding',\n",
       " 'CO_weather_labels_encoding',\n",
       " 'CO_hour_labels_encoding',\n",
       " 'CO_year_labels_encoding',\n",
       " 'CO_hour_int',\n",
       " 'CO_hour_mean_encoding',\n",
       " 'CO_month_mean_encoding',\n",
       " 'CO_day_mean_encoding',\n",
       " 'CO_hour_ordinal_encoding',\n",
       " 'CO_month_ordinal_encoding',\n",
       " 'CO_day_ordinal_encoding',\n",
       " 'CO_weather_ordinal_encoding',\n",
       " 'CO_season_ordinal_encoding',\n",
       " 'CO_year_ordinal_encoding',\n",
       " 'CN_type_of_day',\n",
       " 'CN_week_end',\n",
       " 'NN_soleil_binned',\n",
       " 'NO_temp_binned']"
      ]
     },
     "execution_count": 10,
     "metadata": {},
     "output_type": "execute_result"
    }
   ],
   "source": [
    "list(X_train)"
   ]
  },
  {
   "cell_type": "code",
   "execution_count": 11,
   "metadata": {},
   "outputs": [],
   "source": [
    "# variables_to_keep = [each for each in list(X_train) if each[0] != 'S' and each[-1] != 'Q']\n",
    "# X_train = X_train[variables_to_keep]"
   ]
  },
  {
   "cell_type": "markdown",
   "metadata": {},
   "source": [
    "## XGBoost valeurs par défaut"
   ]
  },
  {
   "cell_type": "code",
   "execution_count": 12,
   "metadata": {},
   "outputs": [
    {
     "data": {
      "text/plain": [
       "(10886, 49)"
      ]
     },
     "execution_count": 12,
     "metadata": {},
     "output_type": "execute_result"
    }
   ],
   "source": [
    "X_train.shape"
   ]
  },
  {
   "cell_type": "code",
   "execution_count": 13,
   "metadata": {},
   "outputs": [
    {
     "name": "stderr",
     "output_type": "stream",
     "text": [
      "/home/osboxes/anaconda3/envs/data/lib/python3.6/site-packages/ipykernel_launcher.py:2: SettingWithCopyWarning: \n",
      "A value is trying to be set on a copy of a slice from a DataFrame.\n",
      "Try using .loc[row_indexer,col_indexer] = value instead\n",
      "\n",
      "See the caveats in the documentation: http://pandas.pydata.org/pandas-docs/stable/indexing.html#indexing-view-versus-copy\n",
      "  \n"
     ]
    }
   ],
   "source": [
    "# Calcul des Y = log(Y + 1)\n",
    "Y_train['log_count'] = Y_train['count'].map(lambda x: np.log1p(x))\n",
    "Y_train = Y_train.drop(\"count\", axis = 1)"
   ]
  },
  {
   "cell_type": "markdown",
   "metadata": {},
   "source": [
    "Création \"train\" + \"validation\" = méthode Holdout"
   ]
  },
  {
   "cell_type": "code",
   "execution_count": 267,
   "metadata": {},
   "outputs": [
    {
     "data": {
      "text/plain": [
       "(10886, 49)"
      ]
     },
     "execution_count": 267,
     "metadata": {},
     "output_type": "execute_result"
    }
   ],
   "source": [
    "X_train.shape"
   ]
  },
  {
   "cell_type": "code",
   "execution_count": 225,
   "metadata": {},
   "outputs": [
    {
     "data": {
      "text/html": [
       "<div>\n",
       "<style scoped>\n",
       "    .dataframe tbody tr th:only-of-type {\n",
       "        vertical-align: middle;\n",
       "    }\n",
       "\n",
       "    .dataframe tbody tr th {\n",
       "        vertical-align: top;\n",
       "    }\n",
       "\n",
       "    .dataframe thead th {\n",
       "        text-align: right;\n",
       "    }\n",
       "</style>\n",
       "<table border=\"1\" class=\"dataframe\">\n",
       "  <thead>\n",
       "    <tr style=\"text-align: right;\">\n",
       "      <th></th>\n",
       "      <th>log_count</th>\n",
       "    </tr>\n",
       "  </thead>\n",
       "  <tbody>\n",
       "    <tr>\n",
       "      <th>3362</th>\n",
       "      <td>3.637586</td>\n",
       "    </tr>\n",
       "    <tr>\n",
       "      <th>7148</th>\n",
       "      <td>3.663562</td>\n",
       "    </tr>\n",
       "  </tbody>\n",
       "</table>\n",
       "</div>"
      ],
      "text/plain": [
       "      log_count\n",
       "3362   3.637586\n",
       "7148   3.663562"
      ]
     },
     "execution_count": 225,
     "metadata": {},
     "output_type": "execute_result"
    }
   ],
   "source": [
    "Y_train.sample(n=2)"
   ]
  },
  {
   "cell_type": "code",
   "execution_count": 268,
   "metadata": {},
   "outputs": [
    {
     "data": {
      "text/plain": [
       "['CN_school',\n",
       " 'CN_soleilQ',\n",
       " 'CN_tendance_1Q',\n",
       " 'CN_tendance_2Q',\n",
       " 'CO_atempQ',\n",
       " 'CO_day',\n",
       " 'CO_holiday',\n",
       " 'CO_humidityQ',\n",
       " 'CO_month',\n",
       " 'CO_season',\n",
       " 'CO_tempQ',\n",
       " 'CO_weather',\n",
       " 'CO_windspeedQ',\n",
       " 'CO_workingday',\n",
       " 'NN_soleil',\n",
       " 'NN_tendance_1',\n",
       " 'NN_tendance_2',\n",
       " 'NO_atemp',\n",
       " 'NO_humidity',\n",
       " 'NO_temp',\n",
       " 'NO_windspeed',\n",
       " 'S_casual',\n",
       " 'S_casualQ',\n",
       " 'S_rateregis',\n",
       " 'S_rateregisQ',\n",
       " 'S_registered',\n",
       " 'S_registeredQ',\n",
       " 'CO_hour',\n",
       " 'CO_year',\n",
       " 'CO_day_labels_encoding',\n",
       " 'CO_month_labels_encoding',\n",
       " 'CO_season_labels_encoding',\n",
       " 'CO_weather_labels_encoding',\n",
       " 'CO_hour_labels_encoding',\n",
       " 'CO_year_labels_encoding',\n",
       " 'CO_hour_int',\n",
       " 'CO_hour_mean_encoding',\n",
       " 'CO_month_mean_encoding',\n",
       " 'CO_day_mean_encoding',\n",
       " 'CO_hour_ordinal_encoding',\n",
       " 'CO_month_ordinal_encoding',\n",
       " 'CO_day_ordinal_encoding',\n",
       " 'CO_weather_ordinal_encoding',\n",
       " 'CO_season_ordinal_encoding',\n",
       " 'CO_year_ordinal_encoding',\n",
       " 'CN_type_of_day',\n",
       " 'CN_week_end',\n",
       " 'NN_soleil_binned',\n",
       " 'NO_temp_binned']"
      ]
     },
     "execution_count": 268,
     "metadata": {},
     "output_type": "execute_result"
    }
   ],
   "source": [
    "list(X_train)"
   ]
  },
  {
   "cell_type": "code",
   "execution_count": 227,
   "metadata": {},
   "outputs": [
    {
     "ename": "SyntaxError",
     "evalue": "invalid character in identifier (<ipython-input-227-28f6451bff8e>, line 1)",
     "output_type": "error",
     "traceback": [
      "\u001b[0;36m  File \u001b[0;32m\"<ipython-input-227-28f6451bff8e>\"\u001b[0;36m, line \u001b[0;32m1\u001b[0m\n\u001b[0;31m    BIN n°1: hour <= 7             0\u001b[0m\n\u001b[0m          ^\u001b[0m\n\u001b[0;31mSyntaxError\u001b[0m\u001b[0;31m:\u001b[0m invalid character in identifier\n"
     ]
    }
   ],
   "source": [
    "BIN n°1: hour <= 7             0\n",
    "BIN n°2: hour >= 22            1\n",
    "BIN n°3: 10 =< hour <= 16      3\n",
    "BIN n°4: hour == 8             2\n",
    "BIN n°5: hour == 9             6\n",
    "BIN n°6 : 20 =< hour <= 21     4\n",
    "BIN n°7: hour == 17            5\n",
    "BIN n°8: 18 =< hour <= 19      7"
   ]
  },
  {
   "cell_type": "code",
   "execution_count": 269,
   "metadata": {},
   "outputs": [
    {
     "data": {
      "text/html": [
       "<div>\n",
       "<style scoped>\n",
       "    .dataframe tbody tr th:only-of-type {\n",
       "        vertical-align: middle;\n",
       "    }\n",
       "\n",
       "    .dataframe tbody tr th {\n",
       "        vertical-align: top;\n",
       "    }\n",
       "\n",
       "    .dataframe thead th {\n",
       "        text-align: right;\n",
       "    }\n",
       "</style>\n",
       "<table border=\"1\" class=\"dataframe\">\n",
       "  <thead>\n",
       "    <tr style=\"text-align: right;\">\n",
       "      <th></th>\n",
       "      <th>CO_hour</th>\n",
       "      <th>CO_hour_mean_encoding</th>\n",
       "    </tr>\n",
       "  </thead>\n",
       "  <tbody>\n",
       "    <tr>\n",
       "      <th>4672</th>\n",
       "      <td>18</td>\n",
       "      <td>7</td>\n",
       "    </tr>\n",
       "    <tr>\n",
       "      <th>7608</th>\n",
       "      <td>9</td>\n",
       "      <td>6</td>\n",
       "    </tr>\n",
       "    <tr>\n",
       "      <th>582</th>\n",
       "      <td>10</td>\n",
       "      <td>3</td>\n",
       "    </tr>\n",
       "    <tr>\n",
       "      <th>5044</th>\n",
       "      <td>6</td>\n",
       "      <td>0</td>\n",
       "    </tr>\n",
       "    <tr>\n",
       "      <th>9264</th>\n",
       "      <td>9</td>\n",
       "      <td>6</td>\n",
       "    </tr>\n",
       "  </tbody>\n",
       "</table>\n",
       "</div>"
      ],
      "text/plain": [
       "     CO_hour  CO_hour_mean_encoding\n",
       "4672      18                      7\n",
       "7608       9                      6\n",
       "582       10                      3\n",
       "5044       6                      0\n",
       "9264       9                      6"
      ]
     },
     "execution_count": 269,
     "metadata": {},
     "output_type": "execute_result"
    }
   ],
   "source": [
    "X_train[[\"CO_hour\",\"CO_hour_mean_encoding\"]].sample(n=5)"
   ]
  },
  {
   "cell_type": "code",
   "execution_count": 229,
   "metadata": {},
   "outputs": [],
   "source": [
    "# On enlève:['CN_school','NN_soleil','NN_tendance_1','NN_tendance_2']  \n",
    "\n",
    "\n",
    "On enlève  'NN_soleil_binned' d'apres Serge\n",
    "Enlever : 'NO_temp_binned' + 'CO_year_labels_encoding' en utilisant SelectFromModel + feature_importance"
   ]
  },
  {
   "cell_type": "code",
   "execution_count": 270,
   "metadata": {},
   "outputs": [],
   "source": [
    "var_to_keep = ['CN_school',\n",
    " 'NO_atemp',\n",
    " 'NO_humidity',\n",
    " 'NO_temp',\n",
    " 'NO_temp_binned',           \n",
    " 'NO_windspeed',\n",
    " 'NN_soleil',\n",
    " 'NN_soleil_binned'\n",
    " 'NN_tendance_1',\n",
    " 'NN_tendance_2',\n",
    " 'CO_hour_int',              \n",
    " 'CO_hour_mean_encoding',\n",
    " 'CO_month_labels_encoding',\n",
    " 'CO_day_labels_encoding',\n",
    " 'CO_weather_labels_encoding',\n",
    " 'CO_season_labels_encoding',\n",
    " 'CO_year_labels_encoding',\n",
    " 'CN_type_of_day',\n",
    " 'CN_week_end']"
   ]
  },
  {
   "cell_type": "code",
   "execution_count": null,
   "metadata": {},
   "outputs": [],
   "source": [
    "Enlever : 'NO_temp_binned' + 'CO_year_labels_encoding'"
   ]
  },
  {
   "cell_type": "code",
   "execution_count": 14,
   "metadata": {},
   "outputs": [],
   "source": [
    "var_to_keep = ['CN_school',\n",
    " 'NO_atemp',\n",
    " 'NO_humidity',\n",
    " 'NO_temp',          \n",
    " 'NO_windspeed',\n",
    " 'NN_soleil',\n",
    " 'NN_soleil_binned',\n",
    " 'NN_tendance_1',\n",
    " 'NN_tendance_2',\n",
    " 'CO_hour_int',              \n",
    " 'CO_hour_mean_encoding',\n",
    " 'CO_month_labels_encoding',\n",
    " 'CO_day_labels_encoding',\n",
    " 'CO_weather_labels_encoding',\n",
    " 'CO_season_labels_encoding',\n",
    " 'CN_type_of_day',\n",
    " 'CN_week_end']"
   ]
  },
  {
   "cell_type": "code",
   "execution_count": 203,
   "metadata": {},
   "outputs": [],
   "source": [
    "var_to_keep = ['CN_school',\n",
    " 'NO_atemp',\n",
    " 'NO_humidity',\n",
    " 'NO_temp',\n",
    " 'NO_windspeed',\n",
    " 'CO_hour_int',              \n",
    " 'CO_hour_mean_encoding',\n",
    " 'CO_month_labels_encoding',\n",
    " 'CO_day_labels_encoding',\n",
    " 'CO_weather_labels_encoding',\n",
    " 'CO_season_labels_encoding',\n",
    " 'CO_year_labels_encoding',\n",
    " 'CN_type_of_day',\n",
    " 'CN_week_end']"
   ]
  },
  {
   "cell_type": "code",
   "execution_count": 118,
   "metadata": {},
   "outputs": [],
   "source": [
    "var_to_keep = ['CN_school',\n",
    " 'NO_atemp',\n",
    " 'NO_humidity',\n",
    " 'NO_temp',\n",
    " 'NO_windspeed',\n",
    " 'CO_hour_labels_encoding',\n",
    " 'CO_month_labels_encoding',\n",
    " 'CO_day_labels_encoding',\n",
    " 'CO_weather_labels_encoding',\n",
    " 'CO_season_labels_encoding',\n",
    " 'CO_year_labels_encoding',\n",
    " 'CN_type_of_day',\n",
    " 'CN_week_end']"
   ]
  },
  {
   "cell_type": "code",
   "execution_count": 93,
   "metadata": {},
   "outputs": [],
   "source": [
    "var_to_keep = ['CN_school',\n",
    " 'NO_atemp',\n",
    " 'NO_humidity',\n",
    " 'NO_temp',\n",
    " 'NO_windspeed',\n",
    " 'CO_hour_labels_encoding',\n",
    " 'CO_month_labels_encoding',\n",
    " 'CO_day_labels_encoding',\n",
    " 'CO_weather_labels_encoding',\n",
    " 'CO_season_labels_encoding',\n",
    " 'CO_year_labels_encoding']"
   ]
  },
  {
   "cell_type": "code",
   "execution_count": 280,
   "metadata": {},
   "outputs": [],
   "source": [
    "var_to_keep = ['CN_school',\n",
    " 'NO_atemp',\n",
    " 'NO_humidity',\n",
    " 'NO_temp',\n",
    " 'NO_windspeed',\n",
    " 'CO_hour_mean_encoding',\n",
    " 'CO_month_labels_encoding',\n",
    " 'CO_day_labels_encoding',\n",
    " 'CO_weather_labels_encoding',\n",
    " 'CO_season_labels_encoding',\n",
    " 'CO_year_labels_encoding',\n",
    " 'CN_type_of_day',\n",
    " 'CN_week_end']"
   ]
  },
  {
   "cell_type": "code",
   "execution_count": 258,
   "metadata": {},
   "outputs": [],
   "source": [
    "var_to_keep = ['CN_school',\n",
    " 'NO_atemp',\n",
    " 'NO_humidity',\n",
    " 'NO_temp',\n",
    " 'NO_windspeed',\n",
    " 'CO_hour_mean_encoding',\n",
    " 'CO_month_mean_encoding',\n",
    " 'CO_day_mean_encoding',\n",
    " 'CO_weather_labels_encoding',\n",
    " 'CO_season_labels_encoding',\n",
    " 'CO_year_labels_encoding',\n",
    " 'CN_type_of_day']"
   ]
  },
  {
   "cell_type": "code",
   "execution_count": 299,
   "metadata": {},
   "outputs": [],
   "source": [
    "# Meilleur choix de variables\n",
    "# qui donne le meilleur modèle actuellement\n",
    "var_to_keep = ['CN_school',\n",
    " 'NO_atemp',\n",
    " 'NO_humidity',\n",
    " 'NO_temp',\n",
    " 'NO_windspeed',\n",
    " 'CO_hour_labels_encoding',\n",
    " 'CO_month_labels_encoding',\n",
    " 'CO_day_labels_encoding',\n",
    " 'CO_weather_labels_encoding',\n",
    " 'CO_season_labels_encoding',\n",
    " 'CO_year_labels_encoding',\n",
    " 'CN_type_of_day',\n",
    " 'CN_week_end']"
   ]
  },
  {
   "cell_type": "code",
   "execution_count": 13,
   "metadata": {},
   "outputs": [],
   "source": [
    "var_to_keep = ['CN_school',\n",
    " 'NO_atemp',\n",
    " 'NO_humidity',\n",
    " 'NO_temp',\n",
    " 'NO_windspeed',\n",
    " 'CO_hour_ordinal_encoding',\n",
    " 'CO_month_ordinal_encoding',\n",
    " 'CO_day_ordinal_encoding',\n",
    " 'CO_weather_ordinal_encoding',\n",
    " 'CO_season_ordinal_encoding',\n",
    " 'CO_year_ordinal_encoding',\n",
    " 'CN_type_of_day',\n",
    " 'CN_week_end',]"
   ]
  },
  {
   "cell_type": "code",
   "execution_count": null,
   "metadata": {},
   "outputs": [],
   "source": [
    "# Liste des variables pour le modèle \"sk_mean_encoding_1\"\n",
    "variables_to_keep_train = ['CN_school',\n",
    "'NN_soleil',\n",
    "'NN_tendance_1',\n",
    "'NN_tendance_2',\n",
    "'NO_atemp',\n",
    "'NO_humidity',\n",
    "'NO_temp',\n",
    "'NO_windspeed',\n",
    "'datetime',\n",
    "'count',\n",
    "'CO_hour_mean_encoding',\n",
    "'CO_month_mean_encoding',\n",
    "'CO_day_mean_encoding',\n",
    "'CO_weather_ordinal_encoding',\n",
    "'CO_season_ordinal_encoding',\n",
    "'CO_year_ordinal_encoding',\n",
    "'CN_type_of_day']\n",
    "variables_to_keep_test = ['CN_school',\n",
    "'NN_soleil',\n",
    "'NN_tendance_1',\n",
    "'NN_tendance_2',\n",
    "'NO_atemp',\n",
    "'NO_humidity',\n",
    "'NO_temp',\n",
    "'NO_windspeed',\n",
    "'datetime',\n",
    "'CO_hour_mean_encoding',\n",
    "'CO_month_mean_encoding',\n",
    "'CO_day_mean_encoding',\n",
    "'CO_weather_ordinal_encoding',\n",
    "'CO_season_ordinal_encoding',\n",
    "'CO_year_ordinal_encoding',\n",
    "'CN_type_of_day']"
   ]
  },
  {
   "cell_type": "code",
   "execution_count": 15,
   "metadata": {},
   "outputs": [],
   "source": [
    "X_train = X_train[var_to_keep]"
   ]
  },
  {
   "cell_type": "code",
   "execution_count": 16,
   "metadata": {},
   "outputs": [
    {
     "data": {
      "text/plain": [
       "['CN_school',\n",
       " 'NO_atemp',\n",
       " 'NO_humidity',\n",
       " 'NO_temp',\n",
       " 'NO_windspeed',\n",
       " 'NN_soleil',\n",
       " 'NN_soleil_binned',\n",
       " 'NN_tendance_1',\n",
       " 'NN_tendance_2',\n",
       " 'CO_hour_int',\n",
       " 'CO_hour_mean_encoding',\n",
       " 'CO_month_labels_encoding',\n",
       " 'CO_day_labels_encoding',\n",
       " 'CO_weather_labels_encoding',\n",
       " 'CO_season_labels_encoding',\n",
       " 'CN_type_of_day',\n",
       " 'CN_week_end']"
      ]
     },
     "execution_count": 16,
     "metadata": {},
     "output_type": "execute_result"
    }
   ],
   "source": [
    "list(X_train)"
   ]
  },
  {
   "cell_type": "code",
   "execution_count": 17,
   "metadata": {},
   "outputs": [
    {
     "data": {
      "text/html": [
       "<div>\n",
       "<style scoped>\n",
       "    .dataframe tbody tr th:only-of-type {\n",
       "        vertical-align: middle;\n",
       "    }\n",
       "\n",
       "    .dataframe tbody tr th {\n",
       "        vertical-align: top;\n",
       "    }\n",
       "\n",
       "    .dataframe thead th {\n",
       "        text-align: right;\n",
       "    }\n",
       "</style>\n",
       "<table border=\"1\" class=\"dataframe\">\n",
       "  <thead>\n",
       "    <tr style=\"text-align: right;\">\n",
       "      <th></th>\n",
       "      <th>CN_school</th>\n",
       "      <th>NO_atemp</th>\n",
       "      <th>NO_humidity</th>\n",
       "      <th>NO_temp</th>\n",
       "      <th>NO_windspeed</th>\n",
       "      <th>NN_soleil</th>\n",
       "      <th>NN_soleil_binned</th>\n",
       "      <th>NN_tendance_1</th>\n",
       "      <th>NN_tendance_2</th>\n",
       "      <th>CO_hour_int</th>\n",
       "      <th>CO_hour_mean_encoding</th>\n",
       "      <th>CO_month_labels_encoding</th>\n",
       "      <th>CO_day_labels_encoding</th>\n",
       "      <th>CO_weather_labels_encoding</th>\n",
       "      <th>CO_season_labels_encoding</th>\n",
       "      <th>CN_type_of_day</th>\n",
       "      <th>CN_week_end</th>\n",
       "    </tr>\n",
       "  </thead>\n",
       "  <tbody>\n",
       "    <tr>\n",
       "      <th>count</th>\n",
       "      <td>10886.000000</td>\n",
       "      <td>10886.000000</td>\n",
       "      <td>10886.000000</td>\n",
       "      <td>10886.00000</td>\n",
       "      <td>10886.000000</td>\n",
       "      <td>10886.000000</td>\n",
       "      <td>10886.000000</td>\n",
       "      <td>10886.000000</td>\n",
       "      <td>10886.000000</td>\n",
       "      <td>10886.000000</td>\n",
       "      <td>10886.000000</td>\n",
       "      <td>10886.000000</td>\n",
       "      <td>10886.000000</td>\n",
       "      <td>10886.000000</td>\n",
       "      <td>10886.000000</td>\n",
       "      <td>10886.000000</td>\n",
       "      <td>10886.000000</td>\n",
       "    </tr>\n",
       "    <tr>\n",
       "      <th>mean</th>\n",
       "      <td>0.264101</td>\n",
       "      <td>23.655084</td>\n",
       "      <td>61.886460</td>\n",
       "      <td>20.23086</td>\n",
       "      <td>12.799395</td>\n",
       "      <td>0.534820</td>\n",
       "      <td>1.243616</td>\n",
       "      <td>1.186987</td>\n",
       "      <td>359.766581</td>\n",
       "      <td>11.541613</td>\n",
       "      <td>2.428256</td>\n",
       "      <td>5.504134</td>\n",
       "      <td>3.001010</td>\n",
       "      <td>0.497244</td>\n",
       "      <td>1.497795</td>\n",
       "      <td>0.347694</td>\n",
       "      <td>0.290557</td>\n",
       "    </tr>\n",
       "    <tr>\n",
       "      <th>std</th>\n",
       "      <td>0.440873</td>\n",
       "      <td>8.474601</td>\n",
       "      <td>19.245033</td>\n",
       "      <td>7.79159</td>\n",
       "      <td>8.164537</td>\n",
       "      <td>36.600850</td>\n",
       "      <td>0.905347</td>\n",
       "      <td>0.662286</td>\n",
       "      <td>210.507494</td>\n",
       "      <td>6.915838</td>\n",
       "      <td>2.233776</td>\n",
       "      <td>3.456473</td>\n",
       "      <td>1.992567</td>\n",
       "      <td>0.850703</td>\n",
       "      <td>1.119971</td>\n",
       "      <td>0.532885</td>\n",
       "      <td>0.454040</td>\n",
       "    </tr>\n",
       "    <tr>\n",
       "      <th>min</th>\n",
       "      <td>0.000000</td>\n",
       "      <td>0.760000</td>\n",
       "      <td>0.000000</td>\n",
       "      <td>0.82000</td>\n",
       "      <td>0.000000</td>\n",
       "      <td>-74.480161</td>\n",
       "      <td>0.000000</td>\n",
       "      <td>0.408744</td>\n",
       "      <td>0.000000</td>\n",
       "      <td>0.000000</td>\n",
       "      <td>0.000000</td>\n",
       "      <td>0.000000</td>\n",
       "      <td>0.000000</td>\n",
       "      <td>0.000000</td>\n",
       "      <td>0.000000</td>\n",
       "      <td>0.000000</td>\n",
       "      <td>0.000000</td>\n",
       "    </tr>\n",
       "    <tr>\n",
       "      <th>25%</th>\n",
       "      <td>0.000000</td>\n",
       "      <td>16.665000</td>\n",
       "      <td>47.000000</td>\n",
       "      <td>13.94000</td>\n",
       "      <td>7.001500</td>\n",
       "      <td>-27.952802</td>\n",
       "      <td>0.000000</td>\n",
       "      <td>0.621693</td>\n",
       "      <td>182.000000</td>\n",
       "      <td>6.000000</td>\n",
       "      <td>0.000000</td>\n",
       "      <td>2.000000</td>\n",
       "      <td>1.000000</td>\n",
       "      <td>0.000000</td>\n",
       "      <td>0.000000</td>\n",
       "      <td>0.000000</td>\n",
       "      <td>0.000000</td>\n",
       "    </tr>\n",
       "    <tr>\n",
       "      <th>50%</th>\n",
       "      <td>0.000000</td>\n",
       "      <td>24.240000</td>\n",
       "      <td>62.000000</td>\n",
       "      <td>20.50000</td>\n",
       "      <td>12.998000</td>\n",
       "      <td>1.011404</td>\n",
       "      <td>2.000000</td>\n",
       "      <td>1.311488</td>\n",
       "      <td>365.000000</td>\n",
       "      <td>12.000000</td>\n",
       "      <td>3.000000</td>\n",
       "      <td>6.000000</td>\n",
       "      <td>3.000000</td>\n",
       "      <td>0.000000</td>\n",
       "      <td>1.000000</td>\n",
       "      <td>0.000000</td>\n",
       "      <td>0.000000</td>\n",
       "    </tr>\n",
       "    <tr>\n",
       "      <th>75%</th>\n",
       "      <td>1.000000</td>\n",
       "      <td>31.060000</td>\n",
       "      <td>77.000000</td>\n",
       "      <td>26.24000</td>\n",
       "      <td>16.997900</td>\n",
       "      <td>28.909982</td>\n",
       "      <td>2.000000</td>\n",
       "      <td>1.617721</td>\n",
       "      <td>547.000000</td>\n",
       "      <td>18.000000</td>\n",
       "      <td>4.000000</td>\n",
       "      <td>9.000000</td>\n",
       "      <td>5.000000</td>\n",
       "      <td>1.000000</td>\n",
       "      <td>3.000000</td>\n",
       "      <td>1.000000</td>\n",
       "      <td>1.000000</td>\n",
       "    </tr>\n",
       "    <tr>\n",
       "      <th>max</th>\n",
       "      <td>1.000000</td>\n",
       "      <td>45.455000</td>\n",
       "      <td>100.000000</td>\n",
       "      <td>41.00000</td>\n",
       "      <td>56.996900</td>\n",
       "      <td>74.403938</td>\n",
       "      <td>2.000000</td>\n",
       "      <td>2.446521</td>\n",
       "      <td>718.000000</td>\n",
       "      <td>23.000000</td>\n",
       "      <td>7.000000</td>\n",
       "      <td>11.000000</td>\n",
       "      <td>6.000000</td>\n",
       "      <td>3.000000</td>\n",
       "      <td>3.000000</td>\n",
       "      <td>2.000000</td>\n",
       "      <td>1.000000</td>\n",
       "    </tr>\n",
       "  </tbody>\n",
       "</table>\n",
       "</div>"
      ],
      "text/plain": [
       "          CN_school      NO_atemp   NO_humidity      NO_temp  NO_windspeed  \\\n",
       "count  10886.000000  10886.000000  10886.000000  10886.00000  10886.000000   \n",
       "mean       0.264101     23.655084     61.886460     20.23086     12.799395   \n",
       "std        0.440873      8.474601     19.245033      7.79159      8.164537   \n",
       "min        0.000000      0.760000      0.000000      0.82000      0.000000   \n",
       "25%        0.000000     16.665000     47.000000     13.94000      7.001500   \n",
       "50%        0.000000     24.240000     62.000000     20.50000     12.998000   \n",
       "75%        1.000000     31.060000     77.000000     26.24000     16.997900   \n",
       "max        1.000000     45.455000    100.000000     41.00000     56.996900   \n",
       "\n",
       "          NN_soleil  NN_soleil_binned  NN_tendance_1  NN_tendance_2  \\\n",
       "count  10886.000000      10886.000000   10886.000000   10886.000000   \n",
       "mean       0.534820          1.243616       1.186987     359.766581   \n",
       "std       36.600850          0.905347       0.662286     210.507494   \n",
       "min      -74.480161          0.000000       0.408744       0.000000   \n",
       "25%      -27.952802          0.000000       0.621693     182.000000   \n",
       "50%        1.011404          2.000000       1.311488     365.000000   \n",
       "75%       28.909982          2.000000       1.617721     547.000000   \n",
       "max       74.403938          2.000000       2.446521     718.000000   \n",
       "\n",
       "        CO_hour_int  CO_hour_mean_encoding  CO_month_labels_encoding  \\\n",
       "count  10886.000000           10886.000000              10886.000000   \n",
       "mean      11.541613               2.428256                  5.504134   \n",
       "std        6.915838               2.233776                  3.456473   \n",
       "min        0.000000               0.000000                  0.000000   \n",
       "25%        6.000000               0.000000                  2.000000   \n",
       "50%       12.000000               3.000000                  6.000000   \n",
       "75%       18.000000               4.000000                  9.000000   \n",
       "max       23.000000               7.000000                 11.000000   \n",
       "\n",
       "       CO_day_labels_encoding  CO_weather_labels_encoding  \\\n",
       "count            10886.000000                10886.000000   \n",
       "mean                 3.001010                    0.497244   \n",
       "std                  1.992567                    0.850703   \n",
       "min                  0.000000                    0.000000   \n",
       "25%                  1.000000                    0.000000   \n",
       "50%                  3.000000                    0.000000   \n",
       "75%                  5.000000                    1.000000   \n",
       "max                  6.000000                    3.000000   \n",
       "\n",
       "       CO_season_labels_encoding  CN_type_of_day   CN_week_end  \n",
       "count               10886.000000    10886.000000  10886.000000  \n",
       "mean                    1.497795        0.347694      0.290557  \n",
       "std                     1.119971        0.532885      0.454040  \n",
       "min                     0.000000        0.000000      0.000000  \n",
       "25%                     0.000000        0.000000      0.000000  \n",
       "50%                     1.000000        0.000000      0.000000  \n",
       "75%                     3.000000        1.000000      1.000000  \n",
       "max                     3.000000        2.000000      1.000000  "
      ]
     },
     "execution_count": 17,
     "metadata": {},
     "output_type": "execute_result"
    }
   ],
   "source": [
    "X_train.describe()"
   ]
  },
  {
   "cell_type": "code",
   "execution_count": 18,
   "metadata": {},
   "outputs": [],
   "source": [
    "X_train, X_test, Y_train, Y_test = train_test_split(X_train,Y_train,test_size = 0.3,random_state = 0)"
   ]
  },
  {
   "cell_type": "code",
   "execution_count": 19,
   "metadata": {},
   "outputs": [
    {
     "data": {
      "text/plain": [
       "['CN_school',\n",
       " 'NO_atemp',\n",
       " 'NO_humidity',\n",
       " 'NO_temp',\n",
       " 'NO_windspeed',\n",
       " 'NN_soleil',\n",
       " 'NN_soleil_binned',\n",
       " 'NN_tendance_1',\n",
       " 'NN_tendance_2',\n",
       " 'CO_hour_int',\n",
       " 'CO_hour_mean_encoding',\n",
       " 'CO_month_labels_encoding',\n",
       " 'CO_day_labels_encoding',\n",
       " 'CO_weather_labels_encoding',\n",
       " 'CO_season_labels_encoding',\n",
       " 'CN_type_of_day',\n",
       " 'CN_week_end']"
      ]
     },
     "execution_count": 19,
     "metadata": {},
     "output_type": "execute_result"
    }
   ],
   "source": [
    "list(X_test)"
   ]
  },
  {
   "cell_type": "code",
   "execution_count": 20,
   "metadata": {},
   "outputs": [
    {
     "data": {
      "text/plain": [
       "(3266, 17)"
      ]
     },
     "execution_count": 20,
     "metadata": {},
     "output_type": "execute_result"
    }
   ],
   "source": [
    "X_test.shape"
   ]
  },
  {
   "cell_type": "code",
   "execution_count": 276,
   "metadata": {},
   "outputs": [],
   "source": [
    "# On exclue : NN_soleil, NN_tendance_1 et NN_tendance_2 ?\n",
    "# var_to_keep = [var_name for each in list(X_train)]\n",
    "# X_train = X_train[var_to_keep]"
   ]
  },
  {
   "cell_type": "code",
   "execution_count": 146,
   "metadata": {},
   "outputs": [
    {
     "ename": "SyntaxError",
     "evalue": "invalid syntax (<ipython-input-146-926cfb652d6e>, line 1)",
     "output_type": "error",
     "traceback": [
      "\u001b[0;36m  File \u001b[0;32m\"<ipython-input-146-926cfb652d6e>\"\u001b[0;36m, line \u001b[0;32m1\u001b[0m\n\u001b[0;31m    On essaye suivant les conseils du MOOC:\u001b[0m\n\u001b[0m            ^\u001b[0m\n\u001b[0;31mSyntaxError\u001b[0m\u001b[0;31m:\u001b[0m invalid syntax\n"
     ]
    }
   ],
   "source": [
    "On essaye suivant les conseils du MOOC:\n",
    "- on n'utilise pas Gamma\n",
    "- on fixe Max_depth = 7, on peut l'augmenter tant qu'on ne fait pas \n",
    "  du sur-apprentissag, de manière à obtenir un meilleur modèle\n",
    "- on prend Subsample entre 0 et 1 (le diminuer pour faire moins\n",
    "  de sur-apprentissage)\n",
    "- Pour Colsample_bytree, le diminuer si il y a sur-apprentissage\n",
    "- min_child_weight: le faire bcp varier avec 0,5,15,300\n",
    "  car il va permettre d'avoir un modèle plus contraint\n",
    "  et donc de lutter contre le sur-apprentissage\n",
    "- Eta : entre 0.01 et 0.1\n",
    "- Num_rounds: le prendre élévé, Num_rounds = n_estimators ?\n",
    "  On peut augmenter Num_rounds jusqu'à ce que l'erreur augmente trop\n",
    "  sur le validation set (early stopping)\n",
    "    \n",
    "- Astuce : multiplier par un facteur de alpha Num_rounds et diviser par ce facteur\n",
    "  de alpha la valeur de Eta"
   ]
  },
  {
   "cell_type": "code",
   "execution_count": 21,
   "metadata": {},
   "outputs": [
    {
     "name": "stdout",
     "output_type": "stream",
     "text": [
      "CPU times: user 9min 33s, sys: 1.82 s, total: 9min 35s\n",
      "Wall time: 2min 26s\n"
     ]
    }
   ],
   "source": [
    "%%time\n",
    "n_iter=85\n",
    "\n",
    "df_result_models = pd.DataFrame(columns = \n",
    "['colsample_bytree','learning_rate','max_depth','n_estimators','subsample','min_child_weight','reg_lambda','RMSE_train','RMSE_test'])\n",
    "# df_result_models = pd.DataFrame(columns = ['colsample_bytree','gamma','learning_rate','max_depth','n_estimators','subsample','reg_lambda','RMSE_train','RMSE_test'])\n",
    "\n",
    "for each in range(1,n_iter):\n",
    "    \n",
    "    # print (\"Modèle n°\", each)\n",
    "    colsample_bytree_value = np.random.uniform(0.3,0.7)\n",
    "    \n",
    "    # gamma_value = np.random.uniform(0, 0.5)\n",
    "    # learning_rate_value = np.random.uniform(0.03, 0.3)\n",
    "    learning_rate_value = np.random.uniform(0.01, 0.1)\n",
    "    # max_depth_value = np.random.randint(2, 6)\n",
    "    \n",
    "    max_depth_value = np.random.randint(7,20)\n",
    "    \n",
    "    # n_estimators_value = np.random.randint(100, 150)\n",
    "    n_estimators_value = np.random.randint(400, 500)\n",
    "    # n_estimators_value = np.random.randint(400, 3000)\n",
    "    # n_estimators_value = np.random.randint(400, 5000)\n",
    "    # subsample_value = np.random.uniform(0.4, 0.6)\n",
    "    subsample_value = np.random.uniform(0,1)\n",
    "    \n",
    "    # reg_alpha_value = np.random.uniform(0, 0.05)\n",
    "    # reg_alpha_value = np.random.uniform(0, 10)\n",
    "    # reg_lambda_value = np.random.uniform(0, 10)\n",
    "    reg_lambda_value = np.random.uniform(5, 20)\n",
    "    \n",
    "    # print (\"max_depth\", max_depth_value)\n",
    "    \n",
    "    min_child_weight_value = np.random.randint(0,300)\n",
    "    \n",
    "    xgb_model = xgb.XGBRegressor(\n",
    "        colsample_bytree = colsample_bytree_value,\n",
    "        # gamma = gamma_value,\n",
    "        learning_rate = learning_rate_value,\n",
    "        max_depth = max_depth_value,\n",
    "        n_estimators = n_estimators_value,\n",
    "        subsample = subsample_value,\n",
    "        # reg_alpha = reg_alpha_value,\n",
    "        reg_lambda = reg_lambda_value,\n",
    "        n_jobs = 4,\n",
    "        min_child_weight = min_child_weight_value,\n",
    "        objective=\"reg:squarederror\")\n",
    "        \n",
    "        # eval_metric = \"rmse\"\n",
    "          \n",
    "    result = xgb_model.fit(X_train, Y_train)\n",
    "    \n",
    "    predicted_values = xgb_model.predict(X_train)\n",
    "    # print (\"predicted_values\", predicted_values)\n",
    "    predicted_values = np.expand_dims(predicted_values, axis=1)\n",
    "        \n",
    "    RMSE_train_value = np.sqrt(np.mean((predicted_values - Y_train.values)**2, axis=0))\n",
    "    # print(\"le score RMLSE sur le training set vaut : {}\".format(RMSE))\n",
    "    \n",
    "    predicted_values = xgb_model.predict(X_test)\n",
    "    predicted_values = np.expand_dims(predicted_values, axis=1)\n",
    "        \n",
    "    RMSE_test_value = np.sqrt(np.mean((predicted_values - Y_test.values)**2, axis=0))\n",
    "    # print(\"le score RMSE sur le test set vaut : {}\".format(RMSE))\n",
    "    \n",
    "    if RMSE_train_value != None and RMSE_test_value != None:\n",
    "    \n",
    "        df_result_models = df_result_models.append({'colsample_bytree': colsample_bytree_value, \n",
    "                                 # 'gamma':gamma_value,\n",
    "                                 'learning_rate':learning_rate_value,\n",
    "                                 'max_depth':max_depth_value,\n",
    "                                 'n_estimators':n_estimators_value,\n",
    "                                 'subsample':subsample_value,\n",
    "                                 # 'reg_alpha':reg_alpha_value,\n",
    "                                 'reg_lambda':reg_lambda_value,\n",
    "                                 'min_child_weight':min_child_weight_value,                 \n",
    "                                 'RMSE_train':RMSE_train_value,\n",
    "                                 'RMSE_test':RMSE_test_value}, ignore_index= True)"
   ]
  },
  {
   "cell_type": "code",
   "execution_count": 22,
   "metadata": {},
   "outputs": [
    {
     "data": {
      "text/html": [
       "<div>\n",
       "<style scoped>\n",
       "    .dataframe tbody tr th:only-of-type {\n",
       "        vertical-align: middle;\n",
       "    }\n",
       "\n",
       "    .dataframe tbody tr th {\n",
       "        vertical-align: top;\n",
       "    }\n",
       "\n",
       "    .dataframe thead th {\n",
       "        text-align: right;\n",
       "    }\n",
       "</style>\n",
       "<table border=\"1\" class=\"dataframe\">\n",
       "  <thead>\n",
       "    <tr style=\"text-align: right;\">\n",
       "      <th></th>\n",
       "      <th>colsample_bytree</th>\n",
       "      <th>learning_rate</th>\n",
       "      <th>max_depth</th>\n",
       "      <th>n_estimators</th>\n",
       "      <th>subsample</th>\n",
       "      <th>min_child_weight</th>\n",
       "      <th>reg_lambda</th>\n",
       "      <th>RMSE_train</th>\n",
       "      <th>RMSE_test</th>\n",
       "    </tr>\n",
       "  </thead>\n",
       "  <tbody>\n",
       "    <tr>\n",
       "      <th>68</th>\n",
       "      <td>0.533951</td>\n",
       "      <td>0.056843</td>\n",
       "      <td>15</td>\n",
       "      <td>469</td>\n",
       "      <td>0.91312</td>\n",
       "      <td>32</td>\n",
       "      <td>14.648642</td>\n",
       "      <td>[0.13505969061405068]</td>\n",
       "      <td>[0.2812302520458064]</td>\n",
       "    </tr>\n",
       "  </tbody>\n",
       "</table>\n",
       "</div>"
      ],
      "text/plain": [
       "    colsample_bytree  learning_rate max_depth n_estimators  subsample  \\\n",
       "68          0.533951       0.056843        15          469    0.91312   \n",
       "\n",
       "   min_child_weight  reg_lambda             RMSE_train             RMSE_test  \n",
       "68               32   14.648642  [0.13505969061405068]  [0.2812302520458064]  "
      ]
     },
     "execution_count": 22,
     "metadata": {},
     "output_type": "execute_result"
    }
   ],
   "source": [
    "# Cette fois en utilisant SelectionFromModel\n",
    "df_result_models[df_result_models[\"RMSE_test\"]  == df_result_models[\"RMSE_test\"].min()[0]]"
   ]
  },
  {
   "cell_type": "code",
   "execution_count": 280,
   "metadata": {},
   "outputs": [
    {
     "data": {
      "text/html": [
       "<div>\n",
       "<style scoped>\n",
       "    .dataframe tbody tr th:only-of-type {\n",
       "        vertical-align: middle;\n",
       "    }\n",
       "\n",
       "    .dataframe tbody tr th {\n",
       "        vertical-align: top;\n",
       "    }\n",
       "\n",
       "    .dataframe thead th {\n",
       "        text-align: right;\n",
       "    }\n",
       "</style>\n",
       "<table border=\"1\" class=\"dataframe\">\n",
       "  <thead>\n",
       "    <tr style=\"text-align: right;\">\n",
       "      <th></th>\n",
       "      <th>colsample_bytree</th>\n",
       "      <th>learning_rate</th>\n",
       "      <th>max_depth</th>\n",
       "      <th>n_estimators</th>\n",
       "      <th>subsample</th>\n",
       "      <th>min_child_weight</th>\n",
       "      <th>reg_lambda</th>\n",
       "      <th>RMSE_train</th>\n",
       "      <th>RMSE_test</th>\n",
       "    </tr>\n",
       "  </thead>\n",
       "  <tbody>\n",
       "    <tr>\n",
       "      <th>27</th>\n",
       "      <td>0.578446</td>\n",
       "      <td>0.064533</td>\n",
       "      <td>8</td>\n",
       "      <td>440</td>\n",
       "      <td>0.764524</td>\n",
       "      <td>5</td>\n",
       "      <td>11.397823</td>\n",
       "      <td>[0.11691605390502088]</td>\n",
       "      <td>[0.2792049918686194]</td>\n",
       "    </tr>\n",
       "  </tbody>\n",
       "</table>\n",
       "</div>"
      ],
      "text/plain": [
       "    colsample_bytree  learning_rate max_depth n_estimators  subsample  \\\n",
       "27          0.578446       0.064533         8          440   0.764524   \n",
       "\n",
       "   min_child_weight  reg_lambda             RMSE_train             RMSE_test  \n",
       "27                5   11.397823  [0.11691605390502088]  [0.2792049918686194]  "
      ]
     },
     "execution_count": 280,
     "metadata": {},
     "output_type": "execute_result"
    }
   ],
   "source": [
    "#J'ai enlevé NN_soleil_binned\n",
    "df_result_models[df_result_models[\"RMSE_test\"]  == df_result_models[\"RMSE_test\"].min()[0]]"
   ]
  },
  {
   "cell_type": "code",
   "execution_count": null,
   "metadata": {},
   "outputs": [],
   "source": [
    "MEILLEUR MODELE avec hour collapsée + temp et soleil binnées"
   ]
  },
  {
   "cell_type": "code",
   "execution_count": 238,
   "metadata": {},
   "outputs": [
    {
     "data": {
      "text/html": [
       "<div>\n",
       "<style scoped>\n",
       "    .dataframe tbody tr th:only-of-type {\n",
       "        vertical-align: middle;\n",
       "    }\n",
       "\n",
       "    .dataframe tbody tr th {\n",
       "        vertical-align: top;\n",
       "    }\n",
       "\n",
       "    .dataframe thead th {\n",
       "        text-align: right;\n",
       "    }\n",
       "</style>\n",
       "<table border=\"1\" class=\"dataframe\">\n",
       "  <thead>\n",
       "    <tr style=\"text-align: right;\">\n",
       "      <th></th>\n",
       "      <th>colsample_bytree</th>\n",
       "      <th>learning_rate</th>\n",
       "      <th>max_depth</th>\n",
       "      <th>n_estimators</th>\n",
       "      <th>subsample</th>\n",
       "      <th>min_child_weight</th>\n",
       "      <th>reg_lambda</th>\n",
       "      <th>RMSE_train</th>\n",
       "      <th>RMSE_test</th>\n",
       "    </tr>\n",
       "  </thead>\n",
       "  <tbody>\n",
       "    <tr>\n",
       "      <th>54</th>\n",
       "      <td>0.540918</td>\n",
       "      <td>0.038891</td>\n",
       "      <td>16</td>\n",
       "      <td>459</td>\n",
       "      <td>0.788663</td>\n",
       "      <td>18</td>\n",
       "      <td>16.23938</td>\n",
       "      <td>[0.13654281849664168]</td>\n",
       "      <td>[0.2775537240915111]</td>\n",
       "    </tr>\n",
       "  </tbody>\n",
       "</table>\n",
       "</div>"
      ],
      "text/plain": [
       "    colsample_bytree  learning_rate max_depth n_estimators  subsample  \\\n",
       "54          0.540918       0.038891        16          459   0.788663   \n",
       "\n",
       "   min_child_weight  reg_lambda             RMSE_train             RMSE_test  \n",
       "54               18    16.23938  [0.13654281849664168]  [0.2775537240915111]  "
      ]
     },
     "execution_count": 238,
     "metadata": {},
     "output_type": "execute_result"
    }
   ],
   "source": [
    "df_result_models[df_result_models[\"RMSE_test\"]  == df_result_models[\"RMSE_test\"].min()[0]]"
   ]
  },
  {
   "cell_type": "code",
   "execution_count": 169,
   "metadata": {},
   "outputs": [
    {
     "data": {
      "text/html": [
       "<div>\n",
       "<style scoped>\n",
       "    .dataframe tbody tr th:only-of-type {\n",
       "        vertical-align: middle;\n",
       "    }\n",
       "\n",
       "    .dataframe tbody tr th {\n",
       "        vertical-align: top;\n",
       "    }\n",
       "\n",
       "    .dataframe thead th {\n",
       "        text-align: right;\n",
       "    }\n",
       "</style>\n",
       "<table border=\"1\" class=\"dataframe\">\n",
       "  <thead>\n",
       "    <tr style=\"text-align: right;\">\n",
       "      <th></th>\n",
       "      <th>colsample_bytree</th>\n",
       "      <th>learning_rate</th>\n",
       "      <th>max_depth</th>\n",
       "      <th>n_estimators</th>\n",
       "      <th>subsample</th>\n",
       "      <th>min_child_weight</th>\n",
       "      <th>reg_lambda</th>\n",
       "      <th>RMSE_train</th>\n",
       "      <th>RMSE_test</th>\n",
       "    </tr>\n",
       "  </thead>\n",
       "  <tbody>\n",
       "    <tr>\n",
       "      <th>42</th>\n",
       "      <td>0.665492</td>\n",
       "      <td>0.056283</td>\n",
       "      <td>15</td>\n",
       "      <td>426</td>\n",
       "      <td>0.581242</td>\n",
       "      <td>5</td>\n",
       "      <td>16.220194</td>\n",
       "      <td>[0.09988858992115984]</td>\n",
       "      <td>[0.28181794294177925]</td>\n",
       "    </tr>\n",
       "  </tbody>\n",
       "</table>\n",
       "</div>"
      ],
      "text/plain": [
       "    colsample_bytree  learning_rate max_depth n_estimators  subsample  \\\n",
       "42          0.665492       0.056283        15          426   0.581242   \n",
       "\n",
       "   min_child_weight  reg_lambda             RMSE_train              RMSE_test  \n",
       "42                5   16.220194  [0.09988858992115984]  [0.28181794294177925]  "
      ]
     },
     "execution_count": 169,
     "metadata": {},
     "output_type": "execute_result"
    }
   ],
   "source": [
    "df_result_models[df_result_models[\"RMSE_test\"]  == df_result_models[\"RMSE_test\"].min()[0]]"
   ]
  },
  {
   "cell_type": "code",
   "execution_count": 21,
   "metadata": {},
   "outputs": [
    {
     "data": {
      "text/html": [
       "<div>\n",
       "<style scoped>\n",
       "    .dataframe tbody tr th:only-of-type {\n",
       "        vertical-align: middle;\n",
       "    }\n",
       "\n",
       "    .dataframe tbody tr th {\n",
       "        vertical-align: top;\n",
       "    }\n",
       "\n",
       "    .dataframe thead th {\n",
       "        text-align: right;\n",
       "    }\n",
       "</style>\n",
       "<table border=\"1\" class=\"dataframe\">\n",
       "  <thead>\n",
       "    <tr style=\"text-align: right;\">\n",
       "      <th></th>\n",
       "      <th>colsample_bytree</th>\n",
       "      <th>learning_rate</th>\n",
       "      <th>max_depth</th>\n",
       "      <th>n_estimators</th>\n",
       "      <th>subsample</th>\n",
       "      <th>min_child_weight</th>\n",
       "      <th>reg_lambda</th>\n",
       "      <th>RMSE_train</th>\n",
       "      <th>RMSE_test</th>\n",
       "    </tr>\n",
       "  </thead>\n",
       "  <tbody>\n",
       "    <tr>\n",
       "      <th>75</th>\n",
       "      <td>0.63963</td>\n",
       "      <td>0.058541</td>\n",
       "      <td>18</td>\n",
       "      <td>489</td>\n",
       "      <td>0.592356</td>\n",
       "      <td>17</td>\n",
       "      <td>15.205434</td>\n",
       "      <td>[0.1380945981717653]</td>\n",
       "      <td>[0.28146554836965565]</td>\n",
       "    </tr>\n",
       "  </tbody>\n",
       "</table>\n",
       "</div>"
      ],
      "text/plain": [
       "    colsample_bytree  learning_rate max_depth n_estimators  subsample  \\\n",
       "75           0.63963       0.058541        18          489   0.592356   \n",
       "\n",
       "   min_child_weight  reg_lambda            RMSE_train              RMSE_test  \n",
       "75               17   15.205434  [0.1380945981717653]  [0.28146554836965565]  "
      ]
     },
     "execution_count": 21,
     "metadata": {},
     "output_type": "execute_result"
    }
   ],
   "source": [
    "# ? avec que des ordinal encoding = SOUMIS mais score = 0.43\n",
    "df_result_models[df_result_models[\"RMSE_test\"]  == df_result_models[\"RMSE_test\"].min()[0]]"
   ]
  },
  {
   "cell_type": "code",
   "execution_count": 19,
   "metadata": {},
   "outputs": [
    {
     "data": {
      "text/html": [
       "<div>\n",
       "<style scoped>\n",
       "    .dataframe tbody tr th:only-of-type {\n",
       "        vertical-align: middle;\n",
       "    }\n",
       "\n",
       "    .dataframe tbody tr th {\n",
       "        vertical-align: top;\n",
       "    }\n",
       "\n",
       "    .dataframe thead th {\n",
       "        text-align: right;\n",
       "    }\n",
       "</style>\n",
       "<table border=\"1\" class=\"dataframe\">\n",
       "  <thead>\n",
       "    <tr style=\"text-align: right;\">\n",
       "      <th></th>\n",
       "      <th>colsample_bytree</th>\n",
       "      <th>learning_rate</th>\n",
       "      <th>max_depth</th>\n",
       "      <th>n_estimators</th>\n",
       "      <th>subsample</th>\n",
       "      <th>min_child_weight</th>\n",
       "      <th>reg_lambda</th>\n",
       "      <th>RMSE_train</th>\n",
       "      <th>RMSE_test</th>\n",
       "    </tr>\n",
       "  </thead>\n",
       "  <tbody>\n",
       "    <tr>\n",
       "      <th>70</th>\n",
       "      <td>0.48417</td>\n",
       "      <td>0.017449</td>\n",
       "      <td>18</td>\n",
       "      <td>419</td>\n",
       "      <td>0.552301</td>\n",
       "      <td>1</td>\n",
       "      <td>16.95625</td>\n",
       "      <td>[0.6500668231729636]</td>\n",
       "      <td>[0.78847059292814]</td>\n",
       "    </tr>\n",
       "  </tbody>\n",
       "</table>\n",
       "</div>"
      ],
      "text/plain": [
       "    colsample_bytree  learning_rate max_depth n_estimators  subsample  \\\n",
       "70           0.48417       0.017449        18          419   0.552301   \n",
       "\n",
       "   min_child_weight  reg_lambda            RMSE_train           RMSE_test  \n",
       "70                1    16.95625  [0.6500668231729636]  [0.78847059292814]  "
      ]
     },
     "execution_count": 19,
     "metadata": {},
     "output_type": "execute_result"
    }
   ],
   "source": [
    "#0.75 pourri avec mean encodings + ordinal encoding\n",
    "df_result_models[df_result_models[\"RMSE_test\"]  == df_result_models[\"RMSE_test\"].min()[0]]"
   ]
  },
  {
   "cell_type": "markdown",
   "metadata": {},
   "source": [
    "MEILLEUR MODELE !!!\n",
    "Avec variables \"labels_encoding\" + \"type_of_day\" + \"week_end\""
   ]
  },
  {
   "cell_type": "code",
   "execution_count": 307,
   "metadata": {},
   "outputs": [
    {
     "data": {
      "text/html": [
       "<div>\n",
       "<style scoped>\n",
       "    .dataframe tbody tr th:only-of-type {\n",
       "        vertical-align: middle;\n",
       "    }\n",
       "\n",
       "    .dataframe tbody tr th {\n",
       "        vertical-align: top;\n",
       "    }\n",
       "\n",
       "    .dataframe thead th {\n",
       "        text-align: right;\n",
       "    }\n",
       "</style>\n",
       "<table border=\"1\" class=\"dataframe\">\n",
       "  <thead>\n",
       "    <tr style=\"text-align: right;\">\n",
       "      <th></th>\n",
       "      <th>colsample_bytree</th>\n",
       "      <th>learning_rate</th>\n",
       "      <th>max_depth</th>\n",
       "      <th>n_estimators</th>\n",
       "      <th>subsample</th>\n",
       "      <th>min_child_weight</th>\n",
       "      <th>reg_lambda</th>\n",
       "      <th>RMSE_train</th>\n",
       "      <th>RMSE_test</th>\n",
       "    </tr>\n",
       "  </thead>\n",
       "  <tbody>\n",
       "    <tr>\n",
       "      <th>64</th>\n",
       "      <td>0.573138</td>\n",
       "      <td>0.066018</td>\n",
       "      <td>7</td>\n",
       "      <td>476</td>\n",
       "      <td>0.474646</td>\n",
       "      <td>0</td>\n",
       "      <td>18.181983</td>\n",
       "      <td>[0.17831164315393452]</td>\n",
       "      <td>[0.28574246167421874]</td>\n",
       "    </tr>\n",
       "  </tbody>\n",
       "</table>\n",
       "</div>"
      ],
      "text/plain": [
       "    colsample_bytree  learning_rate max_depth n_estimators  subsample  \\\n",
       "64          0.573138       0.066018         7          476   0.474646   \n",
       "\n",
       "   min_child_weight  reg_lambda             RMSE_train              RMSE_test  \n",
       "64                0   18.181983  [0.17831164315393452]  [0.28574246167421874]  "
      ]
     },
     "execution_count": 307,
     "metadata": {},
     "output_type": "execute_result"
    }
   ],
   "source": [
    "df_result_models[df_result_models[\"RMSE_test\"]  == df_result_models[\"RMSE_test\"].min()[0]]"
   ]
  },
  {
   "cell_type": "code",
   "execution_count": null,
   "metadata": {},
   "outputs": [],
   "source": [
    "Les nvx \"mean encodings\" donnent 0.79 sur le \"test\""
   ]
  },
  {
   "cell_type": "code",
   "execution_count": 263,
   "metadata": {},
   "outputs": [
    {
     "data": {
      "text/html": [
       "<div>\n",
       "<style scoped>\n",
       "    .dataframe tbody tr th:only-of-type {\n",
       "        vertical-align: middle;\n",
       "    }\n",
       "\n",
       "    .dataframe tbody tr th {\n",
       "        vertical-align: top;\n",
       "    }\n",
       "\n",
       "    .dataframe thead th {\n",
       "        text-align: right;\n",
       "    }\n",
       "</style>\n",
       "<table border=\"1\" class=\"dataframe\">\n",
       "  <thead>\n",
       "    <tr style=\"text-align: right;\">\n",
       "      <th></th>\n",
       "      <th>colsample_bytree</th>\n",
       "      <th>learning_rate</th>\n",
       "      <th>max_depth</th>\n",
       "      <th>n_estimators</th>\n",
       "      <th>subsample</th>\n",
       "      <th>min_child_weight</th>\n",
       "      <th>reg_lambda</th>\n",
       "      <th>RMSE_train</th>\n",
       "      <th>RMSE_test</th>\n",
       "    </tr>\n",
       "  </thead>\n",
       "  <tbody>\n",
       "    <tr>\n",
       "      <th>57</th>\n",
       "      <td>0.639004</td>\n",
       "      <td>0.018473</td>\n",
       "      <td>7</td>\n",
       "      <td>475</td>\n",
       "      <td>0.832838</td>\n",
       "      <td>58</td>\n",
       "      <td>14.497005</td>\n",
       "      <td>[0.7175397285178995]</td>\n",
       "      <td>[0.7879967024456943]</td>\n",
       "    </tr>\n",
       "  </tbody>\n",
       "</table>\n",
       "</div>"
      ],
      "text/plain": [
       "    colsample_bytree  learning_rate max_depth n_estimators  subsample  \\\n",
       "57          0.639004       0.018473         7          475   0.832838   \n",
       "\n",
       "   min_child_weight  reg_lambda            RMSE_train             RMSE_test  \n",
       "57               58   14.497005  [0.7175397285178995]  [0.7879967024456943]  "
      ]
     },
     "execution_count": 263,
     "metadata": {},
     "output_type": "execute_result"
    }
   ],
   "source": [
    "df_result_models[df_result_models[\"RMSE_test\"]  == df_result_models[\"RMSE_test\"].min()[0]]"
   ]
  },
  {
   "cell_type": "code",
   "execution_count": 20,
   "metadata": {},
   "outputs": [
    {
     "data": {
      "text/html": [
       "<div>\n",
       "<style scoped>\n",
       "    .dataframe tbody tr th:only-of-type {\n",
       "        vertical-align: middle;\n",
       "    }\n",
       "\n",
       "    .dataframe tbody tr th {\n",
       "        vertical-align: top;\n",
       "    }\n",
       "\n",
       "    .dataframe thead th {\n",
       "        text-align: right;\n",
       "    }\n",
       "</style>\n",
       "<table border=\"1\" class=\"dataframe\">\n",
       "  <thead>\n",
       "    <tr style=\"text-align: right;\">\n",
       "      <th></th>\n",
       "      <th>colsample_bytree</th>\n",
       "      <th>learning_rate</th>\n",
       "      <th>max_depth</th>\n",
       "      <th>n_estimators</th>\n",
       "      <th>subsample</th>\n",
       "      <th>min_child_weight</th>\n",
       "      <th>RMSE_train</th>\n",
       "      <th>RMSE_test</th>\n",
       "    </tr>\n",
       "  </thead>\n",
       "  <tbody>\n",
       "    <tr>\n",
       "      <th>4</th>\n",
       "      <td>0.492261</td>\n",
       "      <td>0.014173</td>\n",
       "      <td>9</td>\n",
       "      <td>470</td>\n",
       "      <td>0.958629</td>\n",
       "      <td>66</td>\n",
       "      <td>[0.7534213287026998]</td>\n",
       "      <td>[0.7991175170797304]</td>\n",
       "    </tr>\n",
       "  </tbody>\n",
       "</table>\n",
       "</div>"
      ],
      "text/plain": [
       "   colsample_bytree  learning_rate max_depth n_estimators  subsample  \\\n",
       "4          0.492261       0.014173         9          470   0.958629   \n",
       "\n",
       "  min_child_weight            RMSE_train             RMSE_test  \n",
       "4               66  [0.7534213287026998]  [0.7991175170797304]  "
      ]
     },
     "execution_count": 20,
     "metadata": {},
     "output_type": "execute_result"
    }
   ],
   "source": [
    "df_result_models[df_result_models[\"RMSE_test\"]  == df_result_models[\"RMSE_test\"].min()[0]]"
   ]
  },
  {
   "cell_type": "code",
   "execution_count": null,
   "metadata": {},
   "outputs": [],
   "source": [
    "Avec 'CO_hour_mean_encoding' et les autres en \"labels_encoding\""
   ]
  },
  {
   "cell_type": "code",
   "execution_count": 63,
   "metadata": {},
   "outputs": [
    {
     "data": {
      "text/html": [
       "<div>\n",
       "<style scoped>\n",
       "    .dataframe tbody tr th:only-of-type {\n",
       "        vertical-align: middle;\n",
       "    }\n",
       "\n",
       "    .dataframe tbody tr th {\n",
       "        vertical-align: top;\n",
       "    }\n",
       "\n",
       "    .dataframe thead th {\n",
       "        text-align: right;\n",
       "    }\n",
       "</style>\n",
       "<table border=\"1\" class=\"dataframe\">\n",
       "  <thead>\n",
       "    <tr style=\"text-align: right;\">\n",
       "      <th></th>\n",
       "      <th>colsample_bytree</th>\n",
       "      <th>learning_rate</th>\n",
       "      <th>max_depth</th>\n",
       "      <th>n_estimators</th>\n",
       "      <th>subsample</th>\n",
       "      <th>min_child_weight</th>\n",
       "      <th>RMSE_train</th>\n",
       "      <th>RMSE_test</th>\n",
       "    </tr>\n",
       "  </thead>\n",
       "  <tbody>\n",
       "    <tr>\n",
       "      <th>6</th>\n",
       "      <td>0.659903</td>\n",
       "      <td>0.020877</td>\n",
       "      <td>13</td>\n",
       "      <td>449</td>\n",
       "      <td>0.964231</td>\n",
       "      <td>109</td>\n",
       "      <td>[0.7109203357118395]</td>\n",
       "      <td>[0.798091146015345]</td>\n",
       "    </tr>\n",
       "  </tbody>\n",
       "</table>\n",
       "</div>"
      ],
      "text/plain": [
       "   colsample_bytree  learning_rate max_depth n_estimators  subsample  \\\n",
       "6          0.659903       0.020877        13          449   0.964231   \n",
       "\n",
       "  min_child_weight            RMSE_train            RMSE_test  \n",
       "6              109  [0.7109203357118395]  [0.798091146015345]  "
      ]
     },
     "execution_count": 63,
     "metadata": {},
     "output_type": "execute_result"
    }
   ],
   "source": [
    "df_result_models[df_result_models[\"RMSE_test\"]  == df_result_models[\"RMSE_test\"].min()[0]]"
   ]
  },
  {
   "cell_type": "code",
   "execution_count": null,
   "metadata": {},
   "outputs": [],
   "source": [
    "2EME MEILLEUR MODELE !!!\n",
    "Avec variables \"labels_encoding\" + \"type_of_day\""
   ]
  },
  {
   "cell_type": "code",
   "execution_count": 81,
   "metadata": {},
   "outputs": [
    {
     "data": {
      "text/html": [
       "<div>\n",
       "<style scoped>\n",
       "    .dataframe tbody tr th:only-of-type {\n",
       "        vertical-align: middle;\n",
       "    }\n",
       "\n",
       "    .dataframe tbody tr th {\n",
       "        vertical-align: top;\n",
       "    }\n",
       "\n",
       "    .dataframe thead th {\n",
       "        text-align: right;\n",
       "    }\n",
       "</style>\n",
       "<table border=\"1\" class=\"dataframe\">\n",
       "  <thead>\n",
       "    <tr style=\"text-align: right;\">\n",
       "      <th></th>\n",
       "      <th>colsample_bytree</th>\n",
       "      <th>learning_rate</th>\n",
       "      <th>max_depth</th>\n",
       "      <th>n_estimators</th>\n",
       "      <th>subsample</th>\n",
       "      <th>min_child_weight</th>\n",
       "      <th>RMSE_train</th>\n",
       "      <th>RMSE_test</th>\n",
       "    </tr>\n",
       "  </thead>\n",
       "  <tbody>\n",
       "    <tr>\n",
       "      <th>24</th>\n",
       "      <td>0.50382</td>\n",
       "      <td>0.049789</td>\n",
       "      <td>13</td>\n",
       "      <td>494</td>\n",
       "      <td>0.970071</td>\n",
       "      <td>32</td>\n",
       "      <td>[0.1439406676363295]</td>\n",
       "      <td>[0.28565651565651345]</td>\n",
       "    </tr>\n",
       "  </tbody>\n",
       "</table>\n",
       "</div>"
      ],
      "text/plain": [
       "    colsample_bytree  learning_rate max_depth n_estimators  subsample  \\\n",
       "24           0.50382       0.049789        13          494   0.970071   \n",
       "\n",
       "   min_child_weight            RMSE_train              RMSE_test  \n",
       "24               32  [0.1439406676363295]  [0.28565651565651345]  "
      ]
     },
     "execution_count": 81,
     "metadata": {},
     "output_type": "execute_result"
    }
   ],
   "source": [
    "df_result_models[df_result_models[\"RMSE_test\"]  == df_result_models[\"RMSE_test\"].min()[0]]"
   ]
  },
  {
   "cell_type": "code",
   "execution_count": null,
   "metadata": {},
   "outputs": [],
   "source": [
    "Avec variables \"labels_encoding\" mais sans \"type_of_day\""
   ]
  },
  {
   "cell_type": "code",
   "execution_count": 98,
   "metadata": {},
   "outputs": [
    {
     "data": {
      "text/html": [
       "<div>\n",
       "<style scoped>\n",
       "    .dataframe tbody tr th:only-of-type {\n",
       "        vertical-align: middle;\n",
       "    }\n",
       "\n",
       "    .dataframe tbody tr th {\n",
       "        vertical-align: top;\n",
       "    }\n",
       "\n",
       "    .dataframe thead th {\n",
       "        text-align: right;\n",
       "    }\n",
       "</style>\n",
       "<table border=\"1\" class=\"dataframe\">\n",
       "  <thead>\n",
       "    <tr style=\"text-align: right;\">\n",
       "      <th></th>\n",
       "      <th>colsample_bytree</th>\n",
       "      <th>learning_rate</th>\n",
       "      <th>max_depth</th>\n",
       "      <th>n_estimators</th>\n",
       "      <th>subsample</th>\n",
       "      <th>min_child_weight</th>\n",
       "      <th>RMSE_train</th>\n",
       "      <th>RMSE_test</th>\n",
       "    </tr>\n",
       "  </thead>\n",
       "  <tbody>\n",
       "    <tr>\n",
       "      <th>58</th>\n",
       "      <td>0.542733</td>\n",
       "      <td>0.097262</td>\n",
       "      <td>15</td>\n",
       "      <td>446</td>\n",
       "      <td>0.87202</td>\n",
       "      <td>71</td>\n",
       "      <td>[0.19437335828216318]</td>\n",
       "      <td>[0.30712959515711297]</td>\n",
       "    </tr>\n",
       "  </tbody>\n",
       "</table>\n",
       "</div>"
      ],
      "text/plain": [
       "    colsample_bytree  learning_rate max_depth n_estimators  subsample  \\\n",
       "58          0.542733       0.097262        15          446    0.87202   \n",
       "\n",
       "   min_child_weight             RMSE_train              RMSE_test  \n",
       "58               71  [0.19437335828216318]  [0.30712959515711297]  "
      ]
     },
     "execution_count": 98,
     "metadata": {},
     "output_type": "execute_result"
    }
   ],
   "source": [
    "df_result_models[df_result_models[\"RMSE_test\"]  == df_result_models[\"RMSE_test\"].min()[0]]"
   ]
  },
  {
   "cell_type": "code",
   "execution_count": null,
   "metadata": {},
   "outputs": [],
   "source": [
    "Hier on avait 0.39 avec les 3 anciennes variables \"mean encodings\""
   ]
  },
  {
   "cell_type": "code",
   "execution_count": 55,
   "metadata": {},
   "outputs": [
    {
     "data": {
      "text/html": [
       "<div>\n",
       "<style scoped>\n",
       "    .dataframe tbody tr th:only-of-type {\n",
       "        vertical-align: middle;\n",
       "    }\n",
       "\n",
       "    .dataframe tbody tr th {\n",
       "        vertical-align: top;\n",
       "    }\n",
       "\n",
       "    .dataframe thead th {\n",
       "        text-align: right;\n",
       "    }\n",
       "</style>\n",
       "<table border=\"1\" class=\"dataframe\">\n",
       "  <thead>\n",
       "    <tr style=\"text-align: right;\">\n",
       "      <th></th>\n",
       "      <th>colsample_bytree</th>\n",
       "      <th>learning_rate</th>\n",
       "      <th>max_depth</th>\n",
       "      <th>n_estimators</th>\n",
       "      <th>subsample</th>\n",
       "      <th>min_child_weight</th>\n",
       "      <th>RMSE_train</th>\n",
       "      <th>RMSE_test</th>\n",
       "    </tr>\n",
       "  </thead>\n",
       "  <tbody>\n",
       "    <tr>\n",
       "      <th>71</th>\n",
       "      <td>0.680614</td>\n",
       "      <td>0.075019</td>\n",
       "      <td>7</td>\n",
       "      <td>405</td>\n",
       "      <td>0.849547</td>\n",
       "      <td>36</td>\n",
       "      <td>[0.26218596494599156]</td>\n",
       "      <td>[0.3953321459408146]</td>\n",
       "    </tr>\n",
       "  </tbody>\n",
       "</table>\n",
       "</div>"
      ],
      "text/plain": [
       "    colsample_bytree  learning_rate max_depth n_estimators  subsample  \\\n",
       "71          0.680614       0.075019         7          405   0.849547   \n",
       "\n",
       "   min_child_weight             RMSE_train             RMSE_test  \n",
       "71               36  [0.26218596494599156]  [0.3953321459408146]  "
      ]
     },
     "execution_count": 55,
     "metadata": {},
     "output_type": "execute_result"
    }
   ],
   "source": [
    "df_result_models[df_result_models[\"RMSE_test\"]  == df_result_models[\"RMSE_test\"].min()[0]]"
   ]
  },
  {
   "cell_type": "code",
   "execution_count": null,
   "metadata": {},
   "outputs": [],
   "source": [
    "Apres augmentation possible de Max_depth\n",
    "on voit qu'il a fait trop de sur-apprentissage"
   ]
  },
  {
   "cell_type": "code",
   "execution_count": 57,
   "metadata": {},
   "outputs": [
    {
     "data": {
      "text/html": [
       "<div>\n",
       "<style scoped>\n",
       "    .dataframe tbody tr th:only-of-type {\n",
       "        vertical-align: middle;\n",
       "    }\n",
       "\n",
       "    .dataframe tbody tr th {\n",
       "        vertical-align: top;\n",
       "    }\n",
       "\n",
       "    .dataframe thead th {\n",
       "        text-align: right;\n",
       "    }\n",
       "</style>\n",
       "<table border=\"1\" class=\"dataframe\">\n",
       "  <thead>\n",
       "    <tr style=\"text-align: right;\">\n",
       "      <th></th>\n",
       "      <th>colsample_bytree</th>\n",
       "      <th>learning_rate</th>\n",
       "      <th>max_depth</th>\n",
       "      <th>n_estimators</th>\n",
       "      <th>subsample</th>\n",
       "      <th>min_child_weight</th>\n",
       "      <th>RMSE_train</th>\n",
       "      <th>RMSE_test</th>\n",
       "    </tr>\n",
       "  </thead>\n",
       "  <tbody>\n",
       "    <tr>\n",
       "      <th>40</th>\n",
       "      <td>0.615728</td>\n",
       "      <td>0.065323</td>\n",
       "      <td>17</td>\n",
       "      <td>463</td>\n",
       "      <td>0.964829</td>\n",
       "      <td>45</td>\n",
       "      <td>[0.20435072669458268]</td>\n",
       "      <td>[0.39354724788020523]</td>\n",
       "    </tr>\n",
       "  </tbody>\n",
       "</table>\n",
       "</div>"
      ],
      "text/plain": [
       "    colsample_bytree  learning_rate max_depth n_estimators  subsample  \\\n",
       "40          0.615728       0.065323        17          463   0.964829   \n",
       "\n",
       "   min_child_weight             RMSE_train              RMSE_test  \n",
       "40               45  [0.20435072669458268]  [0.39354724788020523]  "
      ]
     },
     "execution_count": 57,
     "metadata": {},
     "output_type": "execute_result"
    }
   ],
   "source": [
    "df_result_models[df_result_models[\"RMSE_test\"]  == df_result_models[\"RMSE_test\"].min()[0]]"
   ]
  },
  {
   "cell_type": "markdown",
   "metadata": {},
   "source": [
    "Cette fois, on fixe les hyperparamètres"
   ]
  },
  {
   "cell_type": "markdown",
   "metadata": {},
   "source": [
    "Tester à la fin : random_state = 25,656,899<br>\n",
    "On testera la fiabilité du modèle\n",
    "avec différents seeds : random_state = 25,656,899"
   ]
  },
  {
   "cell_type": "code",
   "execution_count": null,
   "metadata": {},
   "outputs": [],
   "source": [
    "CI-DESSOUS le résultat de la dernière exécution, qui sert à fixer les hyperparamètres"
   ]
  },
  {
   "cell_type": "code",
   "execution_count": 26,
   "metadata": {},
   "outputs": [
    {
     "data": {
      "text/html": [
       "<div>\n",
       "<style scoped>\n",
       "    .dataframe tbody tr th:only-of-type {\n",
       "        vertical-align: middle;\n",
       "    }\n",
       "\n",
       "    .dataframe tbody tr th {\n",
       "        vertical-align: top;\n",
       "    }\n",
       "\n",
       "    .dataframe thead th {\n",
       "        text-align: right;\n",
       "    }\n",
       "</style>\n",
       "<table border=\"1\" class=\"dataframe\">\n",
       "  <thead>\n",
       "    <tr style=\"text-align: right;\">\n",
       "      <th></th>\n",
       "      <th>colsample_bytree</th>\n",
       "      <th>learning_rate</th>\n",
       "      <th>max_depth</th>\n",
       "      <th>n_estimators</th>\n",
       "      <th>subsample</th>\n",
       "      <th>reg_lambda</th>\n",
       "      <th>min_child_weight</th>\n",
       "      <th>RMSE_train</th>\n",
       "      <th>RMSE_test</th>\n",
       "    </tr>\n",
       "  </thead>\n",
       "  <tbody>\n",
       "    <tr>\n",
       "      <th>62</th>\n",
       "      <td>0.646836</td>\n",
       "      <td>0.063926</td>\n",
       "      <td>13</td>\n",
       "      <td>426</td>\n",
       "      <td>0.931488</td>\n",
       "      <td>17.491806</td>\n",
       "      <td>37</td>\n",
       "      <td>[0.1596051467252208]</td>\n",
       "      <td>[0.2807228239055076]</td>\n",
       "    </tr>\n",
       "  </tbody>\n",
       "</table>\n",
       "</div>"
      ],
      "text/plain": [
       "    colsample_bytree  learning_rate max_depth n_estimators  subsample  \\\n",
       "62          0.646836       0.063926        13          426   0.931488   \n",
       "\n",
       "    reg_lambda min_child_weight            RMSE_train             RMSE_test  \n",
       "62   17.491806               37  [0.1596051467252208]  [0.2807228239055076]  "
      ]
     },
     "execution_count": 26,
     "metadata": {},
     "output_type": "execute_result"
    }
   ],
   "source": [
    "df_result_models[df_result_models[\"RMSE_test\"]  == df_result_models[\"RMSE_test\"].min()[0]]"
   ]
  },
  {
   "cell_type": "code",
   "execution_count": 170,
   "metadata": {},
   "outputs": [
    {
     "data": {
      "text/html": [
       "<div>\n",
       "<style scoped>\n",
       "    .dataframe tbody tr th:only-of-type {\n",
       "        vertical-align: middle;\n",
       "    }\n",
       "\n",
       "    .dataframe tbody tr th {\n",
       "        vertical-align: top;\n",
       "    }\n",
       "\n",
       "    .dataframe thead th {\n",
       "        text-align: right;\n",
       "    }\n",
       "</style>\n",
       "<table border=\"1\" class=\"dataframe\">\n",
       "  <thead>\n",
       "    <tr style=\"text-align: right;\">\n",
       "      <th></th>\n",
       "      <th>colsample_bytree</th>\n",
       "      <th>learning_rate</th>\n",
       "      <th>max_depth</th>\n",
       "      <th>n_estimators</th>\n",
       "      <th>subsample</th>\n",
       "      <th>min_child_weight</th>\n",
       "      <th>reg_lambda</th>\n",
       "      <th>RMSE_train</th>\n",
       "      <th>RMSE_test</th>\n",
       "    </tr>\n",
       "  </thead>\n",
       "  <tbody>\n",
       "    <tr>\n",
       "      <th>42</th>\n",
       "      <td>0.665492</td>\n",
       "      <td>0.056283</td>\n",
       "      <td>15</td>\n",
       "      <td>426</td>\n",
       "      <td>0.581242</td>\n",
       "      <td>5</td>\n",
       "      <td>16.220194</td>\n",
       "      <td>[0.09988858992115984]</td>\n",
       "      <td>[0.28181794294177925]</td>\n",
       "    </tr>\n",
       "  </tbody>\n",
       "</table>\n",
       "</div>"
      ],
      "text/plain": [
       "    colsample_bytree  learning_rate max_depth n_estimators  subsample  \\\n",
       "42          0.665492       0.056283        15          426   0.581242   \n",
       "\n",
       "   min_child_weight  reg_lambda             RMSE_train              RMSE_test  \n",
       "42                5   16.220194  [0.09988858992115984]  [0.28181794294177925]  "
      ]
     },
     "execution_count": 170,
     "metadata": {},
     "output_type": "execute_result"
    }
   ],
   "source": [
    "df_result_models[df_result_models[\"RMSE_test\"]  == df_result_models[\"RMSE_test\"].min()[0]]"
   ]
  },
  {
   "cell_type": "code",
   "execution_count": 239,
   "metadata": {},
   "outputs": [
    {
     "data": {
      "text/html": [
       "<div>\n",
       "<style scoped>\n",
       "    .dataframe tbody tr th:only-of-type {\n",
       "        vertical-align: middle;\n",
       "    }\n",
       "\n",
       "    .dataframe tbody tr th {\n",
       "        vertical-align: top;\n",
       "    }\n",
       "\n",
       "    .dataframe thead th {\n",
       "        text-align: right;\n",
       "    }\n",
       "</style>\n",
       "<table border=\"1\" class=\"dataframe\">\n",
       "  <thead>\n",
       "    <tr style=\"text-align: right;\">\n",
       "      <th></th>\n",
       "      <th>colsample_bytree</th>\n",
       "      <th>learning_rate</th>\n",
       "      <th>max_depth</th>\n",
       "      <th>n_estimators</th>\n",
       "      <th>subsample</th>\n",
       "      <th>min_child_weight</th>\n",
       "      <th>reg_lambda</th>\n",
       "      <th>RMSE_train</th>\n",
       "      <th>RMSE_test</th>\n",
       "    </tr>\n",
       "  </thead>\n",
       "  <tbody>\n",
       "    <tr>\n",
       "      <th>54</th>\n",
       "      <td>0.540918</td>\n",
       "      <td>0.038891</td>\n",
       "      <td>16</td>\n",
       "      <td>459</td>\n",
       "      <td>0.788663</td>\n",
       "      <td>18</td>\n",
       "      <td>16.23938</td>\n",
       "      <td>[0.13654281849664168]</td>\n",
       "      <td>[0.2775537240915111]</td>\n",
       "    </tr>\n",
       "  </tbody>\n",
       "</table>\n",
       "</div>"
      ],
      "text/plain": [
       "    colsample_bytree  learning_rate max_depth n_estimators  subsample  \\\n",
       "54          0.540918       0.038891        16          459   0.788663   \n",
       "\n",
       "   min_child_weight  reg_lambda             RMSE_train             RMSE_test  \n",
       "54               18    16.23938  [0.13654281849664168]  [0.2775537240915111]  "
      ]
     },
     "execution_count": 239,
     "metadata": {},
     "output_type": "execute_result"
    }
   ],
   "source": [
    "df_result_models[df_result_models[\"RMSE_test\"]  == df_result_models[\"RMSE_test\"].min()[0]]"
   ]
  },
  {
   "cell_type": "code",
   "execution_count": 23,
   "metadata": {},
   "outputs": [
    {
     "data": {
      "text/html": [
       "<div>\n",
       "<style scoped>\n",
       "    .dataframe tbody tr th:only-of-type {\n",
       "        vertical-align: middle;\n",
       "    }\n",
       "\n",
       "    .dataframe tbody tr th {\n",
       "        vertical-align: top;\n",
       "    }\n",
       "\n",
       "    .dataframe thead th {\n",
       "        text-align: right;\n",
       "    }\n",
       "</style>\n",
       "<table border=\"1\" class=\"dataframe\">\n",
       "  <thead>\n",
       "    <tr style=\"text-align: right;\">\n",
       "      <th></th>\n",
       "      <th>colsample_bytree</th>\n",
       "      <th>learning_rate</th>\n",
       "      <th>max_depth</th>\n",
       "      <th>n_estimators</th>\n",
       "      <th>subsample</th>\n",
       "      <th>min_child_weight</th>\n",
       "      <th>reg_lambda</th>\n",
       "      <th>RMSE_train</th>\n",
       "      <th>RMSE_test</th>\n",
       "    </tr>\n",
       "  </thead>\n",
       "  <tbody>\n",
       "    <tr>\n",
       "      <th>68</th>\n",
       "      <td>0.533951</td>\n",
       "      <td>0.056843</td>\n",
       "      <td>15</td>\n",
       "      <td>469</td>\n",
       "      <td>0.91312</td>\n",
       "      <td>32</td>\n",
       "      <td>14.648642</td>\n",
       "      <td>[0.13505969061405068]</td>\n",
       "      <td>[0.2812302520458064]</td>\n",
       "    </tr>\n",
       "  </tbody>\n",
       "</table>\n",
       "</div>"
      ],
      "text/plain": [
       "    colsample_bytree  learning_rate max_depth n_estimators  subsample  \\\n",
       "68          0.533951       0.056843        15          469    0.91312   \n",
       "\n",
       "   min_child_weight  reg_lambda             RMSE_train             RMSE_test  \n",
       "68               32   14.648642  [0.13505969061405068]  [0.2812302520458064]  "
      ]
     },
     "execution_count": 23,
     "metadata": {},
     "output_type": "execute_result"
    }
   ],
   "source": [
    "df_result_models[df_result_models[\"RMSE_test\"]  == df_result_models[\"RMSE_test\"].min()[0]]"
   ]
  },
  {
   "cell_type": "code",
   "execution_count": 24,
   "metadata": {},
   "outputs": [
    {
     "name": "stdout",
     "output_type": "stream",
     "text": [
      "Learning rate 0.056843 N_estimators 469\n",
      "[0.28123153] [0.146173]\n",
      "Learning rate 0.0284215 N_estimators 938\n",
      "[0.27777887] [0.142792]\n",
      "Learning rate 0.018947666666666665 N_estimators 1407\n",
      "[0.2776977] [0.14282657]\n",
      "Learning rate 0.01421075 N_estimators 1876\n",
      "[0.27731363] [0.14317078]\n",
      "Learning rate 0.0113686 N_estimators 2345\n",
      "[0.27754659] [0.14266621]\n",
      "Learning rate 0.009473833333333332 N_estimators 2814\n",
      "[0.27781377] [0.14308872]\n",
      "Learning rate 0.008120428571428572 N_estimators 3283\n",
      "[0.27777149] [0.14327722]\n",
      "Learning rate 0.007105375 N_estimators 3752\n",
      "[0.2772845] [0.14294121]\n",
      "Learning rate 0.006315888888888888 N_estimators 4221\n",
      "[0.27737406] [0.14331587]\n",
      "CPU times: user 13min 43s, sys: 8.56 s, total: 13min 51s\n",
      "Wall time: 3min 44s\n"
     ]
    }
   ],
   "source": [
    "%%time\n",
    "\n",
    "learning_rate_init = 0.056843\n",
    "n_estimators_init = 469\n",
    "\n",
    "factor_trick = range(1,10)\n",
    "\n",
    "for each in factor_trick:\n",
    "    print (\"Learning rate\",learning_rate_init/each,\"N_estimators\", n_estimators_init*each)\n",
    "    xgb_model = xgb.XGBRegressor(\n",
    "            colsample_bytree = 0.533951,\n",
    "            learning_rate = learning_rate_init/each,\n",
    "            max_depth = 15,\n",
    "            # n_estimators = 438,\n",
    "            n_estimators = n_estimators_init*each,\n",
    "            subsample = 0.91312,\n",
    "            n_jobs = 4,\n",
    "            # min_child_weight = 37,\n",
    "            # min_child_weight = 5,\n",
    "            min_child_weight = 32,\n",
    "            reg_lambda = 14.648642,\n",
    "            # random_state = 25,656,899\n",
    "            # random_state = 899,\n",
    "            objective=\"reg:squarederror\")\n",
    "            # eval_metric = \"rmse\"\n",
    "\n",
    "    xgb_model.fit(X_train, Y_train)\n",
    "\n",
    "    predicted_values = xgb_model.predict(X_train)\n",
    "    # print (\"predicted_values\", predicted_values)\n",
    "    predicted_values = np.expand_dims(predicted_values, axis=1)\n",
    "    RMSE_train_value = np.sqrt(np.mean((predicted_values - Y_train.values)**2, axis=0))\n",
    "    # print(\"le score RMLSE sur le training set vaut : {}\".format(RMSE))\n",
    "\n",
    "    predicted_values = xgb_model.predict(X_test)\n",
    "    predicted_values = np.expand_dims(predicted_values, axis=1)\n",
    "    RMSE_test_value = np.sqrt(np.mean((predicted_values - Y_test.values)**2, axis=0))\n",
    "\n",
    "    print (RMSE_test_value,RMSE_test_value - RMSE_train_value)"
   ]
  },
  {
   "cell_type": "code",
   "execution_count": null,
   "metadata": {},
   "outputs": [],
   "source": [
    "#MEILLEUR MODELE:\n",
    "#Learning rate 0.007798166666666666 N_estimators 2628\n",
    "MEILLEUR MODELE:\n",
    "Learning rate 0.031963 N_estimators 852 avec \n",
    "RMSE_test_value = 0.27872983\n",
    "RMSE_test_value - RMSE_train_value= 0.11824964\n",
    "\n",
    "Cette fois: avec variables CO_hour_int + CO_hour \"binnée\" (CO_hour_mean_encoding)\n",
    "Learning rate 0.007035375 N_estimators 3408\n",
    "RMSE_test_value = 0.27731468\n",
    "RMSE_test_value - RMSE_train_value= 0.17846562"
   ]
  },
  {
   "cell_type": "code",
   "execution_count": null,
   "metadata": {},
   "outputs": [],
   "source": [
    "MEILLEUR MODELE: On a oublié les tendances + NN_soleil !\n",
    "et avec variables CO_hour_int + CO_hour \"collapsée\" + soleil et temp binnées\n",
    "Learning rate 0.005555857142857143 N_estimators 3213\n",
    "RMSE_test_value = 0.27631764\n",
    "RMSE_test_value - RMSE_train_value= 0.14053162"
   ]
  },
  {
   "cell_type": "code",
   "execution_count": null,
   "metadata": {},
   "outputs": [],
   "source": [
    "MEILLEUR MODELE: On a oublié les tendances + NN_soleil !\n",
    "et avec variables CO_hour_int + CO_hour \"collapsée\" + soleil binnée (on a enlevé temp binnée et CO_year_labels_encoding)\n",
    "Learning rate  N_estimators \n",
    "RMSE_test_value = \n",
    "RMSE_test_value - RMSE_train_value= \n",
    "Learning rate 0.01421075 N_estimators 1876\n",
    "[0.27731363] [0.14317078]\n",
    "=\n",
    "OU\n",
    "Learning rate 0.007105375 N_estimators 3752\n",
    "[0.2772845] [0.14294121]"
   ]
  },
  {
   "cell_type": "code",
   "execution_count": null,
   "metadata": {},
   "outputs": [],
   "source": [
    "On relance\n",
    "avec différents random_state = []\n",
    "+ soumission"
   ]
  },
  {
   "cell_type": "code",
   "execution_count": 26,
   "metadata": {},
   "outputs": [
    {
     "name": "stdout",
     "output_type": "stream",
     "text": [
      "Random state = 25\n",
      "[0.27754129] [0.14314009]\n",
      "Random state = 656\n",
      "[0.27726411] [0.14328066]\n",
      "Random state = 899\n",
      "[0.27713122] [0.14259685]\n",
      "CPU times: user 7min 12s, sys: 4.13 s, total: 7min 16s\n",
      "Wall time: 1min 57s\n"
     ]
    }
   ],
   "source": [
    "%%time\n",
    "\n",
    "# learning_rate_value = 0.031963  \n",
    "# n_estimators_value = 852\n",
    "\n",
    "# learning_rate_value = 0.007035375  \n",
    "# n_estimators_value = 3408\n",
    "\n",
    "#learning_rate_value = 0.005555857142857143 \n",
    "# n_estimators_value = 3213\n",
    "learning_rate_value = 0.007105375 \n",
    "n_estimators_value = 3752\n",
    "random_states = [25,656,899]\n",
    "\n",
    "for each in random_states:\n",
    "    print (\"Random state =\", each)\n",
    "    xgb_model = xgb.XGBRegressor(\n",
    "        \n",
    "            colsample_bytree = 0.533951,\n",
    "            learning_rate = learning_rate_value,\n",
    "            max_depth = 15,\n",
    "            # n_estimators = 438,\n",
    "            n_estimators = n_estimators_value,\n",
    "            subsample = 0.91312,\n",
    "            n_jobs = 4,\n",
    "            # min_child_weight = 37,\n",
    "            # min_child_weight = 5,\n",
    "            min_child_weight = 32,\n",
    "            reg_lambda = 14.648642,\n",
    "                \n",
    "            # random_state = 25,656,899\n",
    "            random_state = each,\n",
    "            objective=\"reg:squarederror\")\n",
    "            # eval_metric = \"rmse\"\n",
    "\n",
    "    xgb_model.fit(X_train, Y_train)\n",
    "\n",
    "    predicted_values = xgb_model.predict(X_train)\n",
    "    # print (\"predicted_values\", predicted_values)\n",
    "    predicted_values = np.expand_dims(predicted_values, axis=1)\n",
    "    RMSE_train_value = np.sqrt(np.mean((predicted_values - Y_train.values)**2, axis=0))\n",
    "    # print(\"le score RMLSE sur le training set vaut : {}\".format(RMSE))\n",
    "\n",
    "    predicted_values = xgb_model.predict(X_test)\n",
    "    predicted_values = np.expand_dims(predicted_values, axis=1)\n",
    "    RMSE_test_value = np.sqrt(np.mean((predicted_values - Y_test.values)**2, axis=0))\n",
    "\n",
    "    print (RMSE_test_value,RMSE_test_value - RMSE_train_value)"
   ]
  },
  {
   "cell_type": "code",
   "execution_count": 41,
   "metadata": {},
   "outputs": [
    {
     "name": "stdout",
     "output_type": "stream",
     "text": [
      "[0.27872983] [0.11824964]\n",
      "CPU times: user 23.4 s, sys: 118 ms, total: 23.5 s\n",
      "Wall time: 6.03 s\n"
     ]
    }
   ],
   "source": [
    "%%time\n",
    "\n",
    "# Modèle précédent\n",
    "# learning_rate_value = 0.007798166666666666 \n",
    "# n_estimators_value = 2628\n",
    "\n",
    "learning_rate_value = 0.031963  \n",
    "n_estimators_value = 852\n",
    "\n",
    "xgb_model = xgb.XGBRegressor(\n",
    "        colsample_bytree = 0.646836,\n",
    "        learning_rate = learning_rate_value,\n",
    "        max_depth = 13,\n",
    "        # n_estimators = 438,\n",
    "        n_estimators = n_estimators_value,\n",
    "        subsample = 0.931488,\n",
    "        n_jobs = 4,\n",
    "        min_child_weight = 37,\n",
    "        reg_lambda = 17.491806,\n",
    "        objective=\"reg:squarederror\")\n",
    "        # eval_metric = \"rmse\"\n",
    "\n",
    "xgb_model.fit(X_train, Y_train)\n",
    "\n",
    "predicted_values = xgb_model.predict(X_train)\n",
    "# print (\"predicted_values\", predicted_values)\n",
    "predicted_values = np.expand_dims(predicted_values, axis=1)\n",
    "RMSE_train_value = np.sqrt(np.mean((predicted_values - Y_train.values)**2, axis=0))\n",
    "# print(\"le score RMLSE sur le training set vaut : {}\".format(RMSE))\n",
    "\n",
    "predicted_values = xgb_model.predict(X_test)\n",
    "predicted_values = np.expand_dims(predicted_values, axis=1)\n",
    "RMSE_test_value = np.sqrt(np.mean((predicted_values - Y_test.values)**2, axis=0))\n",
    "\n",
    "print (RMSE_test_value,RMSE_test_value - RMSE_train_value)"
   ]
  },
  {
   "cell_type": "markdown",
   "metadata": {},
   "source": [
    "#### SAUVEGARDE avec xgb_model"
   ]
  },
  {
   "cell_type": "code",
   "execution_count": 27,
   "metadata": {},
   "outputs": [
    {
     "name": "stderr",
     "output_type": "stream",
     "text": [
      "/home/osboxes/anaconda3/envs/data/lib/python3.6/site-packages/sklearn/externals/joblib/__init__.py:15: DeprecationWarning: sklearn.externals.joblib is deprecated in 0.21 and will be removed in 0.23. Please import this functionality directly from joblib, which can be installed with: pip install joblib. If this warning is raised when loading pickled models, you may need to re-serialize those models with scikit-learn 0.21+.\n",
      "  warnings.warn(msg, category=DeprecationWarning)\n"
     ]
    },
    {
     "data": {
      "text/plain": [
       "['xgb_with_all_variables_hour_soleil_binned_without_temp_binned_improved.pkl']"
      ]
     },
     "execution_count": 27,
     "metadata": {},
     "output_type": "execute_result"
    }
   ],
   "source": [
    "from sklearn.externals import joblib\n",
    "# pour le save\n",
    "# joblib.dump(xgb_model, \"xgb_labels_encoding_improved.pkl\", compress=9)\n",
    "# joblib.dump(xgb_model, \"xgb_ordinal_encoding_improved.pkl\", compress=9)\n",
    "# joblib.dump(xgb_model, \"xgb_with_hour_binned_improved.pkl\", compress=9)\n",
    "\n",
    "# joblib.dump(xgb_model, \"xgb_with_all_variables_hour_soleil_temp_binned_improved.pkl\", compress=9)\n",
    "joblib.dump(xgb_model, \"xgb_with_all_variables_hour_soleil_binned_without_temp_binned_improved.pkl\", compress=9)\n",
    "# pour le reload\n",
    "# mymodel = joblib.load(\"xgb_mean_encoding_1.pkl\")"
   ]
  },
  {
   "cell_type": "markdown",
   "metadata": {},
   "source": [
    "CREATION DES PREDICTIONS sur le test set KAGGLE POUR SOUMISSION"
   ]
  },
  {
   "cell_type": "code",
   "execution_count": 31,
   "metadata": {},
   "outputs": [
    {
     "data": {
      "text/plain": [
       "(6493, 50)"
      ]
     },
     "execution_count": 31,
     "metadata": {},
     "output_type": "execute_result"
    }
   ],
   "source": [
    "df_to_predict = pd.read_pickle(\"../data/df_test_kaggle_cv_o_n_all_variables.pkl\") \n",
    "df_to_predict.shape"
   ]
  },
  {
   "cell_type": "code",
   "execution_count": 32,
   "metadata": {},
   "outputs": [
    {
     "data": {
      "text/plain": [
       "['CN_school',\n",
       " 'CN_soleilQ',\n",
       " 'CN_tendance_1Q',\n",
       " 'CN_tendance_2Q',\n",
       " 'CO_atempQ',\n",
       " 'CO_day',\n",
       " 'CO_holiday',\n",
       " 'CO_humidityQ',\n",
       " 'CO_month',\n",
       " 'CO_season',\n",
       " 'CO_tempQ',\n",
       " 'CO_weather',\n",
       " 'CO_windspeedQ',\n",
       " 'CO_workingday',\n",
       " 'NN_soleil',\n",
       " 'NN_tendance_1',\n",
       " 'NN_tendance_2',\n",
       " 'NO_atemp',\n",
       " 'NO_humidity',\n",
       " 'NO_temp',\n",
       " 'NO_windspeed',\n",
       " 'S_casual',\n",
       " 'S_casualQ',\n",
       " 'S_rateregis',\n",
       " 'S_rateregisQ',\n",
       " 'S_registered',\n",
       " 'S_registeredQ',\n",
       " 'datetime',\n",
       " 'CO_hour',\n",
       " 'CO_year',\n",
       " 'CO_day_labels_encoding',\n",
       " 'CO_month_labels_encoding',\n",
       " 'CO_season_labels_encoding',\n",
       " 'CO_weather_labels_encoding',\n",
       " 'CO_hour_labels_encoding',\n",
       " 'CO_year_labels_encoding',\n",
       " 'CO_hour_int',\n",
       " 'CO_hour_mean_encoding',\n",
       " 'CO_month_mean_encoding',\n",
       " 'CO_day_mean_encoding',\n",
       " 'CO_hour_ordinal_encoding',\n",
       " 'CO_month_ordinal_encoding',\n",
       " 'CO_day_ordinal_encoding',\n",
       " 'CO_weather_ordinal_encoding',\n",
       " 'CO_season_ordinal_encoding',\n",
       " 'CO_year_ordinal_encoding',\n",
       " 'CN_type_of_day',\n",
       " 'CN_week_end',\n",
       " 'NN_soleil_binned',\n",
       " 'NO_temp_binned']"
      ]
     },
     "execution_count": 32,
     "metadata": {},
     "output_type": "execute_result"
    }
   ],
   "source": [
    "list(df_to_predict)"
   ]
  },
  {
   "cell_type": "code",
   "execution_count": 33,
   "metadata": {},
   "outputs": [],
   "source": [
    "var_to_keep = ['datetime',\n",
    " 'CN_school',\n",
    " 'NO_atemp',\n",
    " 'NO_humidity',\n",
    " 'NO_temp',          \n",
    " 'NO_windspeed',\n",
    " 'NN_soleil',\n",
    " 'NN_soleil_binned',\n",
    " 'NN_tendance_1',\n",
    " 'NN_tendance_2',\n",
    " 'CO_hour_int',              \n",
    " 'CO_hour_mean_encoding',\n",
    " 'CO_month_labels_encoding',\n",
    " 'CO_day_labels_encoding',\n",
    " 'CO_weather_labels_encoding',\n",
    " 'CO_season_labels_encoding',\n",
    " 'CN_type_of_day',\n",
    " 'CN_week_end']"
   ]
  },
  {
   "cell_type": "code",
   "execution_count": 177,
   "metadata": {},
   "outputs": [],
   "source": [
    "var_to_keep = ['datetime',\n",
    " 'CN_school',\n",
    " 'NO_atemp',\n",
    " 'NO_humidity',\n",
    " 'NO_temp',\n",
    " 'NO_windspeed',\n",
    " 'CO_hour_int',\n",
    " 'CO_hour_mean_encoding',\n",
    " 'CO_month_labels_encoding',\n",
    " 'CO_day_labels_encoding',\n",
    " 'CO_weather_labels_encoding',\n",
    " 'CO_season_labels_encoding',\n",
    " 'CO_year_labels_encoding',\n",
    " 'CN_type_of_day',\n",
    " 'CN_week_end']"
   ]
  },
  {
   "cell_type": "code",
   "execution_count": 53,
   "metadata": {},
   "outputs": [],
   "source": [
    "var_to_keep = ['datetime',\n",
    " 'CN_school',\n",
    " 'NO_atemp',\n",
    " 'NO_humidity',\n",
    " 'NO_temp',\n",
    " 'NO_windspeed',\n",
    " 'CO_hour_ordinal_encoding',\n",
    " 'CO_month_ordinal_encoding',\n",
    " 'CO_day_ordinal_encoding',\n",
    " 'CO_weather_ordinal_encoding',\n",
    " 'CO_season_ordinal_encoding',\n",
    " 'CO_year_ordinal_encoding',\n",
    " 'CN_type_of_day',\n",
    " 'CN_week_end']"
   ]
  },
  {
   "cell_type": "code",
   "execution_count": 34,
   "metadata": {},
   "outputs": [],
   "source": [
    "df_to_predict = df_to_predict[var_to_keep]"
   ]
  },
  {
   "cell_type": "code",
   "execution_count": 35,
   "metadata": {},
   "outputs": [
    {
     "data": {
      "text/html": [
       "<div>\n",
       "<style scoped>\n",
       "    .dataframe tbody tr th:only-of-type {\n",
       "        vertical-align: middle;\n",
       "    }\n",
       "\n",
       "    .dataframe tbody tr th {\n",
       "        vertical-align: top;\n",
       "    }\n",
       "\n",
       "    .dataframe thead th {\n",
       "        text-align: right;\n",
       "    }\n",
       "</style>\n",
       "<table border=\"1\" class=\"dataframe\">\n",
       "  <thead>\n",
       "    <tr style=\"text-align: right;\">\n",
       "      <th></th>\n",
       "      <th>datetime</th>\n",
       "      <th>CN_school</th>\n",
       "      <th>NO_atemp</th>\n",
       "      <th>NO_humidity</th>\n",
       "      <th>NO_temp</th>\n",
       "      <th>NO_windspeed</th>\n",
       "      <th>NN_soleil</th>\n",
       "      <th>NN_soleil_binned</th>\n",
       "      <th>NN_tendance_1</th>\n",
       "      <th>NN_tendance_2</th>\n",
       "      <th>CO_hour_int</th>\n",
       "      <th>CO_hour_mean_encoding</th>\n",
       "      <th>CO_month_labels_encoding</th>\n",
       "      <th>CO_day_labels_encoding</th>\n",
       "      <th>CO_weather_labels_encoding</th>\n",
       "      <th>CO_season_labels_encoding</th>\n",
       "      <th>CN_type_of_day</th>\n",
       "      <th>CN_week_end</th>\n",
       "    </tr>\n",
       "  </thead>\n",
       "  <tbody>\n",
       "    <tr>\n",
       "      <th>6332</th>\n",
       "      <td>2012-12-25 07:00:00</td>\n",
       "      <td>1</td>\n",
       "      <td>11.365</td>\n",
       "      <td>93</td>\n",
       "      <td>9.02</td>\n",
       "      <td>11.0014</td>\n",
       "      <td>-15.985412</td>\n",
       "      <td>1</td>\n",
       "      <td>1.032695</td>\n",
       "      <td>724</td>\n",
       "      <td>7</td>\n",
       "      <td>0</td>\n",
       "      <td>2</td>\n",
       "      <td>5</td>\n",
       "      <td>1</td>\n",
       "      <td>2</td>\n",
       "      <td>2</td>\n",
       "      <td>0</td>\n",
       "    </tr>\n",
       "    <tr>\n",
       "      <th>1577</th>\n",
       "      <td>2011-07-20 17:00:00</td>\n",
       "      <td>1</td>\n",
       "      <td>41.665</td>\n",
       "      <td>59</td>\n",
       "      <td>34.44</td>\n",
       "      <td>12.9980</td>\n",
       "      <td>38.661414</td>\n",
       "      <td>2</td>\n",
       "      <td>1.045562</td>\n",
       "      <td>200</td>\n",
       "      <td>17</td>\n",
       "      <td>5</td>\n",
       "      <td>5</td>\n",
       "      <td>6</td>\n",
       "      <td>0</td>\n",
       "      <td>0</td>\n",
       "      <td>0</td>\n",
       "      <td>0</td>\n",
       "    </tr>\n",
       "    <tr>\n",
       "      <th>218</th>\n",
       "      <td>2011-01-30 09:00:00</td>\n",
       "      <td>0</td>\n",
       "      <td>11.365</td>\n",
       "      <td>80</td>\n",
       "      <td>6.56</td>\n",
       "      <td>0.0000</td>\n",
       "      <td>6.943291</td>\n",
       "      <td>2</td>\n",
       "      <td>0.920373</td>\n",
       "      <td>29</td>\n",
       "      <td>9</td>\n",
       "      <td>6</td>\n",
       "      <td>4</td>\n",
       "      <td>3</td>\n",
       "      <td>1</td>\n",
       "      <td>2</td>\n",
       "      <td>1</td>\n",
       "      <td>1</td>\n",
       "    </tr>\n",
       "    <tr>\n",
       "      <th>5915</th>\n",
       "      <td>2012-10-30 19:00:00</td>\n",
       "      <td>0</td>\n",
       "      <td>24.240</td>\n",
       "      <td>68</td>\n",
       "      <td>20.50</td>\n",
       "      <td>12.9980</td>\n",
       "      <td>-10.405742</td>\n",
       "      <td>1</td>\n",
       "      <td>0.865714</td>\n",
       "      <td>668</td>\n",
       "      <td>19</td>\n",
       "      <td>7</td>\n",
       "      <td>10</td>\n",
       "      <td>5</td>\n",
       "      <td>1</td>\n",
       "      <td>1</td>\n",
       "      <td>0</td>\n",
       "      <td>0</td>\n",
       "    </tr>\n",
       "    <tr>\n",
       "      <th>3810</th>\n",
       "      <td>2012-03-22 14:00:00</td>\n",
       "      <td>0</td>\n",
       "      <td>29.545</td>\n",
       "      <td>73</td>\n",
       "      <td>24.60</td>\n",
       "      <td>7.0015</td>\n",
       "      <td>50.733348</td>\n",
       "      <td>2</td>\n",
       "      <td>1.037561</td>\n",
       "      <td>446</td>\n",
       "      <td>14</td>\n",
       "      <td>3</td>\n",
       "      <td>7</td>\n",
       "      <td>4</td>\n",
       "      <td>0</td>\n",
       "      <td>3</td>\n",
       "      <td>0</td>\n",
       "      <td>0</td>\n",
       "    </tr>\n",
       "  </tbody>\n",
       "</table>\n",
       "</div>"
      ],
      "text/plain": [
       "                 datetime  CN_school  NO_atemp  NO_humidity  NO_temp  \\\n",
       "6332  2012-12-25 07:00:00          1    11.365           93     9.02   \n",
       "1577  2011-07-20 17:00:00          1    41.665           59    34.44   \n",
       "218   2011-01-30 09:00:00          0    11.365           80     6.56   \n",
       "5915  2012-10-30 19:00:00          0    24.240           68    20.50   \n",
       "3810  2012-03-22 14:00:00          0    29.545           73    24.60   \n",
       "\n",
       "      NO_windspeed  NN_soleil  NN_soleil_binned  NN_tendance_1  NN_tendance_2  \\\n",
       "6332       11.0014 -15.985412                 1       1.032695            724   \n",
       "1577       12.9980  38.661414                 2       1.045562            200   \n",
       "218         0.0000   6.943291                 2       0.920373             29   \n",
       "5915       12.9980 -10.405742                 1       0.865714            668   \n",
       "3810        7.0015  50.733348                 2       1.037561            446   \n",
       "\n",
       "      CO_hour_int  CO_hour_mean_encoding  CO_month_labels_encoding  \\\n",
       "6332            7                      0                         2   \n",
       "1577           17                      5                         5   \n",
       "218             9                      6                         4   \n",
       "5915           19                      7                        10   \n",
       "3810           14                      3                         7   \n",
       "\n",
       "      CO_day_labels_encoding  CO_weather_labels_encoding  \\\n",
       "6332                       5                           1   \n",
       "1577                       6                           0   \n",
       "218                        3                           1   \n",
       "5915                       5                           1   \n",
       "3810                       4                           0   \n",
       "\n",
       "      CO_season_labels_encoding  CN_type_of_day  CN_week_end  \n",
       "6332                          2               2            0  \n",
       "1577                          0               0            0  \n",
       "218                           2               1            1  \n",
       "5915                          1               0            0  \n",
       "3810                          3               0            0  "
      ]
     },
     "execution_count": 35,
     "metadata": {},
     "output_type": "execute_result"
    }
   ],
   "source": [
    "df_to_predict.sample(n=5)"
   ]
  },
  {
   "cell_type": "code",
   "execution_count": 36,
   "metadata": {},
   "outputs": [],
   "source": [
    "# Ajout de la prédiction au dataframe \"df_to_predict\"\n",
    "df_temp = df_to_predict.drop(\"datetime\", axis = 1)\n",
    "log_pred = np.expand_dims(xgb_model.predict(df_temp), axis=1)\n",
    "\n",
    "# print (log_pred)\n",
    "\n",
    "df_to_predict[\"count\"] = list((np.exp(log_pred) - 1)[:,0])\n",
    "# df_to_predict[[\"datetime\", \"count\"]].to_csv(\"../data/submission_to_send/pred_xgboost_labels_encoding_improved.csv\", index= False)\n",
    "# df_to_predict[[\"datetime\", \"count\"]].to_csv(\"../data/submission_to_send/pred_xgboost_ordinal_encoding_improved.csv\", index= False)\n",
    "# df_to_predict[[\"datetime\", \"count\"]].to_csv(\"../data/submission_to_send/pred_xgboost_hour_binned_improved.csv\", index= False)\n",
    "df_to_predict[[\"datetime\", \"count\"]].to_csv(\"../data/submission_to_send/pred_xgboost_all_hour_soleil_binned_without_temp_binned_improved.csv\", index= False)\n"
   ]
  },
  {
   "cell_type": "code",
   "execution_count": null,
   "metadata": {},
   "outputs": [],
   "source": [
    "KAGGLE SCORE A BATTRE = 0.40892"
   ]
  },
  {
   "cell_type": "markdown",
   "metadata": {},
   "source": [
    "### Méthode randomized cross validation \n",
    "Comme cette méthode est très couteuse si on l'utilise systématiquement pour tuner les modèles, on peut faire le choix de l'utiliser seulement<br>\n",
    "lorsqu'un modèle ne donne pas un bon résultat après soumission alors que ce modèle a donné de bons résultats sur le validation set"
   ]
  },
  {
   "cell_type": "code",
   "execution_count": null,
   "metadata": {},
   "outputs": [],
   "source": [
    "# from sklearn.linear_model import Ridge\n",
    "# from sklearn.metrics import mean_squared_error\n",
    "# from sklearn.model_selection import GridSearchCV\n",
    "# from sklearn.model_selection import RandomizedSearchCV"
   ]
  },
  {
   "cell_type": "code",
   "execution_count": 74,
   "metadata": {},
   "outputs": [
    {
     "name": "stderr",
     "output_type": "stream",
     "text": [
      "/home/osboxes/anaconda3/envs/data/lib/python3.6/site-packages/ipykernel_launcher.py:13: SettingWithCopyWarning: \n",
      "A value is trying to be set on a copy of a slice from a DataFrame.\n",
      "Try using .loc[row_indexer,col_indexer] = value instead\n",
      "\n",
      "See the caveats in the documentation: http://pandas.pydata.org/pandas-docs/stable/indexing.html#indexing-view-versus-copy\n",
      "  del sys.path[0]\n"
     ]
    }
   ],
   "source": [
    "# df_for_cv_interaction_and_dummies = pd.read_pickle(\"df_for_cv_o_n_sk_encoded.pkl\")\n",
    "\n",
    "# OU\n",
    "df_for_cv_interaction_and_dummies = pd.read_pickle(\"df_for_cv_interaction_and_dummies.pkl\")\n",
    "\n",
    "all_var_x = [each for each in list(df_for_cv_interaction_and_dummies) if each != \"count\" and each != \"datetime\"]\n",
    "\n",
    "# df_for_cv_interaction_and_dummies.shape\n",
    "X_train = df_for_cv_interaction_and_dummies[all_var_x]\n",
    "Y_train = df_for_cv_interaction_and_dummies[[\"count\"]]\n",
    "\n",
    "# Calcul des Y = log(Y + 1)\n",
    "Y_train['log_count'] = Y_train['count'].map(lambda x: np.log1p(x))\n",
    "Y_train = Y_train.drop(\"count\", axis = 1)"
   ]
  },
  {
   "cell_type": "code",
   "execution_count": 75,
   "metadata": {},
   "outputs": [
    {
     "data": {
      "text/plain": [
       "(10886, 6429)"
      ]
     },
     "execution_count": 75,
     "metadata": {},
     "output_type": "execute_result"
    }
   ],
   "source": [
    "X_train.shape"
   ]
  },
  {
   "cell_type": "code",
   "execution_count": 76,
   "metadata": {},
   "outputs": [],
   "source": [
    "features_names = list(X_train)\n",
    "new_features_names = [re.sub(\"\\[|\\]|\\<|\\>\",'',line) for line in features_names]\n",
    "X_train.columns = new_features_names\n",
    "\n",
    "features_names = list(X_test)\n",
    "new_features_names = [re.sub(\"\\[|\\]|\\<|\\>\",'',line) for line in features_names]\n",
    "X_test.columns = new_features_names"
   ]
  },
  {
   "cell_type": "code",
   "execution_count": 77,
   "metadata": {},
   "outputs": [
    {
     "name": "stdout",
     "output_type": "stream",
     "text": [
      "Fitting 3 folds for each of 85 candidates, totalling 255 fits\n"
     ]
    },
    {
     "name": "stderr",
     "output_type": "stream",
     "text": [
      "[Parallel(n_jobs=2)]: Using backend LokyBackend with 2 concurrent workers.\n"
     ]
    },
    {
     "ename": "KeyboardInterrupt",
     "evalue": "",
     "output_type": "error",
     "traceback": [
      "\u001b[0;31m---------------------------------------------------------------------------\u001b[0m",
      "\u001b[0;31mKeyboardInterrupt\u001b[0m                         Traceback (most recent call last)",
      "\u001b[0;32m<ipython-input-77-c585b2e76478>\u001b[0m in \u001b[0;36m<module>\u001b[0;34m\u001b[0m\n\u001b[1;32m     12\u001b[0m \u001b[0msearch\u001b[0m \u001b[0;34m=\u001b[0m \u001b[0mRandomizedSearchCV\u001b[0m\u001b[0;34m(\u001b[0m\u001b[0mxgb_model\u001b[0m\u001b[0;34m,\u001b[0m \u001b[0mparam_distributions\u001b[0m\u001b[0;34m=\u001b[0m\u001b[0mparams\u001b[0m\u001b[0;34m,\u001b[0m \u001b[0mrandom_state\u001b[0m\u001b[0;34m=\u001b[0m\u001b[0;36m42\u001b[0m\u001b[0;34m,\u001b[0m \u001b[0mn_iter\u001b[0m\u001b[0;34m=\u001b[0m\u001b[0;36m85\u001b[0m\u001b[0;34m,\u001b[0m \u001b[0mcv\u001b[0m\u001b[0;34m=\u001b[0m\u001b[0;36m3\u001b[0m\u001b[0;34m,\u001b[0m \u001b[0mverbose\u001b[0m\u001b[0;34m=\u001b[0m\u001b[0;36m1\u001b[0m\u001b[0;34m,\u001b[0m \u001b[0mn_jobs\u001b[0m\u001b[0;34m=\u001b[0m\u001b[0;36m2\u001b[0m\u001b[0;34m,\u001b[0m \u001b[0mreturn_train_score\u001b[0m\u001b[0;34m=\u001b[0m\u001b[0;32mTrue\u001b[0m\u001b[0;34m)\u001b[0m\u001b[0;34m\u001b[0m\u001b[0;34m\u001b[0m\u001b[0m\n\u001b[1;32m     13\u001b[0m \u001b[0;34m\u001b[0m\u001b[0m\n\u001b[0;32m---> 14\u001b[0;31m \u001b[0msearch\u001b[0m\u001b[0;34m.\u001b[0m\u001b[0mfit\u001b[0m\u001b[0;34m(\u001b[0m\u001b[0mX_train\u001b[0m\u001b[0;34m,\u001b[0m \u001b[0mY_train\u001b[0m\u001b[0;34m)\u001b[0m\u001b[0;34m\u001b[0m\u001b[0;34m\u001b[0m\u001b[0m\n\u001b[0m",
      "\u001b[0;32m~/anaconda3/envs/data/lib/python3.6/site-packages/sklearn/model_selection/_search.py\u001b[0m in \u001b[0;36mfit\u001b[0;34m(self, X, y, groups, **fit_params)\u001b[0m\n\u001b[1;32m    685\u001b[0m                 \u001b[0;32mreturn\u001b[0m \u001b[0mresults\u001b[0m\u001b[0;34m\u001b[0m\u001b[0;34m\u001b[0m\u001b[0m\n\u001b[1;32m    686\u001b[0m \u001b[0;34m\u001b[0m\u001b[0m\n\u001b[0;32m--> 687\u001b[0;31m             \u001b[0mself\u001b[0m\u001b[0;34m.\u001b[0m\u001b[0m_run_search\u001b[0m\u001b[0;34m(\u001b[0m\u001b[0mevaluate_candidates\u001b[0m\u001b[0;34m)\u001b[0m\u001b[0;34m\u001b[0m\u001b[0;34m\u001b[0m\u001b[0m\n\u001b[0m\u001b[1;32m    688\u001b[0m \u001b[0;34m\u001b[0m\u001b[0m\n\u001b[1;32m    689\u001b[0m         \u001b[0;31m# For multi-metric evaluation, store the best_index_, best_params_ and\u001b[0m\u001b[0;34m\u001b[0m\u001b[0;34m\u001b[0m\u001b[0;34m\u001b[0m\u001b[0m\n",
      "\u001b[0;32m~/anaconda3/envs/data/lib/python3.6/site-packages/sklearn/model_selection/_search.py\u001b[0m in \u001b[0;36m_run_search\u001b[0;34m(self, evaluate_candidates)\u001b[0m\n\u001b[1;32m   1466\u001b[0m         evaluate_candidates(ParameterSampler(\n\u001b[1;32m   1467\u001b[0m             \u001b[0mself\u001b[0m\u001b[0;34m.\u001b[0m\u001b[0mparam_distributions\u001b[0m\u001b[0;34m,\u001b[0m \u001b[0mself\u001b[0m\u001b[0;34m.\u001b[0m\u001b[0mn_iter\u001b[0m\u001b[0;34m,\u001b[0m\u001b[0;34m\u001b[0m\u001b[0;34m\u001b[0m\u001b[0m\n\u001b[0;32m-> 1468\u001b[0;31m             random_state=self.random_state))\n\u001b[0m",
      "\u001b[0;32m~/anaconda3/envs/data/lib/python3.6/site-packages/sklearn/model_selection/_search.py\u001b[0m in \u001b[0;36mevaluate_candidates\u001b[0;34m(candidate_params)\u001b[0m\n\u001b[1;32m    664\u001b[0m                                \u001b[0;32mfor\u001b[0m \u001b[0mparameters\u001b[0m\u001b[0;34m,\u001b[0m \u001b[0;34m(\u001b[0m\u001b[0mtrain\u001b[0m\u001b[0;34m,\u001b[0m \u001b[0mtest\u001b[0m\u001b[0;34m)\u001b[0m\u001b[0;34m\u001b[0m\u001b[0;34m\u001b[0m\u001b[0m\n\u001b[1;32m    665\u001b[0m                                in product(candidate_params,\n\u001b[0;32m--> 666\u001b[0;31m                                           cv.split(X, y, groups)))\n\u001b[0m\u001b[1;32m    667\u001b[0m \u001b[0;34m\u001b[0m\u001b[0m\n\u001b[1;32m    668\u001b[0m                 \u001b[0;32mif\u001b[0m \u001b[0mlen\u001b[0m\u001b[0;34m(\u001b[0m\u001b[0mout\u001b[0m\u001b[0;34m)\u001b[0m \u001b[0;34m<\u001b[0m \u001b[0;36m1\u001b[0m\u001b[0;34m:\u001b[0m\u001b[0;34m\u001b[0m\u001b[0;34m\u001b[0m\u001b[0m\n",
      "\u001b[0;32m~/anaconda3/envs/data/lib/python3.6/site-packages/joblib/parallel.py\u001b[0m in \u001b[0;36m__call__\u001b[0;34m(self, iterable)\u001b[0m\n\u001b[1;32m    932\u001b[0m \u001b[0;34m\u001b[0m\u001b[0m\n\u001b[1;32m    933\u001b[0m             \u001b[0;32mwith\u001b[0m \u001b[0mself\u001b[0m\u001b[0;34m.\u001b[0m\u001b[0m_backend\u001b[0m\u001b[0;34m.\u001b[0m\u001b[0mretrieval_context\u001b[0m\u001b[0;34m(\u001b[0m\u001b[0;34m)\u001b[0m\u001b[0;34m:\u001b[0m\u001b[0;34m\u001b[0m\u001b[0;34m\u001b[0m\u001b[0m\n\u001b[0;32m--> 934\u001b[0;31m                 \u001b[0mself\u001b[0m\u001b[0;34m.\u001b[0m\u001b[0mretrieve\u001b[0m\u001b[0;34m(\u001b[0m\u001b[0;34m)\u001b[0m\u001b[0;34m\u001b[0m\u001b[0;34m\u001b[0m\u001b[0m\n\u001b[0m\u001b[1;32m    935\u001b[0m             \u001b[0;31m# Make sure that we get a last message telling us we are done\u001b[0m\u001b[0;34m\u001b[0m\u001b[0;34m\u001b[0m\u001b[0;34m\u001b[0m\u001b[0m\n\u001b[1;32m    936\u001b[0m             \u001b[0melapsed_time\u001b[0m \u001b[0;34m=\u001b[0m \u001b[0mtime\u001b[0m\u001b[0;34m.\u001b[0m\u001b[0mtime\u001b[0m\u001b[0;34m(\u001b[0m\u001b[0;34m)\u001b[0m \u001b[0;34m-\u001b[0m \u001b[0mself\u001b[0m\u001b[0;34m.\u001b[0m\u001b[0m_start_time\u001b[0m\u001b[0;34m\u001b[0m\u001b[0;34m\u001b[0m\u001b[0m\n",
      "\u001b[0;32m~/anaconda3/envs/data/lib/python3.6/site-packages/joblib/parallel.py\u001b[0m in \u001b[0;36mretrieve\u001b[0;34m(self)\u001b[0m\n\u001b[1;32m    831\u001b[0m             \u001b[0;32mtry\u001b[0m\u001b[0;34m:\u001b[0m\u001b[0;34m\u001b[0m\u001b[0;34m\u001b[0m\u001b[0m\n\u001b[1;32m    832\u001b[0m                 \u001b[0;32mif\u001b[0m \u001b[0mgetattr\u001b[0m\u001b[0;34m(\u001b[0m\u001b[0mself\u001b[0m\u001b[0;34m.\u001b[0m\u001b[0m_backend\u001b[0m\u001b[0;34m,\u001b[0m \u001b[0;34m'supports_timeout'\u001b[0m\u001b[0;34m,\u001b[0m \u001b[0;32mFalse\u001b[0m\u001b[0;34m)\u001b[0m\u001b[0;34m:\u001b[0m\u001b[0;34m\u001b[0m\u001b[0;34m\u001b[0m\u001b[0m\n\u001b[0;32m--> 833\u001b[0;31m                     \u001b[0mself\u001b[0m\u001b[0;34m.\u001b[0m\u001b[0m_output\u001b[0m\u001b[0;34m.\u001b[0m\u001b[0mextend\u001b[0m\u001b[0;34m(\u001b[0m\u001b[0mjob\u001b[0m\u001b[0;34m.\u001b[0m\u001b[0mget\u001b[0m\u001b[0;34m(\u001b[0m\u001b[0mtimeout\u001b[0m\u001b[0;34m=\u001b[0m\u001b[0mself\u001b[0m\u001b[0;34m.\u001b[0m\u001b[0mtimeout\u001b[0m\u001b[0;34m)\u001b[0m\u001b[0;34m)\u001b[0m\u001b[0;34m\u001b[0m\u001b[0;34m\u001b[0m\u001b[0m\n\u001b[0m\u001b[1;32m    834\u001b[0m                 \u001b[0;32melse\u001b[0m\u001b[0;34m:\u001b[0m\u001b[0;34m\u001b[0m\u001b[0;34m\u001b[0m\u001b[0m\n\u001b[1;32m    835\u001b[0m                     \u001b[0mself\u001b[0m\u001b[0;34m.\u001b[0m\u001b[0m_output\u001b[0m\u001b[0;34m.\u001b[0m\u001b[0mextend\u001b[0m\u001b[0;34m(\u001b[0m\u001b[0mjob\u001b[0m\u001b[0;34m.\u001b[0m\u001b[0mget\u001b[0m\u001b[0;34m(\u001b[0m\u001b[0;34m)\u001b[0m\u001b[0;34m)\u001b[0m\u001b[0;34m\u001b[0m\u001b[0;34m\u001b[0m\u001b[0m\n",
      "\u001b[0;32m~/anaconda3/envs/data/lib/python3.6/site-packages/joblib/_parallel_backends.py\u001b[0m in \u001b[0;36mwrap_future_result\u001b[0;34m(future, timeout)\u001b[0m\n\u001b[1;32m    519\u001b[0m         AsyncResults.get from multiprocessing.\"\"\"\n\u001b[1;32m    520\u001b[0m         \u001b[0;32mtry\u001b[0m\u001b[0;34m:\u001b[0m\u001b[0;34m\u001b[0m\u001b[0;34m\u001b[0m\u001b[0m\n\u001b[0;32m--> 521\u001b[0;31m             \u001b[0;32mreturn\u001b[0m \u001b[0mfuture\u001b[0m\u001b[0;34m.\u001b[0m\u001b[0mresult\u001b[0m\u001b[0;34m(\u001b[0m\u001b[0mtimeout\u001b[0m\u001b[0;34m=\u001b[0m\u001b[0mtimeout\u001b[0m\u001b[0;34m)\u001b[0m\u001b[0;34m\u001b[0m\u001b[0;34m\u001b[0m\u001b[0m\n\u001b[0m\u001b[1;32m    522\u001b[0m         \u001b[0;32mexcept\u001b[0m \u001b[0mLokyTimeoutError\u001b[0m\u001b[0;34m:\u001b[0m\u001b[0;34m\u001b[0m\u001b[0;34m\u001b[0m\u001b[0m\n\u001b[1;32m    523\u001b[0m             \u001b[0;32mraise\u001b[0m \u001b[0mTimeoutError\u001b[0m\u001b[0;34m(\u001b[0m\u001b[0;34m)\u001b[0m\u001b[0;34m\u001b[0m\u001b[0;34m\u001b[0m\u001b[0m\n",
      "\u001b[0;32m~/anaconda3/envs/data/lib/python3.6/concurrent/futures/_base.py\u001b[0m in \u001b[0;36mresult\u001b[0;34m(self, timeout)\u001b[0m\n\u001b[1;32m    425\u001b[0m                 \u001b[0;32mreturn\u001b[0m \u001b[0mself\u001b[0m\u001b[0;34m.\u001b[0m\u001b[0m__get_result\u001b[0m\u001b[0;34m(\u001b[0m\u001b[0;34m)\u001b[0m\u001b[0;34m\u001b[0m\u001b[0;34m\u001b[0m\u001b[0m\n\u001b[1;32m    426\u001b[0m \u001b[0;34m\u001b[0m\u001b[0m\n\u001b[0;32m--> 427\u001b[0;31m             \u001b[0mself\u001b[0m\u001b[0;34m.\u001b[0m\u001b[0m_condition\u001b[0m\u001b[0;34m.\u001b[0m\u001b[0mwait\u001b[0m\u001b[0;34m(\u001b[0m\u001b[0mtimeout\u001b[0m\u001b[0;34m)\u001b[0m\u001b[0;34m\u001b[0m\u001b[0;34m\u001b[0m\u001b[0m\n\u001b[0m\u001b[1;32m    428\u001b[0m \u001b[0;34m\u001b[0m\u001b[0m\n\u001b[1;32m    429\u001b[0m             \u001b[0;32mif\u001b[0m \u001b[0mself\u001b[0m\u001b[0;34m.\u001b[0m\u001b[0m_state\u001b[0m \u001b[0;32min\u001b[0m \u001b[0;34m[\u001b[0m\u001b[0mCANCELLED\u001b[0m\u001b[0;34m,\u001b[0m \u001b[0mCANCELLED_AND_NOTIFIED\u001b[0m\u001b[0;34m]\u001b[0m\u001b[0;34m:\u001b[0m\u001b[0;34m\u001b[0m\u001b[0;34m\u001b[0m\u001b[0m\n",
      "\u001b[0;32m~/anaconda3/envs/data/lib/python3.6/threading.py\u001b[0m in \u001b[0;36mwait\u001b[0;34m(self, timeout)\u001b[0m\n\u001b[1;32m    293\u001b[0m         \u001b[0;32mtry\u001b[0m\u001b[0;34m:\u001b[0m    \u001b[0;31m# restore state no matter what (e.g., KeyboardInterrupt)\u001b[0m\u001b[0;34m\u001b[0m\u001b[0;34m\u001b[0m\u001b[0m\n\u001b[1;32m    294\u001b[0m             \u001b[0;32mif\u001b[0m \u001b[0mtimeout\u001b[0m \u001b[0;32mis\u001b[0m \u001b[0;32mNone\u001b[0m\u001b[0;34m:\u001b[0m\u001b[0;34m\u001b[0m\u001b[0;34m\u001b[0m\u001b[0m\n\u001b[0;32m--> 295\u001b[0;31m                 \u001b[0mwaiter\u001b[0m\u001b[0;34m.\u001b[0m\u001b[0macquire\u001b[0m\u001b[0;34m(\u001b[0m\u001b[0;34m)\u001b[0m\u001b[0;34m\u001b[0m\u001b[0;34m\u001b[0m\u001b[0m\n\u001b[0m\u001b[1;32m    296\u001b[0m                 \u001b[0mgotit\u001b[0m \u001b[0;34m=\u001b[0m \u001b[0;32mTrue\u001b[0m\u001b[0;34m\u001b[0m\u001b[0;34m\u001b[0m\u001b[0m\n\u001b[1;32m    297\u001b[0m             \u001b[0;32melse\u001b[0m\u001b[0;34m:\u001b[0m\u001b[0;34m\u001b[0m\u001b[0;34m\u001b[0m\u001b[0m\n",
      "\u001b[0;31mKeyboardInterrupt\u001b[0m: "
     ]
    }
   ],
   "source": [
    "params = {\n",
    "    \"colsample_bytree\": uniform(0.3, 0.7),\n",
    "    \"gamma\": uniform(0, 0.5),\n",
    "    \"learning_rate\": uniform(0.03, 0.3), # default 0.1 \n",
    "    \"max_depth\": randint(2, 6), # default 3\n",
    "    \"n_estimators\": randint(100, 150), # default 100\n",
    "    \"subsample\": uniform(0.4, 0.6),  # c'est quoi ?\n",
    "    \"reg_alpha\": uniform(0, 0.05)\n",
    "}\n",
    "\n",
    "# n_iter = 200 avant\n",
    "search = RandomizedSearchCV(xgb_model, param_distributions=params, random_state=42, n_iter=85, cv=3, verbose=1, n_jobs=2, return_train_score=True)\n",
    "\n",
    "search.fit(X_train, Y_train)"
   ]
  },
  {
   "cell_type": "code",
   "execution_count": null,
   "metadata": {},
   "outputs": [],
   "source": []
  }
 ],
 "metadata": {
  "kernelspec": {
   "display_name": "data bike sharing",
   "language": "python",
   "name": "data"
  },
  "language_info": {
   "codemirror_mode": {
    "name": "ipython",
    "version": 3
   },
   "file_extension": ".py",
   "mimetype": "text/x-python",
   "name": "python",
   "nbconvert_exporter": "python",
   "pygments_lexer": "ipython3",
   "version": "3.6.8"
  }
 },
 "nbformat": 4,
 "nbformat_minor": 4
}
