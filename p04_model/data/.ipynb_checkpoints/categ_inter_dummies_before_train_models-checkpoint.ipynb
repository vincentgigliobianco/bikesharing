{
 "cells": [
  {
   "cell_type": "markdown",
   "metadata": {},
   "source": [
    "### L'objet est du Notebook est d'utiliser en entrée les données provenant de RStudio\n",
    "#### Création des interactions d'ordre 2 pour les variables catégorielles\n",
    "#### Création des dummy variables pour toutes les variables catégorielles obtenus<br>\n",
    "Les .csv ont été créés grâce au programme \"maestro.R\" dans \"/proj/bikesharing/p02_features\""
   ]
  },
  {
   "cell_type": "code",
   "execution_count": 8,
   "metadata": {},
   "outputs": [
    {
     "name": "stderr",
     "output_type": "stream",
     "text": [
      "/home/osboxes/anaconda3/envs/data/lib/python3.6/site-packages/ipykernel_launcher.py:16: FutureWarning: Sorting because non-concatenation axis is not aligned. A future version\n",
      "of pandas will change to not sort by default.\n",
      "\n",
      "To accept the future behavior, pass 'sort=False'.\n",
      "\n",
      "To retain the current behavior and silence the warning, pass 'sort=True'.\n",
      "\n",
      "  app.launch_new_instance()\n"
     ]
    }
   ],
   "source": [
    "import pandas as pd\n",
    "\n",
    "from sklearn.model_selection import train_test_split\n",
    "# from sklearn.preprocessing import PolynomialFeatures\n",
    "from itertools import combinations\n",
    "\n",
    "# On charge les .csv générés grâce à \"maestro.R\"  dans RStudio \n",
    "df_train_kaggle = pd.read_csv(\"train.csv\")\n",
    "df_test_kaggle = pd.read_csv(\"test.csv\")\n",
    "\n",
    "# Le dataset de \"test\" de Kaggle ne contient pas la variable \"count\"\n",
    "# On supprime donc la colonne \"count\" pour le dataset \"train\"\n",
    "df_train_kaggle = df_train_kaggle.drop(\"count\", axis = 1)\n",
    "\n",
    "# Et on concatène les données \n",
    "df = pd.concat([df_train_kaggle,df_test_kaggle])"
   ]
  },
  {
   "cell_type": "code",
   "execution_count": 9,
   "metadata": {},
   "outputs": [
    {
     "data": {
      "text/plain": [
       "['CN_school',\n",
       " 'CN_soleilQ',\n",
       " 'CN_tendance_1Q',\n",
       " 'CN_tendance_2Q',\n",
       " 'CO_atempQ',\n",
       " 'CO_day',\n",
       " 'CO_holiday',\n",
       " 'CO_hour',\n",
       " 'CO_humidityQ',\n",
       " 'CO_month',\n",
       " 'CO_season',\n",
       " 'CO_tempQ',\n",
       " 'CO_weather',\n",
       " 'CO_windspeedQ',\n",
       " 'CO_workingday',\n",
       " 'CO_year',\n",
       " 'NN_soleil',\n",
       " 'NN_tendance_1',\n",
       " 'NN_tendance_2',\n",
       " 'NO_atemp',\n",
       " 'NO_humidity',\n",
       " 'NO_temp',\n",
       " 'NO_windspeed',\n",
       " 'S_casual',\n",
       " 'S_casualQ',\n",
       " 'S_rateregis',\n",
       " 'S_rateregisQ',\n",
       " 'S_registered',\n",
       " 'S_registeredQ',\n",
       " 'datetime']"
      ]
     },
     "execution_count": 9,
     "metadata": {},
     "output_type": "execute_result"
    }
   ],
   "source": [
    "list(df)"
   ]
  },
  {
   "cell_type": "code",
   "execution_count": 2,
   "metadata": {},
   "outputs": [],
   "source": [
    "all_categorical_o = [name_var for name_var in list(df) if name_var[0:2] == 'CO'] \n",
    "all_numeric_o = [name_var for name_var in list(df) if name_var[0:2] == 'NO'] \n",
    "all_categorical_o"
   ]
  },
  {
   "cell_type": "code",
   "execution_count": 4,
   "metadata": {},
   "outputs": [
    {
     "data": {
      "text/plain": [
       "['NO_atemp', 'NO_humidity', 'NO_temp', 'NO_windspeed']"
      ]
     },
     "execution_count": 4,
     "metadata": {},
     "output_type": "execute_result"
    }
   ],
   "source": [
    "all_numeric_o"
   ]
  },
  {
   "cell_type": "markdown",
   "metadata": {},
   "source": [
    "### I Création du dataset des variables \"Origin\""
   ]
  },
  {
   "cell_type": "markdown",
   "metadata": {},
   "source": [
    "On passe en dummies les catégorielles"
   ]
  },
  {
   "cell_type": "code",
   "execution_count": 7,
   "metadata": {},
   "outputs": [
    {
     "data": {
      "text/plain": [
       "['CO_atempQ',\n",
       " 'CO_day',\n",
       " 'CO_holiday',\n",
       " 'CO_hour',\n",
       " 'CO_humidityQ',\n",
       " 'CO_month',\n",
       " 'CO_season',\n",
       " 'CO_tempQ',\n",
       " 'CO_weather',\n",
       " 'CO_windspeedQ',\n",
       " 'CO_workingday',\n",
       " 'CO_year']"
      ]
     },
     "execution_count": 7,
     "metadata": {},
     "output_type": "execute_result"
    }
   ],
   "source": [
    "all_categorical_o"
   ]
  },
  {
   "cell_type": "code",
   "execution_count": 10,
   "metadata": {},
   "outputs": [
    {
     "data": {
      "text/plain": [
       "['CN_school',\n",
       " 'CN_soleilQ',\n",
       " 'CN_tendance_1Q',\n",
       " 'CN_tendance_2Q',\n",
       " 'CO_atempQ',\n",
       " 'CO_day',\n",
       " 'CO_holiday',\n",
       " 'CO_hour',\n",
       " 'CO_humidityQ',\n",
       " 'CO_month',\n",
       " 'CO_season',\n",
       " 'CO_tempQ',\n",
       " 'CO_weather',\n",
       " 'CO_windspeedQ',\n",
       " 'CO_workingday',\n",
       " 'CO_year',\n",
       " 'NN_soleil',\n",
       " 'NN_tendance_1',\n",
       " 'NN_tendance_2',\n",
       " 'NO_atemp',\n",
       " 'NO_humidity',\n",
       " 'NO_temp',\n",
       " 'NO_windspeed',\n",
       " 'S_casual',\n",
       " 'S_casualQ',\n",
       " 'S_rateregis',\n",
       " 'S_rateregisQ',\n",
       " 'S_registered',\n",
       " 'S_registeredQ',\n",
       " 'datetime']"
      ]
     },
     "execution_count": 10,
     "metadata": {},
     "output_type": "execute_result"
    }
   ],
   "source": [
    "list(df)"
   ]
  },
  {
   "cell_type": "code",
   "execution_count": 6,
   "metadata": {},
   "outputs": [],
   "source": [
    "# df[all_categorical_o].dtypes"
   ]
  },
  {
   "cell_type": "code",
   "execution_count": 40,
   "metadata": {},
   "outputs": [],
   "source": [
    "# df_all_categorical_o = df[all_categorical_o].applymap(str)"
   ]
  },
  {
   "cell_type": "code",
   "execution_count": 41,
   "metadata": {},
   "outputs": [],
   "source": [
    "# df_all_categorical_o.dtypes"
   ]
  },
  {
   "cell_type": "code",
   "execution_count": 42,
   "metadata": {},
   "outputs": [
    {
     "data": {
      "text/html": [
       "<div>\n",
       "<style scoped>\n",
       "    .dataframe tbody tr th:only-of-type {\n",
       "        vertical-align: middle;\n",
       "    }\n",
       "\n",
       "    .dataframe tbody tr th {\n",
       "        vertical-align: top;\n",
       "    }\n",
       "\n",
       "    .dataframe thead th {\n",
       "        text-align: right;\n",
       "    }\n",
       "</style>\n",
       "<table border=\"1\" class=\"dataframe\">\n",
       "  <thead>\n",
       "    <tr style=\"text-align: right;\">\n",
       "      <th></th>\n",
       "      <th>CO_workingday</th>\n",
       "      <th>CO_hour</th>\n",
       "      <th>CO_year</th>\n",
       "      <th>CO_holiday</th>\n",
       "    </tr>\n",
       "  </thead>\n",
       "  <tbody>\n",
       "    <tr>\n",
       "      <th>count</th>\n",
       "      <td>10886.000000</td>\n",
       "      <td>10886.000000</td>\n",
       "      <td>10886.000000</td>\n",
       "      <td>10886.000000</td>\n",
       "    </tr>\n",
       "    <tr>\n",
       "      <th>mean</th>\n",
       "      <td>0.680875</td>\n",
       "      <td>11.541613</td>\n",
       "      <td>2011.501929</td>\n",
       "      <td>0.028569</td>\n",
       "    </tr>\n",
       "    <tr>\n",
       "      <th>std</th>\n",
       "      <td>0.466159</td>\n",
       "      <td>6.915838</td>\n",
       "      <td>0.500019</td>\n",
       "      <td>0.166599</td>\n",
       "    </tr>\n",
       "    <tr>\n",
       "      <th>min</th>\n",
       "      <td>0.000000</td>\n",
       "      <td>0.000000</td>\n",
       "      <td>2011.000000</td>\n",
       "      <td>0.000000</td>\n",
       "    </tr>\n",
       "    <tr>\n",
       "      <th>25%</th>\n",
       "      <td>0.000000</td>\n",
       "      <td>6.000000</td>\n",
       "      <td>2011.000000</td>\n",
       "      <td>0.000000</td>\n",
       "    </tr>\n",
       "    <tr>\n",
       "      <th>50%</th>\n",
       "      <td>1.000000</td>\n",
       "      <td>12.000000</td>\n",
       "      <td>2012.000000</td>\n",
       "      <td>0.000000</td>\n",
       "    </tr>\n",
       "    <tr>\n",
       "      <th>75%</th>\n",
       "      <td>1.000000</td>\n",
       "      <td>18.000000</td>\n",
       "      <td>2012.000000</td>\n",
       "      <td>0.000000</td>\n",
       "    </tr>\n",
       "    <tr>\n",
       "      <th>max</th>\n",
       "      <td>1.000000</td>\n",
       "      <td>23.000000</td>\n",
       "      <td>2012.000000</td>\n",
       "      <td>1.000000</td>\n",
       "    </tr>\n",
       "  </tbody>\n",
       "</table>\n",
       "</div>"
      ],
      "text/plain": [
       "       CO_workingday       CO_hour       CO_year    CO_holiday\n",
       "count   10886.000000  10886.000000  10886.000000  10886.000000\n",
       "mean        0.680875     11.541613   2011.501929      0.028569\n",
       "std         0.466159      6.915838      0.500019      0.166599\n",
       "min         0.000000      0.000000   2011.000000      0.000000\n",
       "25%         0.000000      6.000000   2011.000000      0.000000\n",
       "50%         1.000000     12.000000   2012.000000      0.000000\n",
       "75%         1.000000     18.000000   2012.000000      0.000000\n",
       "max         1.000000     23.000000   2012.000000      1.000000"
      ]
     },
     "execution_count": 42,
     "metadata": {},
     "output_type": "execute_result"
    }
   ],
   "source": [
    "df[all_categorical_o].describe()"
   ]
  },
  {
   "cell_type": "code",
   "execution_count": 43,
   "metadata": {},
   "outputs": [],
   "source": [
    "df['CO_hour_new'] = df['CO_hour'].map(lambda x: str(x))\n",
    "df = df.drop('CO_hour', axis=1)\n",
    "df = df.rename(columns={'CO_hour_new': 'CO_hour'})\n",
    "\n",
    "df['CO_year_new'] = df['CO_year'].map(lambda x: str(x))\n",
    "df = df.drop('CO_year', axis=1)\n",
    "df = df.rename(columns={'CO_year_new': 'CO_year'})"
   ]
  },
  {
   "cell_type": "code",
   "execution_count": 44,
   "metadata": {},
   "outputs": [
    {
     "data": {
      "text/html": [
       "<div>\n",
       "<style scoped>\n",
       "    .dataframe tbody tr th:only-of-type {\n",
       "        vertical-align: middle;\n",
       "    }\n",
       "\n",
       "    .dataframe tbody tr th {\n",
       "        vertical-align: top;\n",
       "    }\n",
       "\n",
       "    .dataframe thead th {\n",
       "        text-align: right;\n",
       "    }\n",
       "</style>\n",
       "<table border=\"1\" class=\"dataframe\">\n",
       "  <thead>\n",
       "    <tr style=\"text-align: right;\">\n",
       "      <th></th>\n",
       "      <th>CO_workingday</th>\n",
       "      <th>CO_holiday</th>\n",
       "    </tr>\n",
       "  </thead>\n",
       "  <tbody>\n",
       "    <tr>\n",
       "      <th>count</th>\n",
       "      <td>10886.000000</td>\n",
       "      <td>10886.000000</td>\n",
       "    </tr>\n",
       "    <tr>\n",
       "      <th>mean</th>\n",
       "      <td>0.680875</td>\n",
       "      <td>0.028569</td>\n",
       "    </tr>\n",
       "    <tr>\n",
       "      <th>std</th>\n",
       "      <td>0.466159</td>\n",
       "      <td>0.166599</td>\n",
       "    </tr>\n",
       "    <tr>\n",
       "      <th>min</th>\n",
       "      <td>0.000000</td>\n",
       "      <td>0.000000</td>\n",
       "    </tr>\n",
       "    <tr>\n",
       "      <th>25%</th>\n",
       "      <td>0.000000</td>\n",
       "      <td>0.000000</td>\n",
       "    </tr>\n",
       "    <tr>\n",
       "      <th>50%</th>\n",
       "      <td>1.000000</td>\n",
       "      <td>0.000000</td>\n",
       "    </tr>\n",
       "    <tr>\n",
       "      <th>75%</th>\n",
       "      <td>1.000000</td>\n",
       "      <td>0.000000</td>\n",
       "    </tr>\n",
       "    <tr>\n",
       "      <th>max</th>\n",
       "      <td>1.000000</td>\n",
       "      <td>1.000000</td>\n",
       "    </tr>\n",
       "  </tbody>\n",
       "</table>\n",
       "</div>"
      ],
      "text/plain": [
       "       CO_workingday    CO_holiday\n",
       "count   10886.000000  10886.000000\n",
       "mean        0.680875      0.028569\n",
       "std         0.466159      0.166599\n",
       "min         0.000000      0.000000\n",
       "25%         0.000000      0.000000\n",
       "50%         1.000000      0.000000\n",
       "75%         1.000000      0.000000\n",
       "max         1.000000      1.000000"
      ]
     },
     "execution_count": 44,
     "metadata": {},
     "output_type": "execute_result"
    }
   ],
   "source": [
    "df[all_categorical_o].describe()"
   ]
  },
  {
   "cell_type": "code",
   "execution_count": 46,
   "metadata": {},
   "outputs": [],
   "source": [
    "# Transformation de toutes les variables catégorielles:\n",
    "df_all_dummies_o = pd.get_dummies(df[all_categorical_o])"
   ]
  },
  {
   "cell_type": "code",
   "execution_count": 47,
   "metadata": {},
   "outputs": [
    {
     "data": {
      "text/plain": [
       "(10886, 71)"
      ]
     },
     "execution_count": 47,
     "metadata": {},
     "output_type": "execute_result"
    }
   ],
   "source": [
    "df_all_dummies_o.shape\n",
    "# (10886, 47)"
   ]
  },
  {
   "cell_type": "code",
   "execution_count": 48,
   "metadata": {},
   "outputs": [
    {
     "data": {
      "text/plain": [
       "['CO_workingday',\n",
       " 'CO_holiday',\n",
       " 'CO_month_April',\n",
       " 'CO_month_August',\n",
       " 'CO_month_December',\n",
       " 'CO_month_February',\n",
       " 'CO_month_January',\n",
       " 'CO_month_July',\n",
       " 'CO_month_June',\n",
       " 'CO_month_March',\n",
       " 'CO_month_May',\n",
       " 'CO_month_November',\n",
       " 'CO_month_October',\n",
       " 'CO_month_September',\n",
       " 'CO_hour_0',\n",
       " 'CO_hour_1',\n",
       " 'CO_hour_10',\n",
       " 'CO_hour_11',\n",
       " 'CO_hour_12',\n",
       " 'CO_hour_13',\n",
       " 'CO_hour_14',\n",
       " 'CO_hour_15',\n",
       " 'CO_hour_16',\n",
       " 'CO_hour_17',\n",
       " 'CO_hour_18',\n",
       " 'CO_hour_19',\n",
       " 'CO_hour_2',\n",
       " 'CO_hour_20',\n",
       " 'CO_hour_21',\n",
       " 'CO_hour_22',\n",
       " 'CO_hour_23',\n",
       " 'CO_hour_3',\n",
       " 'CO_hour_4',\n",
       " 'CO_hour_5',\n",
       " 'CO_hour_6',\n",
       " 'CO_hour_7',\n",
       " 'CO_hour_8',\n",
       " 'CO_hour_9',\n",
       " 'CO_day_Friday',\n",
       " 'CO_day_Monday',\n",
       " 'CO_day_Saturday',\n",
       " 'CO_day_Sunday',\n",
       " 'CO_day_Thursday',\n",
       " 'CO_day_Tuesday',\n",
       " 'CO_day_Wednesday',\n",
       " 'CO_year_2011',\n",
       " 'CO_year_2012',\n",
       " 'CO_season_Automne',\n",
       " 'CO_season_Hiver',\n",
       " 'CO_season_Printemps',\n",
       " 'CO_season_Été',\n",
       " 'CO_weather_Beau temps',\n",
       " 'CO_weather_Nuageux',\n",
       " 'CO_weather_Pluvieux (+)',\n",
       " 'CO_weather_Pluvieux (-)',\n",
       " 'CO_humidityQ_(47,62]',\n",
       " 'CO_humidityQ_(62,77]',\n",
       " 'CO_humidityQ_(77,100]',\n",
       " 'CO_humidityQ_[0,47]',\n",
       " 'CO_tempQ_(13.9,20.5]',\n",
       " 'CO_tempQ_(20.5,26.2]',\n",
       " 'CO_tempQ_(26.2,41]',\n",
       " 'CO_tempQ_[0.82,13.9]',\n",
       " 'CO_atempQ_(16.7,24.2]',\n",
       " 'CO_atempQ_(24.2,31.1]',\n",
       " 'CO_atempQ_(31.1,45.5]',\n",
       " 'CO_atempQ_[0.76,16.7]',\n",
       " 'CO_windspeedQ_(13,17]',\n",
       " 'CO_windspeedQ_(17,57]',\n",
       " 'CO_windspeedQ_(7,13]',\n",
       " 'CO_windspeedQ_[0,7]']"
      ]
     },
     "execution_count": 48,
     "metadata": {},
     "output_type": "execute_result"
    }
   ],
   "source": [
    "list(df_all_dummies_o)"
   ]
  },
  {
   "cell_type": "code",
   "execution_count": 49,
   "metadata": {},
   "outputs": [],
   "source": [
    "df_numeric_and_categorical_o = pd.concat([df[[\"datetime\"]], df[all_numeric_o], df_all_dummies_o], axis = 1)\n",
    "list_var_clean_X = [var for var in list(df_numeric_and_categorical_o) if var != \"count\" and var != \"datetime\"]\n",
    "clean_X = df_numeric_and_categorical_o[list_var_clean_X]\n",
    "clean_Y = df[[\"count\"]]\n",
    "\n",
    "X_train, X_test, Y_train, Y_test = train_test_split(clean_X,\n",
    "                                                    clean_Y,\n",
    "                                                    test_size = 0.3,\n",
    "                                                    random_state = 0)"
   ]
  },
  {
   "cell_type": "code",
   "execution_count": 50,
   "metadata": {},
   "outputs": [
    {
     "data": {
      "text/plain": [
       "75"
      ]
     },
     "execution_count": 50,
     "metadata": {},
     "output_type": "execute_result"
    }
   ],
   "source": [
    "len(list(X_train))"
   ]
  },
  {
   "cell_type": "code",
   "execution_count": 51,
   "metadata": {},
   "outputs": [],
   "source": [
    "X_train.to_pickle(\"X_train_o.pkl\")\n",
    "X_test.to_pickle(\"X_test_o.pkl\")\n",
    "Y_train.to_pickle(\"Y_train_o.pkl\")\n",
    "Y_test.to_pickle(\"Y_test_o.pkl\")"
   ]
  },
  {
   "cell_type": "markdown",
   "metadata": {},
   "source": [
    "II Création d'un dataset avec les variables Origin et New et interactions entre catégorielles d'ordre 2<br>\n",
    "On peut aussi ajouter les interactions entre variables numériques "
   ]
  },
  {
   "cell_type": "markdown",
   "metadata": {},
   "source": [
    "On prend toutes les variables \"CO\", \"NO\", \"NN\" et \"CN\""
   ]
  },
  {
   "cell_type": "code",
   "execution_count": 83,
   "metadata": {},
   "outputs": [
    {
     "name": "stderr",
     "output_type": "stream",
     "text": [
      "/home/osboxes/anaconda3/envs/data/lib/python3.6/site-packages/ipykernel_launcher.py:11: FutureWarning: Sorting because non-concatenation axis is not aligned. A future version\n",
      "of pandas will change to not sort by default.\n",
      "\n",
      "To accept the future behavior, pass 'sort=False'.\n",
      "\n",
      "To retain the current behavior and silence the warning, pass 'sort=True'.\n",
      "\n",
      "  # This is added back by InteractiveShellApp.init_path()\n"
     ]
    }
   ],
   "source": [
    "import pandas as pd\n",
    "\n",
    "from sklearn.model_selection import train_test_split\n",
    "# from sklearn.preprocessing import PolynomialFeatures\n",
    "from itertools import combinations\n",
    "\n",
    "df_train_kaggle = pd.read_csv(\"train.csv\")\n",
    "df_test_kaggle = pd.read_csv(\"test.csv\")\n",
    "\n",
    "df_train_kaggle_without_y = df_train_kaggle.drop(\"count\", axis = 1)\n",
    "df = pd.concat([df_train_kaggle_without_y,df_test_kaggle])"
   ]
  },
  {
   "cell_type": "code",
   "execution_count": 47,
   "metadata": {},
   "outputs": [],
   "source": [
    "# all_origin_var_and_new = [name_var for name_var in list(df) if name_var[0:2] == 'CO' or name_var[0:2] == 'NO' or name_var[0:2] == 'NN' or name_var[0:2] == 'CN']\n",
    "all_categorical = [name_var for name_var in list(df) if name_var[0:1] == 'C'] \n"
   ]
  },
  {
   "cell_type": "code",
   "execution_count": 48,
   "metadata": {},
   "outputs": [
    {
     "data": {
      "text/plain": [
       "16"
      ]
     },
     "execution_count": 48,
     "metadata": {},
     "output_type": "execute_result"
    }
   ],
   "source": [
    "len(all_categorical)"
   ]
  },
  {
   "cell_type": "code",
   "execution_count": 6,
   "metadata": {},
   "outputs": [
    {
     "data": {
      "text/plain": [
       "CO_month          object\n",
       "CO_workingday      int64\n",
       "CO_hour            int64\n",
       "CO_day            object\n",
       "CO_year            int64\n",
       "CO_season         object\n",
       "CO_weather        object\n",
       "CO_humidityQ      object\n",
       "CO_tempQ          object\n",
       "CO_atempQ         object\n",
       "CO_windspeedQ     object\n",
       "CO_holiday         int64\n",
       "CN_school          int64\n",
       "CN_soleilQ        object\n",
       "CN_tendance_1Q    object\n",
       "CN_tendance_2Q    object\n",
       "dtype: object"
      ]
     },
     "execution_count": 6,
     "metadata": {},
     "output_type": "execute_result"
    }
   ],
   "source": [
    "df[all_categorical].dtypes"
   ]
  },
  {
   "cell_type": "code",
   "execution_count": 7,
   "metadata": {},
   "outputs": [
    {
     "data": {
      "text/plain": [
       "['CO_month',\n",
       " 'CO_workingday',\n",
       " 'CO_hour',\n",
       " 'CO_day',\n",
       " 'CO_year',\n",
       " 'CO_season',\n",
       " 'CO_weather',\n",
       " 'CO_humidityQ',\n",
       " 'CO_tempQ',\n",
       " 'CO_atempQ',\n",
       " 'CO_windspeedQ',\n",
       " 'CO_holiday',\n",
       " 'CN_school',\n",
       " 'CN_soleilQ',\n",
       " 'CN_tendance_1Q',\n",
       " 'CN_tendance_2Q']"
      ]
     },
     "execution_count": 7,
     "metadata": {},
     "output_type": "execute_result"
    }
   ],
   "source": [
    "all_categorical"
   ]
  },
  {
   "cell_type": "code",
   "execution_count": 49,
   "metadata": {},
   "outputs": [],
   "source": [
    "df_all_categorical = df[all_categorical].applymap(str)\n",
    "# df_all_categorical.dtypes"
   ]
  },
  {
   "cell_type": "code",
   "execution_count": 9,
   "metadata": {},
   "outputs": [
    {
     "data": {
      "text/plain": [
       "(10886, 16)"
      ]
     },
     "execution_count": 9,
     "metadata": {},
     "output_type": "execute_result"
    }
   ],
   "source": [
    "df_all_categorical.shape"
   ]
  },
  {
   "cell_type": "code",
   "execution_count": 10,
   "metadata": {},
   "outputs": [
    {
     "data": {
      "text/plain": [
       "['CO_month',\n",
       " 'datetime',\n",
       " 'CO_workingday',\n",
       " 'NO_temp',\n",
       " 'NO_atemp',\n",
       " 'NO_humidity',\n",
       " 'NO_windspeed',\n",
       " 'S_casual',\n",
       " 'S_registered',\n",
       " 'count',\n",
       " 'CO_hour',\n",
       " 'CO_day',\n",
       " 'CO_year',\n",
       " 'CO_season',\n",
       " 'CO_weather',\n",
       " 'CO_humidityQ',\n",
       " 'CO_tempQ',\n",
       " 'CO_atempQ',\n",
       " 'CO_windspeedQ',\n",
       " 'S_casualQ',\n",
       " 'S_registeredQ',\n",
       " 'CO_holiday',\n",
       " 'CN_school',\n",
       " 'NN_soleil',\n",
       " 'CN_soleilQ',\n",
       " 'NN_tendance_1',\n",
       " 'NN_tendance_2',\n",
       " 'CN_tendance_1Q',\n",
       " 'CN_tendance_2Q',\n",
       " 'S_rateregis',\n",
       " 'S_rateregisQ']"
      ]
     },
     "execution_count": 10,
     "metadata": {},
     "output_type": "execute_result"
    }
   ],
   "source": [
    "list(df)"
   ]
  },
  {
   "cell_type": "code",
   "execution_count": 12,
   "metadata": {},
   "outputs": [],
   "source": [
    "# all_origin_var_and_new"
   ]
  },
  {
   "cell_type": "code",
   "execution_count": 109,
   "metadata": {},
   "outputs": [],
   "source": [
    "# df_all_categorical = df[all_categorical].applymap(str)\n",
    "# df_all_categorical.dtypes"
   ]
  },
  {
   "cell_type": "markdown",
   "metadata": {},
   "source": [
    "Ajout des interactions d'ordre 2 entre variables catégorielles "
   ]
  },
  {
   "cell_type": "code",
   "execution_count": 110,
   "metadata": {},
   "outputs": [],
   "source": [
    "# df[all_categorical].head()"
   ]
  },
  {
   "cell_type": "code",
   "execution_count": 50,
   "metadata": {},
   "outputs": [],
   "source": [
    "# def interaction_order(df,list_of_categ_var, order, only_ordre):\n",
    "def interaction_order(df,list_of_categ_var, order):\n",
    "    \n",
    "    initial_list_df = list_of_categ_var\n",
    "    print (list(df))\n",
    "\n",
    "    # if only_ordre == True:\n",
    "    all_interactions = list(combinations(list_of_categ_var,order))\n",
    "\n",
    "    # print (\"Nb d'interactions\", len(all_interactions))\n",
    "    # print (\"Interaction entre : \", all_interactions)\n",
    "\n",
    "    for i in range(0, len(all_interactions)):\n",
    "        # all_inter_variables = []\n",
    "        # print (list(all_interactions[i]))\n",
    "\n",
    "        for each in list(all_interactions[i]):\n",
    "            # New columns of interaction\n",
    "            for each in range(0,order):\n",
    "\n",
    "                # Name of interaction variables\n",
    "                # var_inter_name = 'inter_' + str(i)\n",
    "                \n",
    "                var_inter_name = \"_+_\".join(list(all_interactions[i]))\n",
    "\n",
    "                # df[var_inter_name] = df[list(all_interactions[i])[0]] + '_' + df[list(all_interactions[i])[1]]\n",
    "                if each == 0:\n",
    "                    # print (\"each\", each)\n",
    "                    \n",
    "                    # print (var_inter_name)\n",
    "                    df[var_inter_name] = df[list(all_interactions[i])[each]]\n",
    "                else:\n",
    "                    df[var_inter_name] = df[var_inter_name] + '_' + df[list(all_interactions[i])[each]]\n",
    "\n",
    "                # all_inter_variables.append(var_inter_name)\n",
    "                # print (all_inter_variables)\n",
    "\n",
    "    # Keep only interaction variables in the dataframe\n",
    "    # print (initial_list_df)\n",
    "    df = df.drop(initial_list_df, axis=1)\n",
    "    # df = df[all_inter_variables]\n",
    "    return df"
   ]
  },
  {
   "cell_type": "code",
   "execution_count": 14,
   "metadata": {},
   "outputs": [
    {
     "data": {
      "text/plain": [
       "(10886, 31)"
      ]
     },
     "execution_count": 14,
     "metadata": {},
     "output_type": "execute_result"
    }
   ],
   "source": [
    "df.shape"
   ]
  },
  {
   "cell_type": "code",
   "execution_count": 15,
   "metadata": {},
   "outputs": [
    {
     "data": {
      "text/plain": [
       "['CO_month',\n",
       " 'CO_workingday',\n",
       " 'CO_hour',\n",
       " 'CO_day',\n",
       " 'CO_year',\n",
       " 'CO_season',\n",
       " 'CO_weather',\n",
       " 'CO_humidityQ',\n",
       " 'CO_tempQ',\n",
       " 'CO_atempQ',\n",
       " 'CO_windspeedQ',\n",
       " 'CO_holiday',\n",
       " 'CN_school',\n",
       " 'CN_soleilQ',\n",
       " 'CN_tendance_1Q',\n",
       " 'CN_tendance_2Q']"
      ]
     },
     "execution_count": 15,
     "metadata": {},
     "output_type": "execute_result"
    }
   ],
   "source": [
    "all_categorical"
   ]
  },
  {
   "cell_type": "code",
   "execution_count": 16,
   "metadata": {},
   "outputs": [
    {
     "data": {
      "text/plain": [
       "16"
      ]
     },
     "execution_count": 16,
     "metadata": {},
     "output_type": "execute_result"
    }
   ],
   "source": [
    "len(all_categorical)"
   ]
  },
  {
   "cell_type": "code",
   "execution_count": 51,
   "metadata": {},
   "outputs": [
    {
     "name": "stdout",
     "output_type": "stream",
     "text": [
      "['CN_school', 'CN_soleilQ', 'CN_tendance_1Q', 'CN_tendance_2Q', 'CO_atempQ', 'CO_day', 'CO_holiday', 'CO_hour', 'CO_humidityQ', 'CO_month', 'CO_season', 'CO_tempQ', 'CO_weather', 'CO_windspeedQ', 'CO_workingday', 'CO_year']\n"
     ]
    }
   ],
   "source": [
    "list_of_categ_var = all_categorical\n",
    "df_with_interaction = interaction_order(df_all_categorical,list_of_categ_var, 2)"
   ]
  },
  {
   "cell_type": "code",
   "execution_count": 29,
   "metadata": {},
   "outputs": [
    {
     "data": {
      "text/plain": [
       "['CO_month_+_CO_workingday',\n",
       " 'CO_month_+_CO_hour',\n",
       " 'CO_month_+_CO_day',\n",
       " 'CO_month_+_CO_year',\n",
       " 'CO_month_+_CO_season',\n",
       " 'CO_month_+_CO_weather',\n",
       " 'CO_month_+_CO_humidityQ',\n",
       " 'CO_month_+_CO_tempQ',\n",
       " 'CO_month_+_CO_atempQ',\n",
       " 'CO_month_+_CO_windspeedQ',\n",
       " 'CO_month_+_CO_holiday',\n",
       " 'CO_month_+_CN_school',\n",
       " 'CO_month_+_CN_soleilQ',\n",
       " 'CO_month_+_CN_tendance_1Q',\n",
       " 'CO_month_+_CN_tendance_2Q',\n",
       " 'CO_workingday_+_CO_hour',\n",
       " 'CO_workingday_+_CO_day',\n",
       " 'CO_workingday_+_CO_year',\n",
       " 'CO_workingday_+_CO_season',\n",
       " 'CO_workingday_+_CO_weather',\n",
       " 'CO_workingday_+_CO_humidityQ',\n",
       " 'CO_workingday_+_CO_tempQ',\n",
       " 'CO_workingday_+_CO_atempQ',\n",
       " 'CO_workingday_+_CO_windspeedQ',\n",
       " 'CO_workingday_+_CO_holiday',\n",
       " 'CO_workingday_+_CN_school',\n",
       " 'CO_workingday_+_CN_soleilQ',\n",
       " 'CO_workingday_+_CN_tendance_1Q',\n",
       " 'CO_workingday_+_CN_tendance_2Q',\n",
       " 'CO_hour_+_CO_day',\n",
       " 'CO_hour_+_CO_year',\n",
       " 'CO_hour_+_CO_season',\n",
       " 'CO_hour_+_CO_weather',\n",
       " 'CO_hour_+_CO_humidityQ',\n",
       " 'CO_hour_+_CO_tempQ',\n",
       " 'CO_hour_+_CO_atempQ',\n",
       " 'CO_hour_+_CO_windspeedQ',\n",
       " 'CO_hour_+_CO_holiday',\n",
       " 'CO_hour_+_CN_school',\n",
       " 'CO_hour_+_CN_soleilQ',\n",
       " 'CO_hour_+_CN_tendance_1Q',\n",
       " 'CO_hour_+_CN_tendance_2Q',\n",
       " 'CO_day_+_CO_year',\n",
       " 'CO_day_+_CO_season',\n",
       " 'CO_day_+_CO_weather',\n",
       " 'CO_day_+_CO_humidityQ',\n",
       " 'CO_day_+_CO_tempQ',\n",
       " 'CO_day_+_CO_atempQ',\n",
       " 'CO_day_+_CO_windspeedQ',\n",
       " 'CO_day_+_CO_holiday',\n",
       " 'CO_day_+_CN_school',\n",
       " 'CO_day_+_CN_soleilQ',\n",
       " 'CO_day_+_CN_tendance_1Q',\n",
       " 'CO_day_+_CN_tendance_2Q',\n",
       " 'CO_year_+_CO_season',\n",
       " 'CO_year_+_CO_weather',\n",
       " 'CO_year_+_CO_humidityQ',\n",
       " 'CO_year_+_CO_tempQ',\n",
       " 'CO_year_+_CO_atempQ',\n",
       " 'CO_year_+_CO_windspeedQ',\n",
       " 'CO_year_+_CO_holiday',\n",
       " 'CO_year_+_CN_school',\n",
       " 'CO_year_+_CN_soleilQ',\n",
       " 'CO_year_+_CN_tendance_1Q',\n",
       " 'CO_year_+_CN_tendance_2Q',\n",
       " 'CO_season_+_CO_weather',\n",
       " 'CO_season_+_CO_humidityQ',\n",
       " 'CO_season_+_CO_tempQ',\n",
       " 'CO_season_+_CO_atempQ',\n",
       " 'CO_season_+_CO_windspeedQ',\n",
       " 'CO_season_+_CO_holiday',\n",
       " 'CO_season_+_CN_school',\n",
       " 'CO_season_+_CN_soleilQ',\n",
       " 'CO_season_+_CN_tendance_1Q',\n",
       " 'CO_season_+_CN_tendance_2Q',\n",
       " 'CO_weather_+_CO_humidityQ',\n",
       " 'CO_weather_+_CO_tempQ',\n",
       " 'CO_weather_+_CO_atempQ',\n",
       " 'CO_weather_+_CO_windspeedQ',\n",
       " 'CO_weather_+_CO_holiday',\n",
       " 'CO_weather_+_CN_school',\n",
       " 'CO_weather_+_CN_soleilQ',\n",
       " 'CO_weather_+_CN_tendance_1Q',\n",
       " 'CO_weather_+_CN_tendance_2Q',\n",
       " 'CO_humidityQ_+_CO_tempQ',\n",
       " 'CO_humidityQ_+_CO_atempQ',\n",
       " 'CO_humidityQ_+_CO_windspeedQ',\n",
       " 'CO_humidityQ_+_CO_holiday',\n",
       " 'CO_humidityQ_+_CN_school',\n",
       " 'CO_humidityQ_+_CN_soleilQ',\n",
       " 'CO_humidityQ_+_CN_tendance_1Q',\n",
       " 'CO_humidityQ_+_CN_tendance_2Q',\n",
       " 'CO_tempQ_+_CO_atempQ',\n",
       " 'CO_tempQ_+_CO_windspeedQ',\n",
       " 'CO_tempQ_+_CO_holiday',\n",
       " 'CO_tempQ_+_CN_school',\n",
       " 'CO_tempQ_+_CN_soleilQ',\n",
       " 'CO_tempQ_+_CN_tendance_1Q',\n",
       " 'CO_tempQ_+_CN_tendance_2Q',\n",
       " 'CO_atempQ_+_CO_windspeedQ',\n",
       " 'CO_atempQ_+_CO_holiday',\n",
       " 'CO_atempQ_+_CN_school',\n",
       " 'CO_atempQ_+_CN_soleilQ',\n",
       " 'CO_atempQ_+_CN_tendance_1Q',\n",
       " 'CO_atempQ_+_CN_tendance_2Q',\n",
       " 'CO_windspeedQ_+_CO_holiday',\n",
       " 'CO_windspeedQ_+_CN_school',\n",
       " 'CO_windspeedQ_+_CN_soleilQ',\n",
       " 'CO_windspeedQ_+_CN_tendance_1Q',\n",
       " 'CO_windspeedQ_+_CN_tendance_2Q',\n",
       " 'CO_holiday_+_CN_school',\n",
       " 'CO_holiday_+_CN_soleilQ',\n",
       " 'CO_holiday_+_CN_tendance_1Q',\n",
       " 'CO_holiday_+_CN_tendance_2Q',\n",
       " 'CN_school_+_CN_soleilQ',\n",
       " 'CN_school_+_CN_tendance_1Q',\n",
       " 'CN_school_+_CN_tendance_2Q',\n",
       " 'CN_soleilQ_+_CN_tendance_1Q',\n",
       " 'CN_soleilQ_+_CN_tendance_2Q',\n",
       " 'CN_tendance_1Q_+_CN_tendance_2Q']"
      ]
     },
     "execution_count": 29,
     "metadata": {},
     "output_type": "execute_result"
    }
   ],
   "source": [
    "list(df_with_interaction)"
   ]
  },
  {
   "cell_type": "code",
   "execution_count": 18,
   "metadata": {},
   "outputs": [
    {
     "data": {
      "text/html": [
       "<div>\n",
       "<style scoped>\n",
       "    .dataframe tbody tr th:only-of-type {\n",
       "        vertical-align: middle;\n",
       "    }\n",
       "\n",
       "    .dataframe tbody tr th {\n",
       "        vertical-align: top;\n",
       "    }\n",
       "\n",
       "    .dataframe thead th {\n",
       "        text-align: right;\n",
       "    }\n",
       "</style>\n",
       "<table border=\"1\" class=\"dataframe\">\n",
       "  <thead>\n",
       "    <tr style=\"text-align: right;\">\n",
       "      <th></th>\n",
       "      <th>CO_month_+_CO_workingday</th>\n",
       "      <th>CO_month_+_CO_hour</th>\n",
       "      <th>CO_month_+_CO_day</th>\n",
       "      <th>CO_month_+_CO_year</th>\n",
       "      <th>CO_month_+_CO_season</th>\n",
       "      <th>CO_month_+_CO_weather</th>\n",
       "      <th>CO_month_+_CO_humidityQ</th>\n",
       "      <th>CO_month_+_CO_tempQ</th>\n",
       "      <th>CO_month_+_CO_atempQ</th>\n",
       "      <th>CO_month_+_CO_windspeedQ</th>\n",
       "      <th>...</th>\n",
       "      <th>CO_holiday_+_CN_school</th>\n",
       "      <th>CO_holiday_+_CN_soleilQ</th>\n",
       "      <th>CO_holiday_+_CN_tendance_1Q</th>\n",
       "      <th>CO_holiday_+_CN_tendance_2Q</th>\n",
       "      <th>CN_school_+_CN_soleilQ</th>\n",
       "      <th>CN_school_+_CN_tendance_1Q</th>\n",
       "      <th>CN_school_+_CN_tendance_2Q</th>\n",
       "      <th>CN_soleilQ_+_CN_tendance_1Q</th>\n",
       "      <th>CN_soleilQ_+_CN_tendance_2Q</th>\n",
       "      <th>CN_tendance_1Q_+_CN_tendance_2Q</th>\n",
       "    </tr>\n",
       "  </thead>\n",
       "  <tbody>\n",
       "    <tr>\n",
       "      <th>0</th>\n",
       "      <td>January_0</td>\n",
       "      <td>January_0</td>\n",
       "      <td>January_Saturday</td>\n",
       "      <td>January_2011</td>\n",
       "      <td>January_Printemps</td>\n",
       "      <td>January_Beau temps</td>\n",
       "      <td>January_(77,100]</td>\n",
       "      <td>January_[0.82,13.9]</td>\n",
       "      <td>January_[0.76,16.7]</td>\n",
       "      <td>January_[0,7]</td>\n",
       "      <td>...</td>\n",
       "      <td>1_0</td>\n",
       "      <td>1_[-74.5,-28]</td>\n",
       "      <td>1_[0.409,0.432]</td>\n",
       "      <td>1_[0,67]</td>\n",
       "      <td>0_[-74.5,-28]</td>\n",
       "      <td>0_[0.409,0.432]</td>\n",
       "      <td>0_[0,67]</td>\n",
       "      <td>[-74.5,-28]_[0.409,0.432]</td>\n",
       "      <td>[-74.5,-28]_[0,67]</td>\n",
       "      <td>[0.409,0.432]_[0,67]</td>\n",
       "    </tr>\n",
       "    <tr>\n",
       "      <th>1</th>\n",
       "      <td>January_0</td>\n",
       "      <td>January_1</td>\n",
       "      <td>January_Saturday</td>\n",
       "      <td>January_2011</td>\n",
       "      <td>January_Printemps</td>\n",
       "      <td>January_Beau temps</td>\n",
       "      <td>January_(77,100]</td>\n",
       "      <td>January_[0.82,13.9]</td>\n",
       "      <td>January_[0.76,16.7]</td>\n",
       "      <td>January_[0,7]</td>\n",
       "      <td>...</td>\n",
       "      <td>1_0</td>\n",
       "      <td>1_[-74.5,-28]</td>\n",
       "      <td>1_[0.409,0.432]</td>\n",
       "      <td>1_[0,67]</td>\n",
       "      <td>0_[-74.5,-28]</td>\n",
       "      <td>0_[0.409,0.432]</td>\n",
       "      <td>0_[0,67]</td>\n",
       "      <td>[-74.5,-28]_[0.409,0.432]</td>\n",
       "      <td>[-74.5,-28]_[0,67]</td>\n",
       "      <td>[0.409,0.432]_[0,67]</td>\n",
       "    </tr>\n",
       "    <tr>\n",
       "      <th>2</th>\n",
       "      <td>January_0</td>\n",
       "      <td>January_2</td>\n",
       "      <td>January_Saturday</td>\n",
       "      <td>January_2011</td>\n",
       "      <td>January_Printemps</td>\n",
       "      <td>January_Beau temps</td>\n",
       "      <td>January_(77,100]</td>\n",
       "      <td>January_[0.82,13.9]</td>\n",
       "      <td>January_[0.76,16.7]</td>\n",
       "      <td>January_[0,7]</td>\n",
       "      <td>...</td>\n",
       "      <td>1_0</td>\n",
       "      <td>1_[-74.5,-28]</td>\n",
       "      <td>1_[0.409,0.432]</td>\n",
       "      <td>1_[0,67]</td>\n",
       "      <td>0_[-74.5,-28]</td>\n",
       "      <td>0_[0.409,0.432]</td>\n",
       "      <td>0_[0,67]</td>\n",
       "      <td>[-74.5,-28]_[0.409,0.432]</td>\n",
       "      <td>[-74.5,-28]_[0,67]</td>\n",
       "      <td>[0.409,0.432]_[0,67]</td>\n",
       "    </tr>\n",
       "    <tr>\n",
       "      <th>3</th>\n",
       "      <td>January_0</td>\n",
       "      <td>January_3</td>\n",
       "      <td>January_Saturday</td>\n",
       "      <td>January_2011</td>\n",
       "      <td>January_Printemps</td>\n",
       "      <td>January_Beau temps</td>\n",
       "      <td>January_(62,77]</td>\n",
       "      <td>January_[0.82,13.9]</td>\n",
       "      <td>January_[0.76,16.7]</td>\n",
       "      <td>January_[0,7]</td>\n",
       "      <td>...</td>\n",
       "      <td>1_0</td>\n",
       "      <td>1_[-74.5,-28]</td>\n",
       "      <td>1_[0.409,0.432]</td>\n",
       "      <td>1_[0,67]</td>\n",
       "      <td>0_[-74.5,-28]</td>\n",
       "      <td>0_[0.409,0.432]</td>\n",
       "      <td>0_[0,67]</td>\n",
       "      <td>[-74.5,-28]_[0.409,0.432]</td>\n",
       "      <td>[-74.5,-28]_[0,67]</td>\n",
       "      <td>[0.409,0.432]_[0,67]</td>\n",
       "    </tr>\n",
       "    <tr>\n",
       "      <th>4</th>\n",
       "      <td>January_0</td>\n",
       "      <td>January_4</td>\n",
       "      <td>January_Saturday</td>\n",
       "      <td>January_2011</td>\n",
       "      <td>January_Printemps</td>\n",
       "      <td>January_Beau temps</td>\n",
       "      <td>January_(62,77]</td>\n",
       "      <td>January_[0.82,13.9]</td>\n",
       "      <td>January_[0.76,16.7]</td>\n",
       "      <td>January_[0,7]</td>\n",
       "      <td>...</td>\n",
       "      <td>1_0</td>\n",
       "      <td>1_[-74.5,-28]</td>\n",
       "      <td>1_[0.409,0.432]</td>\n",
       "      <td>1_[0,67]</td>\n",
       "      <td>0_[-74.5,-28]</td>\n",
       "      <td>0_[0.409,0.432]</td>\n",
       "      <td>0_[0,67]</td>\n",
       "      <td>[-74.5,-28]_[0.409,0.432]</td>\n",
       "      <td>[-74.5,-28]_[0,67]</td>\n",
       "      <td>[0.409,0.432]_[0,67]</td>\n",
       "    </tr>\n",
       "  </tbody>\n",
       "</table>\n",
       "<p>5 rows × 120 columns</p>\n",
       "</div>"
      ],
      "text/plain": [
       "  CO_month_+_CO_workingday CO_month_+_CO_hour CO_month_+_CO_day  \\\n",
       "0                January_0          January_0  January_Saturday   \n",
       "1                January_0          January_1  January_Saturday   \n",
       "2                January_0          January_2  January_Saturday   \n",
       "3                January_0          January_3  January_Saturday   \n",
       "4                January_0          January_4  January_Saturday   \n",
       "\n",
       "  CO_month_+_CO_year CO_month_+_CO_season CO_month_+_CO_weather  \\\n",
       "0       January_2011    January_Printemps    January_Beau temps   \n",
       "1       January_2011    January_Printemps    January_Beau temps   \n",
       "2       January_2011    January_Printemps    January_Beau temps   \n",
       "3       January_2011    January_Printemps    January_Beau temps   \n",
       "4       January_2011    January_Printemps    January_Beau temps   \n",
       "\n",
       "  CO_month_+_CO_humidityQ  CO_month_+_CO_tempQ CO_month_+_CO_atempQ  \\\n",
       "0        January_(77,100]  January_[0.82,13.9]  January_[0.76,16.7]   \n",
       "1        January_(77,100]  January_[0.82,13.9]  January_[0.76,16.7]   \n",
       "2        January_(77,100]  January_[0.82,13.9]  January_[0.76,16.7]   \n",
       "3         January_(62,77]  January_[0.82,13.9]  January_[0.76,16.7]   \n",
       "4         January_(62,77]  January_[0.82,13.9]  January_[0.76,16.7]   \n",
       "\n",
       "  CO_month_+_CO_windspeedQ  ... CO_holiday_+_CN_school  \\\n",
       "0            January_[0,7]  ...                    1_0   \n",
       "1            January_[0,7]  ...                    1_0   \n",
       "2            January_[0,7]  ...                    1_0   \n",
       "3            January_[0,7]  ...                    1_0   \n",
       "4            January_[0,7]  ...                    1_0   \n",
       "\n",
       "  CO_holiday_+_CN_soleilQ CO_holiday_+_CN_tendance_1Q  \\\n",
       "0           1_[-74.5,-28]             1_[0.409,0.432]   \n",
       "1           1_[-74.5,-28]             1_[0.409,0.432]   \n",
       "2           1_[-74.5,-28]             1_[0.409,0.432]   \n",
       "3           1_[-74.5,-28]             1_[0.409,0.432]   \n",
       "4           1_[-74.5,-28]             1_[0.409,0.432]   \n",
       "\n",
       "  CO_holiday_+_CN_tendance_2Q CN_school_+_CN_soleilQ  \\\n",
       "0                    1_[0,67]          0_[-74.5,-28]   \n",
       "1                    1_[0,67]          0_[-74.5,-28]   \n",
       "2                    1_[0,67]          0_[-74.5,-28]   \n",
       "3                    1_[0,67]          0_[-74.5,-28]   \n",
       "4                    1_[0,67]          0_[-74.5,-28]   \n",
       "\n",
       "  CN_school_+_CN_tendance_1Q CN_school_+_CN_tendance_2Q  \\\n",
       "0            0_[0.409,0.432]                   0_[0,67]   \n",
       "1            0_[0.409,0.432]                   0_[0,67]   \n",
       "2            0_[0.409,0.432]                   0_[0,67]   \n",
       "3            0_[0.409,0.432]                   0_[0,67]   \n",
       "4            0_[0.409,0.432]                   0_[0,67]   \n",
       "\n",
       "  CN_soleilQ_+_CN_tendance_1Q CN_soleilQ_+_CN_tendance_2Q  \\\n",
       "0   [-74.5,-28]_[0.409,0.432]          [-74.5,-28]_[0,67]   \n",
       "1   [-74.5,-28]_[0.409,0.432]          [-74.5,-28]_[0,67]   \n",
       "2   [-74.5,-28]_[0.409,0.432]          [-74.5,-28]_[0,67]   \n",
       "3   [-74.5,-28]_[0.409,0.432]          [-74.5,-28]_[0,67]   \n",
       "4   [-74.5,-28]_[0.409,0.432]          [-74.5,-28]_[0,67]   \n",
       "\n",
       "  CN_tendance_1Q_+_CN_tendance_2Q  \n",
       "0            [0.409,0.432]_[0,67]  \n",
       "1            [0.409,0.432]_[0,67]  \n",
       "2            [0.409,0.432]_[0,67]  \n",
       "3            [0.409,0.432]_[0,67]  \n",
       "4            [0.409,0.432]_[0,67]  \n",
       "\n",
       "[5 rows x 120 columns]"
      ]
     },
     "execution_count": 18,
     "metadata": {},
     "output_type": "execute_result"
    }
   ],
   "source": [
    "df_with_interaction.head()"
   ]
  },
  {
   "cell_type": "code",
   "execution_count": 117,
   "metadata": {},
   "outputs": [
    {
     "data": {
      "text/plain": [
       "['CO_month_+_CO_workingday',\n",
       " 'CO_month_+_CO_hour',\n",
       " 'CO_month_+_CO_day',\n",
       " 'CO_month_+_CO_year',\n",
       " 'CO_month_+_CO_season',\n",
       " 'CO_month_+_CO_weather',\n",
       " 'CO_month_+_CO_humidityQ',\n",
       " 'CO_month_+_CO_tempQ',\n",
       " 'CO_month_+_CO_atempQ',\n",
       " 'CO_month_+_CO_windspeedQ',\n",
       " 'CO_month_+_CO_holiday',\n",
       " 'CO_month_+_CN_school',\n",
       " 'CO_month_+_CN_soleilQ',\n",
       " 'CO_month_+_CN_tendance_1Q',\n",
       " 'CO_month_+_CN_tendance_2Q',\n",
       " 'CO_workingday_+_CO_hour',\n",
       " 'CO_workingday_+_CO_day',\n",
       " 'CO_workingday_+_CO_year',\n",
       " 'CO_workingday_+_CO_season',\n",
       " 'CO_workingday_+_CO_weather',\n",
       " 'CO_workingday_+_CO_humidityQ',\n",
       " 'CO_workingday_+_CO_tempQ',\n",
       " 'CO_workingday_+_CO_atempQ',\n",
       " 'CO_workingday_+_CO_windspeedQ',\n",
       " 'CO_workingday_+_CO_holiday',\n",
       " 'CO_workingday_+_CN_school',\n",
       " 'CO_workingday_+_CN_soleilQ',\n",
       " 'CO_workingday_+_CN_tendance_1Q',\n",
       " 'CO_workingday_+_CN_tendance_2Q',\n",
       " 'CO_hour_+_CO_day',\n",
       " 'CO_hour_+_CO_year',\n",
       " 'CO_hour_+_CO_season',\n",
       " 'CO_hour_+_CO_weather',\n",
       " 'CO_hour_+_CO_humidityQ',\n",
       " 'CO_hour_+_CO_tempQ',\n",
       " 'CO_hour_+_CO_atempQ',\n",
       " 'CO_hour_+_CO_windspeedQ',\n",
       " 'CO_hour_+_CO_holiday',\n",
       " 'CO_hour_+_CN_school',\n",
       " 'CO_hour_+_CN_soleilQ',\n",
       " 'CO_hour_+_CN_tendance_1Q',\n",
       " 'CO_hour_+_CN_tendance_2Q',\n",
       " 'CO_day_+_CO_year',\n",
       " 'CO_day_+_CO_season',\n",
       " 'CO_day_+_CO_weather',\n",
       " 'CO_day_+_CO_humidityQ',\n",
       " 'CO_day_+_CO_tempQ',\n",
       " 'CO_day_+_CO_atempQ',\n",
       " 'CO_day_+_CO_windspeedQ',\n",
       " 'CO_day_+_CO_holiday',\n",
       " 'CO_day_+_CN_school',\n",
       " 'CO_day_+_CN_soleilQ',\n",
       " 'CO_day_+_CN_tendance_1Q',\n",
       " 'CO_day_+_CN_tendance_2Q',\n",
       " 'CO_year_+_CO_season',\n",
       " 'CO_year_+_CO_weather',\n",
       " 'CO_year_+_CO_humidityQ',\n",
       " 'CO_year_+_CO_tempQ',\n",
       " 'CO_year_+_CO_atempQ',\n",
       " 'CO_year_+_CO_windspeedQ',\n",
       " 'CO_year_+_CO_holiday',\n",
       " 'CO_year_+_CN_school',\n",
       " 'CO_year_+_CN_soleilQ',\n",
       " 'CO_year_+_CN_tendance_1Q',\n",
       " 'CO_year_+_CN_tendance_2Q',\n",
       " 'CO_season_+_CO_weather',\n",
       " 'CO_season_+_CO_humidityQ',\n",
       " 'CO_season_+_CO_tempQ',\n",
       " 'CO_season_+_CO_atempQ',\n",
       " 'CO_season_+_CO_windspeedQ',\n",
       " 'CO_season_+_CO_holiday',\n",
       " 'CO_season_+_CN_school',\n",
       " 'CO_season_+_CN_soleilQ',\n",
       " 'CO_season_+_CN_tendance_1Q',\n",
       " 'CO_season_+_CN_tendance_2Q',\n",
       " 'CO_weather_+_CO_humidityQ',\n",
       " 'CO_weather_+_CO_tempQ',\n",
       " 'CO_weather_+_CO_atempQ',\n",
       " 'CO_weather_+_CO_windspeedQ',\n",
       " 'CO_weather_+_CO_holiday',\n",
       " 'CO_weather_+_CN_school',\n",
       " 'CO_weather_+_CN_soleilQ',\n",
       " 'CO_weather_+_CN_tendance_1Q',\n",
       " 'CO_weather_+_CN_tendance_2Q',\n",
       " 'CO_humidityQ_+_CO_tempQ',\n",
       " 'CO_humidityQ_+_CO_atempQ',\n",
       " 'CO_humidityQ_+_CO_windspeedQ',\n",
       " 'CO_humidityQ_+_CO_holiday',\n",
       " 'CO_humidityQ_+_CN_school',\n",
       " 'CO_humidityQ_+_CN_soleilQ',\n",
       " 'CO_humidityQ_+_CN_tendance_1Q',\n",
       " 'CO_humidityQ_+_CN_tendance_2Q',\n",
       " 'CO_tempQ_+_CO_atempQ',\n",
       " 'CO_tempQ_+_CO_windspeedQ',\n",
       " 'CO_tempQ_+_CO_holiday',\n",
       " 'CO_tempQ_+_CN_school',\n",
       " 'CO_tempQ_+_CN_soleilQ',\n",
       " 'CO_tempQ_+_CN_tendance_1Q',\n",
       " 'CO_tempQ_+_CN_tendance_2Q',\n",
       " 'CO_atempQ_+_CO_windspeedQ',\n",
       " 'CO_atempQ_+_CO_holiday',\n",
       " 'CO_atempQ_+_CN_school',\n",
       " 'CO_atempQ_+_CN_soleilQ',\n",
       " 'CO_atempQ_+_CN_tendance_1Q',\n",
       " 'CO_atempQ_+_CN_tendance_2Q',\n",
       " 'CO_windspeedQ_+_CO_holiday',\n",
       " 'CO_windspeedQ_+_CN_school',\n",
       " 'CO_windspeedQ_+_CN_soleilQ',\n",
       " 'CO_windspeedQ_+_CN_tendance_1Q',\n",
       " 'CO_windspeedQ_+_CN_tendance_2Q',\n",
       " 'CO_holiday_+_CN_school',\n",
       " 'CO_holiday_+_CN_soleilQ',\n",
       " 'CO_holiday_+_CN_tendance_1Q',\n",
       " 'CO_holiday_+_CN_tendance_2Q',\n",
       " 'CN_school_+_CN_soleilQ',\n",
       " 'CN_school_+_CN_tendance_1Q',\n",
       " 'CN_school_+_CN_tendance_2Q',\n",
       " 'CN_soleilQ_+_CN_tendance_1Q',\n",
       " 'CN_soleilQ_+_CN_tendance_2Q',\n",
       " 'CN_tendance_1Q_+_CN_tendance_2Q']"
      ]
     },
     "execution_count": 117,
     "metadata": {},
     "output_type": "execute_result"
    }
   ],
   "source": [
    "list(df_with_interaction)"
   ]
  },
  {
   "cell_type": "code",
   "execution_count": 118,
   "metadata": {},
   "outputs": [],
   "source": [
    "# len(all_origin_var_and_new)"
   ]
  },
  {
   "cell_type": "code",
   "execution_count": 119,
   "metadata": {},
   "outputs": [
    {
     "data": {
      "text/plain": [
       "['CO_month_+_CO_workingday',\n",
       " 'CO_month_+_CO_hour',\n",
       " 'CO_month_+_CO_day',\n",
       " 'CO_month_+_CO_year',\n",
       " 'CO_month_+_CO_season']"
      ]
     },
     "execution_count": 119,
     "metadata": {},
     "output_type": "execute_result"
    }
   ],
   "source": [
    "# len(list(df_with_interaction))\n",
    "list(df_with_interaction)[0:5]"
   ]
  },
  {
   "cell_type": "code",
   "execution_count": 120,
   "metadata": {},
   "outputs": [
    {
     "data": {
      "text/html": [
       "<div>\n",
       "<style scoped>\n",
       "    .dataframe tbody tr th:only-of-type {\n",
       "        vertical-align: middle;\n",
       "    }\n",
       "\n",
       "    .dataframe tbody tr th {\n",
       "        vertical-align: top;\n",
       "    }\n",
       "\n",
       "    .dataframe thead th {\n",
       "        text-align: right;\n",
       "    }\n",
       "</style>\n",
       "<table border=\"1\" class=\"dataframe\">\n",
       "  <thead>\n",
       "    <tr style=\"text-align: right;\">\n",
       "      <th></th>\n",
       "      <th>CO_month_+_CO_season</th>\n",
       "    </tr>\n",
       "  </thead>\n",
       "  <tbody>\n",
       "    <tr>\n",
       "      <th>0</th>\n",
       "      <td>January_Printemps</td>\n",
       "    </tr>\n",
       "    <tr>\n",
       "      <th>1</th>\n",
       "      <td>January_Printemps</td>\n",
       "    </tr>\n",
       "    <tr>\n",
       "      <th>2</th>\n",
       "      <td>January_Printemps</td>\n",
       "    </tr>\n",
       "    <tr>\n",
       "      <th>3</th>\n",
       "      <td>January_Printemps</td>\n",
       "    </tr>\n",
       "    <tr>\n",
       "      <th>4</th>\n",
       "      <td>January_Printemps</td>\n",
       "    </tr>\n",
       "  </tbody>\n",
       "</table>\n",
       "</div>"
      ],
      "text/plain": [
       "  CO_month_+_CO_season\n",
       "0    January_Printemps\n",
       "1    January_Printemps\n",
       "2    January_Printemps\n",
       "3    January_Printemps\n",
       "4    January_Printemps"
      ]
     },
     "execution_count": 120,
     "metadata": {},
     "output_type": "execute_result"
    }
   ],
   "source": [
    "df_with_interaction[[\"CO_month_+_CO_season\"]].head()"
   ]
  },
  {
   "cell_type": "code",
   "execution_count": 121,
   "metadata": {},
   "outputs": [],
   "source": [
    "# all_categorical_new = all_categorical + list(df_with_interaction)"
   ]
  },
  {
   "cell_type": "code",
   "execution_count": 122,
   "metadata": {},
   "outputs": [
    {
     "data": {
      "text/plain": [
       "(10886, 120)"
      ]
     },
     "execution_count": 122,
     "metadata": {},
     "output_type": "execute_result"
    }
   ],
   "source": [
    "df_with_interaction.shape"
   ]
  },
  {
   "cell_type": "code",
   "execution_count": 123,
   "metadata": {},
   "outputs": [
    {
     "data": {
      "text/plain": [
       "(10886, 136)"
      ]
     },
     "execution_count": 123,
     "metadata": {},
     "output_type": "execute_result"
    }
   ],
   "source": [
    "df_all_categorical.shape"
   ]
  },
  {
   "cell_type": "code",
   "execution_count": 127,
   "metadata": {},
   "outputs": [
    {
     "data": {
      "text/plain": [
       "(10886, 16)"
      ]
     },
     "execution_count": 127,
     "metadata": {},
     "output_type": "execute_result"
    }
   ],
   "source": [
    "df[all_categorical].shape"
   ]
  },
  {
   "cell_type": "code",
   "execution_count": 53,
   "metadata": {},
   "outputs": [],
   "source": [
    "# A RELANCER AU CAS OU\n",
    "df_all_categorical = df[all_categorical].applymap(str)\n",
    "df_with_interaction = df_with_interaction.applymap(str)"
   ]
  },
  {
   "cell_type": "code",
   "execution_count": 54,
   "metadata": {},
   "outputs": [],
   "source": [
    "df_before_dummies = pd.concat([df_all_categorical,df_with_interaction], axis = 1)"
   ]
  },
  {
   "cell_type": "code",
   "execution_count": 55,
   "metadata": {},
   "outputs": [
    {
     "data": {
      "text/plain": [
       "(17379, 136)"
      ]
     },
     "execution_count": 55,
     "metadata": {},
     "output_type": "execute_result"
    }
   ],
   "source": [
    "df_before_dummies.shape"
   ]
  },
  {
   "cell_type": "code",
   "execution_count": 56,
   "metadata": {},
   "outputs": [
    {
     "data": {
      "text/html": [
       "<div>\n",
       "<style scoped>\n",
       "    .dataframe tbody tr th:only-of-type {\n",
       "        vertical-align: middle;\n",
       "    }\n",
       "\n",
       "    .dataframe tbody tr th {\n",
       "        vertical-align: top;\n",
       "    }\n",
       "\n",
       "    .dataframe thead th {\n",
       "        text-align: right;\n",
       "    }\n",
       "</style>\n",
       "<table border=\"1\" class=\"dataframe\">\n",
       "  <thead>\n",
       "    <tr style=\"text-align: right;\">\n",
       "      <th></th>\n",
       "      <th>CN_school</th>\n",
       "      <th>CN_soleilQ</th>\n",
       "      <th>CN_tendance_1Q</th>\n",
       "      <th>CN_tendance_2Q</th>\n",
       "      <th>CO_atempQ</th>\n",
       "      <th>CO_day</th>\n",
       "      <th>CO_holiday</th>\n",
       "      <th>CO_hour</th>\n",
       "      <th>CO_humidityQ</th>\n",
       "      <th>CO_month</th>\n",
       "      <th>...</th>\n",
       "      <th>CO_tempQ_+_CO_weather</th>\n",
       "      <th>CO_tempQ_+_CO_windspeedQ</th>\n",
       "      <th>CO_tempQ_+_CO_workingday</th>\n",
       "      <th>CO_tempQ_+_CO_year</th>\n",
       "      <th>CO_weather_+_CO_windspeedQ</th>\n",
       "      <th>CO_weather_+_CO_workingday</th>\n",
       "      <th>CO_weather_+_CO_year</th>\n",
       "      <th>CO_windspeedQ_+_CO_workingday</th>\n",
       "      <th>CO_windspeedQ_+_CO_year</th>\n",
       "      <th>CO_workingday_+_CO_year</th>\n",
       "    </tr>\n",
       "  </thead>\n",
       "  <tbody>\n",
       "    <tr>\n",
       "      <th>0</th>\n",
       "      <td>0</td>\n",
       "      <td>[-74.5,-28]</td>\n",
       "      <td>[0.409,0.432]</td>\n",
       "      <td>[0,67]</td>\n",
       "      <td>[0.76,16.7]</td>\n",
       "      <td>Saturday</td>\n",
       "      <td>1</td>\n",
       "      <td>0</td>\n",
       "      <td>(77,100]</td>\n",
       "      <td>January</td>\n",
       "      <td>...</td>\n",
       "      <td>[0.82,13.9]_Beau temps</td>\n",
       "      <td>[0.82,13.9]_[0,7]</td>\n",
       "      <td>[0.82,13.9]_0</td>\n",
       "      <td>[0.82,13.9]_2011</td>\n",
       "      <td>Beau temps_[0,7]</td>\n",
       "      <td>Beau temps_0</td>\n",
       "      <td>Beau temps_2011</td>\n",
       "      <td>[0,7]_0</td>\n",
       "      <td>[0,7]_2011</td>\n",
       "      <td>0_2011</td>\n",
       "    </tr>\n",
       "    <tr>\n",
       "      <th>1</th>\n",
       "      <td>0</td>\n",
       "      <td>[-74.5,-28]</td>\n",
       "      <td>[0.409,0.432]</td>\n",
       "      <td>[0,67]</td>\n",
       "      <td>[0.76,16.7]</td>\n",
       "      <td>Saturday</td>\n",
       "      <td>1</td>\n",
       "      <td>1</td>\n",
       "      <td>(77,100]</td>\n",
       "      <td>January</td>\n",
       "      <td>...</td>\n",
       "      <td>[0.82,13.9]_Beau temps</td>\n",
       "      <td>[0.82,13.9]_[0,7]</td>\n",
       "      <td>[0.82,13.9]_0</td>\n",
       "      <td>[0.82,13.9]_2011</td>\n",
       "      <td>Beau temps_[0,7]</td>\n",
       "      <td>Beau temps_0</td>\n",
       "      <td>Beau temps_2011</td>\n",
       "      <td>[0,7]_0</td>\n",
       "      <td>[0,7]_2011</td>\n",
       "      <td>0_2011</td>\n",
       "    </tr>\n",
       "    <tr>\n",
       "      <th>2</th>\n",
       "      <td>0</td>\n",
       "      <td>[-74.5,-28]</td>\n",
       "      <td>[0.409,0.432]</td>\n",
       "      <td>[0,67]</td>\n",
       "      <td>[0.76,16.7]</td>\n",
       "      <td>Saturday</td>\n",
       "      <td>1</td>\n",
       "      <td>2</td>\n",
       "      <td>(77,100]</td>\n",
       "      <td>January</td>\n",
       "      <td>...</td>\n",
       "      <td>[0.82,13.9]_Beau temps</td>\n",
       "      <td>[0.82,13.9]_[0,7]</td>\n",
       "      <td>[0.82,13.9]_0</td>\n",
       "      <td>[0.82,13.9]_2011</td>\n",
       "      <td>Beau temps_[0,7]</td>\n",
       "      <td>Beau temps_0</td>\n",
       "      <td>Beau temps_2011</td>\n",
       "      <td>[0,7]_0</td>\n",
       "      <td>[0,7]_2011</td>\n",
       "      <td>0_2011</td>\n",
       "    </tr>\n",
       "    <tr>\n",
       "      <th>3</th>\n",
       "      <td>0</td>\n",
       "      <td>[-74.5,-28]</td>\n",
       "      <td>[0.409,0.432]</td>\n",
       "      <td>[0,67]</td>\n",
       "      <td>[0.76,16.7]</td>\n",
       "      <td>Saturday</td>\n",
       "      <td>1</td>\n",
       "      <td>3</td>\n",
       "      <td>(62,77]</td>\n",
       "      <td>January</td>\n",
       "      <td>...</td>\n",
       "      <td>[0.82,13.9]_Beau temps</td>\n",
       "      <td>[0.82,13.9]_[0,7]</td>\n",
       "      <td>[0.82,13.9]_0</td>\n",
       "      <td>[0.82,13.9]_2011</td>\n",
       "      <td>Beau temps_[0,7]</td>\n",
       "      <td>Beau temps_0</td>\n",
       "      <td>Beau temps_2011</td>\n",
       "      <td>[0,7]_0</td>\n",
       "      <td>[0,7]_2011</td>\n",
       "      <td>0_2011</td>\n",
       "    </tr>\n",
       "    <tr>\n",
       "      <th>4</th>\n",
       "      <td>0</td>\n",
       "      <td>[-74.5,-28]</td>\n",
       "      <td>[0.409,0.432]</td>\n",
       "      <td>[0,67]</td>\n",
       "      <td>[0.76,16.7]</td>\n",
       "      <td>Saturday</td>\n",
       "      <td>1</td>\n",
       "      <td>4</td>\n",
       "      <td>(62,77]</td>\n",
       "      <td>January</td>\n",
       "      <td>...</td>\n",
       "      <td>[0.82,13.9]_Beau temps</td>\n",
       "      <td>[0.82,13.9]_[0,7]</td>\n",
       "      <td>[0.82,13.9]_0</td>\n",
       "      <td>[0.82,13.9]_2011</td>\n",
       "      <td>Beau temps_[0,7]</td>\n",
       "      <td>Beau temps_0</td>\n",
       "      <td>Beau temps_2011</td>\n",
       "      <td>[0,7]_0</td>\n",
       "      <td>[0,7]_2011</td>\n",
       "      <td>0_2011</td>\n",
       "    </tr>\n",
       "  </tbody>\n",
       "</table>\n",
       "<p>5 rows × 136 columns</p>\n",
       "</div>"
      ],
      "text/plain": [
       "  CN_school   CN_soleilQ CN_tendance_1Q CN_tendance_2Q    CO_atempQ    CO_day  \\\n",
       "0         0  [-74.5,-28]  [0.409,0.432]         [0,67]  [0.76,16.7]  Saturday   \n",
       "1         0  [-74.5,-28]  [0.409,0.432]         [0,67]  [0.76,16.7]  Saturday   \n",
       "2         0  [-74.5,-28]  [0.409,0.432]         [0,67]  [0.76,16.7]  Saturday   \n",
       "3         0  [-74.5,-28]  [0.409,0.432]         [0,67]  [0.76,16.7]  Saturday   \n",
       "4         0  [-74.5,-28]  [0.409,0.432]         [0,67]  [0.76,16.7]  Saturday   \n",
       "\n",
       "  CO_holiday CO_hour CO_humidityQ CO_month  ...   CO_tempQ_+_CO_weather  \\\n",
       "0          1       0     (77,100]  January  ...  [0.82,13.9]_Beau temps   \n",
       "1          1       1     (77,100]  January  ...  [0.82,13.9]_Beau temps   \n",
       "2          1       2     (77,100]  January  ...  [0.82,13.9]_Beau temps   \n",
       "3          1       3      (62,77]  January  ...  [0.82,13.9]_Beau temps   \n",
       "4          1       4      (62,77]  January  ...  [0.82,13.9]_Beau temps   \n",
       "\n",
       "  CO_tempQ_+_CO_windspeedQ CO_tempQ_+_CO_workingday CO_tempQ_+_CO_year  \\\n",
       "0        [0.82,13.9]_[0,7]            [0.82,13.9]_0   [0.82,13.9]_2011   \n",
       "1        [0.82,13.9]_[0,7]            [0.82,13.9]_0   [0.82,13.9]_2011   \n",
       "2        [0.82,13.9]_[0,7]            [0.82,13.9]_0   [0.82,13.9]_2011   \n",
       "3        [0.82,13.9]_[0,7]            [0.82,13.9]_0   [0.82,13.9]_2011   \n",
       "4        [0.82,13.9]_[0,7]            [0.82,13.9]_0   [0.82,13.9]_2011   \n",
       "\n",
       "  CO_weather_+_CO_windspeedQ CO_weather_+_CO_workingday CO_weather_+_CO_year  \\\n",
       "0           Beau temps_[0,7]               Beau temps_0      Beau temps_2011   \n",
       "1           Beau temps_[0,7]               Beau temps_0      Beau temps_2011   \n",
       "2           Beau temps_[0,7]               Beau temps_0      Beau temps_2011   \n",
       "3           Beau temps_[0,7]               Beau temps_0      Beau temps_2011   \n",
       "4           Beau temps_[0,7]               Beau temps_0      Beau temps_2011   \n",
       "\n",
       "  CO_windspeedQ_+_CO_workingday CO_windspeedQ_+_CO_year  \\\n",
       "0                       [0,7]_0              [0,7]_2011   \n",
       "1                       [0,7]_0              [0,7]_2011   \n",
       "2                       [0,7]_0              [0,7]_2011   \n",
       "3                       [0,7]_0              [0,7]_2011   \n",
       "4                       [0,7]_0              [0,7]_2011   \n",
       "\n",
       "  CO_workingday_+_CO_year  \n",
       "0                  0_2011  \n",
       "1                  0_2011  \n",
       "2                  0_2011  \n",
       "3                  0_2011  \n",
       "4                  0_2011  \n",
       "\n",
       "[5 rows x 136 columns]"
      ]
     },
     "execution_count": 56,
     "metadata": {},
     "output_type": "execute_result"
    }
   ],
   "source": [
    "df_before_dummies.head()"
   ]
  },
  {
   "cell_type": "code",
   "execution_count": 57,
   "metadata": {},
   "outputs": [],
   "source": [
    "# Transformation de toutes les variables catégorielles:\n",
    "df_all_dummies = pd.get_dummies(df_before_dummies)"
   ]
  },
  {
   "cell_type": "code",
   "execution_count": 132,
   "metadata": {},
   "outputs": [],
   "source": [
    "# len(list(df_all_dummies))\n",
    "# \"CO_holiday_+_CN_soleilQ\" in list(df_all_dummies)\n",
    "# \"CO_day\" in list(df_all_dummies)(7620, 4054)"
   ]
  },
  {
   "cell_type": "code",
   "execution_count": 133,
   "metadata": {},
   "outputs": [
    {
     "data": {
      "text/html": [
       "<div>\n",
       "<style scoped>\n",
       "    .dataframe tbody tr th:only-of-type {\n",
       "        vertical-align: middle;\n",
       "    }\n",
       "\n",
       "    .dataframe tbody tr th {\n",
       "        vertical-align: top;\n",
       "    }\n",
       "\n",
       "    .dataframe thead th {\n",
       "        text-align: right;\n",
       "    }\n",
       "</style>\n",
       "<table border=\"1\" class=\"dataframe\">\n",
       "  <thead>\n",
       "    <tr style=\"text-align: right;\">\n",
       "      <th></th>\n",
       "      <th>CO_month_April</th>\n",
       "      <th>CO_month_August</th>\n",
       "      <th>CO_month_December</th>\n",
       "      <th>CO_month_February</th>\n",
       "      <th>CO_month_January</th>\n",
       "      <th>CO_month_July</th>\n",
       "      <th>CO_month_June</th>\n",
       "      <th>CO_month_March</th>\n",
       "      <th>CO_month_May</th>\n",
       "      <th>CO_month_November</th>\n",
       "      <th>...</th>\n",
       "      <th>CN_tendance_1Q_+_CN_tendance_2Q_(1.49,1.56]_(582,650]</th>\n",
       "      <th>CN_tendance_1Q_+_CN_tendance_2Q_(1.56,1.69]_(582,650]</th>\n",
       "      <th>CN_tendance_1Q_+_CN_tendance_2Q_(1.56,1.69]_(650,718]</th>\n",
       "      <th>CN_tendance_1Q_+_CN_tendance_2Q_(1.69,2.31]_(365,433]</th>\n",
       "      <th>CN_tendance_1Q_+_CN_tendance_2Q_(1.69,2.31]_(433,501]</th>\n",
       "      <th>CN_tendance_1Q_+_CN_tendance_2Q_(2.31,2.45]_(285,365]</th>\n",
       "      <th>CN_tendance_1Q_+_CN_tendance_2Q_(2.31,2.45]_(365,433]</th>\n",
       "      <th>CN_tendance_1Q_+_CN_tendance_2Q_(2.31,2.45]_(433,501]</th>\n",
       "      <th>CN_tendance_1Q_+_CN_tendance_2Q_[0.409,0.432]_(67,136]</th>\n",
       "      <th>CN_tendance_1Q_+_CN_tendance_2Q_[0.409,0.432]_[0,67]</th>\n",
       "    </tr>\n",
       "  </thead>\n",
       "  <tbody>\n",
       "    <tr>\n",
       "      <th>0</th>\n",
       "      <td>0</td>\n",
       "      <td>0</td>\n",
       "      <td>0</td>\n",
       "      <td>0</td>\n",
       "      <td>1</td>\n",
       "      <td>0</td>\n",
       "      <td>0</td>\n",
       "      <td>0</td>\n",
       "      <td>0</td>\n",
       "      <td>0</td>\n",
       "      <td>...</td>\n",
       "      <td>0</td>\n",
       "      <td>0</td>\n",
       "      <td>0</td>\n",
       "      <td>0</td>\n",
       "      <td>0</td>\n",
       "      <td>0</td>\n",
       "      <td>0</td>\n",
       "      <td>0</td>\n",
       "      <td>0</td>\n",
       "      <td>1</td>\n",
       "    </tr>\n",
       "    <tr>\n",
       "      <th>1</th>\n",
       "      <td>0</td>\n",
       "      <td>0</td>\n",
       "      <td>0</td>\n",
       "      <td>0</td>\n",
       "      <td>1</td>\n",
       "      <td>0</td>\n",
       "      <td>0</td>\n",
       "      <td>0</td>\n",
       "      <td>0</td>\n",
       "      <td>0</td>\n",
       "      <td>...</td>\n",
       "      <td>0</td>\n",
       "      <td>0</td>\n",
       "      <td>0</td>\n",
       "      <td>0</td>\n",
       "      <td>0</td>\n",
       "      <td>0</td>\n",
       "      <td>0</td>\n",
       "      <td>0</td>\n",
       "      <td>0</td>\n",
       "      <td>1</td>\n",
       "    </tr>\n",
       "    <tr>\n",
       "      <th>2</th>\n",
       "      <td>0</td>\n",
       "      <td>0</td>\n",
       "      <td>0</td>\n",
       "      <td>0</td>\n",
       "      <td>1</td>\n",
       "      <td>0</td>\n",
       "      <td>0</td>\n",
       "      <td>0</td>\n",
       "      <td>0</td>\n",
       "      <td>0</td>\n",
       "      <td>...</td>\n",
       "      <td>0</td>\n",
       "      <td>0</td>\n",
       "      <td>0</td>\n",
       "      <td>0</td>\n",
       "      <td>0</td>\n",
       "      <td>0</td>\n",
       "      <td>0</td>\n",
       "      <td>0</td>\n",
       "      <td>0</td>\n",
       "      <td>1</td>\n",
       "    </tr>\n",
       "    <tr>\n",
       "      <th>3</th>\n",
       "      <td>0</td>\n",
       "      <td>0</td>\n",
       "      <td>0</td>\n",
       "      <td>0</td>\n",
       "      <td>1</td>\n",
       "      <td>0</td>\n",
       "      <td>0</td>\n",
       "      <td>0</td>\n",
       "      <td>0</td>\n",
       "      <td>0</td>\n",
       "      <td>...</td>\n",
       "      <td>0</td>\n",
       "      <td>0</td>\n",
       "      <td>0</td>\n",
       "      <td>0</td>\n",
       "      <td>0</td>\n",
       "      <td>0</td>\n",
       "      <td>0</td>\n",
       "      <td>0</td>\n",
       "      <td>0</td>\n",
       "      <td>1</td>\n",
       "    </tr>\n",
       "    <tr>\n",
       "      <th>4</th>\n",
       "      <td>0</td>\n",
       "      <td>0</td>\n",
       "      <td>0</td>\n",
       "      <td>0</td>\n",
       "      <td>1</td>\n",
       "      <td>0</td>\n",
       "      <td>0</td>\n",
       "      <td>0</td>\n",
       "      <td>0</td>\n",
       "      <td>0</td>\n",
       "      <td>...</td>\n",
       "      <td>0</td>\n",
       "      <td>0</td>\n",
       "      <td>0</td>\n",
       "      <td>0</td>\n",
       "      <td>0</td>\n",
       "      <td>0</td>\n",
       "      <td>0</td>\n",
       "      <td>0</td>\n",
       "      <td>0</td>\n",
       "      <td>1</td>\n",
       "    </tr>\n",
       "  </tbody>\n",
       "</table>\n",
       "<p>5 rows × 3905 columns</p>\n",
       "</div>"
      ],
      "text/plain": [
       "   CO_month_April  CO_month_August  CO_month_December  CO_month_February  \\\n",
       "0               0                0                  0                  0   \n",
       "1               0                0                  0                  0   \n",
       "2               0                0                  0                  0   \n",
       "3               0                0                  0                  0   \n",
       "4               0                0                  0                  0   \n",
       "\n",
       "   CO_month_January  CO_month_July  CO_month_June  CO_month_March  \\\n",
       "0                 1              0              0               0   \n",
       "1                 1              0              0               0   \n",
       "2                 1              0              0               0   \n",
       "3                 1              0              0               0   \n",
       "4                 1              0              0               0   \n",
       "\n",
       "   CO_month_May  CO_month_November  ...  \\\n",
       "0             0                  0  ...   \n",
       "1             0                  0  ...   \n",
       "2             0                  0  ...   \n",
       "3             0                  0  ...   \n",
       "4             0                  0  ...   \n",
       "\n",
       "   CN_tendance_1Q_+_CN_tendance_2Q_(1.49,1.56]_(582,650]  \\\n",
       "0                                                  0       \n",
       "1                                                  0       \n",
       "2                                                  0       \n",
       "3                                                  0       \n",
       "4                                                  0       \n",
       "\n",
       "   CN_tendance_1Q_+_CN_tendance_2Q_(1.56,1.69]_(582,650]  \\\n",
       "0                                                  0       \n",
       "1                                                  0       \n",
       "2                                                  0       \n",
       "3                                                  0       \n",
       "4                                                  0       \n",
       "\n",
       "   CN_tendance_1Q_+_CN_tendance_2Q_(1.56,1.69]_(650,718]  \\\n",
       "0                                                  0       \n",
       "1                                                  0       \n",
       "2                                                  0       \n",
       "3                                                  0       \n",
       "4                                                  0       \n",
       "\n",
       "   CN_tendance_1Q_+_CN_tendance_2Q_(1.69,2.31]_(365,433]  \\\n",
       "0                                                  0       \n",
       "1                                                  0       \n",
       "2                                                  0       \n",
       "3                                                  0       \n",
       "4                                                  0       \n",
       "\n",
       "   CN_tendance_1Q_+_CN_tendance_2Q_(1.69,2.31]_(433,501]  \\\n",
       "0                                                  0       \n",
       "1                                                  0       \n",
       "2                                                  0       \n",
       "3                                                  0       \n",
       "4                                                  0       \n",
       "\n",
       "   CN_tendance_1Q_+_CN_tendance_2Q_(2.31,2.45]_(285,365]  \\\n",
       "0                                                  0       \n",
       "1                                                  0       \n",
       "2                                                  0       \n",
       "3                                                  0       \n",
       "4                                                  0       \n",
       "\n",
       "   CN_tendance_1Q_+_CN_tendance_2Q_(2.31,2.45]_(365,433]  \\\n",
       "0                                                  0       \n",
       "1                                                  0       \n",
       "2                                                  0       \n",
       "3                                                  0       \n",
       "4                                                  0       \n",
       "\n",
       "   CN_tendance_1Q_+_CN_tendance_2Q_(2.31,2.45]_(433,501]  \\\n",
       "0                                                  0       \n",
       "1                                                  0       \n",
       "2                                                  0       \n",
       "3                                                  0       \n",
       "4                                                  0       \n",
       "\n",
       "   CN_tendance_1Q_+_CN_tendance_2Q_[0.409,0.432]_(67,136]  \\\n",
       "0                                                  0        \n",
       "1                                                  0        \n",
       "2                                                  0        \n",
       "3                                                  0        \n",
       "4                                                  0        \n",
       "\n",
       "   CN_tendance_1Q_+_CN_tendance_2Q_[0.409,0.432]_[0,67]  \n",
       "0                                                  1     \n",
       "1                                                  1     \n",
       "2                                                  1     \n",
       "3                                                  1     \n",
       "4                                                  1     \n",
       "\n",
       "[5 rows x 3905 columns]"
      ]
     },
     "execution_count": 133,
     "metadata": {},
     "output_type": "execute_result"
    }
   ],
   "source": [
    "# df + df_all_interactions + df_all_dummies\n",
    "df_all_dummies.head()"
   ]
  },
  {
   "cell_type": "code",
   "execution_count": 134,
   "metadata": {},
   "outputs": [
    {
     "data": {
      "text/plain": [
       "3905"
      ]
     },
     "execution_count": 134,
     "metadata": {},
     "output_type": "execute_result"
    }
   ],
   "source": [
    "len(list(df_all_dummies))"
   ]
  },
  {
   "cell_type": "code",
   "execution_count": 135,
   "metadata": {},
   "outputs": [
    {
     "data": {
      "text/plain": [
       "['CO_season_+_CO_tempQ_Hiver_(26.2,41]',\n",
       " 'CO_hour_+_CN_tendance_1Q_14_(1.56,1.69]',\n",
       " 'CO_windspeedQ_+_CN_tendance_1Q_(13,17]_(0.593,0.64]',\n",
       " 'CO_hour_+_CN_tendance_1Q_2_(2.31,2.45]',\n",
       " 'CO_day_+_CO_season_Saturday_Printemps',\n",
       " 'CO_tempQ_+_CN_tendance_1Q_[0.82,13.9]_(0.64,0.672]',\n",
       " 'CO_hour_16',\n",
       " 'CO_month_+_CO_hour_May_1',\n",
       " 'CO_workingday_+_CO_season_1_Hiver',\n",
       " 'CO_hour_+_CO_season_14_Été']"
      ]
     },
     "execution_count": 135,
     "metadata": {},
     "output_type": "execute_result"
    }
   ],
   "source": [
    "import random\n",
    "random.choices(list(df_all_dummies), k=10)"
   ]
  },
  {
   "cell_type": "code",
   "execution_count": 136,
   "metadata": {},
   "outputs": [],
   "source": [
    "# len(list(all_var_for_models_nodup)"
   ]
  },
  {
   "cell_type": "code",
   "execution_count": 137,
   "metadata": {},
   "outputs": [
    {
     "data": {
      "text/plain": [
       "['CO_month',\n",
       " 'CO_workingday',\n",
       " 'CO_hour',\n",
       " 'CO_day',\n",
       " 'CO_year',\n",
       " 'CO_season',\n",
       " 'CO_weather',\n",
       " 'CO_humidityQ',\n",
       " 'CO_tempQ',\n",
       " 'CO_atempQ',\n",
       " 'CO_windspeedQ',\n",
       " 'CO_holiday',\n",
       " 'CN_school',\n",
       " 'CN_soleilQ',\n",
       " 'CN_tendance_1Q',\n",
       " 'CN_tendance_2Q']"
      ]
     },
     "execution_count": 137,
     "metadata": {},
     "output_type": "execute_result"
    }
   ],
   "source": [
    "all_categorical"
   ]
  },
  {
   "cell_type": "code",
   "execution_count": 138,
   "metadata": {},
   "outputs": [],
   "source": [
    "all_var_for_models = []\n",
    "all_var_for_models.append(\"datetime\")\n",
    "for each in all_origin_var_and_new:\n",
    "    all_var_for_models.append(each) \n",
    "# for each in all_categorical:\n",
    "    # all_var_for_models.append(each) \n",
    "for each in list(df_all_dummies):\n",
    "    all_var_for_models.append(each)\n",
    "\n",
    "all_var_for_models_nodup = []\n",
    "for each in all_var_for_models:\n",
    "    if each not in all_var_for_models_nodup:\n",
    "        all_var_for_models_nodup.append(each)"
   ]
  },
  {
   "cell_type": "code",
   "execution_count": 140,
   "metadata": {},
   "outputs": [
    {
     "data": {
      "text/plain": [
       "3929"
      ]
     },
     "execution_count": 140,
     "metadata": {},
     "output_type": "execute_result"
    }
   ],
   "source": [
    "len(list(all_var_for_models_nodup))"
   ]
  },
  {
   "cell_type": "markdown",
   "metadata": {},
   "source": [
    "On ajoute les dataframes : df + df_with_interaction + df_all_dummies"
   ]
  },
  {
   "cell_type": "code",
   "execution_count": 141,
   "metadata": {},
   "outputs": [
    {
     "data": {
      "text/plain": [
       "['CO_month',\n",
       " 'datetime',\n",
       " 'CO_workingday',\n",
       " 'NO_temp',\n",
       " 'NO_atemp',\n",
       " 'NO_humidity',\n",
       " 'NO_windspeed',\n",
       " 'S_casual',\n",
       " 'S_registered',\n",
       " 'count',\n",
       " 'CO_hour',\n",
       " 'CO_day',\n",
       " 'CO_year',\n",
       " 'CO_season',\n",
       " 'CO_weather',\n",
       " 'CO_humidityQ',\n",
       " 'CO_tempQ',\n",
       " 'CO_atempQ',\n",
       " 'CO_windspeedQ',\n",
       " 'S_casualQ',\n",
       " 'S_registeredQ',\n",
       " 'CO_holiday',\n",
       " 'CN_school',\n",
       " 'NN_soleil',\n",
       " 'CN_soleilQ',\n",
       " 'NN_tendance_1',\n",
       " 'NN_tendance_2',\n",
       " 'CN_tendance_1Q',\n",
       " 'CN_tendance_2Q',\n",
       " 'S_rateregis',\n",
       " 'S_rateregisQ']"
      ]
     },
     "execution_count": 141,
     "metadata": {},
     "output_type": "execute_result"
    }
   ],
   "source": [
    "list(df)"
   ]
  },
  {
   "cell_type": "code",
   "execution_count": 92,
   "metadata": {},
   "outputs": [
    {
     "data": {
      "text/plain": [
       "3905"
      ]
     },
     "execution_count": 92,
     "metadata": {},
     "output_type": "execute_result"
    }
   ],
   "source": [
    "len(list(df_all_dummies))"
   ]
  },
  {
   "cell_type": "markdown",
   "metadata": {},
   "source": [
    "On distingue les données de \"train\" + \"test\" pour réaliser les modèles<br>\n",
    "versus les données de \"test\" de Kaggle"
   ]
  },
  {
   "cell_type": "code",
   "execution_count": 96,
   "metadata": {},
   "outputs": [],
   "source": [
    "all_df = pd.concat([df[['datetime','NO_temp','NO_atemp','NO_humidity','NO_windspeed','NN_soleil','NN_tendance_1','NN_tendance_2']], df_all_dummies], axis = 1)"
   ]
  },
  {
   "cell_type": "code",
   "execution_count": 75,
   "metadata": {},
   "outputs": [],
   "source": [
    "# test = all_df.head(n=25)\n",
    "# test[\"day\"] = pd.to_datetime(test[\"datetime\"]).dt.day\n",
    "# test[[\"datetime\",\"day\"]]"
   ]
  },
  {
   "cell_type": "code",
   "execution_count": 97,
   "metadata": {},
   "outputs": [
    {
     "data": {
      "text/plain": [
       "(17379, 6430)"
      ]
     },
     "execution_count": 97,
     "metadata": {},
     "output_type": "execute_result"
    }
   ],
   "source": [
    "all_df.shape"
   ]
  },
  {
   "cell_type": "code",
   "execution_count": 98,
   "metadata": {},
   "outputs": [],
   "source": [
    "all_df[\"day\"] = pd.to_datetime(all_df[\"datetime\"]).dt.day"
   ]
  },
  {
   "cell_type": "code",
   "execution_count": 99,
   "metadata": {},
   "outputs": [],
   "source": [
    "df_for_models = all_df[all_df[\"day\"] < 20 ]\n",
    "df_test_kaggle = all_df[all_df[\"day\"] >= 20]"
   ]
  },
  {
   "cell_type": "code",
   "execution_count": 101,
   "metadata": {},
   "outputs": [
    {
     "data": {
      "text/plain": [
       "(10886, 6431)"
      ]
     },
     "execution_count": 101,
     "metadata": {},
     "output_type": "execute_result"
    }
   ],
   "source": [
    "df_for_models.shape"
   ]
  },
  {
   "cell_type": "code",
   "execution_count": 102,
   "metadata": {},
   "outputs": [
    {
     "data": {
      "text/plain": [
       "(6493, 6431)"
      ]
     },
     "execution_count": 102,
     "metadata": {},
     "output_type": "execute_result"
    }
   ],
   "source": [
    "df_test_kaggle.shape"
   ]
  },
  {
   "cell_type": "code",
   "execution_count": 103,
   "metadata": {},
   "outputs": [],
   "source": [
    "list_var_clean_X = [var for var in list(df_for_models) if var != \"count\" and var != \"datetime\"]                                         \n",
    "clean_X = df_for_models[list_var_clean_X]"
   ]
  },
  {
   "cell_type": "code",
   "execution_count": 104,
   "metadata": {},
   "outputs": [
    {
     "data": {
      "text/plain": [
       "(10886, 6431)"
      ]
     },
     "execution_count": 104,
     "metadata": {},
     "output_type": "execute_result"
    }
   ],
   "source": [
    "df_for_models.shape"
   ]
  },
  {
   "cell_type": "code",
   "execution_count": 90,
   "metadata": {},
   "outputs": [
    {
     "data": {
      "text/plain": [
       "(6493, 30)"
      ]
     },
     "execution_count": 90,
     "metadata": {},
     "output_type": "execute_result"
    }
   ],
   "source": [
    "df_test_kaggle.shape"
   ]
  },
  {
   "cell_type": "code",
   "execution_count": 105,
   "metadata": {},
   "outputs": [],
   "source": [
    "clean_Y = df_train_kaggle[[\"count\"]]\n",
    "X_train, X_test, Y_train, Y_test = train_test_split(clean_X,\n",
    "                                                    clean_Y,\n",
    "                                                    test_size = 0.3,\n",
    "                                                    random_state = 0)"
   ]
  },
  {
   "cell_type": "code",
   "execution_count": 93,
   "metadata": {},
   "outputs": [],
   "source": [
    "# Données pour apprentissage des modèles\n",
    "X_train.to_pickle(\"X_train_n.pkl\")\n",
    "X_test.to_pickle(\"X_test_n.pkl\")\n",
    "Y_train.to_pickle(\"Y_train_n.pkl\")\n",
    "Y_test.to_pickle(\"Y_test_n.pkl\")"
   ]
  },
  {
   "cell_type": "code",
   "execution_count": 107,
   "metadata": {},
   "outputs": [],
   "source": [
    "# Données de test de Kaggle contest\n",
    "df_test_kaggle.to_pickle(\"X_test_kaggle.pkl\")"
   ]
  },
  {
   "cell_type": "code",
   "execution_count": 106,
   "metadata": {},
   "outputs": [
    {
     "data": {
      "text/plain": [
       "(6493, 6431)"
      ]
     },
     "execution_count": 106,
     "metadata": {},
     "output_type": "execute_result"
    }
   ],
   "source": [
    "df_test_kaggle.shape"
   ]
  },
  {
   "cell_type": "markdown",
   "metadata": {},
   "source": [
    "On peut faire les interactions d'ordre 2 avec \"Patsylearn\" (différent de \"Patsy\") \n",
    "C'est un package Github"
   ]
  },
  {
   "cell_type": "code",
   "execution_count": 426,
   "metadata": {},
   "outputs": [],
   "source": [
    "# from patsylearn import PatsyTransformer\n",
    "# from patsylearn import PatsyModel\n",
    "# transformer = PatsyTransformer(\"C(CO_season):C(CO_weather) + C(CO_season):C(CO_humidityQ)\")"
   ]
  }
 ],
 "metadata": {
  "kernelspec": {
   "display_name": "data",
   "language": "python",
   "name": "data"
  },
  "language_info": {
   "codemirror_mode": {
    "name": "ipython",
    "version": 3
   },
   "file_extension": ".py",
   "mimetype": "text/x-python",
   "name": "python",
   "nbconvert_exporter": "python",
   "pygments_lexer": "ipython3",
   "version": "3.6.8"
  }
 },
 "nbformat": 4,
 "nbformat_minor": 2
}
