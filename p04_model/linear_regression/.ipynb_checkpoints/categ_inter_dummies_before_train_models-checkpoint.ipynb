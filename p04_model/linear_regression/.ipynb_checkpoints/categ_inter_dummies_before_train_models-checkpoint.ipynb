{
 "cells": [
  {
   "cell_type": "markdown",
   "metadata": {},
   "source": [
    "### L'objet du Notebook est d'utiliser en entrée les données provenant de RStudio\n",
    "\n",
    "En vue de faire de la cross validation et modéliser, création de 2 dataframes\n",
    "    - un contenant les variables \"Origin\" et \"New\" \n",
    "    - un autre contenant les variables \"Origin\" et \"New\" \n",
    "    + interactions d'ordre 2 pour les variables catégorielles + dummy variables\n",
    "    \n",
    "\n",
    "Les .csv qu'on utilise, ont été créés grâce au programme \"maestro.R\" dans \"/proj/bikesharing/p02_features\""
   ]
  },
  {
   "cell_type": "code",
   "execution_count": 179,
   "metadata": {},
   "outputs": [
    {
     "name": "stderr",
     "output_type": "stream",
     "text": [
      "/home/osboxes/anaconda3/envs/data/lib/python3.6/site-packages/ipykernel_launcher.py:16: FutureWarning: Sorting because non-concatenation axis is not aligned. A future version\n",
      "of pandas will change to not sort by default.\n",
      "\n",
      "To accept the future behavior, pass 'sort=False'.\n",
      "\n",
      "To retain the current behavior and silence the warning, pass 'sort=True'.\n",
      "\n",
      "  app.launch_new_instance()\n"
     ]
    }
   ],
   "source": [
    "import pandas as pd\n",
    "\n",
    "from sklearn.model_selection import train_test_split\n",
    "# from sklearn.preprocessing import PolynomialFeatures\n",
    "from itertools import combinations\n",
    "\n",
    "# On charge les .csv générés grâce à \"maestro.R\"  dans RStudio \n",
    "df_train_kaggle = pd.read_csv(\"../data/train.csv\")\n",
    "df_test_kaggle = pd.read_csv(\"../data/test.csv\")\n",
    "\n",
    "# Le dataset de \"test\" de Kaggle ne contient pas la variable \"count\"\n",
    "# On supprime donc la colonne \"count\" pour le dataset \"train\"\n",
    "df_train_kaggle = df_train_kaggle.drop(\"count\", axis = 1)\n",
    "\n",
    "# Et on concatène les données \n",
    "df = pd.concat([df_train_kaggle,df_test_kaggle])"
   ]
  },
  {
   "cell_type": "code",
   "execution_count": 180,
   "metadata": {},
   "outputs": [
    {
     "data": {
      "text/plain": [
       "['CN_school',\n",
       " 'CN_soleilQ',\n",
       " 'CN_tendance_1Q',\n",
       " 'CN_tendance_2Q',\n",
       " 'CO_atempQ',\n",
       " 'CO_day',\n",
       " 'CO_holiday',\n",
       " 'CO_hour',\n",
       " 'CO_humidityQ',\n",
       " 'CO_month',\n",
       " 'CO_season',\n",
       " 'CO_tempQ',\n",
       " 'CO_weather',\n",
       " 'CO_windspeedQ',\n",
       " 'CO_workingday',\n",
       " 'CO_year',\n",
       " 'NN_soleil',\n",
       " 'NN_tendance_1',\n",
       " 'NN_tendance_2',\n",
       " 'NO_atemp',\n",
       " 'NO_humidity',\n",
       " 'NO_temp',\n",
       " 'NO_windspeed',\n",
       " 'S_casual',\n",
       " 'S_casualQ',\n",
       " 'S_rateregis',\n",
       " 'S_rateregisQ',\n",
       " 'S_registered',\n",
       " 'S_registeredQ',\n",
       " 'datetime']"
      ]
     },
     "execution_count": 180,
     "metadata": {},
     "output_type": "execute_result"
    }
   ],
   "source": [
    "list(df)"
   ]
  },
  {
   "cell_type": "markdown",
   "metadata": {},
   "source": [
    "### On veut toutes les colonnes contenant les variables \"Origin\" et \"New\"\n",
    "On garde donc toutes les colonnes"
   ]
  },
  {
   "cell_type": "code",
   "execution_count": 181,
   "metadata": {},
   "outputs": [],
   "source": [
    "all_categorical_o = [name_var for name_var in list(df) if name_var[0:2] == 'CO'] \n",
    "# all_numeric_o = [name_var for name_var in list(df) if name_var[0:2] == 'NO'] \n",
    "# all_categorical_o\n",
    "# all_numeric_o\n",
    "# df[all_categorical_o].dtypes\n",
    "# df_all_categorical_o = df[all_categorical_o].applymap(str)"
   ]
  },
  {
   "cell_type": "markdown",
   "metadata": {},
   "source": [
    "ATTENTION: les variables \"CO_hour\" et \"CO_year\" sont apparemment<br>\n",
    "considérées comme numérique, cf le \".describe()\" ci-dessous<br>\n",
    "On va donc les transformer grâce à str() pour qu'elles soient de type caractères"
   ]
  },
  {
   "cell_type": "code",
   "execution_count": 182,
   "metadata": {},
   "outputs": [
    {
     "data": {
      "text/html": [
       "<div>\n",
       "<style scoped>\n",
       "    .dataframe tbody tr th:only-of-type {\n",
       "        vertical-align: middle;\n",
       "    }\n",
       "\n",
       "    .dataframe tbody tr th {\n",
       "        vertical-align: top;\n",
       "    }\n",
       "\n",
       "    .dataframe thead th {\n",
       "        text-align: right;\n",
       "    }\n",
       "</style>\n",
       "<table border=\"1\" class=\"dataframe\">\n",
       "  <thead>\n",
       "    <tr style=\"text-align: right;\">\n",
       "      <th></th>\n",
       "      <th>CO_holiday</th>\n",
       "      <th>CO_hour</th>\n",
       "      <th>CO_workingday</th>\n",
       "      <th>CO_year</th>\n",
       "    </tr>\n",
       "  </thead>\n",
       "  <tbody>\n",
       "    <tr>\n",
       "      <th>count</th>\n",
       "      <td>17379.000000</td>\n",
       "      <td>17379.000000</td>\n",
       "      <td>17379.000000</td>\n",
       "      <td>17379.000000</td>\n",
       "    </tr>\n",
       "    <tr>\n",
       "      <th>mean</th>\n",
       "      <td>0.031475</td>\n",
       "      <td>11.546752</td>\n",
       "      <td>0.682721</td>\n",
       "      <td>2011.502561</td>\n",
       "    </tr>\n",
       "    <tr>\n",
       "      <th>std</th>\n",
       "      <td>0.174602</td>\n",
       "      <td>6.914405</td>\n",
       "      <td>0.465431</td>\n",
       "      <td>0.500008</td>\n",
       "    </tr>\n",
       "    <tr>\n",
       "      <th>min</th>\n",
       "      <td>0.000000</td>\n",
       "      <td>0.000000</td>\n",
       "      <td>0.000000</td>\n",
       "      <td>2011.000000</td>\n",
       "    </tr>\n",
       "    <tr>\n",
       "      <th>25%</th>\n",
       "      <td>0.000000</td>\n",
       "      <td>6.000000</td>\n",
       "      <td>0.000000</td>\n",
       "      <td>2011.000000</td>\n",
       "    </tr>\n",
       "    <tr>\n",
       "      <th>50%</th>\n",
       "      <td>0.000000</td>\n",
       "      <td>12.000000</td>\n",
       "      <td>1.000000</td>\n",
       "      <td>2012.000000</td>\n",
       "    </tr>\n",
       "    <tr>\n",
       "      <th>75%</th>\n",
       "      <td>0.000000</td>\n",
       "      <td>18.000000</td>\n",
       "      <td>1.000000</td>\n",
       "      <td>2012.000000</td>\n",
       "    </tr>\n",
       "    <tr>\n",
       "      <th>max</th>\n",
       "      <td>1.000000</td>\n",
       "      <td>23.000000</td>\n",
       "      <td>1.000000</td>\n",
       "      <td>2012.000000</td>\n",
       "    </tr>\n",
       "  </tbody>\n",
       "</table>\n",
       "</div>"
      ],
      "text/plain": [
       "         CO_holiday       CO_hour  CO_workingday       CO_year\n",
       "count  17379.000000  17379.000000   17379.000000  17379.000000\n",
       "mean       0.031475     11.546752       0.682721   2011.502561\n",
       "std        0.174602      6.914405       0.465431      0.500008\n",
       "min        0.000000      0.000000       0.000000   2011.000000\n",
       "25%        0.000000      6.000000       0.000000   2011.000000\n",
       "50%        0.000000     12.000000       1.000000   2012.000000\n",
       "75%        0.000000     18.000000       1.000000   2012.000000\n",
       "max        1.000000     23.000000       1.000000   2012.000000"
      ]
     },
     "execution_count": 182,
     "metadata": {},
     "output_type": "execute_result"
    }
   ],
   "source": [
    "df[all_categorical_o].describe()"
   ]
  },
  {
   "cell_type": "code",
   "execution_count": 183,
   "metadata": {},
   "outputs": [],
   "source": [
    "df['CO_hour_new'] = df['CO_hour'].map(lambda x: str(x))\n",
    "df = df.drop('CO_hour', axis=1)\n",
    "df = df.rename(columns={'CO_hour_new': 'CO_hour'})\n",
    "\n",
    "df['CO_year_new'] = df['CO_year'].map(lambda x: str(x))\n",
    "df = df.drop('CO_year', axis=1)\n",
    "df = df.rename(columns={'CO_year_new': 'CO_year'})"
   ]
  },
  {
   "cell_type": "code",
   "execution_count": 184,
   "metadata": {},
   "outputs": [
    {
     "data": {
      "text/html": [
       "<div>\n",
       "<style scoped>\n",
       "    .dataframe tbody tr th:only-of-type {\n",
       "        vertical-align: middle;\n",
       "    }\n",
       "\n",
       "    .dataframe tbody tr th {\n",
       "        vertical-align: top;\n",
       "    }\n",
       "\n",
       "    .dataframe thead th {\n",
       "        text-align: right;\n",
       "    }\n",
       "</style>\n",
       "<table border=\"1\" class=\"dataframe\">\n",
       "  <thead>\n",
       "    <tr style=\"text-align: right;\">\n",
       "      <th></th>\n",
       "      <th>CO_holiday</th>\n",
       "      <th>CO_workingday</th>\n",
       "    </tr>\n",
       "  </thead>\n",
       "  <tbody>\n",
       "    <tr>\n",
       "      <th>count</th>\n",
       "      <td>17379.000000</td>\n",
       "      <td>17379.000000</td>\n",
       "    </tr>\n",
       "    <tr>\n",
       "      <th>mean</th>\n",
       "      <td>0.031475</td>\n",
       "      <td>0.682721</td>\n",
       "    </tr>\n",
       "    <tr>\n",
       "      <th>std</th>\n",
       "      <td>0.174602</td>\n",
       "      <td>0.465431</td>\n",
       "    </tr>\n",
       "    <tr>\n",
       "      <th>min</th>\n",
       "      <td>0.000000</td>\n",
       "      <td>0.000000</td>\n",
       "    </tr>\n",
       "    <tr>\n",
       "      <th>25%</th>\n",
       "      <td>0.000000</td>\n",
       "      <td>0.000000</td>\n",
       "    </tr>\n",
       "    <tr>\n",
       "      <th>50%</th>\n",
       "      <td>0.000000</td>\n",
       "      <td>1.000000</td>\n",
       "    </tr>\n",
       "    <tr>\n",
       "      <th>75%</th>\n",
       "      <td>0.000000</td>\n",
       "      <td>1.000000</td>\n",
       "    </tr>\n",
       "    <tr>\n",
       "      <th>max</th>\n",
       "      <td>1.000000</td>\n",
       "      <td>1.000000</td>\n",
       "    </tr>\n",
       "  </tbody>\n",
       "</table>\n",
       "</div>"
      ],
      "text/plain": [
       "         CO_holiday  CO_workingday\n",
       "count  17379.000000   17379.000000\n",
       "mean       0.031475       0.682721\n",
       "std        0.174602       0.465431\n",
       "min        0.000000       0.000000\n",
       "25%        0.000000       0.000000\n",
       "50%        0.000000       1.000000\n",
       "75%        0.000000       1.000000\n",
       "max        1.000000       1.000000"
      ]
     },
     "execution_count": 184,
     "metadata": {},
     "output_type": "execute_result"
    }
   ],
   "source": [
    "df[all_categorical_o].describe()"
   ]
  },
  {
   "cell_type": "code",
   "execution_count": 185,
   "metadata": {},
   "outputs": [],
   "source": [
    "# Transformation de toutes les variables catégorielles:\n",
    "# df_all_dummies_o = pd.get_dummies(df[all_categorical_o])eg_lambda=1\n",
    "# df_all_dummies_o.shape\n",
    "# list(df_all_dummies_o)"
   ]
  },
  {
   "cell_type": "code",
   "execution_count": 186,
   "metadata": {},
   "outputs": [
    {
     "data": {
      "text/plain": [
       "(17379, 30)"
      ]
     },
     "execution_count": 186,
     "metadata": {},
     "output_type": "execute_result"
    }
   ],
   "source": [
    "df.shape"
   ]
  },
  {
   "cell_type": "code",
   "execution_count": 187,
   "metadata": {},
   "outputs": [],
   "source": [
    "df[\"day\"] = pd.to_datetime(df[\"datetime\"]).dt.day\n",
    "\n",
    "df_for_models = df[df[\"day\"] < 20 ]\n",
    "df_test_kaggle_o_n = df[df[\"day\"] >= 20]"
   ]
  },
  {
   "cell_type": "code",
   "execution_count": 188,
   "metadata": {},
   "outputs": [],
   "source": [
    "# df_numeric_and_categorical_o = pd.concat([df[[\"datetime\"]], df[all_numeric_o], df_all_dummies_o], axis = 1)\n",
    "# df_for_models = pd.concat([df_for_models[[\"datetime\"]], df_for_models[all_numeric_o],df_for_models[all_categorical_o]], axis = 1)"
   ]
  },
  {
   "cell_type": "code",
   "execution_count": 189,
   "metadata": {},
   "outputs": [
    {
     "data": {
      "text/plain": [
       "(10886, 31)"
      ]
     },
     "execution_count": 189,
     "metadata": {},
     "output_type": "execute_result"
    }
   ],
   "source": [
    "df_for_models.shape"
   ]
  },
  {
   "cell_type": "code",
   "execution_count": 190,
   "metadata": {},
   "outputs": [],
   "source": [
    "# list_var_clean_X = [var for var in list(df_for_models) if var != \"count\" and var != \"datetime\"]\n",
    "# clean_X = df_for_models[list_var_clean_X]\n",
    "# clean_Y = df_for_models[[\"count\"]]\n",
    "\n",
    "# Soit on fait de la cross validation et utilise tout \"df_for_models\"\n",
    "df_for_cv_o_n = df_for_models\n",
    "\n",
    "del df_for_models\n",
    "\n",
    "# Soit on splitte \"df_for_models\" en train + validation\n",
    "# X_train, X_valid, Y_train, Y_valid = train_test_split(clean_X,\n",
    "                                                      # clean_Y,\n",
    "                                                      # test_size = 0.3,\n",
    "                                                      # random_state = 0)"
   ]
  },
  {
   "cell_type": "code",
   "execution_count": 191,
   "metadata": {},
   "outputs": [
    {
     "data": {
      "text/plain": [
       "['CN_school',\n",
       " 'CN_soleilQ',\n",
       " 'CN_tendance_1Q',\n",
       " 'CN_tendance_2Q',\n",
       " 'CO_atempQ',\n",
       " 'CO_day',\n",
       " 'CO_holiday',\n",
       " 'CO_humidityQ',\n",
       " 'CO_month',\n",
       " 'CO_season',\n",
       " 'CO_tempQ',\n",
       " 'CO_weather',\n",
       " 'CO_windspeedQ',\n",
       " 'CO_workingday',\n",
       " 'NN_soleil',\n",
       " 'NN_tendance_1',\n",
       " 'NN_tendance_2',\n",
       " 'NO_atemp',\n",
       " 'NO_humidity',\n",
       " 'NO_temp',\n",
       " 'NO_windspeed',\n",
       " 'S_casual',\n",
       " 'S_casualQ',\n",
       " 'S_rateregis',\n",
       " 'S_rateregisQ',\n",
       " 'S_registered',\n",
       " 'S_registeredQ',\n",
       " 'datetime',\n",
       " 'CO_hour',\n",
       " 'CO_year',\n",
       " 'day']"
      ]
     },
     "execution_count": 191,
     "metadata": {},
     "output_type": "execute_result"
    }
   ],
   "source": [
    "list(df_for_cv_o_n)"
   ]
  },
  {
   "cell_type": "code",
   "execution_count": 192,
   "metadata": {},
   "outputs": [],
   "source": [
    "# On n'a pas besoin de la variable \"day\"\n",
    "df_for_cv_o_n = df_for_cv_o_n.drop(\"day\", axis = 1)\n",
    "df_test_kaggle_o_n = df_test_kaggle_o_n.drop(\"day\", axis = 1)"
   ]
  },
  {
   "cell_type": "code",
   "execution_count": 193,
   "metadata": {},
   "outputs": [
    {
     "data": {
      "text/plain": [
       "(10886, 30)"
      ]
     },
     "execution_count": 193,
     "metadata": {},
     "output_type": "execute_result"
    }
   ],
   "source": [
    "df_for_cv_o_n.shape"
   ]
  },
  {
   "cell_type": "code",
   "execution_count": 194,
   "metadata": {},
   "outputs": [
    {
     "data": {
      "text/plain": [
       "(6493, 30)"
      ]
     },
     "execution_count": 194,
     "metadata": {},
     "output_type": "execute_result"
    }
   ],
   "source": [
    "df_test_kaggle_o_n.shape"
   ]
  },
  {
   "cell_type": "code",
   "execution_count": 195,
   "metadata": {},
   "outputs": [],
   "source": [
    "# Données en vue de faire de la cross validation\n",
    "df_for_cv_o_n.to_pickle(\"df_for_cv_o_n.pkl\")\n",
    "# Données de test de Kaggle \n",
    "df_test_kaggle_o_n.to_pickle(\"df_test_kaggle_o_n.pkl\")"
   ]
  },
  {
   "cell_type": "code",
   "execution_count": 196,
   "metadata": {},
   "outputs": [],
   "source": [
    "# X_train.to_pickle(\"X_train_o.pkl\")\n",
    "# X_test.to_pickle(\"X_test_o.pkl\")\n",
    "# Y_train.to_pickle(\"Y_train_o.pkl\")\n",
    "# Y_test.to_pickle(\"Y_test_o.pkl\")"
   ]
  },
  {
   "cell_type": "markdown",
   "metadata": {},
   "source": [
    "#### Création d'un dataset avec les variables Origin et New et interactions entre catégorielles d'ordre 2<br>\n",
    "\n",
    "On pourra aussi ajouter les interactions entre variables numériques "
   ]
  },
  {
   "cell_type": "markdown",
   "metadata": {},
   "source": [
    "On prend toutes les variables \"CO\", \"NO\", \"NN\" et \"CN\""
   ]
  },
  {
   "cell_type": "markdown",
   "metadata": {},
   "source": [
    "On a déjà \"df_for_models\""
   ]
  },
  {
   "cell_type": "code",
   "execution_count": 197,
   "metadata": {},
   "outputs": [],
   "source": [
    "all_categorical = [name_var for name_var in list(df) if name_var[0:1] == 'C'] "
   ]
  },
  {
   "cell_type": "code",
   "execution_count": 198,
   "metadata": {},
   "outputs": [
    {
     "data": {
      "text/plain": [
       "16"
      ]
     },
     "execution_count": 198,
     "metadata": {},
     "output_type": "execute_result"
    }
   ],
   "source": [
    "len(all_categorical)"
   ]
  },
  {
   "cell_type": "code",
   "execution_count": 199,
   "metadata": {},
   "outputs": [
    {
     "data": {
      "text/plain": [
       "CN_school          int64\n",
       "CN_soleilQ        object\n",
       "CN_tendance_1Q    object\n",
       "CN_tendance_2Q    object\n",
       "CO_atempQ         object\n",
       "CO_day            object\n",
       "CO_holiday         int64\n",
       "CO_humidityQ      object\n",
       "CO_month          object\n",
       "CO_season         object\n",
       "CO_tempQ          object\n",
       "CO_weather        object\n",
       "CO_windspeedQ     object\n",
       "CO_workingday      int64\n",
       "CO_hour           object\n",
       "CO_year           object\n",
       "dtype: object"
      ]
     },
     "execution_count": 199,
     "metadata": {},
     "output_type": "execute_result"
    }
   ],
   "source": [
    "df[all_categorical].dtypes"
   ]
  },
  {
   "cell_type": "code",
   "execution_count": 200,
   "metadata": {},
   "outputs": [],
   "source": [
    "df_all_categorical = df[all_categorical].applymap(str)"
   ]
  },
  {
   "cell_type": "code",
   "execution_count": 201,
   "metadata": {},
   "outputs": [
    {
     "data": {
      "text/plain": [
       "(17379, 16)"
      ]
     },
     "execution_count": 201,
     "metadata": {},
     "output_type": "execute_result"
    }
   ],
   "source": [
    "df_all_categorical.shape"
   ]
  },
  {
   "cell_type": "markdown",
   "metadata": {},
   "source": [
    "Ajout des interactions d'ordre 2 entre variables catégorielles "
   ]
  },
  {
   "cell_type": "code",
   "execution_count": 202,
   "metadata": {},
   "outputs": [],
   "source": [
    "# On peut faire les interactions d'ordre 2 avec \"Patsylearn\" (différent de \"Patsy\") \n",
    "# C'est un package Github\n",
    "# from patsylearn import PatsyTransformer\n",
    "# from patsylearn import PatsyModel\n",
    "# transformer = PatsyTransformer(\"C(CO_season):C(CO_weather) + C(CO_season):C(CO_humidityQ)\")"
   ]
  },
  {
   "cell_type": "code",
   "execution_count": 203,
   "metadata": {},
   "outputs": [],
   "source": [
    "# def interaction_order(df,list_of_categ_var, order, only_ordre):\n",
    "def interaction_order(df,list_of_categ_var, order):\n",
    "    \n",
    "    initial_list_df = list_of_categ_var\n",
    "    print (list(df))\n",
    "\n",
    "    # if only_ordre == True:\n",
    "    all_interactions = list(combinations(list_of_categ_var,order))\n",
    "\n",
    "    # print (\"Nb d'interactions\", len(all_interactions))\n",
    "    # print (\"Interaction entre : \", all_interactions)\n",
    "\n",
    "    for i in range(0, len(all_interactions)):\n",
    "        # all_inter_variables = []\n",
    "        # print (list(all_interactions[i]))\n",
    "\n",
    "        for each in list(all_interactions[i]):\n",
    "            # New columns of interaction\n",
    "            for each in range(0,order):\n",
    "\n",
    "                # Name of interaction variables\n",
    "                # var_inter_name = 'inter_' + str(i)\n",
    "                \n",
    "                var_inter_name = \"_+_\".join(list(all_interactions[i]))\n",
    "\n",
    "                # df[var_inter_name] = df[list(all_interactions[i])[0]] + '_' + df[list(all_interactions[i])[1]]\n",
    "                if each == 0:\n",
    "                    # print (\"each\", each)\n",
    "                    \n",
    "                    # print (var_inter_name)\n",
    "                    df[var_inter_name] = df[list(all_interactions[i])[each]]\n",
    "                else:\n",
    "                    df[var_inter_name] = df[var_inter_name] + '_' + df[list(all_interactions[i])[each]]\n",
    "\n",
    "                # all_inter_variables.append(var_inter_name)\n",
    "                # print (all_inter_variables)\n",
    "\n",
    "    # Keep only interaction variables in the dataframe\n",
    "    # print (initial_list_df)\n",
    "    df = df.drop(initial_list_df, axis=1)\n",
    "    # df = df[all_inter_variables]\n",
    "    return df"
   ]
  },
  {
   "cell_type": "code",
   "execution_count": 204,
   "metadata": {},
   "outputs": [
    {
     "data": {
      "text/plain": [
       "(17379, 31)"
      ]
     },
     "execution_count": 204,
     "metadata": {},
     "output_type": "execute_result"
    }
   ],
   "source": [
    "df.shape"
   ]
  },
  {
   "cell_type": "code",
   "execution_count": 205,
   "metadata": {},
   "outputs": [
    {
     "name": "stdout",
     "output_type": "stream",
     "text": [
      "['CN_school', 'CN_soleilQ', 'CN_tendance_1Q', 'CN_tendance_2Q', 'CO_atempQ', 'CO_day', 'CO_holiday', 'CO_humidityQ', 'CO_month', 'CO_season', 'CO_tempQ', 'CO_weather', 'CO_windspeedQ', 'CO_workingday', 'CO_hour', 'CO_year']\n"
     ]
    }
   ],
   "source": [
    "df_with_interaction = interaction_order(df_all_categorical,all_categorical, 2)"
   ]
  },
  {
   "cell_type": "code",
   "execution_count": 206,
   "metadata": {},
   "outputs": [
    {
     "data": {
      "text/plain": [
       "120"
      ]
     },
     "execution_count": 206,
     "metadata": {},
     "output_type": "execute_result"
    }
   ],
   "source": [
    "len(list(df_with_interaction))"
   ]
  },
  {
   "cell_type": "code",
   "execution_count": 207,
   "metadata": {},
   "outputs": [
    {
     "data": {
      "text/html": [
       "<div>\n",
       "<style scoped>\n",
       "    .dataframe tbody tr th:only-of-type {\n",
       "        vertical-align: middle;\n",
       "    }\n",
       "\n",
       "    .dataframe tbody tr th {\n",
       "        vertical-align: top;\n",
       "    }\n",
       "\n",
       "    .dataframe thead th {\n",
       "        text-align: right;\n",
       "    }\n",
       "</style>\n",
       "<table border=\"1\" class=\"dataframe\">\n",
       "  <thead>\n",
       "    <tr style=\"text-align: right;\">\n",
       "      <th></th>\n",
       "      <th>CN_school_+_CN_soleilQ</th>\n",
       "      <th>CN_school_+_CN_tendance_1Q</th>\n",
       "      <th>CN_school_+_CN_tendance_2Q</th>\n",
       "      <th>CN_school_+_CO_atempQ</th>\n",
       "      <th>CN_school_+_CO_day</th>\n",
       "      <th>CN_school_+_CO_holiday</th>\n",
       "      <th>CN_school_+_CO_humidityQ</th>\n",
       "      <th>CN_school_+_CO_month</th>\n",
       "      <th>CN_school_+_CO_season</th>\n",
       "      <th>CN_school_+_CO_tempQ</th>\n",
       "      <th>...</th>\n",
       "      <th>CO_weather_+_CO_windspeedQ</th>\n",
       "      <th>CO_weather_+_CO_workingday</th>\n",
       "      <th>CO_weather_+_CO_hour</th>\n",
       "      <th>CO_weather_+_CO_year</th>\n",
       "      <th>CO_windspeedQ_+_CO_workingday</th>\n",
       "      <th>CO_windspeedQ_+_CO_hour</th>\n",
       "      <th>CO_windspeedQ_+_CO_year</th>\n",
       "      <th>CO_workingday_+_CO_hour</th>\n",
       "      <th>CO_workingday_+_CO_year</th>\n",
       "      <th>CO_hour_+_CO_year</th>\n",
       "    </tr>\n",
       "  </thead>\n",
       "  <tbody>\n",
       "    <tr>\n",
       "      <th>0</th>\n",
       "      <td>0_[-74.5,-28]</td>\n",
       "      <td>0_[0.409,0.432]</td>\n",
       "      <td>0_[0,67]</td>\n",
       "      <td>0_[0.76,16.7]</td>\n",
       "      <td>0_Saturday</td>\n",
       "      <td>0_1</td>\n",
       "      <td>0_(77,100]</td>\n",
       "      <td>0_January</td>\n",
       "      <td>0_Printemps</td>\n",
       "      <td>0_[0.82,13.9]</td>\n",
       "      <td>...</td>\n",
       "      <td>Beau temps_[0,7]</td>\n",
       "      <td>Beau temps_0</td>\n",
       "      <td>Beau temps_0</td>\n",
       "      <td>Beau temps_2011</td>\n",
       "      <td>[0,7]_0</td>\n",
       "      <td>[0,7]_0</td>\n",
       "      <td>[0,7]_2011</td>\n",
       "      <td>0_0</td>\n",
       "      <td>0_2011</td>\n",
       "      <td>0_2011</td>\n",
       "    </tr>\n",
       "    <tr>\n",
       "      <th>1</th>\n",
       "      <td>0_[-74.5,-28]</td>\n",
       "      <td>0_[0.409,0.432]</td>\n",
       "      <td>0_[0,67]</td>\n",
       "      <td>0_[0.76,16.7]</td>\n",
       "      <td>0_Saturday</td>\n",
       "      <td>0_1</td>\n",
       "      <td>0_(77,100]</td>\n",
       "      <td>0_January</td>\n",
       "      <td>0_Printemps</td>\n",
       "      <td>0_[0.82,13.9]</td>\n",
       "      <td>...</td>\n",
       "      <td>Beau temps_[0,7]</td>\n",
       "      <td>Beau temps_0</td>\n",
       "      <td>Beau temps_1</td>\n",
       "      <td>Beau temps_2011</td>\n",
       "      <td>[0,7]_0</td>\n",
       "      <td>[0,7]_1</td>\n",
       "      <td>[0,7]_2011</td>\n",
       "      <td>0_1</td>\n",
       "      <td>0_2011</td>\n",
       "      <td>1_2011</td>\n",
       "    </tr>\n",
       "    <tr>\n",
       "      <th>2</th>\n",
       "      <td>0_[-74.5,-28]</td>\n",
       "      <td>0_[0.409,0.432]</td>\n",
       "      <td>0_[0,67]</td>\n",
       "      <td>0_[0.76,16.7]</td>\n",
       "      <td>0_Saturday</td>\n",
       "      <td>0_1</td>\n",
       "      <td>0_(77,100]</td>\n",
       "      <td>0_January</td>\n",
       "      <td>0_Printemps</td>\n",
       "      <td>0_[0.82,13.9]</td>\n",
       "      <td>...</td>\n",
       "      <td>Beau temps_[0,7]</td>\n",
       "      <td>Beau temps_0</td>\n",
       "      <td>Beau temps_2</td>\n",
       "      <td>Beau temps_2011</td>\n",
       "      <td>[0,7]_0</td>\n",
       "      <td>[0,7]_2</td>\n",
       "      <td>[0,7]_2011</td>\n",
       "      <td>0_2</td>\n",
       "      <td>0_2011</td>\n",
       "      <td>2_2011</td>\n",
       "    </tr>\n",
       "    <tr>\n",
       "      <th>3</th>\n",
       "      <td>0_[-74.5,-28]</td>\n",
       "      <td>0_[0.409,0.432]</td>\n",
       "      <td>0_[0,67]</td>\n",
       "      <td>0_[0.76,16.7]</td>\n",
       "      <td>0_Saturday</td>\n",
       "      <td>0_1</td>\n",
       "      <td>0_(62,77]</td>\n",
       "      <td>0_January</td>\n",
       "      <td>0_Printemps</td>\n",
       "      <td>0_[0.82,13.9]</td>\n",
       "      <td>...</td>\n",
       "      <td>Beau temps_[0,7]</td>\n",
       "      <td>Beau temps_0</td>\n",
       "      <td>Beau temps_3</td>\n",
       "      <td>Beau temps_2011</td>\n",
       "      <td>[0,7]_0</td>\n",
       "      <td>[0,7]_3</td>\n",
       "      <td>[0,7]_2011</td>\n",
       "      <td>0_3</td>\n",
       "      <td>0_2011</td>\n",
       "      <td>3_2011</td>\n",
       "    </tr>\n",
       "    <tr>\n",
       "      <th>4</th>\n",
       "      <td>0_[-74.5,-28]</td>\n",
       "      <td>0_[0.409,0.432]</td>\n",
       "      <td>0_[0,67]</td>\n",
       "      <td>0_[0.76,16.7]</td>\n",
       "      <td>0_Saturday</td>\n",
       "      <td>0_1</td>\n",
       "      <td>0_(62,77]</td>\n",
       "      <td>0_January</td>\n",
       "      <td>0_Printemps</td>\n",
       "      <td>0_[0.82,13.9]</td>\n",
       "      <td>...</td>\n",
       "      <td>Beau temps_[0,7]</td>\n",
       "      <td>Beau temps_0</td>\n",
       "      <td>Beau temps_4</td>\n",
       "      <td>Beau temps_2011</td>\n",
       "      <td>[0,7]_0</td>\n",
       "      <td>[0,7]_4</td>\n",
       "      <td>[0,7]_2011</td>\n",
       "      <td>0_4</td>\n",
       "      <td>0_2011</td>\n",
       "      <td>4_2011</td>\n",
       "    </tr>\n",
       "  </tbody>\n",
       "</table>\n",
       "<p>5 rows × 120 columns</p>\n",
       "</div>"
      ],
      "text/plain": [
       "  CN_school_+_CN_soleilQ CN_school_+_CN_tendance_1Q  \\\n",
       "0          0_[-74.5,-28]            0_[0.409,0.432]   \n",
       "1          0_[-74.5,-28]            0_[0.409,0.432]   \n",
       "2          0_[-74.5,-28]            0_[0.409,0.432]   \n",
       "3          0_[-74.5,-28]            0_[0.409,0.432]   \n",
       "4          0_[-74.5,-28]            0_[0.409,0.432]   \n",
       "\n",
       "  CN_school_+_CN_tendance_2Q CN_school_+_CO_atempQ CN_school_+_CO_day  \\\n",
       "0                   0_[0,67]         0_[0.76,16.7]         0_Saturday   \n",
       "1                   0_[0,67]         0_[0.76,16.7]         0_Saturday   \n",
       "2                   0_[0,67]         0_[0.76,16.7]         0_Saturday   \n",
       "3                   0_[0,67]         0_[0.76,16.7]         0_Saturday   \n",
       "4                   0_[0,67]         0_[0.76,16.7]         0_Saturday   \n",
       "\n",
       "  CN_school_+_CO_holiday CN_school_+_CO_humidityQ CN_school_+_CO_month  \\\n",
       "0                    0_1               0_(77,100]            0_January   \n",
       "1                    0_1               0_(77,100]            0_January   \n",
       "2                    0_1               0_(77,100]            0_January   \n",
       "3                    0_1                0_(62,77]            0_January   \n",
       "4                    0_1                0_(62,77]            0_January   \n",
       "\n",
       "  CN_school_+_CO_season CN_school_+_CO_tempQ  ... CO_weather_+_CO_windspeedQ  \\\n",
       "0           0_Printemps        0_[0.82,13.9]  ...           Beau temps_[0,7]   \n",
       "1           0_Printemps        0_[0.82,13.9]  ...           Beau temps_[0,7]   \n",
       "2           0_Printemps        0_[0.82,13.9]  ...           Beau temps_[0,7]   \n",
       "3           0_Printemps        0_[0.82,13.9]  ...           Beau temps_[0,7]   \n",
       "4           0_Printemps        0_[0.82,13.9]  ...           Beau temps_[0,7]   \n",
       "\n",
       "  CO_weather_+_CO_workingday CO_weather_+_CO_hour CO_weather_+_CO_year  \\\n",
       "0               Beau temps_0         Beau temps_0      Beau temps_2011   \n",
       "1               Beau temps_0         Beau temps_1      Beau temps_2011   \n",
       "2               Beau temps_0         Beau temps_2      Beau temps_2011   \n",
       "3               Beau temps_0         Beau temps_3      Beau temps_2011   \n",
       "4               Beau temps_0         Beau temps_4      Beau temps_2011   \n",
       "\n",
       "  CO_windspeedQ_+_CO_workingday CO_windspeedQ_+_CO_hour  \\\n",
       "0                       [0,7]_0                 [0,7]_0   \n",
       "1                       [0,7]_0                 [0,7]_1   \n",
       "2                       [0,7]_0                 [0,7]_2   \n",
       "3                       [0,7]_0                 [0,7]_3   \n",
       "4                       [0,7]_0                 [0,7]_4   \n",
       "\n",
       "  CO_windspeedQ_+_CO_year CO_workingday_+_CO_hour CO_workingday_+_CO_year  \\\n",
       "0              [0,7]_2011                     0_0                  0_2011   \n",
       "1              [0,7]_2011                     0_1                  0_2011   \n",
       "2              [0,7]_2011                     0_2                  0_2011   \n",
       "3              [0,7]_2011                     0_3                  0_2011   \n",
       "4              [0,7]_2011                     0_4                  0_2011   \n",
       "\n",
       "  CO_hour_+_CO_year  \n",
       "0            0_2011  \n",
       "1            1_2011  \n",
       "2            2_2011  \n",
       "3            3_2011  \n",
       "4            4_2011  \n",
       "\n",
       "[5 rows x 120 columns]"
      ]
     },
     "execution_count": 207,
     "metadata": {},
     "output_type": "execute_result"
    }
   ],
   "source": [
    "df_with_interaction.head()"
   ]
  },
  {
   "cell_type": "code",
   "execution_count": 208,
   "metadata": {},
   "outputs": [
    {
     "data": {
      "text/plain": [
       "['CN_school_+_CN_soleilQ',\n",
       " 'CN_school_+_CN_tendance_1Q',\n",
       " 'CN_school_+_CN_tendance_2Q',\n",
       " 'CN_school_+_CO_atempQ',\n",
       " 'CN_school_+_CO_day']"
      ]
     },
     "execution_count": 208,
     "metadata": {},
     "output_type": "execute_result"
    }
   ],
   "source": [
    "list(df_with_interaction)[0:5]"
   ]
  },
  {
   "cell_type": "code",
   "execution_count": 209,
   "metadata": {},
   "outputs": [
    {
     "data": {
      "text/html": [
       "<div>\n",
       "<style scoped>\n",
       "    .dataframe tbody tr th:only-of-type {\n",
       "        vertical-align: middle;\n",
       "    }\n",
       "\n",
       "    .dataframe tbody tr th {\n",
       "        vertical-align: top;\n",
       "    }\n",
       "\n",
       "    .dataframe thead th {\n",
       "        text-align: right;\n",
       "    }\n",
       "</style>\n",
       "<table border=\"1\" class=\"dataframe\">\n",
       "  <thead>\n",
       "    <tr style=\"text-align: right;\">\n",
       "      <th></th>\n",
       "      <th>CO_month_+_CO_season</th>\n",
       "    </tr>\n",
       "  </thead>\n",
       "  <tbody>\n",
       "    <tr>\n",
       "      <th>0</th>\n",
       "      <td>January_Printemps</td>\n",
       "    </tr>\n",
       "    <tr>\n",
       "      <th>1</th>\n",
       "      <td>January_Printemps</td>\n",
       "    </tr>\n",
       "    <tr>\n",
       "      <th>2</th>\n",
       "      <td>January_Printemps</td>\n",
       "    </tr>\n",
       "    <tr>\n",
       "      <th>3</th>\n",
       "      <td>January_Printemps</td>\n",
       "    </tr>\n",
       "    <tr>\n",
       "      <th>4</th>\n",
       "      <td>January_Printemps</td>\n",
       "    </tr>\n",
       "  </tbody>\n",
       "</table>\n",
       "</div>"
      ],
      "text/plain": [
       "  CO_month_+_CO_season\n",
       "0    January_Printemps\n",
       "1    January_Printemps\n",
       "2    January_Printemps\n",
       "3    January_Printemps\n",
       "4    January_Printemps"
      ]
     },
     "execution_count": 209,
     "metadata": {},
     "output_type": "execute_result"
    }
   ],
   "source": [
    "df_with_interaction[[\"CO_month_+_CO_season\"]].head()"
   ]
  },
  {
   "cell_type": "code",
   "execution_count": 210,
   "metadata": {},
   "outputs": [
    {
     "data": {
      "text/plain": [
       "(17379, 120)"
      ]
     },
     "execution_count": 210,
     "metadata": {},
     "output_type": "execute_result"
    }
   ],
   "source": [
    "df_with_interaction.shape"
   ]
  },
  {
   "cell_type": "code",
   "execution_count": 211,
   "metadata": {},
   "outputs": [],
   "source": [
    "df_all_categorical = df[all_categorical].applymap(str)\n",
    "df_with_interaction = df_with_interaction.applymap(str)"
   ]
  },
  {
   "cell_type": "code",
   "execution_count": 212,
   "metadata": {},
   "outputs": [
    {
     "data": {
      "text/plain": [
       "['CN_school',\n",
       " 'CN_soleilQ',\n",
       " 'CN_tendance_1Q',\n",
       " 'CN_tendance_2Q',\n",
       " 'CO_atempQ',\n",
       " 'CO_day',\n",
       " 'CO_holiday',\n",
       " 'CO_humidityQ',\n",
       " 'CO_month',\n",
       " 'CO_season',\n",
       " 'CO_tempQ',\n",
       " 'CO_weather',\n",
       " 'CO_windspeedQ',\n",
       " 'CO_workingday',\n",
       " 'CO_hour',\n",
       " 'CO_year']"
      ]
     },
     "execution_count": 212,
     "metadata": {},
     "output_type": "execute_result"
    }
   ],
   "source": [
    "list(df_all_categorical)"
   ]
  },
  {
   "cell_type": "code",
   "execution_count": 213,
   "metadata": {},
   "outputs": [],
   "source": [
    "df_before_dummies = pd.concat([df_all_categorical,df_with_interaction], axis = 1)"
   ]
  },
  {
   "cell_type": "code",
   "execution_count": 214,
   "metadata": {},
   "outputs": [
    {
     "data": {
      "text/plain": [
       "(17379, 136)"
      ]
     },
     "execution_count": 214,
     "metadata": {},
     "output_type": "execute_result"
    }
   ],
   "source": [
    "df_before_dummies.shape"
   ]
  },
  {
   "cell_type": "code",
   "execution_count": 215,
   "metadata": {},
   "outputs": [
    {
     "data": {
      "text/html": [
       "<div>\n",
       "<style scoped>\n",
       "    .dataframe tbody tr th:only-of-type {\n",
       "        vertical-align: middle;\n",
       "    }\n",
       "\n",
       "    .dataframe tbody tr th {\n",
       "        vertical-align: top;\n",
       "    }\n",
       "\n",
       "    .dataframe thead th {\n",
       "        text-align: right;\n",
       "    }\n",
       "</style>\n",
       "<table border=\"1\" class=\"dataframe\">\n",
       "  <thead>\n",
       "    <tr style=\"text-align: right;\">\n",
       "      <th></th>\n",
       "      <th>CN_school</th>\n",
       "      <th>CN_soleilQ</th>\n",
       "      <th>CN_tendance_1Q</th>\n",
       "      <th>CN_tendance_2Q</th>\n",
       "      <th>CO_atempQ</th>\n",
       "      <th>CO_day</th>\n",
       "      <th>CO_holiday</th>\n",
       "      <th>CO_humidityQ</th>\n",
       "      <th>CO_month</th>\n",
       "      <th>CO_season</th>\n",
       "      <th>...</th>\n",
       "      <th>CO_weather_+_CO_windspeedQ</th>\n",
       "      <th>CO_weather_+_CO_workingday</th>\n",
       "      <th>CO_weather_+_CO_hour</th>\n",
       "      <th>CO_weather_+_CO_year</th>\n",
       "      <th>CO_windspeedQ_+_CO_workingday</th>\n",
       "      <th>CO_windspeedQ_+_CO_hour</th>\n",
       "      <th>CO_windspeedQ_+_CO_year</th>\n",
       "      <th>CO_workingday_+_CO_hour</th>\n",
       "      <th>CO_workingday_+_CO_year</th>\n",
       "      <th>CO_hour_+_CO_year</th>\n",
       "    </tr>\n",
       "  </thead>\n",
       "  <tbody>\n",
       "    <tr>\n",
       "      <th>0</th>\n",
       "      <td>0</td>\n",
       "      <td>[-74.5,-28]</td>\n",
       "      <td>[0.409,0.432]</td>\n",
       "      <td>[0,67]</td>\n",
       "      <td>[0.76,16.7]</td>\n",
       "      <td>Saturday</td>\n",
       "      <td>1</td>\n",
       "      <td>(77,100]</td>\n",
       "      <td>January</td>\n",
       "      <td>Printemps</td>\n",
       "      <td>...</td>\n",
       "      <td>Beau temps_[0,7]</td>\n",
       "      <td>Beau temps_0</td>\n",
       "      <td>Beau temps_0</td>\n",
       "      <td>Beau temps_2011</td>\n",
       "      <td>[0,7]_0</td>\n",
       "      <td>[0,7]_0</td>\n",
       "      <td>[0,7]_2011</td>\n",
       "      <td>0_0</td>\n",
       "      <td>0_2011</td>\n",
       "      <td>0_2011</td>\n",
       "    </tr>\n",
       "    <tr>\n",
       "      <th>1</th>\n",
       "      <td>0</td>\n",
       "      <td>[-74.5,-28]</td>\n",
       "      <td>[0.409,0.432]</td>\n",
       "      <td>[0,67]</td>\n",
       "      <td>[0.76,16.7]</td>\n",
       "      <td>Saturday</td>\n",
       "      <td>1</td>\n",
       "      <td>(77,100]</td>\n",
       "      <td>January</td>\n",
       "      <td>Printemps</td>\n",
       "      <td>...</td>\n",
       "      <td>Beau temps_[0,7]</td>\n",
       "      <td>Beau temps_0</td>\n",
       "      <td>Beau temps_1</td>\n",
       "      <td>Beau temps_2011</td>\n",
       "      <td>[0,7]_0</td>\n",
       "      <td>[0,7]_1</td>\n",
       "      <td>[0,7]_2011</td>\n",
       "      <td>0_1</td>\n",
       "      <td>0_2011</td>\n",
       "      <td>1_2011</td>\n",
       "    </tr>\n",
       "    <tr>\n",
       "      <th>2</th>\n",
       "      <td>0</td>\n",
       "      <td>[-74.5,-28]</td>\n",
       "      <td>[0.409,0.432]</td>\n",
       "      <td>[0,67]</td>\n",
       "      <td>[0.76,16.7]</td>\n",
       "      <td>Saturday</td>\n",
       "      <td>1</td>\n",
       "      <td>(77,100]</td>\n",
       "      <td>January</td>\n",
       "      <td>Printemps</td>\n",
       "      <td>...</td>\n",
       "      <td>Beau temps_[0,7]</td>\n",
       "      <td>Beau temps_0</td>\n",
       "      <td>Beau temps_2</td>\n",
       "      <td>Beau temps_2011</td>\n",
       "      <td>[0,7]_0</td>\n",
       "      <td>[0,7]_2</td>\n",
       "      <td>[0,7]_2011</td>\n",
       "      <td>0_2</td>\n",
       "      <td>0_2011</td>\n",
       "      <td>2_2011</td>\n",
       "    </tr>\n",
       "    <tr>\n",
       "      <th>3</th>\n",
       "      <td>0</td>\n",
       "      <td>[-74.5,-28]</td>\n",
       "      <td>[0.409,0.432]</td>\n",
       "      <td>[0,67]</td>\n",
       "      <td>[0.76,16.7]</td>\n",
       "      <td>Saturday</td>\n",
       "      <td>1</td>\n",
       "      <td>(62,77]</td>\n",
       "      <td>January</td>\n",
       "      <td>Printemps</td>\n",
       "      <td>...</td>\n",
       "      <td>Beau temps_[0,7]</td>\n",
       "      <td>Beau temps_0</td>\n",
       "      <td>Beau temps_3</td>\n",
       "      <td>Beau temps_2011</td>\n",
       "      <td>[0,7]_0</td>\n",
       "      <td>[0,7]_3</td>\n",
       "      <td>[0,7]_2011</td>\n",
       "      <td>0_3</td>\n",
       "      <td>0_2011</td>\n",
       "      <td>3_2011</td>\n",
       "    </tr>\n",
       "    <tr>\n",
       "      <th>4</th>\n",
       "      <td>0</td>\n",
       "      <td>[-74.5,-28]</td>\n",
       "      <td>[0.409,0.432]</td>\n",
       "      <td>[0,67]</td>\n",
       "      <td>[0.76,16.7]</td>\n",
       "      <td>Saturday</td>\n",
       "      <td>1</td>\n",
       "      <td>(62,77]</td>\n",
       "      <td>January</td>\n",
       "      <td>Printemps</td>\n",
       "      <td>...</td>\n",
       "      <td>Beau temps_[0,7]</td>\n",
       "      <td>Beau temps_0</td>\n",
       "      <td>Beau temps_4</td>\n",
       "      <td>Beau temps_2011</td>\n",
       "      <td>[0,7]_0</td>\n",
       "      <td>[0,7]_4</td>\n",
       "      <td>[0,7]_2011</td>\n",
       "      <td>0_4</td>\n",
       "      <td>0_2011</td>\n",
       "      <td>4_2011</td>\n",
       "    </tr>\n",
       "  </tbody>\n",
       "</table>\n",
       "<p>5 rows × 136 columns</p>\n",
       "</div>"
      ],
      "text/plain": [
       "  CN_school   CN_soleilQ CN_tendance_1Q CN_tendance_2Q    CO_atempQ    CO_day  \\\n",
       "0         0  [-74.5,-28]  [0.409,0.432]         [0,67]  [0.76,16.7]  Saturday   \n",
       "1         0  [-74.5,-28]  [0.409,0.432]         [0,67]  [0.76,16.7]  Saturday   \n",
       "2         0  [-74.5,-28]  [0.409,0.432]         [0,67]  [0.76,16.7]  Saturday   \n",
       "3         0  [-74.5,-28]  [0.409,0.432]         [0,67]  [0.76,16.7]  Saturday   \n",
       "4         0  [-74.5,-28]  [0.409,0.432]         [0,67]  [0.76,16.7]  Saturday   \n",
       "\n",
       "  CO_holiday CO_humidityQ CO_month  CO_season  ... CO_weather_+_CO_windspeedQ  \\\n",
       "0          1     (77,100]  January  Printemps  ...           Beau temps_[0,7]   \n",
       "1          1     (77,100]  January  Printemps  ...           Beau temps_[0,7]   \n",
       "2          1     (77,100]  January  Printemps  ...           Beau temps_[0,7]   \n",
       "3          1      (62,77]  January  Printemps  ...           Beau temps_[0,7]   \n",
       "4          1      (62,77]  January  Printemps  ...           Beau temps_[0,7]   \n",
       "\n",
       "  CO_weather_+_CO_workingday CO_weather_+_CO_hour CO_weather_+_CO_year  \\\n",
       "0               Beau temps_0         Beau temps_0      Beau temps_2011   \n",
       "1               Beau temps_0         Beau temps_1      Beau temps_2011   \n",
       "2               Beau temps_0         Beau temps_2      Beau temps_2011   \n",
       "3               Beau temps_0         Beau temps_3      Beau temps_2011   \n",
       "4               Beau temps_0         Beau temps_4      Beau temps_2011   \n",
       "\n",
       "  CO_windspeedQ_+_CO_workingday CO_windspeedQ_+_CO_hour  \\\n",
       "0                       [0,7]_0                 [0,7]_0   \n",
       "1                       [0,7]_0                 [0,7]_1   \n",
       "2                       [0,7]_0                 [0,7]_2   \n",
       "3                       [0,7]_0                 [0,7]_3   \n",
       "4                       [0,7]_0                 [0,7]_4   \n",
       "\n",
       "  CO_windspeedQ_+_CO_year CO_workingday_+_CO_hour CO_workingday_+_CO_year  \\\n",
       "0              [0,7]_2011                     0_0                  0_2011   \n",
       "1              [0,7]_2011                     0_1                  0_2011   \n",
       "2              [0,7]_2011                     0_2                  0_2011   \n",
       "3              [0,7]_2011                     0_3                  0_2011   \n",
       "4              [0,7]_2011                     0_4                  0_2011   \n",
       "\n",
       "  CO_hour_+_CO_year  \n",
       "0            0_2011  \n",
       "1            1_2011  \n",
       "2            2_2011  \n",
       "3            3_2011  \n",
       "4            4_2011  \n",
       "\n",
       "[5 rows x 136 columns]"
      ]
     },
     "execution_count": 215,
     "metadata": {},
     "output_type": "execute_result"
    }
   ],
   "source": [
    "df_before_dummies.head()"
   ]
  },
  {
   "cell_type": "code",
   "execution_count": 216,
   "metadata": {},
   "outputs": [],
   "source": [
    "# Transformation de toutes les variables catégorielles:\n",
    "df_all_dummies = pd.get_dummies(df_before_dummies)"
   ]
  },
  {
   "cell_type": "code",
   "execution_count": 217,
   "metadata": {},
   "outputs": [
    {
     "data": {
      "text/plain": [
       "(17379, 6422)"
      ]
     },
     "execution_count": 217,
     "metadata": {},
     "output_type": "execute_result"
    }
   ],
   "source": [
    "df_all_dummies.shape"
   ]
  },
  {
   "cell_type": "code",
   "execution_count": 218,
   "metadata": {},
   "outputs": [],
   "source": [
    "# import random\n",
    "# random.choices(list(df_all_dummies), k=10)"
   ]
  },
  {
   "cell_type": "code",
   "execution_count": 219,
   "metadata": {},
   "outputs": [
    {
     "data": {
      "text/plain": [
       "['CN_school',\n",
       " 'CN_soleilQ',\n",
       " 'CN_tendance_1Q',\n",
       " 'CN_tendance_2Q',\n",
       " 'CO_atempQ',\n",
       " 'CO_day',\n",
       " 'CO_holiday',\n",
       " 'CO_humidityQ',\n",
       " 'CO_month',\n",
       " 'CO_season',\n",
       " 'CO_tempQ',\n",
       " 'CO_weather',\n",
       " 'CO_windspeedQ',\n",
       " 'CO_workingday',\n",
       " 'CO_hour',\n",
       " 'CO_year']"
      ]
     },
     "execution_count": 219,
     "metadata": {},
     "output_type": "execute_result"
    }
   ],
   "source": [
    "all_categorical"
   ]
  },
  {
   "cell_type": "code",
   "execution_count": 220,
   "metadata": {},
   "outputs": [
    {
     "data": {
      "text/plain": [
       "['CN_school',\n",
       " 'CN_soleilQ',\n",
       " 'CN_tendance_1Q',\n",
       " 'CN_tendance_2Q',\n",
       " 'CO_atempQ',\n",
       " 'CO_day',\n",
       " 'CO_holiday',\n",
       " 'CO_humidityQ',\n",
       " 'CO_month',\n",
       " 'CO_season',\n",
       " 'CO_tempQ',\n",
       " 'CO_weather',\n",
       " 'CO_windspeedQ',\n",
       " 'CO_workingday',\n",
       " 'NN_soleil',\n",
       " 'NN_tendance_1',\n",
       " 'NN_tendance_2',\n",
       " 'NO_atemp',\n",
       " 'NO_humidity',\n",
       " 'NO_temp',\n",
       " 'NO_windspeed',\n",
       " 'S_casual',\n",
       " 'S_casualQ',\n",
       " 'S_rateregis',\n",
       " 'S_rateregisQ',\n",
       " 'S_registered',\n",
       " 'S_registeredQ',\n",
       " 'datetime',\n",
       " 'CO_hour',\n",
       " 'CO_year',\n",
       " 'day']"
      ]
     },
     "execution_count": 220,
     "metadata": {},
     "output_type": "execute_result"
    }
   ],
   "source": [
    "list(df)"
   ]
  },
  {
   "cell_type": "code",
   "execution_count": 221,
   "metadata": {},
   "outputs": [
    {
     "data": {
      "text/plain": [
       "(17379, 6422)"
      ]
     },
     "execution_count": 221,
     "metadata": {},
     "output_type": "execute_result"
    }
   ],
   "source": [
    "df_all_dummies.shape"
   ]
  },
  {
   "cell_type": "markdown",
   "metadata": {},
   "source": [
    "Rassemblement de toutes les variables : les numériques et toutes les dummy variables"
   ]
  },
  {
   "cell_type": "code",
   "execution_count": 222,
   "metadata": {},
   "outputs": [],
   "source": [
    "# nodup = []\n",
    "# for each in ['datetime','NO_temp','NO_atemp','NO_humidity','NO_windspeed','NN_soleil','NN_tendance_1','NN_tendance_2'] + list(df_all_dummies):\n",
    "   # if each not in nodup:\n",
    "       # nodup.append(each)\n",
    "# nodup == ['datetime','NO_temp','NO_atemp','NO_humidity','NO_windspeed','NN_soleil','NN_tendance_1','NN_tendance_2'] + list(df_all_dummies)\n",
    "# True"
   ]
  },
  {
   "cell_type": "code",
   "execution_count": 223,
   "metadata": {},
   "outputs": [],
   "source": [
    "all_df = pd.concat([df[['datetime','NO_temp','NO_atemp','NO_humidity','NO_windspeed','NN_soleil','NN_tendance_1','NN_tendance_2']], df_all_dummies], axis = 1)"
   ]
  },
  {
   "cell_type": "code",
   "execution_count": 224,
   "metadata": {},
   "outputs": [
    {
     "data": {
      "text/plain": [
       "(17379, 6430)"
      ]
     },
     "execution_count": 224,
     "metadata": {},
     "output_type": "execute_result"
    }
   ],
   "source": [
    "all_df.shape"
   ]
  },
  {
   "cell_type": "markdown",
   "metadata": {},
   "source": [
    "On distingue les données de \"train\" + \"test\" pour réaliser les modèles<br>\n",
    "versus les données de \"test\" de Kaggle"
   ]
  },
  {
   "cell_type": "code",
   "execution_count": 225,
   "metadata": {},
   "outputs": [],
   "source": [
    "all_df[\"day\"] = pd.to_datetime(all_df[\"datetime\"]).dt.day"
   ]
  },
  {
   "cell_type": "code",
   "execution_count": 226,
   "metadata": {},
   "outputs": [],
   "source": [
    "df_for_models = all_df[all_df[\"day\"] < 20 ]\n",
    "df_test_kaggle_interaction_and_dummies = all_df[all_df[\"day\"] >= 20]"
   ]
  },
  {
   "cell_type": "code",
   "execution_count": 227,
   "metadata": {},
   "outputs": [
    {
     "data": {
      "text/plain": [
       "(10886, 6431)"
      ]
     },
     "execution_count": 227,
     "metadata": {},
     "output_type": "execute_result"
    }
   ],
   "source": [
    "df_for_models.shape"
   ]
  },
  {
   "cell_type": "code",
   "execution_count": 228,
   "metadata": {},
   "outputs": [],
   "source": [
    "df_for_cv_interaction_and_dummies = df_for_models\n",
    "del df_for_models\n",
    "df_for_cv_interaction_and_dummies = df_for_cv_interaction_and_dummies.drop(\"day\", axis = 1)\n",
    "df_test_kaggle_interaction_and_dummies = df_test_kaggle_interaction_and_dummies.drop(\"day\", axis = 1)"
   ]
  },
  {
   "cell_type": "code",
   "execution_count": 229,
   "metadata": {},
   "outputs": [
    {
     "data": {
      "text/plain": [
       "(10886, 6430)"
      ]
     },
     "execution_count": 229,
     "metadata": {},
     "output_type": "execute_result"
    }
   ],
   "source": [
    "df_for_cv_interaction_and_dummies.shape"
   ]
  },
  {
   "cell_type": "code",
   "execution_count": 230,
   "metadata": {},
   "outputs": [
    {
     "data": {
      "text/plain": [
       "(6493, 6430)"
      ]
     },
     "execution_count": 230,
     "metadata": {},
     "output_type": "execute_result"
    }
   ],
   "source": [
    "df_test_kaggle_interaction_and_dummies.shape"
   ]
  },
  {
   "cell_type": "code",
   "execution_count": 232,
   "metadata": {},
   "outputs": [
    {
     "data": {
      "text/plain": [
       "True"
      ]
     },
     "execution_count": 232,
     "metadata": {},
     "output_type": "execute_result"
    }
   ],
   "source": [
    "# list(df_for_cv_interaction_and_dummies) == list(df_test_kaggle_interaction_and_dummies)"
   ]
  },
  {
   "cell_type": "code",
   "execution_count": 231,
   "metadata": {},
   "outputs": [],
   "source": [
    "# Données en vue de faire de la cross validation\n",
    "df_for_cv_interaction_and_dummies.to_pickle(\"df_for_cv_interaction_and_dummies.pkl\")\n",
    "# Données de test de Kaggle \n",
    "df_test_kaggle_interaction_and_dummies.to_pickle(\"df_test_kaggle_interaction_and_dummies.pkl\")"
   ]
  },
  {
   "cell_type": "code",
   "execution_count": 93,
   "metadata": {},
   "outputs": [],
   "source": [
    "# Données pour apprentissage des modèles\n",
    "# X_train.to_pickle(\"X_train_n.pkl\")\n",
    "# X_test.to_pickle(\"X_test_n.pkl\")\n",
    "# Y_train.to_pickle(\"Y_train_n.pkl\")\n",
    "# Y_test.to_pickle(\"Y_test_n.pkl\")"
   ]
  }
 ],
 "metadata": {
  "kernelspec": {
   "display_name": "data",
   "language": "python",
   "name": "data"
  },
  "language_info": {
   "codemirror_mode": {
    "name": "ipython",
    "version": 3
   },
   "file_extension": ".py",
   "mimetype": "text/x-python",
   "name": "python",
   "nbconvert_exporter": "python",
   "pygments_lexer": "ipython3",
   "version": "3.6.8"
  }
 },
 "nbformat": 4,
 "nbformat_minor": 2
}
