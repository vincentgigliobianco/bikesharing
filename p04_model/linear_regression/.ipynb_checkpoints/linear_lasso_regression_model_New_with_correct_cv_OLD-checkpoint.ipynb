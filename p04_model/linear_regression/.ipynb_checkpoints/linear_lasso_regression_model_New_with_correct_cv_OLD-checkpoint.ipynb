{
 "cells": [
  {
   "cell_type": "code",
   "execution_count": 477,
   "metadata": {},
   "outputs": [],
   "source": [
    "import pandas as pd\n",
    "import numpy as np\n",
    "from sklearn.linear_model import Ridge, Lasso\n",
    "from sklearn.metrics import mean_squared_error\n",
    "# from sklearn.model_selection import GridSearchCV\n",
    "from sklearn.model_selection import RandomizedSearchCV\n",
    "import matplotlib.pyplot as plt\n",
    "\n",
    "from scipy.stats import uniform, randint\n",
    "from sklearn.metrics import make_scorer"
   ]
  },
  {
   "cell_type": "code",
   "execution_count": 478,
   "metadata": {},
   "outputs": [],
   "source": [
    "df_for_cv_interaction_and_dummies = pd.read_pickle(\"../data/df_for_cv_interaction_and_dummies.pkl\")\n",
    "all_var_x = [each for each in list(df_for_cv_interaction_and_dummies) if each != \"count\" and each != \"datetime\"]\n",
    "X_train = df_for_cv_interaction_and_dummies[all_var_x]\n",
    "Y_train = df_for_cv_interaction_and_dummies[[\"count\"]]"
   ]
  },
  {
   "cell_type": "code",
   "execution_count": 479,
   "metadata": {},
   "outputs": [
    {
     "name": "stderr",
     "output_type": "stream",
     "text": [
      "/home/osboxes/anaconda3/envs/data/lib/python3.6/site-packages/ipykernel_launcher.py:2: SettingWithCopyWarning: \n",
      "A value is trying to be set on a copy of a slice from a DataFrame.\n",
      "Try using .loc[row_indexer,col_indexer] = value instead\n",
      "\n",
      "See the caveats in the documentation: http://pandas.pydata.org/pandas-docs/stable/indexing.html#indexing-view-versus-copy\n",
      "  \n"
     ]
    }
   ],
   "source": [
    "# Calcul des Y = log(Y + 1)\n",
    "Y_train['log_count'] = Y_train['count'].map(lambda x: np.log1p(x))\n",
    "Y_train = Y_train.drop(\"count\", axis = 1)"
   ]
  },
  {
   "cell_type": "code",
   "execution_count": 20,
   "metadata": {},
   "outputs": [],
   "source": [
    "# Hyperparamètre de régularisation\n",
    "# On fait un \"random avec : alpha = 0.01 to 100 "
   ]
  },
  {
   "cell_type": "code",
   "execution_count": 462,
   "metadata": {},
   "outputs": [],
   "source": [
    "def MSE(a,b):\n",
    "    resultat = np.mean((a - b)**2)\n",
    "    #resultat = mean_squared_error(a,b)\n",
    "    return resultat\n",
    "\n",
    "mse = make_scorer(MSE, greater_is_better=False)\n",
    "\n",
    "lasso_model = Lasso()\n",
    "\n",
    "params = {\"alpha\": randint(0, 100)}"
   ]
  },
  {
   "cell_type": "code",
   "execution_count": 463,
   "metadata": {},
   "outputs": [
    {
     "name": "stdout",
     "output_type": "stream",
     "text": [
      "def mean_squared_error(y_true, y_pred,\n",
      "                       sample_weight=None,\n",
      "                       multioutput='uniform_average'):\n",
      "    \"\"\"Mean squared error regression loss\n",
      "\n",
      "    Read more in the :ref:`User Guide <mean_squared_error>`.\n",
      "\n",
      "    Parameters\n",
      "    ----------\n",
      "    y_true : array-like of shape = (n_samples) or (n_samples, n_outputs)\n",
      "        Ground truth (correct) target values.\n",
      "\n",
      "    y_pred : array-like of shape = (n_samples) or (n_samples, n_outputs)\n",
      "        Estimated target values.\n",
      "\n",
      "    sample_weight : array-like of shape = (n_samples), optional\n",
      "        Sample weights.\n",
      "\n",
      "    multioutput : string in ['raw_values', 'uniform_average']\n",
      "        or array-like of shape (n_outputs)\n",
      "        Defines aggregating of multiple output values.\n",
      "        Array-like value defines weights used to average errors.\n",
      "\n",
      "        'raw_values' :\n",
      "            Returns a full set of errors in case of multioutput input.\n",
      "\n",
      "        'uniform_average' :\n",
      "            Errors of all outputs are averaged with uniform weight.\n",
      "\n",
      "    Returns\n",
      "    -------\n",
      "    loss : float or ndarray of floats\n",
      "        A non-negative floating point value (the best value is 0.0), or an\n",
      "        array of floating point values, one for each individual target.\n",
      "\n",
      "    Examples\n",
      "    --------\n",
      "    >>> from sklearn.metrics import mean_squared_error\n",
      "    >>> y_true = [3, -0.5, 2, 7]\n",
      "    >>> y_pred = [2.5, 0.0, 2, 8]\n",
      "    >>> mean_squared_error(y_true, y_pred)\n",
      "    0.375\n",
      "    >>> y_true = [[0.5, 1],[-1, 1],[7, -6]]\n",
      "    >>> y_pred = [[0, 2],[-1, 2],[8, -5]]\n",
      "    >>> mean_squared_error(y_true, y_pred)  # doctest: +ELLIPSIS\n",
      "    0.708...\n",
      "    >>> mean_squared_error(y_true, y_pred, multioutput='raw_values')\n",
      "    ... # doctest: +ELLIPSIS\n",
      "    array([0.41666667, 1.        ])\n",
      "    >>> mean_squared_error(y_true, y_pred, multioutput=[0.3, 0.7])\n",
      "    ... # doctest: +ELLIPSIS\n",
      "    0.825...\n",
      "\n",
      "    \"\"\"\n",
      "    y_type, y_true, y_pred, multioutput = _check_reg_targets(\n",
      "        y_true, y_pred, multioutput)\n",
      "    check_consistent_length(y_true, y_pred, sample_weight)\n",
      "    output_errors = np.average((y_true - y_pred) ** 2, axis=0,\n",
      "                               weights=sample_weight)\n",
      "    if isinstance(multioutput, str):\n",
      "        if multioutput == 'raw_values':\n",
      "            return output_errors\n",
      "        elif multioutput == 'uniform_average':\n",
      "            # pass None as weights to np.average: uniform mean\n",
      "            multioutput = None\n",
      "\n",
      "    return np.average(output_errors, weights=multioutput)\n",
      "\n"
     ]
    }
   ],
   "source": [
    "import inspect\n",
    "lines = inspect.getsource(mean_squared_error)\n",
    "print(lines)"
   ]
  },
  {
   "cell_type": "code",
   "execution_count": 464,
   "metadata": {},
   "outputs": [],
   "source": [
    "a = np.array([2,3])\n",
    "b = np.array([4,5])"
   ]
  },
  {
   "cell_type": "code",
   "execution_count": 465,
   "metadata": {},
   "outputs": [],
   "source": [
    "a = np.expand_dims(a,1)\n",
    "b = np.expand_dims(b,1)"
   ]
  },
  {
   "cell_type": "code",
   "execution_count": null,
   "metadata": {},
   "outputs": [],
   "source": []
  },
  {
   "cell_type": "code",
   "execution_count": 466,
   "metadata": {},
   "outputs": [
    {
     "data": {
      "text/plain": [
       "2"
      ]
     },
     "execution_count": 466,
     "metadata": {},
     "output_type": "execute_result"
    }
   ],
   "source": [
    "a.shape[0]"
   ]
  },
  {
   "cell_type": "code",
   "execution_count": 467,
   "metadata": {},
   "outputs": [],
   "source": [
    "search_custom = RandomizedSearchCV(lasso_model,\n",
    "                            scoring = mse,\n",
    "                            param_distributions=params,\n",
    "                            random_state=42,\n",
    "                            n_iter=1,\n",
    "                            cv=2)"
   ]
  },
  {
   "cell_type": "code",
   "execution_count": 468,
   "metadata": {},
   "outputs": [],
   "source": [
    "search_official = RandomizedSearchCV(lasso_model,\n",
    "                            scoring=\"neg_mean_squared_error\",\n",
    "                            param_distributions=params,\n",
    "                            random_state=42,\n",
    "                            n_iter=1,\n",
    "                            cv=2)"
   ]
  },
  {
   "cell_type": "code",
   "execution_count": 469,
   "metadata": {},
   "outputs": [
    {
     "data": {
      "text/plain": [
       "RandomizedSearchCV(cv=2, error_score='raise-deprecating',\n",
       "                   estimator=Lasso(alpha=1.0, copy_X=True, fit_intercept=True,\n",
       "                                   max_iter=1000, normalize=False,\n",
       "                                   positive=False, precompute=False,\n",
       "                                   random_state=None, selection='cyclic',\n",
       "                                   tol=0.0001, warm_start=False),\n",
       "                   iid='warn', n_iter=1, n_jobs=None,\n",
       "                   param_distributions={'alpha': <scipy.stats._distn_infrastructure.rv_frozen object at 0x7f379eecd5f8>},\n",
       "                   pre_dispatch='2*n_jobs', random_state=42, refit=True,\n",
       "                   return_train_score=False, scoring='neg_mean_squared_error',\n",
       "                   verbose=0)"
      ]
     },
     "execution_count": 469,
     "metadata": {},
     "output_type": "execute_result"
    }
   ],
   "source": [
    "firstrow = 3\n",
    "search_custom.fit(X_train, Y_train.values)\n",
    "search_official.fit(X_train, Y_train.values)"
   ]
  },
  {
   "cell_type": "code",
   "execution_count": 470,
   "metadata": {},
   "outputs": [
    {
     "data": {
      "text/html": [
       "<div>\n",
       "<style scoped>\n",
       "    .dataframe tbody tr th:only-of-type {\n",
       "        vertical-align: middle;\n",
       "    }\n",
       "\n",
       "    .dataframe tbody tr th {\n",
       "        vertical-align: top;\n",
       "    }\n",
       "\n",
       "    .dataframe thead th {\n",
       "        text-align: right;\n",
       "    }\n",
       "</style>\n",
       "<table border=\"1\" class=\"dataframe\">\n",
       "  <thead>\n",
       "    <tr style=\"text-align: right;\">\n",
       "      <th></th>\n",
       "      <th>mean_fit_time</th>\n",
       "      <th>std_fit_time</th>\n",
       "      <th>mean_score_time</th>\n",
       "      <th>std_score_time</th>\n",
       "      <th>param_alpha</th>\n",
       "      <th>params</th>\n",
       "      <th>split0_test_score</th>\n",
       "      <th>split1_test_score</th>\n",
       "      <th>mean_test_score</th>\n",
       "      <th>std_test_score</th>\n",
       "      <th>rank_test_score</th>\n",
       "    </tr>\n",
       "  </thead>\n",
       "  <tbody>\n",
       "    <tr>\n",
       "      <th>0</th>\n",
       "      <td>2.127274</td>\n",
       "      <td>0.241406</td>\n",
       "      <td>0.790233</td>\n",
       "      <td>0.003104</td>\n",
       "      <td>51</td>\n",
       "      <td>{'alpha': 51}</td>\n",
       "      <td>-2.160419</td>\n",
       "      <td>-2.259159</td>\n",
       "      <td>-2.209789</td>\n",
       "      <td>0.04937</td>\n",
       "      <td>1</td>\n",
       "    </tr>\n",
       "  </tbody>\n",
       "</table>\n",
       "</div>"
      ],
      "text/plain": [
       "   mean_fit_time  std_fit_time  mean_score_time  std_score_time param_alpha  \\\n",
       "0       2.127274      0.241406         0.790233        0.003104          51   \n",
       "\n",
       "          params  split0_test_score  split1_test_score  mean_test_score  \\\n",
       "0  {'alpha': 51}          -2.160419          -2.259159        -2.209789   \n",
       "\n",
       "   std_test_score  rank_test_score  \n",
       "0         0.04937                1  "
      ]
     },
     "execution_count": 470,
     "metadata": {},
     "output_type": "execute_result"
    }
   ],
   "source": [
    "pd.DataFrame(search_custom.cv_results_)"
   ]
  },
  {
   "cell_type": "code",
   "execution_count": 471,
   "metadata": {},
   "outputs": [
    {
     "data": {
      "text/html": [
       "<div>\n",
       "<style scoped>\n",
       "    .dataframe tbody tr th:only-of-type {\n",
       "        vertical-align: middle;\n",
       "    }\n",
       "\n",
       "    .dataframe tbody tr th {\n",
       "        vertical-align: top;\n",
       "    }\n",
       "\n",
       "    .dataframe thead th {\n",
       "        text-align: right;\n",
       "    }\n",
       "</style>\n",
       "<table border=\"1\" class=\"dataframe\">\n",
       "  <thead>\n",
       "    <tr style=\"text-align: right;\">\n",
       "      <th></th>\n",
       "      <th>mean_fit_time</th>\n",
       "      <th>std_fit_time</th>\n",
       "      <th>mean_score_time</th>\n",
       "      <th>std_score_time</th>\n",
       "      <th>param_alpha</th>\n",
       "      <th>params</th>\n",
       "      <th>split0_test_score</th>\n",
       "      <th>split1_test_score</th>\n",
       "      <th>mean_test_score</th>\n",
       "      <th>std_test_score</th>\n",
       "      <th>rank_test_score</th>\n",
       "    </tr>\n",
       "  </thead>\n",
       "  <tbody>\n",
       "    <tr>\n",
       "      <th>0</th>\n",
       "      <td>1.849337</td>\n",
       "      <td>0.041364</td>\n",
       "      <td>0.354665</td>\n",
       "      <td>0.003485</td>\n",
       "      <td>51</td>\n",
       "      <td>{'alpha': 51}</td>\n",
       "      <td>-2.160419</td>\n",
       "      <td>-2.259159</td>\n",
       "      <td>-2.209789</td>\n",
       "      <td>0.04937</td>\n",
       "      <td>1</td>\n",
       "    </tr>\n",
       "  </tbody>\n",
       "</table>\n",
       "</div>"
      ],
      "text/plain": [
       "   mean_fit_time  std_fit_time  mean_score_time  std_score_time param_alpha  \\\n",
       "0       1.849337      0.041364         0.354665        0.003485          51   \n",
       "\n",
       "          params  split0_test_score  split1_test_score  mean_test_score  \\\n",
       "0  {'alpha': 51}          -2.160419          -2.259159        -2.209789   \n",
       "\n",
       "   std_test_score  rank_test_score  \n",
       "0         0.04937                1  "
      ]
     },
     "execution_count": 471,
     "metadata": {},
     "output_type": "execute_result"
    }
   ],
   "source": [
    "pd.DataFrame(search_official.cv_results_)"
   ]
  },
  {
   "cell_type": "code",
   "execution_count": null,
   "metadata": {},
   "outputs": [],
   "source": []
  },
  {
   "cell_type": "code",
   "execution_count": 472,
   "metadata": {},
   "outputs": [
    {
     "data": {
      "text/plain": [
       "1.1048943644130076"
      ]
     },
     "execution_count": 472,
     "metadata": {},
     "output_type": "execute_result"
    }
   ],
   "source": [
    "12027.880051/X_train.shape[0]"
   ]
  },
  {
   "cell_type": "code",
   "execution_count": 473,
   "metadata": {},
   "outputs": [
    {
     "data": {
      "text/plain": [
       "3.421751595037568"
      ]
     },
     "execution_count": 473,
     "metadata": {},
     "output_type": "execute_result"
    }
   ],
   "source": [
    "np.exp(np.sqrt(2.209789))-1"
   ]
  },
  {
   "cell_type": "code",
   "execution_count": 474,
   "metadata": {},
   "outputs": [
    {
     "data": {
      "text/plain": [
       "4.263936278158026e+47"
      ]
     },
     "execution_count": 474,
     "metadata": {},
     "output_type": "execute_result"
    }
   ],
   "source": [
    "np.exp(np.sqrt(12027.880051)) - 1"
   ]
  },
  {
   "cell_type": "code",
   "execution_count": 475,
   "metadata": {},
   "outputs": [
    {
     "data": {
      "text/plain": [
       "2.6881171418161356e+43"
      ]
     },
     "execution_count": 475,
     "metadata": {},
     "output_type": "execute_result"
    }
   ],
   "source": [
    "np.exp(100) - 1"
   ]
  },
  {
   "cell_type": "code",
   "execution_count": 476,
   "metadata": {},
   "outputs": [
    {
     "data": {
      "text/html": [
       "<div>\n",
       "<style scoped>\n",
       "    .dataframe tbody tr th:only-of-type {\n",
       "        vertical-align: middle;\n",
       "    }\n",
       "\n",
       "    .dataframe tbody tr th {\n",
       "        vertical-align: top;\n",
       "    }\n",
       "\n",
       "    .dataframe thead th {\n",
       "        text-align: right;\n",
       "    }\n",
       "</style>\n",
       "<table border=\"1\" class=\"dataframe\">\n",
       "  <thead>\n",
       "    <tr style=\"text-align: right;\">\n",
       "      <th></th>\n",
       "      <th>log_count</th>\n",
       "    </tr>\n",
       "  </thead>\n",
       "  <tbody>\n",
       "    <tr>\n",
       "      <th>0</th>\n",
       "      <td>2.833213</td>\n",
       "    </tr>\n",
       "    <tr>\n",
       "      <th>1</th>\n",
       "      <td>3.713572</td>\n",
       "    </tr>\n",
       "    <tr>\n",
       "      <th>2</th>\n",
       "      <td>3.496508</td>\n",
       "    </tr>\n",
       "  </tbody>\n",
       "</table>\n",
       "</div>"
      ],
      "text/plain": [
       "   log_count\n",
       "0   2.833213\n",
       "1   3.713572\n",
       "2   3.496508"
      ]
     },
     "execution_count": 476,
     "metadata": {},
     "output_type": "execute_result"
    }
   ],
   "source": [
    "Y_train[:3]"
   ]
  },
  {
   "cell_type": "code",
   "execution_count": 405,
   "metadata": {},
   "outputs": [
    {
     "data": {
      "text/plain": [
       " 0.000000     6288\n",
       " 1.000000      136\n",
       "-71.066026       1\n",
       " 0.418093        1\n",
       " 9.020000        1\n",
       " 13.635000       1\n",
       " 80.000000       1\n",
       "Name: 2, dtype: int64"
      ]
     },
     "execution_count": 405,
     "metadata": {},
     "output_type": "execute_result"
    }
   ],
   "source": [
    "X_train.loc[2].value_counts()"
   ]
  },
  {
   "cell_type": "code",
   "execution_count": 316,
   "metadata": {},
   "outputs": [
    {
     "data": {
      "text/plain": [
       "log_count    0\n",
       "dtype: int64"
      ]
     },
     "execution_count": 316,
     "metadata": {},
     "output_type": "execute_result"
    }
   ],
   "source": [
    "Y_train.isnull().sum()"
   ]
  },
  {
   "cell_type": "code",
   "execution_count": null,
   "metadata": {},
   "outputs": [],
   "source": []
  },
  {
   "cell_type": "code",
   "execution_count": 333,
   "metadata": {},
   "outputs": [
    {
     "data": {
      "text/plain": [
       "1.375"
      ]
     },
     "execution_count": 333,
     "metadata": {},
     "output_type": "execute_result"
    }
   ],
   "source": [
    "from sklearn.metrics import mean_squared_error\n",
    "y_true = np.array([[3],\n",
    "                   [-0.5],\n",
    "                   [0], \n",
    "                   [7]])\n",
    "y_pred = np.array([[2.5], \n",
    "                   [0.0], \n",
    "                   [2], \n",
    "                   [8]])\n",
    "mean_squared_error(y_true, y_pred)"
   ]
  },
  {
   "cell_type": "code",
   "execution_count": 334,
   "metadata": {},
   "outputs": [],
   "source": [
    "def RMLSE(a,b):\n",
    "    # resultat = np.mean((a - b)**2, axis=0)\n",
    "    resultat = np.sum((a - b)**2)/(a.shape[0])\n",
    "\n",
    "    return resultat"
   ]
  },
  {
   "cell_type": "code",
   "execution_count": 335,
   "metadata": {},
   "outputs": [
    {
     "data": {
      "text/plain": [
       "1.375"
      ]
     },
     "execution_count": 335,
     "metadata": {},
     "output_type": "execute_result"
    }
   ],
   "source": [
    "RMLSE(y_true,y_pred)"
   ]
  },
  {
   "cell_type": "code",
   "execution_count": null,
   "metadata": {},
   "outputs": [],
   "source": []
  },
  {
   "cell_type": "code",
   "execution_count": null,
   "metadata": {},
   "outputs": [],
   "source": []
  },
  {
   "cell_type": "code",
   "execution_count": null,
   "metadata": {},
   "outputs": [],
   "source": []
  },
  {
   "cell_type": "code",
   "execution_count": null,
   "metadata": {},
   "outputs": [],
   "source": []
  },
  {
   "cell_type": "code",
   "execution_count": null,
   "metadata": {},
   "outputs": [],
   "source": []
  },
  {
   "cell_type": "code",
   "execution_count": null,
   "metadata": {},
   "outputs": [],
   "source": []
  },
  {
   "cell_type": "code",
   "execution_count": null,
   "metadata": {},
   "outputs": [],
   "source": []
  },
  {
   "cell_type": "code",
   "execution_count": 18,
   "metadata": {},
   "outputs": [
    {
     "name": "stdout",
     "output_type": "stream",
     "text": [
      "1027.274558544159\n"
     ]
    }
   ],
   "source": [
    "# %%time\n",
    "# model = Lasso()\n",
    "# parameters = {'alpha':[0.1,0.5,1,5]}\n",
    "# grid = GridSearchCV(model,parameters, cv=5)\n",
    "# grid.fit(X_train, Y_train)"
   ]
  },
  {
   "cell_type": "code",
   "execution_count": 26,
   "metadata": {},
   "outputs": [
    {
     "data": {
      "text/html": [
       "<div>\n",
       "<style scoped>\n",
       "    .dataframe tbody tr th:only-of-type {\n",
       "        vertical-align: middle;\n",
       "    }\n",
       "\n",
       "    .dataframe tbody tr th {\n",
       "        vertical-align: top;\n",
       "    }\n",
       "\n",
       "    .dataframe thead th {\n",
       "        text-align: right;\n",
       "    }\n",
       "</style>\n",
       "<table border=\"1\" class=\"dataframe\">\n",
       "  <thead>\n",
       "    <tr style=\"text-align: right;\">\n",
       "      <th></th>\n",
       "      <th>mean_fit_time</th>\n",
       "      <th>std_fit_time</th>\n",
       "      <th>mean_score_time</th>\n",
       "      <th>std_score_time</th>\n",
       "      <th>param_alpha</th>\n",
       "      <th>params</th>\n",
       "      <th>split0_test_score</th>\n",
       "      <th>split1_test_score</th>\n",
       "      <th>split2_test_score</th>\n",
       "      <th>split3_test_score</th>\n",
       "      <th>...</th>\n",
       "      <th>mean_test_score</th>\n",
       "      <th>std_test_score</th>\n",
       "      <th>rank_test_score</th>\n",
       "      <th>split0_train_score</th>\n",
       "      <th>split1_train_score</th>\n",
       "      <th>split2_train_score</th>\n",
       "      <th>split3_train_score</th>\n",
       "      <th>split4_train_score</th>\n",
       "      <th>mean_train_score</th>\n",
       "      <th>std_train_score</th>\n",
       "    </tr>\n",
       "  </thead>\n",
       "  <tbody>\n",
       "    <tr>\n",
       "      <th>0</th>\n",
       "      <td>3.266942</td>\n",
       "      <td>0.399025</td>\n",
       "      <td>0.179292</td>\n",
       "      <td>0.007880</td>\n",
       "      <td>51</td>\n",
       "      <td>{'alpha': 51}</td>\n",
       "      <td>-0.353322</td>\n",
       "      <td>-0.048172</td>\n",
       "      <td>-0.043802</td>\n",
       "      <td>-0.092302</td>\n",
       "      <td>...</td>\n",
       "      <td>-0.128257</td>\n",
       "      <td>0.114995</td>\n",
       "      <td>3</td>\n",
       "      <td>0.000000</td>\n",
       "      <td>0.060751</td>\n",
       "      <td>0.048074</td>\n",
       "      <td>0.023277</td>\n",
       "      <td>0.006526</td>\n",
       "      <td>0.027726</td>\n",
       "      <td>0.023421</td>\n",
       "    </tr>\n",
       "    <tr>\n",
       "      <th>1</th>\n",
       "      <td>3.623007</td>\n",
       "      <td>0.198858</td>\n",
       "      <td>0.223998</td>\n",
       "      <td>0.044502</td>\n",
       "      <td>92</td>\n",
       "      <td>{'alpha': 92}</td>\n",
       "      <td>-0.353322</td>\n",
       "      <td>-0.008570</td>\n",
       "      <td>-0.041142</td>\n",
       "      <td>-0.126530</td>\n",
       "      <td>...</td>\n",
       "      <td>-0.131021</td>\n",
       "      <td>0.120464</td>\n",
       "      <td>4</td>\n",
       "      <td>0.000000</td>\n",
       "      <td>0.002555</td>\n",
       "      <td>0.000000</td>\n",
       "      <td>0.000000</td>\n",
       "      <td>0.000000</td>\n",
       "      <td>0.000511</td>\n",
       "      <td>0.001022</td>\n",
       "    </tr>\n",
       "    <tr>\n",
       "      <th>2</th>\n",
       "      <td>3.739464</td>\n",
       "      <td>0.412501</td>\n",
       "      <td>0.216594</td>\n",
       "      <td>0.051209</td>\n",
       "      <td>14</td>\n",
       "      <td>{'alpha': 14}</td>\n",
       "      <td>0.243568</td>\n",
       "      <td>0.316976</td>\n",
       "      <td>0.359028</td>\n",
       "      <td>0.349316</td>\n",
       "      <td>...</td>\n",
       "      <td>0.327326</td>\n",
       "      <td>0.045276</td>\n",
       "      <td>1</td>\n",
       "      <td>0.367274</td>\n",
       "      <td>0.432860</td>\n",
       "      <td>0.414336</td>\n",
       "      <td>0.410845</td>\n",
       "      <td>0.404036</td>\n",
       "      <td>0.405870</td>\n",
       "      <td>0.021531</td>\n",
       "    </tr>\n",
       "    <tr>\n",
       "      <th>3</th>\n",
       "      <td>2.989652</td>\n",
       "      <td>0.082957</td>\n",
       "      <td>0.188252</td>\n",
       "      <td>0.006649</td>\n",
       "      <td>71</td>\n",
       "      <td>{'alpha': 71}</td>\n",
       "      <td>-0.353322</td>\n",
       "      <td>-0.025187</td>\n",
       "      <td>-0.042293</td>\n",
       "      <td>-0.126530</td>\n",
       "      <td>...</td>\n",
       "      <td>-0.134574</td>\n",
       "      <td>0.117044</td>\n",
       "      <td>10</td>\n",
       "      <td>0.000000</td>\n",
       "      <td>0.036532</td>\n",
       "      <td>0.026125</td>\n",
       "      <td>0.000000</td>\n",
       "      <td>0.000000</td>\n",
       "      <td>0.012531</td>\n",
       "      <td>0.015697</td>\n",
       "    </tr>\n",
       "    <tr>\n",
       "      <th>4</th>\n",
       "      <td>3.016401</td>\n",
       "      <td>0.092772</td>\n",
       "      <td>0.190433</td>\n",
       "      <td>0.011403</td>\n",
       "      <td>60</td>\n",
       "      <td>{'alpha': 60}</td>\n",
       "      <td>-0.353322</td>\n",
       "      <td>-0.036964</td>\n",
       "      <td>-0.043092</td>\n",
       "      <td>-0.108292</td>\n",
       "      <td>...</td>\n",
       "      <td>-0.133442</td>\n",
       "      <td>0.115353</td>\n",
       "      <td>7</td>\n",
       "      <td>0.000000</td>\n",
       "      <td>0.050835</td>\n",
       "      <td>0.039088</td>\n",
       "      <td>0.012848</td>\n",
       "      <td>0.000000</td>\n",
       "      <td>0.020554</td>\n",
       "      <td>0.020807</td>\n",
       "    </tr>\n",
       "    <tr>\n",
       "      <th>5</th>\n",
       "      <td>3.121423</td>\n",
       "      <td>0.097027</td>\n",
       "      <td>0.187988</td>\n",
       "      <td>0.015944</td>\n",
       "      <td>20</td>\n",
       "      <td>{'alpha': 20}</td>\n",
       "      <td>0.074208</td>\n",
       "      <td>0.237991</td>\n",
       "      <td>0.269221</td>\n",
       "      <td>0.263453</td>\n",
       "      <td>...</td>\n",
       "      <td>0.225587</td>\n",
       "      <td>0.077105</td>\n",
       "      <td>2</td>\n",
       "      <td>0.281470</td>\n",
       "      <td>0.358413</td>\n",
       "      <td>0.335395</td>\n",
       "      <td>0.328099</td>\n",
       "      <td>0.326642</td>\n",
       "      <td>0.326004</td>\n",
       "      <td>0.025006</td>\n",
       "    </tr>\n",
       "    <tr>\n",
       "      <th>6</th>\n",
       "      <td>3.001210</td>\n",
       "      <td>0.078922</td>\n",
       "      <td>0.195664</td>\n",
       "      <td>0.012466</td>\n",
       "      <td>82</td>\n",
       "      <td>{'alpha': 82}</td>\n",
       "      <td>-0.353322</td>\n",
       "      <td>-0.015522</td>\n",
       "      <td>-0.041571</td>\n",
       "      <td>-0.126530</td>\n",
       "      <td>...</td>\n",
       "      <td>-0.132497</td>\n",
       "      <td>0.119009</td>\n",
       "      <td>6</td>\n",
       "      <td>0.000000</td>\n",
       "      <td>0.019826</td>\n",
       "      <td>0.010986</td>\n",
       "      <td>0.000000</td>\n",
       "      <td>0.000000</td>\n",
       "      <td>0.006162</td>\n",
       "      <td>0.008049</td>\n",
       "    </tr>\n",
       "    <tr>\n",
       "      <th>7</th>\n",
       "      <td>2.946474</td>\n",
       "      <td>0.128316</td>\n",
       "      <td>0.185240</td>\n",
       "      <td>0.009578</td>\n",
       "      <td>86</td>\n",
       "      <td>{'alpha': 86}</td>\n",
       "      <td>-0.353322</td>\n",
       "      <td>-0.012532</td>\n",
       "      <td>-0.041327</td>\n",
       "      <td>-0.126530</td>\n",
       "      <td>...</td>\n",
       "      <td>-0.131850</td>\n",
       "      <td>0.119638</td>\n",
       "      <td>5</td>\n",
       "      <td>0.000000</td>\n",
       "      <td>0.013156</td>\n",
       "      <td>0.004941</td>\n",
       "      <td>0.000000</td>\n",
       "      <td>0.000000</td>\n",
       "      <td>0.003619</td>\n",
       "      <td>0.005138</td>\n",
       "    </tr>\n",
       "    <tr>\n",
       "      <th>8</th>\n",
       "      <td>2.958719</td>\n",
       "      <td>0.129473</td>\n",
       "      <td>0.185191</td>\n",
       "      <td>0.005095</td>\n",
       "      <td>74</td>\n",
       "      <td>{'alpha': 74}</td>\n",
       "      <td>-0.353322</td>\n",
       "      <td>-0.022341</td>\n",
       "      <td>-0.042089</td>\n",
       "      <td>-0.126530</td>\n",
       "      <td>...</td>\n",
       "      <td>-0.133964</td>\n",
       "      <td>0.117612</td>\n",
       "      <td>8</td>\n",
       "      <td>0.000000</td>\n",
       "      <td>0.032214</td>\n",
       "      <td>0.022212</td>\n",
       "      <td>0.000000</td>\n",
       "      <td>0.000000</td>\n",
       "      <td>0.010885</td>\n",
       "      <td>0.013702</td>\n",
       "    </tr>\n",
       "    <tr>\n",
       "      <th>9</th>\n",
       "      <td>3.161443</td>\n",
       "      <td>0.189297</td>\n",
       "      <td>0.188131</td>\n",
       "      <td>0.019013</td>\n",
       "      <td>74</td>\n",
       "      <td>{'alpha': 74}</td>\n",
       "      <td>-0.353322</td>\n",
       "      <td>-0.022341</td>\n",
       "      <td>-0.042089</td>\n",
       "      <td>-0.126530</td>\n",
       "      <td>...</td>\n",
       "      <td>-0.133964</td>\n",
       "      <td>0.117612</td>\n",
       "      <td>8</td>\n",
       "      <td>0.000000</td>\n",
       "      <td>0.032214</td>\n",
       "      <td>0.022212</td>\n",
       "      <td>0.000000</td>\n",
       "      <td>0.000000</td>\n",
       "      <td>0.010885</td>\n",
       "      <td>0.013702</td>\n",
       "    </tr>\n",
       "  </tbody>\n",
       "</table>\n",
       "<p>10 rows × 21 columns</p>\n",
       "</div>"
      ],
      "text/plain": [
       "   mean_fit_time  std_fit_time  mean_score_time  std_score_time param_alpha  \\\n",
       "0       3.266942      0.399025         0.179292        0.007880          51   \n",
       "1       3.623007      0.198858         0.223998        0.044502          92   \n",
       "2       3.739464      0.412501         0.216594        0.051209          14   \n",
       "3       2.989652      0.082957         0.188252        0.006649          71   \n",
       "4       3.016401      0.092772         0.190433        0.011403          60   \n",
       "5       3.121423      0.097027         0.187988        0.015944          20   \n",
       "6       3.001210      0.078922         0.195664        0.012466          82   \n",
       "7       2.946474      0.128316         0.185240        0.009578          86   \n",
       "8       2.958719      0.129473         0.185191        0.005095          74   \n",
       "9       3.161443      0.189297         0.188131        0.019013          74   \n",
       "\n",
       "          params  split0_test_score  split1_test_score  split2_test_score  \\\n",
       "0  {'alpha': 51}          -0.353322          -0.048172          -0.043802   \n",
       "1  {'alpha': 92}          -0.353322          -0.008570          -0.041142   \n",
       "2  {'alpha': 14}           0.243568           0.316976           0.359028   \n",
       "3  {'alpha': 71}          -0.353322          -0.025187          -0.042293   \n",
       "4  {'alpha': 60}          -0.353322          -0.036964          -0.043092   \n",
       "5  {'alpha': 20}           0.074208           0.237991           0.269221   \n",
       "6  {'alpha': 82}          -0.353322          -0.015522          -0.041571   \n",
       "7  {'alpha': 86}          -0.353322          -0.012532          -0.041327   \n",
       "8  {'alpha': 74}          -0.353322          -0.022341          -0.042089   \n",
       "9  {'alpha': 74}          -0.353322          -0.022341          -0.042089   \n",
       "\n",
       "   split3_test_score  ...  mean_test_score  std_test_score  rank_test_score  \\\n",
       "0          -0.092302  ...        -0.128257        0.114995                3   \n",
       "1          -0.126530  ...        -0.131021        0.120464                4   \n",
       "2           0.349316  ...         0.327326        0.045276                1   \n",
       "3          -0.126530  ...        -0.134574        0.117044               10   \n",
       "4          -0.108292  ...        -0.133442        0.115353                7   \n",
       "5           0.263453  ...         0.225587        0.077105                2   \n",
       "6          -0.126530  ...        -0.132497        0.119009                6   \n",
       "7          -0.126530  ...        -0.131850        0.119638                5   \n",
       "8          -0.126530  ...        -0.133964        0.117612                8   \n",
       "9          -0.126530  ...        -0.133964        0.117612                8   \n",
       "\n",
       "   split0_train_score  split1_train_score  split2_train_score  \\\n",
       "0            0.000000            0.060751            0.048074   \n",
       "1            0.000000            0.002555            0.000000   \n",
       "2            0.367274            0.432860            0.414336   \n",
       "3            0.000000            0.036532            0.026125   \n",
       "4            0.000000            0.050835            0.039088   \n",
       "5            0.281470            0.358413            0.335395   \n",
       "6            0.000000            0.019826            0.010986   \n",
       "7            0.000000            0.013156            0.004941   \n",
       "8            0.000000            0.032214            0.022212   \n",
       "9            0.000000            0.032214            0.022212   \n",
       "\n",
       "   split3_train_score  split4_train_score  mean_train_score  std_train_score  \n",
       "0            0.023277            0.006526          0.027726         0.023421  \n",
       "1            0.000000            0.000000          0.000511         0.001022  \n",
       "2            0.410845            0.404036          0.405870         0.021531  \n",
       "3            0.000000            0.000000          0.012531         0.015697  \n",
       "4            0.012848            0.000000          0.020554         0.020807  \n",
       "5            0.328099            0.326642          0.326004         0.025006  \n",
       "6            0.000000            0.000000          0.006162         0.008049  \n",
       "7            0.000000            0.000000          0.003619         0.005138  \n",
       "8            0.000000            0.000000          0.010885         0.013702  \n",
       "9            0.000000            0.000000          0.010885         0.013702  \n",
       "\n",
       "[10 rows x 21 columns]"
      ]
     },
     "execution_count": 26,
     "metadata": {},
     "output_type": "execute_result"
    }
   ],
   "source": [
    "pd.DataFrame(search.cv_results_)"
   ]
  },
  {
   "cell_type": "code",
   "execution_count": 27,
   "metadata": {},
   "outputs": [
    {
     "data": {
      "text/html": [
       "<div>\n",
       "<style scoped>\n",
       "    .dataframe tbody tr th:only-of-type {\n",
       "        vertical-align: middle;\n",
       "    }\n",
       "\n",
       "    .dataframe tbody tr th {\n",
       "        vertical-align: top;\n",
       "    }\n",
       "\n",
       "    .dataframe thead th {\n",
       "        text-align: right;\n",
       "    }\n",
       "</style>\n",
       "<table border=\"1\" class=\"dataframe\">\n",
       "  <thead>\n",
       "    <tr style=\"text-align: right;\">\n",
       "      <th></th>\n",
       "      <th>mean_train_score</th>\n",
       "    </tr>\n",
       "  </thead>\n",
       "  <tbody>\n",
       "    <tr>\n",
       "      <th>2</th>\n",
       "      <td>0.40587</td>\n",
       "    </tr>\n",
       "  </tbody>\n",
       "</table>\n",
       "</div>"
      ],
      "text/plain": [
       "   mean_train_score\n",
       "2           0.40587"
      ]
     },
     "execution_count": 27,
     "metadata": {},
     "output_type": "execute_result"
    }
   ],
   "source": [
    "# C'est le RMLSE sur \"train\" de la cross validation\n",
    "result_model = pd.DataFrame(search.cv_results_)\n",
    "result_model[result_model[\"rank_test_score\"] == 1][[\"mean_train_score\"]]"
   ]
  },
  {
   "cell_type": "code",
   "execution_count": 29,
   "metadata": {},
   "outputs": [
    {
     "data": {
      "text/plain": [
       "0.3273255831633457"
      ]
     },
     "execution_count": 29,
     "metadata": {},
     "output_type": "execute_result"
    }
   ],
   "source": [
    "search.best_score_ "
   ]
  },
  {
   "cell_type": "code",
   "execution_count": 47,
   "metadata": {},
   "outputs": [],
   "source": []
  },
  {
   "cell_type": "code",
   "execution_count": 30,
   "metadata": {},
   "outputs": [
    {
     "data": {
      "text/html": [
       "<div>\n",
       "<style scoped>\n",
       "    .dataframe tbody tr th:only-of-type {\n",
       "        vertical-align: middle;\n",
       "    }\n",
       "\n",
       "    .dataframe tbody tr th {\n",
       "        vertical-align: top;\n",
       "    }\n",
       "\n",
       "    .dataframe thead th {\n",
       "        text-align: right;\n",
       "    }\n",
       "</style>\n",
       "<table border=\"1\" class=\"dataframe\">\n",
       "  <thead>\n",
       "    <tr style=\"text-align: right;\">\n",
       "      <th></th>\n",
       "      <th>mean_fit_time</th>\n",
       "      <th>std_fit_time</th>\n",
       "      <th>mean_score_time</th>\n",
       "      <th>std_score_time</th>\n",
       "      <th>param_alpha</th>\n",
       "      <th>params</th>\n",
       "      <th>split0_test_score</th>\n",
       "      <th>split1_test_score</th>\n",
       "      <th>split2_test_score</th>\n",
       "      <th>split3_test_score</th>\n",
       "      <th>split4_test_score</th>\n",
       "      <th>mean_test_score</th>\n",
       "      <th>std_test_score</th>\n",
       "      <th>rank_test_score</th>\n",
       "    </tr>\n",
       "  </thead>\n",
       "  <tbody>\n",
       "    <tr>\n",
       "      <th>0</th>\n",
       "      <td>50.719912</td>\n",
       "      <td>3.121417</td>\n",
       "      <td>0.165485</td>\n",
       "      <td>0.030068</td>\n",
       "      <td>0.1</td>\n",
       "      <td>{'alpha': 0.1}</td>\n",
       "      <td>-0.034452</td>\n",
       "      <td>-0.014439</td>\n",
       "      <td>-0.017033</td>\n",
       "      <td>-0.011893</td>\n",
       "      <td>-0.012700</td>\n",
       "      <td>-0.018105</td>\n",
       "      <td>0.008363</td>\n",
       "      <td>4</td>\n",
       "    </tr>\n",
       "    <tr>\n",
       "      <th>1</th>\n",
       "      <td>50.297228</td>\n",
       "      <td>1.488643</td>\n",
       "      <td>0.157237</td>\n",
       "      <td>0.011190</td>\n",
       "      <td>0.5</td>\n",
       "      <td>{'alpha': 0.5}</td>\n",
       "      <td>-0.028627</td>\n",
       "      <td>-0.012281</td>\n",
       "      <td>-0.015171</td>\n",
       "      <td>-0.010058</td>\n",
       "      <td>-0.009637</td>\n",
       "      <td>-0.015156</td>\n",
       "      <td>0.007018</td>\n",
       "      <td>3</td>\n",
       "    </tr>\n",
       "    <tr>\n",
       "      <th>2</th>\n",
       "      <td>47.793118</td>\n",
       "      <td>0.527379</td>\n",
       "      <td>0.148534</td>\n",
       "      <td>0.007421</td>\n",
       "      <td>1</td>\n",
       "      <td>{'alpha': 1}</td>\n",
       "      <td>-0.025730</td>\n",
       "      <td>-0.010999</td>\n",
       "      <td>-0.014187</td>\n",
       "      <td>-0.009480</td>\n",
       "      <td>-0.008395</td>\n",
       "      <td>-0.013759</td>\n",
       "      <td>0.006297</td>\n",
       "      <td>2</td>\n",
       "    </tr>\n",
       "    <tr>\n",
       "      <th>3</th>\n",
       "      <td>48.133455</td>\n",
       "      <td>0.410139</td>\n",
       "      <td>0.148430</td>\n",
       "      <td>0.004248</td>\n",
       "      <td>5</td>\n",
       "      <td>{'alpha': 5}</td>\n",
       "      <td>-0.020167</td>\n",
       "      <td>-0.008149</td>\n",
       "      <td>-0.011630</td>\n",
       "      <td>-0.008803</td>\n",
       "      <td>-0.006242</td>\n",
       "      <td>-0.010999</td>\n",
       "      <td>0.004900</td>\n",
       "      <td>1</td>\n",
       "    </tr>\n",
       "  </tbody>\n",
       "</table>\n",
       "</div>"
      ],
      "text/plain": [
       "   mean_fit_time  std_fit_time  mean_score_time  std_score_time param_alpha  \\\n",
       "0      50.719912      3.121417         0.165485        0.030068         0.1   \n",
       "1      50.297228      1.488643         0.157237        0.011190         0.5   \n",
       "2      47.793118      0.527379         0.148534        0.007421           1   \n",
       "3      48.133455      0.410139         0.148430        0.004248           5   \n",
       "\n",
       "           params  split0_test_score  split1_test_score  split2_test_score  \\\n",
       "0  {'alpha': 0.1}          -0.034452          -0.014439          -0.017033   \n",
       "1  {'alpha': 0.5}          -0.028627          -0.012281          -0.015171   \n",
       "2    {'alpha': 1}          -0.025730          -0.010999          -0.014187   \n",
       "3    {'alpha': 5}          -0.020167          -0.008149          -0.011630   \n",
       "\n",
       "   split3_test_score  split4_test_score  mean_test_score  std_test_score  \\\n",
       "0          -0.011893          -0.012700        -0.018105        0.008363   \n",
       "1          -0.010058          -0.009637        -0.015156        0.007018   \n",
       "2          -0.009480          -0.008395        -0.013759        0.006297   \n",
       "3          -0.008803          -0.006242        -0.010999        0.004900   \n",
       "\n",
       "   rank_test_score  \n",
       "0                4  \n",
       "1                3  \n",
       "2                2  \n",
       "3                1  "
      ]
     },
     "execution_count": 30,
     "metadata": {},
     "output_type": "execute_result"
    }
   ],
   "source": [
    "pd.DataFrame(grid_ridge.cv_results_)"
   ]
  },
  {
   "cell_type": "code",
   "execution_count": 52,
   "metadata": {},
   "outputs": [
    {
     "data": {
      "text/html": [
       "<div>\n",
       "<style scoped>\n",
       "    .dataframe tbody tr th:only-of-type {\n",
       "        vertical-align: middle;\n",
       "    }\n",
       "\n",
       "    .dataframe tbody tr th {\n",
       "        vertical-align: top;\n",
       "    }\n",
       "\n",
       "    .dataframe thead th {\n",
       "        text-align: right;\n",
       "    }\n",
       "</style>\n",
       "<table border=\"1\" class=\"dataframe\">\n",
       "  <thead>\n",
       "    <tr style=\"text-align: right;\">\n",
       "      <th></th>\n",
       "      <th>mean_fit_time</th>\n",
       "      <th>std_fit_time</th>\n",
       "      <th>mean_score_time</th>\n",
       "      <th>std_score_time</th>\n",
       "      <th>param_alpha</th>\n",
       "      <th>params</th>\n",
       "      <th>split0_test_score</th>\n",
       "      <th>split1_test_score</th>\n",
       "      <th>split2_test_score</th>\n",
       "      <th>split3_test_score</th>\n",
       "      <th>...</th>\n",
       "      <th>mean_test_score</th>\n",
       "      <th>std_test_score</th>\n",
       "      <th>rank_test_score</th>\n",
       "      <th>split0_train_score</th>\n",
       "      <th>split1_train_score</th>\n",
       "      <th>split2_train_score</th>\n",
       "      <th>split3_train_score</th>\n",
       "      <th>split4_train_score</th>\n",
       "      <th>mean_train_score</th>\n",
       "      <th>std_train_score</th>\n",
       "    </tr>\n",
       "  </thead>\n",
       "  <tbody>\n",
       "    <tr>\n",
       "      <th>0</th>\n",
       "      <td>54.198833</td>\n",
       "      <td>2.107559</td>\n",
       "      <td>0.167053</td>\n",
       "      <td>0.031623</td>\n",
       "      <td>1</td>\n",
       "      <td>{'alpha': 1}</td>\n",
       "      <td>-0.645110</td>\n",
       "      <td>-0.432378</td>\n",
       "      <td>-0.481538</td>\n",
       "      <td>-0.431428</td>\n",
       "      <td>...</td>\n",
       "      <td>-0.481857</td>\n",
       "      <td>0.084420</td>\n",
       "      <td>4</td>\n",
       "      <td>-0.224860</td>\n",
       "      <td>-0.239940</td>\n",
       "      <td>-0.235906</td>\n",
       "      <td>-0.240907</td>\n",
       "      <td>-0.241911</td>\n",
       "      <td>-0.236705</td>\n",
       "      <td>0.006264</td>\n",
       "    </tr>\n",
       "    <tr>\n",
       "      <th>1</th>\n",
       "      <td>54.704508</td>\n",
       "      <td>2.829823</td>\n",
       "      <td>0.160618</td>\n",
       "      <td>0.020526</td>\n",
       "      <td>5</td>\n",
       "      <td>{'alpha': 5}</td>\n",
       "      <td>-0.543580</td>\n",
       "      <td>-0.383305</td>\n",
       "      <td>-0.434257</td>\n",
       "      <td>-0.407561</td>\n",
       "      <td>...</td>\n",
       "      <td>-0.423166</td>\n",
       "      <td>0.066708</td>\n",
       "      <td>3</td>\n",
       "      <td>-0.229373</td>\n",
       "      <td>-0.244364</td>\n",
       "      <td>-0.240696</td>\n",
       "      <td>-0.245573</td>\n",
       "      <td>-0.246859</td>\n",
       "      <td>-0.241373</td>\n",
       "      <td>0.006343</td>\n",
       "    </tr>\n",
       "    <tr>\n",
       "      <th>2</th>\n",
       "      <td>57.379488</td>\n",
       "      <td>3.427663</td>\n",
       "      <td>0.163011</td>\n",
       "      <td>0.006985</td>\n",
       "      <td>10</td>\n",
       "      <td>{'alpha': 10}</td>\n",
       "      <td>-0.516910</td>\n",
       "      <td>-0.366144</td>\n",
       "      <td>-0.416298</td>\n",
       "      <td>-0.402085</td>\n",
       "      <td>...</td>\n",
       "      <td>-0.406013</td>\n",
       "      <td>0.063261</td>\n",
       "      <td>2</td>\n",
       "      <td>-0.233900</td>\n",
       "      <td>-0.248817</td>\n",
       "      <td>-0.245492</td>\n",
       "      <td>-0.250243</td>\n",
       "      <td>-0.251559</td>\n",
       "      <td>-0.246002</td>\n",
       "      <td>0.006380</td>\n",
       "    </tr>\n",
       "    <tr>\n",
       "      <th>3</th>\n",
       "      <td>58.637168</td>\n",
       "      <td>4.031780</td>\n",
       "      <td>0.157926</td>\n",
       "      <td>0.002475</td>\n",
       "      <td>15</td>\n",
       "      <td>{'alpha': 15}</td>\n",
       "      <td>-0.506536</td>\n",
       "      <td>-0.358829</td>\n",
       "      <td>-0.408961</td>\n",
       "      <td>-0.400449</td>\n",
       "      <td>...</td>\n",
       "      <td>-0.399773</td>\n",
       "      <td>0.061479</td>\n",
       "      <td>1</td>\n",
       "      <td>-0.238247</td>\n",
       "      <td>-0.253132</td>\n",
       "      <td>-0.249924</td>\n",
       "      <td>-0.254637</td>\n",
       "      <td>-0.255914</td>\n",
       "      <td>-0.250370</td>\n",
       "      <td>0.006383</td>\n",
       "    </tr>\n",
       "  </tbody>\n",
       "</table>\n",
       "<p>4 rows × 21 columns</p>\n",
       "</div>"
      ],
      "text/plain": [
       "   mean_fit_time  std_fit_time  mean_score_time  std_score_time param_alpha  \\\n",
       "0      54.198833      2.107559         0.167053        0.031623           1   \n",
       "1      54.704508      2.829823         0.160618        0.020526           5   \n",
       "2      57.379488      3.427663         0.163011        0.006985          10   \n",
       "3      58.637168      4.031780         0.157926        0.002475          15   \n",
       "\n",
       "          params  split0_test_score  split1_test_score  split2_test_score  \\\n",
       "0   {'alpha': 1}          -0.645110          -0.432378          -0.481538   \n",
       "1   {'alpha': 5}          -0.543580          -0.383305          -0.434257   \n",
       "2  {'alpha': 10}          -0.516910          -0.366144          -0.416298   \n",
       "3  {'alpha': 15}          -0.506536          -0.358829          -0.408961   \n",
       "\n",
       "   split3_test_score  ...  mean_test_score  std_test_score  rank_test_score  \\\n",
       "0          -0.431428  ...        -0.481857        0.084420                4   \n",
       "1          -0.407561  ...        -0.423166        0.066708                3   \n",
       "2          -0.402085  ...        -0.406013        0.063261                2   \n",
       "3          -0.400449  ...        -0.399773        0.061479                1   \n",
       "\n",
       "   split0_train_score  split1_train_score  split2_train_score  \\\n",
       "0           -0.224860           -0.239940           -0.235906   \n",
       "1           -0.229373           -0.244364           -0.240696   \n",
       "2           -0.233900           -0.248817           -0.245492   \n",
       "3           -0.238247           -0.253132           -0.249924   \n",
       "\n",
       "   split3_train_score  split4_train_score  mean_train_score  std_train_score  \n",
       "0           -0.240907           -0.241911         -0.236705         0.006264  \n",
       "1           -0.245573           -0.246859         -0.241373         0.006343  \n",
       "2           -0.250243           -0.251559         -0.246002         0.006380  \n",
       "3           -0.254637           -0.255914         -0.250370         0.006383  \n",
       "\n",
       "[4 rows x 21 columns]"
      ]
     },
     "execution_count": 52,
     "metadata": {},
     "output_type": "execute_result"
    }
   ],
   "source": [
    "# Avec : parameters = {'alpha':[1, 5, 10, 15]}\n",
    "pd.DataFrame(grid_ridge.cv_results_)"
   ]
  },
  {
   "cell_type": "code",
   "execution_count": 54,
   "metadata": {},
   "outputs": [
    {
     "data": {
      "text/html": [
       "<div>\n",
       "<style scoped>\n",
       "    .dataframe tbody tr th:only-of-type {\n",
       "        vertical-align: middle;\n",
       "    }\n",
       "\n",
       "    .dataframe tbody tr th {\n",
       "        vertical-align: top;\n",
       "    }\n",
       "\n",
       "    .dataframe thead th {\n",
       "        text-align: right;\n",
       "    }\n",
       "</style>\n",
       "<table border=\"1\" class=\"dataframe\">\n",
       "  <thead>\n",
       "    <tr style=\"text-align: right;\">\n",
       "      <th></th>\n",
       "      <th>mean_fit_time</th>\n",
       "      <th>std_fit_time</th>\n",
       "      <th>mean_score_time</th>\n",
       "      <th>std_score_time</th>\n",
       "      <th>param_alpha</th>\n",
       "      <th>params</th>\n",
       "      <th>split0_test_score</th>\n",
       "      <th>split1_test_score</th>\n",
       "      <th>split2_test_score</th>\n",
       "      <th>split3_test_score</th>\n",
       "      <th>...</th>\n",
       "      <th>mean_test_score</th>\n",
       "      <th>std_test_score</th>\n",
       "      <th>rank_test_score</th>\n",
       "      <th>split0_train_score</th>\n",
       "      <th>split1_train_score</th>\n",
       "      <th>split2_train_score</th>\n",
       "      <th>split3_train_score</th>\n",
       "      <th>split4_train_score</th>\n",
       "      <th>mean_train_score</th>\n",
       "      <th>std_train_score</th>\n",
       "    </tr>\n",
       "  </thead>\n",
       "  <tbody>\n",
       "    <tr>\n",
       "      <th>0</th>\n",
       "      <td>104.071278</td>\n",
       "      <td>4.602311</td>\n",
       "      <td>0.199423</td>\n",
       "      <td>0.043426</td>\n",
       "      <td>15</td>\n",
       "      <td>{'alpha': 15}</td>\n",
       "      <td>-0.506536</td>\n",
       "      <td>-0.358829</td>\n",
       "      <td>-0.408961</td>\n",
       "      <td>-0.400449</td>\n",
       "      <td>...</td>\n",
       "      <td>-0.399773</td>\n",
       "      <td>0.061479</td>\n",
       "      <td>2</td>\n",
       "      <td>-0.238247</td>\n",
       "      <td>-0.253132</td>\n",
       "      <td>-0.249924</td>\n",
       "      <td>-0.254637</td>\n",
       "      <td>-0.255914</td>\n",
       "      <td>-0.250370</td>\n",
       "      <td>0.006383</td>\n",
       "    </tr>\n",
       "    <tr>\n",
       "      <th>1</th>\n",
       "      <td>103.017336</td>\n",
       "      <td>4.135794</td>\n",
       "      <td>0.193576</td>\n",
       "      <td>0.009865</td>\n",
       "      <td>25</td>\n",
       "      <td>{'alpha': 25}</td>\n",
       "      <td>-0.498350</td>\n",
       "      <td>-0.354368</td>\n",
       "      <td>-0.404909</td>\n",
       "      <td>-0.401642</td>\n",
       "      <td>...</td>\n",
       "      <td>-0.396964</td>\n",
       "      <td>0.058801</td>\n",
       "      <td>1</td>\n",
       "      <td>-0.246784</td>\n",
       "      <td>-0.261598</td>\n",
       "      <td>-0.258293</td>\n",
       "      <td>-0.263095</td>\n",
       "      <td>-0.264232</td>\n",
       "      <td>-0.258800</td>\n",
       "      <td>0.006331</td>\n",
       "    </tr>\n",
       "    <tr>\n",
       "      <th>2</th>\n",
       "      <td>109.901650</td>\n",
       "      <td>3.348438</td>\n",
       "      <td>0.180359</td>\n",
       "      <td>0.003729</td>\n",
       "      <td>50</td>\n",
       "      <td>{'alpha': 50}</td>\n",
       "      <td>-0.495119</td>\n",
       "      <td>-0.360822</td>\n",
       "      <td>-0.411739</td>\n",
       "      <td>-0.413347</td>\n",
       "      <td>...</td>\n",
       "      <td>-0.404196</td>\n",
       "      <td>0.053710</td>\n",
       "      <td>3</td>\n",
       "      <td>-0.266877</td>\n",
       "      <td>-0.281327</td>\n",
       "      <td>-0.277213</td>\n",
       "      <td>-0.282553</td>\n",
       "      <td>-0.283415</td>\n",
       "      <td>-0.278277</td>\n",
       "      <td>0.006084</td>\n",
       "    </tr>\n",
       "    <tr>\n",
       "      <th>3</th>\n",
       "      <td>114.419825</td>\n",
       "      <td>4.654415</td>\n",
       "      <td>0.207904</td>\n",
       "      <td>0.053241</td>\n",
       "      <td>100</td>\n",
       "      <td>{'alpha': 100}</td>\n",
       "      <td>-0.501128</td>\n",
       "      <td>-0.384872</td>\n",
       "      <td>-0.434737</td>\n",
       "      <td>-0.441195</td>\n",
       "      <td>...</td>\n",
       "      <td>-0.426063</td>\n",
       "      <td>0.046837</td>\n",
       "      <td>4</td>\n",
       "      <td>-0.300092</td>\n",
       "      <td>-0.313435</td>\n",
       "      <td>-0.307640</td>\n",
       "      <td>-0.314142</td>\n",
       "      <td>-0.314998</td>\n",
       "      <td>-0.310061</td>\n",
       "      <td>0.005615</td>\n",
       "    </tr>\n",
       "  </tbody>\n",
       "</table>\n",
       "<p>4 rows × 21 columns</p>\n",
       "</div>"
      ],
      "text/plain": [
       "   mean_fit_time  std_fit_time  mean_score_time  std_score_time param_alpha  \\\n",
       "0     104.071278      4.602311         0.199423        0.043426          15   \n",
       "1     103.017336      4.135794         0.193576        0.009865          25   \n",
       "2     109.901650      3.348438         0.180359        0.003729          50   \n",
       "3     114.419825      4.654415         0.207904        0.053241         100   \n",
       "\n",
       "           params  split0_test_score  split1_test_score  split2_test_score  \\\n",
       "0   {'alpha': 15}          -0.506536          -0.358829          -0.408961   \n",
       "1   {'alpha': 25}          -0.498350          -0.354368          -0.404909   \n",
       "2   {'alpha': 50}          -0.495119          -0.360822          -0.411739   \n",
       "3  {'alpha': 100}          -0.501128          -0.384872          -0.434737   \n",
       "\n",
       "   split3_test_score  ...  mean_test_score  std_test_score  rank_test_score  \\\n",
       "0          -0.400449  ...        -0.399773        0.061479                2   \n",
       "1          -0.401642  ...        -0.396964        0.058801                1   \n",
       "2          -0.413347  ...        -0.404196        0.053710                3   \n",
       "3          -0.441195  ...        -0.426063        0.046837                4   \n",
       "\n",
       "   split0_train_score  split1_train_score  split2_train_score  \\\n",
       "0           -0.238247           -0.253132           -0.249924   \n",
       "1           -0.246784           -0.261598           -0.258293   \n",
       "2           -0.266877           -0.281327           -0.277213   \n",
       "3           -0.300092           -0.313435           -0.307640   \n",
       "\n",
       "   split3_train_score  split4_train_score  mean_train_score  std_train_score  \n",
       "0           -0.254637           -0.255914         -0.250370         0.006383  \n",
       "1           -0.263095           -0.264232         -0.258800         0.006331  \n",
       "2           -0.282553           -0.283415         -0.278277         0.006084  \n",
       "3           -0.314142           -0.314998         -0.310061         0.005615  \n",
       "\n",
       "[4 rows x 21 columns]"
      ]
     },
     "execution_count": 54,
     "metadata": {},
     "output_type": "execute_result"
    }
   ],
   "source": [
    "pd.DataFrame(grid_ridge.cv_results_)"
   ]
  },
  {
   "cell_type": "markdown",
   "metadata": {},
   "source": [
    "On soumet le modèle avec alpha = 25 qui semble etre le meilleur modèle"
   ]
  },
  {
   "cell_type": "code",
   "execution_count": 60,
   "metadata": {},
   "outputs": [
    {
     "data": {
      "text/html": [
       "<div>\n",
       "<style scoped>\n",
       "    .dataframe tbody tr th:only-of-type {\n",
       "        vertical-align: middle;\n",
       "    }\n",
       "\n",
       "    .dataframe tbody tr th {\n",
       "        vertical-align: top;\n",
       "    }\n",
       "\n",
       "    .dataframe thead th {\n",
       "        text-align: right;\n",
       "    }\n",
       "</style>\n",
       "<table border=\"1\" class=\"dataframe\">\n",
       "  <thead>\n",
       "    <tr style=\"text-align: right;\">\n",
       "      <th></th>\n",
       "      <th>mean_train_score</th>\n",
       "    </tr>\n",
       "  </thead>\n",
       "  <tbody>\n",
       "    <tr>\n",
       "      <th>1</th>\n",
       "      <td>-0.2588</td>\n",
       "    </tr>\n",
       "  </tbody>\n",
       "</table>\n",
       "</div>"
      ],
      "text/plain": [
       "   mean_train_score\n",
       "1           -0.2588"
      ]
     },
     "execution_count": 60,
     "metadata": {},
     "output_type": "execute_result"
    }
   ],
   "source": [
    "# C'est le RMLSE sur \"train\" de la cross validation\n",
    "result_model = pd.DataFrame(grid_ridge.cv_results_)\n",
    "result_model[result_model[\"rank_test_score\"] == 1][[\"mean_train_score\"]]"
   ]
  },
  {
   "cell_type": "code",
   "execution_count": 61,
   "metadata": {},
   "outputs": [
    {
     "data": {
      "text/plain": [
       "-0.39696411418593996"
      ]
     },
     "execution_count": 61,
     "metadata": {},
     "output_type": "execute_result"
    }
   ],
   "source": [
    "# C'est le RMLSE sur \"test\" de la cross validation\n",
    "grid_ridge.best_score_ \n",
    "# Avec la métrique interne à Scikit learn, on avait : -0.010999027326119631, soit ~ 0.011 pour alpha = 5\n",
    "# Cette fois avec alpha = 25: -0.39696411418593996"
   ]
  },
  {
   "cell_type": "code",
   "execution_count": 66,
   "metadata": {},
   "outputs": [],
   "source": [
    "df_to_predict = pd.read_pickle(\"../data/df_test_kaggle_interaction_and_dummies.pkl\") \n",
    "df_to_predict.shape\n",
    "df_to_predict.head()\n",
    "\n",
    "df_temp = df_to_predict.drop(\"datetime\", axis = 1)\n",
    "\n",
    "df_to_predict[\"count\"] = list((np.exp(grid_ridge.predict(df_temp)) - 1)[:,0])"
   ]
  },
  {
   "cell_type": "code",
   "execution_count": 68,
   "metadata": {},
   "outputs": [
    {
     "data": {
      "text/html": [
       "<div>\n",
       "<style scoped>\n",
       "    .dataframe tbody tr th:only-of-type {\n",
       "        vertical-align: middle;\n",
       "    }\n",
       "\n",
       "    .dataframe tbody tr th {\n",
       "        vertical-align: top;\n",
       "    }\n",
       "\n",
       "    .dataframe thead th {\n",
       "        text-align: right;\n",
       "    }\n",
       "</style>\n",
       "<table border=\"1\" class=\"dataframe\">\n",
       "  <thead>\n",
       "    <tr style=\"text-align: right;\">\n",
       "      <th></th>\n",
       "      <th>count</th>\n",
       "    </tr>\n",
       "  </thead>\n",
       "  <tbody>\n",
       "    <tr>\n",
       "      <th>0</th>\n",
       "      <td>10.987431</td>\n",
       "    </tr>\n",
       "    <tr>\n",
       "      <th>1</th>\n",
       "      <td>5.739557</td>\n",
       "    </tr>\n",
       "    <tr>\n",
       "      <th>2</th>\n",
       "      <td>3.279754</td>\n",
       "    </tr>\n",
       "    <tr>\n",
       "      <th>3</th>\n",
       "      <td>2.806729</td>\n",
       "    </tr>\n",
       "    <tr>\n",
       "      <th>4</th>\n",
       "      <td>3.335188</td>\n",
       "    </tr>\n",
       "  </tbody>\n",
       "</table>\n",
       "</div>"
      ],
      "text/plain": [
       "       count\n",
       "0  10.987431\n",
       "1   5.739557\n",
       "2   3.279754\n",
       "3   2.806729\n",
       "4   3.335188"
      ]
     },
     "execution_count": 68,
     "metadata": {},
     "output_type": "execute_result"
    }
   ],
   "source": [
    "df_to_predict[[\"count\"]].head()"
   ]
  },
  {
   "cell_type": "code",
   "execution_count": 69,
   "metadata": {},
   "outputs": [],
   "source": [
    "df_to_predict[[\"datetime\", \"count\"]].to_csv(\"../data/submission_to_send/pred_linear_ridge_regression_correct_cv.csv\", index= False)"
   ]
  },
  {
   "cell_type": "code",
   "execution_count": null,
   "metadata": {},
   "outputs": [],
   "source": [
    "# ROOT MEAN SQUARED LOGARITHMIC ERROR : privilégier des prédictions au-dessous de la vérité"
   ]
  },
  {
   "cell_type": "markdown",
   "metadata": {},
   "source": [
    "Linear regression + New : ON N'A PAS FAIT les features polynomiaux sur les var numériques"
   ]
  }
 ],
 "metadata": {
  "kernelspec": {
   "display_name": "data",
   "language": "python",
   "name": "data"
  },
  "language_info": {
   "codemirror_mode": {
    "name": "ipython",
    "version": 3
   },
   "file_extension": ".py",
   "mimetype": "text/x-python",
   "name": "python",
   "nbconvert_exporter": "python",
   "pygments_lexer": "ipython3",
   "version": "3.6.8"
  }
 },
 "nbformat": 4,
 "nbformat_minor": 2
}
