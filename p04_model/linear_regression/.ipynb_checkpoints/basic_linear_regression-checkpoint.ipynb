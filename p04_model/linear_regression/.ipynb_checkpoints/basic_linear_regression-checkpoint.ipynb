{
 "cells": [
  {
   "cell_type": "markdown",
   "metadata": {},
   "source": [
    "Modèle de régression comme:<br>\n",
    "https://medium.com/@viveksrinivasan/how-to-finish-top-10-percentile-in-bike-sharing-demand-competition-in-kaggle-part-2-29e854aaab7d\n",
    "  pour savoir comment on calcule le RMLSE si on fait le modèle log(1 + Y) ~ variables intiales<br>\n",
    "On prend seulement: \"season\",\"weather\",\"humidity\",\"month\",\"temp\",\"year\",\"atemp\"\n",
    "    "
   ]
  },
  {
   "cell_type": "code",
   "execution_count": 2,
   "metadata": {},
   "outputs": [],
   "source": [
    "import pandas as pd\n",
    "from sklearn.linear_model import LinearRegression"
   ]
  },
  {
   "cell_type": "code",
   "execution_count": 6,
   "metadata": {},
   "outputs": [],
   "source": [
    "import pandas as pd\n",
    "\n",
    "from sklearn.model_selection import train_test_split\n",
    "# from sklearn.preprocessing import PolynomialFeatures\n",
    "from itertools import combinations\n",
    "\n",
    "df = pd.read_csv(\"../data/train.csv\")"
   ]
  },
  {
   "cell_type": "code",
   "execution_count": 8,
   "metadata": {},
   "outputs": [
    {
     "data": {
      "text/plain": [
       "['CO_month',\n",
       " 'datetime',\n",
       " 'CO_workingday',\n",
       " 'NO_temp',\n",
       " 'NO_atemp',\n",
       " 'NO_humidity',\n",
       " 'NO_windspeed',\n",
       " 'S_casual',\n",
       " 'S_registered',\n",
       " 'count',\n",
       " 'CO_hour',\n",
       " 'CO_day',\n",
       " 'CO_year',\n",
       " 'CO_season',\n",
       " 'CO_weather',\n",
       " 'CO_humidityQ',\n",
       " 'CO_tempQ',\n",
       " 'CO_atempQ',\n",
       " 'CO_windspeedQ',\n",
       " 'S_casualQ',\n",
       " 'S_registeredQ',\n",
       " 'CO_holiday',\n",
       " 'CN_school',\n",
       " 'NN_soleil',\n",
       " 'CN_soleilQ',\n",
       " 'NN_tendance_1',\n",
       " 'NN_tendance_2',\n",
       " 'CN_tendance_1Q',\n",
       " 'CN_tendance_2Q',\n",
       " 'S_rateregis',\n",
       " 'S_rateregisQ']"
      ]
     },
     "execution_count": 8,
     "metadata": {},
     "output_type": "execute_result"
    }
   ],
   "source": [
    "list(df)"
   ]
  },
  {
   "cell_type": "code",
   "execution_count": 3,
   "metadata": {},
   "outputs": [],
   "source": [
    "X_train = df[[\"season\",\"weather\",\"humidity\",\"month\",\"temp\",\"year\",\"atemp\"]]"
   ]
  },
  {
   "cell_type": "code",
   "execution_count": 7,
   "metadata": {},
   "outputs": [],
   "source": [
    "# list(X_train)"
   ]
  },
  {
   "cell_type": "code",
   "execution_count": null,
   "metadata": {},
   "outputs": [],
   "source": [
    "X_train = X_train[[\"\"]]"
   ]
  },
  {
   "cell_type": "code",
   "execution_count": null,
   "metadata": {},
   "outputs": [],
   "source": [
    "# Initialize logistic regression model\n",
    "lModel = LinearRegression()\n",
    "# Train the model\n",
    "lModel.fit(X = X_train,Y = np.log1p(Y_train))\n",
    "# Make predictions\n",
    "preds = lModel.predict(X = X_validate)\n",
    "print (\"RMSLE Value: \",rmsle(Y_validate,np.exp(preds)))"
   ]
  }
 ],
 "metadata": {
  "kernelspec": {
   "display_name": "Python 3",
   "language": "python",
   "name": "python3"
  },
  "language_info": {
   "codemirror_mode": {
    "name": "ipython",
    "version": 3
   },
   "file_extension": ".py",
   "mimetype": "text/x-python",
   "name": "python",
   "nbconvert_exporter": "python",
   "pygments_lexer": "ipython3",
   "version": "3.7.3"
  }
 },
 "nbformat": 4,
 "nbformat_minor": 2
}
